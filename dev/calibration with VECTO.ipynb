{
 "cells": [
  {
   "cell_type": "code",
   "execution_count": 44,
   "metadata": {},
   "outputs": [
    {
     "ename": "FileNotFoundError",
     "evalue": "[Errno 2] File b'C:\\\\Users\\\\romai\\\\Documents\\\\GitHub\\\\carculator_truck\\\\dev\\\\Class2_RigidTruck_ENG_400_Long_Haul+ES_1Hz_empty.vmod' does not exist: b'C:\\\\Users\\\\romai\\\\Documents\\\\GitHub\\\\carculator_truck\\\\dev\\\\Class2_RigidTruck_ENG_400_Long_Haul+ES_1Hz_empty.vmod'",
     "output_type": "error",
     "traceback": [
      "\u001b[1;31m---------------------------------------------------------------------------\u001b[0m",
      "\u001b[1;31mFileNotFoundError\u001b[0m                         Traceback (most recent call last)",
      "\u001b[1;32m<ipython-input-44-386407bd79bc>\u001b[0m in \u001b[0;36m<module>\u001b[1;34m\u001b[0m\n\u001b[0;32m      2\u001b[0m \u001b[1;32mimport\u001b[0m \u001b[0mpandas\u001b[0m \u001b[1;32mas\u001b[0m \u001b[0mpd\u001b[0m\u001b[1;33m\u001b[0m\u001b[1;33m\u001b[0m\u001b[0m\n\u001b[0;32m      3\u001b[0m df = pd.read_csv(r'C:\\Users\\romai\\Documents\\GitHub\\carculator_truck\\dev\\Class2_RigidTruck_ENG_400_Long_Haul+ES_1Hz_empty.vmod',\n\u001b[1;32m----> 4\u001b[1;33m                  sep=\",\", header=1)\n\u001b[0m",
      "\u001b[1;32m~\\AppData\\Roaming\\Python\\Python37\\site-packages\\pandas\\io\\parsers.py\u001b[0m in \u001b[0;36mparser_f\u001b[1;34m(filepath_or_buffer, sep, delimiter, header, names, index_col, usecols, squeeze, prefix, mangle_dupe_cols, dtype, engine, converters, true_values, false_values, skipinitialspace, skiprows, skipfooter, nrows, na_values, keep_default_na, na_filter, verbose, skip_blank_lines, parse_dates, infer_datetime_format, keep_date_col, date_parser, dayfirst, cache_dates, iterator, chunksize, compression, thousands, decimal, lineterminator, quotechar, quoting, doublequote, escapechar, comment, encoding, dialect, error_bad_lines, warn_bad_lines, delim_whitespace, low_memory, memory_map, float_precision)\u001b[0m\n\u001b[0;32m    683\u001b[0m         )\n\u001b[0;32m    684\u001b[0m \u001b[1;33m\u001b[0m\u001b[0m\n\u001b[1;32m--> 685\u001b[1;33m         \u001b[1;32mreturn\u001b[0m \u001b[0m_read\u001b[0m\u001b[1;33m(\u001b[0m\u001b[0mfilepath_or_buffer\u001b[0m\u001b[1;33m,\u001b[0m \u001b[0mkwds\u001b[0m\u001b[1;33m)\u001b[0m\u001b[1;33m\u001b[0m\u001b[1;33m\u001b[0m\u001b[0m\n\u001b[0m\u001b[0;32m    686\u001b[0m \u001b[1;33m\u001b[0m\u001b[0m\n\u001b[0;32m    687\u001b[0m     \u001b[0mparser_f\u001b[0m\u001b[1;33m.\u001b[0m\u001b[0m__name__\u001b[0m \u001b[1;33m=\u001b[0m \u001b[0mname\u001b[0m\u001b[1;33m\u001b[0m\u001b[1;33m\u001b[0m\u001b[0m\n",
      "\u001b[1;32m~\\AppData\\Roaming\\Python\\Python37\\site-packages\\pandas\\io\\parsers.py\u001b[0m in \u001b[0;36m_read\u001b[1;34m(filepath_or_buffer, kwds)\u001b[0m\n\u001b[0;32m    455\u001b[0m \u001b[1;33m\u001b[0m\u001b[0m\n\u001b[0;32m    456\u001b[0m     \u001b[1;31m# Create the parser.\u001b[0m\u001b[1;33m\u001b[0m\u001b[1;33m\u001b[0m\u001b[1;33m\u001b[0m\u001b[0m\n\u001b[1;32m--> 457\u001b[1;33m     \u001b[0mparser\u001b[0m \u001b[1;33m=\u001b[0m \u001b[0mTextFileReader\u001b[0m\u001b[1;33m(\u001b[0m\u001b[0mfp_or_buf\u001b[0m\u001b[1;33m,\u001b[0m \u001b[1;33m**\u001b[0m\u001b[0mkwds\u001b[0m\u001b[1;33m)\u001b[0m\u001b[1;33m\u001b[0m\u001b[1;33m\u001b[0m\u001b[0m\n\u001b[0m\u001b[0;32m    458\u001b[0m \u001b[1;33m\u001b[0m\u001b[0m\n\u001b[0;32m    459\u001b[0m     \u001b[1;32mif\u001b[0m \u001b[0mchunksize\u001b[0m \u001b[1;32mor\u001b[0m \u001b[0miterator\u001b[0m\u001b[1;33m:\u001b[0m\u001b[1;33m\u001b[0m\u001b[1;33m\u001b[0m\u001b[0m\n",
      "\u001b[1;32m~\\AppData\\Roaming\\Python\\Python37\\site-packages\\pandas\\io\\parsers.py\u001b[0m in \u001b[0;36m__init__\u001b[1;34m(self, f, engine, **kwds)\u001b[0m\n\u001b[0;32m    893\u001b[0m             \u001b[0mself\u001b[0m\u001b[1;33m.\u001b[0m\u001b[0moptions\u001b[0m\u001b[1;33m[\u001b[0m\u001b[1;34m\"has_index_names\"\u001b[0m\u001b[1;33m]\u001b[0m \u001b[1;33m=\u001b[0m \u001b[0mkwds\u001b[0m\u001b[1;33m[\u001b[0m\u001b[1;34m\"has_index_names\"\u001b[0m\u001b[1;33m]\u001b[0m\u001b[1;33m\u001b[0m\u001b[1;33m\u001b[0m\u001b[0m\n\u001b[0;32m    894\u001b[0m \u001b[1;33m\u001b[0m\u001b[0m\n\u001b[1;32m--> 895\u001b[1;33m         \u001b[0mself\u001b[0m\u001b[1;33m.\u001b[0m\u001b[0m_make_engine\u001b[0m\u001b[1;33m(\u001b[0m\u001b[0mself\u001b[0m\u001b[1;33m.\u001b[0m\u001b[0mengine\u001b[0m\u001b[1;33m)\u001b[0m\u001b[1;33m\u001b[0m\u001b[1;33m\u001b[0m\u001b[0m\n\u001b[0m\u001b[0;32m    896\u001b[0m \u001b[1;33m\u001b[0m\u001b[0m\n\u001b[0;32m    897\u001b[0m     \u001b[1;32mdef\u001b[0m \u001b[0mclose\u001b[0m\u001b[1;33m(\u001b[0m\u001b[0mself\u001b[0m\u001b[1;33m)\u001b[0m\u001b[1;33m:\u001b[0m\u001b[1;33m\u001b[0m\u001b[1;33m\u001b[0m\u001b[0m\n",
      "\u001b[1;32m~\\AppData\\Roaming\\Python\\Python37\\site-packages\\pandas\\io\\parsers.py\u001b[0m in \u001b[0;36m_make_engine\u001b[1;34m(self, engine)\u001b[0m\n\u001b[0;32m   1133\u001b[0m     \u001b[1;32mdef\u001b[0m \u001b[0m_make_engine\u001b[0m\u001b[1;33m(\u001b[0m\u001b[0mself\u001b[0m\u001b[1;33m,\u001b[0m \u001b[0mengine\u001b[0m\u001b[1;33m=\u001b[0m\u001b[1;34m\"c\"\u001b[0m\u001b[1;33m)\u001b[0m\u001b[1;33m:\u001b[0m\u001b[1;33m\u001b[0m\u001b[1;33m\u001b[0m\u001b[0m\n\u001b[0;32m   1134\u001b[0m         \u001b[1;32mif\u001b[0m \u001b[0mengine\u001b[0m \u001b[1;33m==\u001b[0m \u001b[1;34m\"c\"\u001b[0m\u001b[1;33m:\u001b[0m\u001b[1;33m\u001b[0m\u001b[1;33m\u001b[0m\u001b[0m\n\u001b[1;32m-> 1135\u001b[1;33m             \u001b[0mself\u001b[0m\u001b[1;33m.\u001b[0m\u001b[0m_engine\u001b[0m \u001b[1;33m=\u001b[0m \u001b[0mCParserWrapper\u001b[0m\u001b[1;33m(\u001b[0m\u001b[0mself\u001b[0m\u001b[1;33m.\u001b[0m\u001b[0mf\u001b[0m\u001b[1;33m,\u001b[0m \u001b[1;33m**\u001b[0m\u001b[0mself\u001b[0m\u001b[1;33m.\u001b[0m\u001b[0moptions\u001b[0m\u001b[1;33m)\u001b[0m\u001b[1;33m\u001b[0m\u001b[1;33m\u001b[0m\u001b[0m\n\u001b[0m\u001b[0;32m   1136\u001b[0m         \u001b[1;32melse\u001b[0m\u001b[1;33m:\u001b[0m\u001b[1;33m\u001b[0m\u001b[1;33m\u001b[0m\u001b[0m\n\u001b[0;32m   1137\u001b[0m             \u001b[1;32mif\u001b[0m \u001b[0mengine\u001b[0m \u001b[1;33m==\u001b[0m \u001b[1;34m\"python\"\u001b[0m\u001b[1;33m:\u001b[0m\u001b[1;33m\u001b[0m\u001b[1;33m\u001b[0m\u001b[0m\n",
      "\u001b[1;32m~\\AppData\\Roaming\\Python\\Python37\\site-packages\\pandas\\io\\parsers.py\u001b[0m in \u001b[0;36m__init__\u001b[1;34m(self, src, **kwds)\u001b[0m\n\u001b[0;32m   1915\u001b[0m         \u001b[0mkwds\u001b[0m\u001b[1;33m[\u001b[0m\u001b[1;34m\"usecols\"\u001b[0m\u001b[1;33m]\u001b[0m \u001b[1;33m=\u001b[0m \u001b[0mself\u001b[0m\u001b[1;33m.\u001b[0m\u001b[0musecols\u001b[0m\u001b[1;33m\u001b[0m\u001b[1;33m\u001b[0m\u001b[0m\n\u001b[0;32m   1916\u001b[0m \u001b[1;33m\u001b[0m\u001b[0m\n\u001b[1;32m-> 1917\u001b[1;33m         \u001b[0mself\u001b[0m\u001b[1;33m.\u001b[0m\u001b[0m_reader\u001b[0m \u001b[1;33m=\u001b[0m \u001b[0mparsers\u001b[0m\u001b[1;33m.\u001b[0m\u001b[0mTextReader\u001b[0m\u001b[1;33m(\u001b[0m\u001b[0msrc\u001b[0m\u001b[1;33m,\u001b[0m \u001b[1;33m**\u001b[0m\u001b[0mkwds\u001b[0m\u001b[1;33m)\u001b[0m\u001b[1;33m\u001b[0m\u001b[1;33m\u001b[0m\u001b[0m\n\u001b[0m\u001b[0;32m   1918\u001b[0m         \u001b[0mself\u001b[0m\u001b[1;33m.\u001b[0m\u001b[0munnamed_cols\u001b[0m \u001b[1;33m=\u001b[0m \u001b[0mself\u001b[0m\u001b[1;33m.\u001b[0m\u001b[0m_reader\u001b[0m\u001b[1;33m.\u001b[0m\u001b[0munnamed_cols\u001b[0m\u001b[1;33m\u001b[0m\u001b[1;33m\u001b[0m\u001b[0m\n\u001b[0;32m   1919\u001b[0m \u001b[1;33m\u001b[0m\u001b[0m\n",
      "\u001b[1;32mpandas\\_libs\\parsers.pyx\u001b[0m in \u001b[0;36mpandas._libs.parsers.TextReader.__cinit__\u001b[1;34m()\u001b[0m\n",
      "\u001b[1;32mpandas\\_libs\\parsers.pyx\u001b[0m in \u001b[0;36mpandas._libs.parsers.TextReader._setup_parser_source\u001b[1;34m()\u001b[0m\n",
      "\u001b[1;31mFileNotFoundError\u001b[0m: [Errno 2] File b'C:\\\\Users\\\\romai\\\\Documents\\\\GitHub\\\\carculator_truck\\\\dev\\\\Class2_RigidTruck_ENG_400_Long_Haul+ES_1Hz_empty.vmod' does not exist: b'C:\\\\Users\\\\romai\\\\Documents\\\\GitHub\\\\carculator_truck\\\\dev\\\\Class2_RigidTruck_ENG_400_Long_Haul+ES_1Hz_empty.vmod'"
     ]
    }
   ],
   "source": [
    "import matplotlib.pyplot as plt\n",
    "import pandas as pd\n",
    "df = pd.read_csv(r'C:\\Users\\romai\\Documents\\GitHub\\carculator_truck\\dev\\Class2_RigidTruck_ENG_400_Long_Haul+ES_1Hz_empty.vmod',\n",
    "                 sep=\",\", header=1)"
   ]
  },
  {
   "cell_type": "code",
   "execution_count": 45,
   "metadata": {},
   "outputs": [
    {
     "data": {
      "text/plain": [
       "4166.091396657156"
      ]
     },
     "execution_count": 45,
     "metadata": {},
     "output_type": "execute_result"
    }
   ],
   "source": [
    "total_fc = (df.loc[:, \"FC-Final [g/h]\"]/3600/1000).sum()*42400 # kj/cycle\n",
    "distance = (df.loc[:,\"v_act [km/h]\"] * 1000 /3600).sum()/1000 #m/s\n",
    "total_fc/distance"
   ]
  },
  {
   "cell_type": "code",
   "execution_count": 1,
   "metadata": {},
   "outputs": [],
   "source": [
    "from carculator_truck import *"
   ]
  },
  {
   "cell_type": "code",
   "execution_count": 22,
   "metadata": {},
   "outputs": [
    {
     "name": "stdout",
     "output_type": "stream",
     "text": [
      "Long haul driving cycle is selected. Vehicles will be designed to achieve a minimal range of 800 km.\n",
      "\n",
      "Capacity utilization assumed (share of available payload used)\n",
      "+----------------+-----+-----+------+-----+-----+------+\n",
      "|                | 18t | 26t | 3.5t | 40t | 60t | 7.5t |\n",
      "+----------------+-----+-----+------+-----+-----+------+\n",
      "|   BEV, 2000    | 1.0 | 1.0 | 1.0  | 1.0 | 1.0 | 1.0  |\n",
      "|   BEV, 2010    | 1.0 | 1.0 | 1.0  | 1.0 | 1.0 | 1.0  |\n",
      "|   BEV, 2020    | 1.0 | 1.0 | 1.0  | 1.0 | 1.0 | 1.0  |\n",
      "|   BEV, 2030    | 1.0 | 1.0 | 1.0  | 1.0 | 1.0 | 1.0  |\n",
      "|   BEV, 2040    | 1.0 | 1.0 | 1.0  | 1.0 | 1.0 | 1.0  |\n",
      "|   BEV, 2050    | 1.0 | 1.0 | 1.0  | 1.0 | 1.0 | 1.0  |\n",
      "|   FCEV, 2000   | 1.0 | 1.0 | 1.0  | 1.0 | 1.0 | 1.0  |\n",
      "|   FCEV, 2010   | 1.0 | 1.0 | 1.0  | 1.0 | 1.0 | 1.0  |\n",
      "|   FCEV, 2020   | 1.0 | 1.0 | 1.0  | 1.0 | 1.0 | 1.0  |\n",
      "|   FCEV, 2030   | 1.0 | 1.0 | 1.0  | 1.0 | 1.0 | 1.0  |\n",
      "|   FCEV, 2040   | 1.0 | 1.0 | 1.0  | 1.0 | 1.0 | 1.0  |\n",
      "|   FCEV, 2050   | 1.0 | 1.0 | 1.0  | 1.0 | 1.0 | 1.0  |\n",
      "|  HEV-d, 2000   | 1.0 | 1.0 | 1.0  | 1.0 | 1.0 | 1.0  |\n",
      "|  HEV-d, 2010   | 1.0 | 1.0 | 1.0  | 1.0 | 1.0 | 1.0  |\n",
      "|  HEV-d, 2020   | 1.0 | 1.0 | 1.0  | 1.0 | 1.0 | 1.0  |\n",
      "|  HEV-d, 2030   | 1.0 | 1.0 | 1.0  | 1.0 | 1.0 | 1.0  |\n",
      "|  HEV-d, 2040   | 1.0 | 1.0 | 1.0  | 1.0 | 1.0 | 1.0  |\n",
      "|  HEV-d, 2050   | 1.0 | 1.0 | 1.0  | 1.0 | 1.0 | 1.0  |\n",
      "|  ICEV-d, 2000  | 1.0 | 1.0 | 1.0  | 1.0 | 1.0 | 1.0  |\n",
      "|  ICEV-d, 2010  | 1.0 | 1.0 | 1.0  | 1.0 | 1.0 | 1.0  |\n",
      "|  ICEV-d, 2020  | 1.0 | 1.0 | 1.0  | 1.0 | 1.0 | 1.0  |\n",
      "|  ICEV-d, 2030  | 1.0 | 1.0 | 1.0  | 1.0 | 1.0 | 1.0  |\n",
      "|  ICEV-d, 2040  | 1.0 | 1.0 | 1.0  | 1.0 | 1.0 | 1.0  |\n",
      "|  ICEV-d, 2050  | 1.0 | 1.0 | 1.0  | 1.0 | 1.0 | 1.0  |\n",
      "|  ICEV-g, 2000  | 1.0 | 1.0 | 1.0  | 1.0 | 1.0 | 1.0  |\n",
      "|  ICEV-g, 2010  | 1.0 | 1.0 | 1.0  | 1.0 | 1.0 | 1.0  |\n",
      "|  ICEV-g, 2020  | 1.0 | 1.0 | 1.0  | 1.0 | 1.0 | 1.0  |\n",
      "|  ICEV-g, 2030  | 1.0 | 1.0 | 1.0  | 1.0 | 1.0 | 1.0  |\n",
      "|  ICEV-g, 2040  | 1.0 | 1.0 | 1.0  | 1.0 | 1.0 | 1.0  |\n",
      "|  ICEV-g, 2050  | 1.0 | 1.0 | 1.0  | 1.0 | 1.0 | 1.0  |\n",
      "| PHEV-c-d, 2000 | 1.0 | 1.0 | 1.0  | 1.0 | 1.0 | 1.0  |\n",
      "| PHEV-c-d, 2010 | 1.0 | 1.0 | 1.0  | 1.0 | 1.0 | 1.0  |\n",
      "| PHEV-c-d, 2020 | 1.0 | 1.0 | 1.0  | 1.0 | 1.0 | 1.0  |\n",
      "| PHEV-c-d, 2030 | 1.0 | 1.0 | 1.0  | 1.0 | 1.0 | 1.0  |\n",
      "| PHEV-c-d, 2040 | 1.0 | 1.0 | 1.0  | 1.0 | 1.0 | 1.0  |\n",
      "| PHEV-c-d, 2050 | 1.0 | 1.0 | 1.0  | 1.0 | 1.0 | 1.0  |\n",
      "|  PHEV-d, 2000  | 1.0 | 1.0 | 1.0  | 1.0 | 1.0 | 1.0  |\n",
      "|  PHEV-d, 2010  | 1.0 | 1.0 | 1.0  | 1.0 | 1.0 | 1.0  |\n",
      "|  PHEV-d, 2020  | 1.0 | 1.0 | 1.0  | 1.0 | 1.0 | 1.0  |\n",
      "|  PHEV-d, 2030  | 1.0 | 1.0 | 1.0  | 1.0 | 1.0 | 1.0  |\n",
      "|  PHEV-d, 2040  | 1.0 | 1.0 | 1.0  | 1.0 | 1.0 | 1.0  |\n",
      "|  PHEV-d, 2050  | 1.0 | 1.0 | 1.0  | 1.0 | 1.0 | 1.0  |\n",
      "|  PHEV-e, 2000  | 1.0 | 1.0 | 1.0  | 1.0 | 1.0 | 1.0  |\n",
      "|  PHEV-e, 2010  | 1.0 | 1.0 | 1.0  | 1.0 | 1.0 | 1.0  |\n",
      "|  PHEV-e, 2020  | 1.0 | 1.0 | 1.0  | 1.0 | 1.0 | 1.0  |\n",
      "|  PHEV-e, 2030  | 1.0 | 1.0 | 1.0  | 1.0 | 1.0 | 1.0  |\n",
      "|  PHEV-e, 2040  | 1.0 | 1.0 | 1.0  | 1.0 | 1.0 | 1.0  |\n",
      "|  PHEV-e, 2050  | 1.0 | 1.0 | 1.0  | 1.0 | 1.0 | 1.0  |\n",
      "+----------------+-----+-----+------+-----+-----+------+\n",
      "1.0\n",
      "-0.012218910563067452\n",
      "-0.0008967040008822174\n",
      "\n",
      "Payload (in tons)\n",
      "+--------------+------+------+------+------+------+------+\n",
      "|              | 18t  | 26t  | 3.5t | 40t  | 60t  | 7.5t |\n",
      "+--------------+------+------+------+------+------+------+\n",
      "| ICEV-d, 2000 | 8.4  | 12.5 | 1.2  | 25.1 | 38.2 | 3.3  |\n",
      "| ICEV-d, 2010 | 8.4  | 12.4 | 1.1  | 25.0 | 38.1 | 3.3  |\n",
      "| ICEV-d, 2020 | 8.9  | 13.1 | 1.3  | 25.4 | 38.6 | 3.5  |\n",
      "| ICEV-d, 2030 | 10.0 | 14.7 | 1.5  | 27.4 | 41.6 | 4.0  |\n",
      "| ICEV-d, 2040 | 10.5 | 15.5 | 1.7  | 28.5 | 43.2 | 4.2  |\n",
      "| ICEV-d, 2050 | 11.1 | 16.3 | 1.9  | 29.6 | 44.7 | 4.5  |\n",
      "| ICEV-g, 2000 | 7.8  | 11.7 | 0.8  | 24.3 | 37.2 | 2.9  |\n",
      "| ICEV-g, 2010 | 7.7  | 11.5 | 0.7  | 23.9 | 36.8 | 2.8  |\n",
      "| ICEV-g, 2020 | 8.2  | 12.2 | 0.8  | 24.3 | 37.4 | 3.0  |\n",
      "| ICEV-g, 2030 | 9.4  | 13.9 | 1.2  | 26.4 | 40.4 | 3.5  |\n",
      "| ICEV-g, 2040 | 10.0 | 14.6 | 1.3  | 27.6 | 42.1 | 3.8  |\n",
      "| ICEV-g, 2050 | 10.6 | 15.5 | 1.5  | 28.8 | 43.7 | 4.1  |\n",
      "| PHEV-d, 2000 |  -   |  -   |  -   |  -   |  -   |  -   |\n",
      "| PHEV-d, 2010 |  -   |  -   |  -   | 1.4  | 4.3  |  -   |\n",
      "| PHEV-d, 2020 | 2.0  | 2.4  |  -   | 15.0 | 23.7 |  -   |\n",
      "| PHEV-d, 2030 | 6.3  | 8.6  | 0.3  | 21.6 | 32.9 | 2.2  |\n",
      "| PHEV-d, 2040 | 8.5  | 11.9 | 1.1  | 25.2 | 38.1 | 3.3  |\n",
      "| PHEV-d, 2050 | 10.1 | 14.2 | 1.6  | 27.6 | 41.6 | 4.0  |\n",
      "|  FCEV, 2000  | 7.1  | 10.5 | 0.7  | 23.1 | 35.3 | 2.7  |\n",
      "|  FCEV, 2010  | 7.7  | 11.3 | 0.9  | 23.9 | 36.5 | 2.9  |\n",
      "|  FCEV, 2020  | 8.4  | 12.3 | 1.1  | 24.5 | 37.3 | 3.3  |\n",
      "|  FCEV, 2030  | 9.6  | 14.0 | 1.4  | 26.7 | 40.5 | 3.8  |\n",
      "|  FCEV, 2040  | 10.5 | 15.2 | 1.7  | 28.3 | 42.7 | 4.2  |\n",
      "|  FCEV, 2050  | 11.1 | 16.1 | 1.9  | 29.4 | 44.3 | 4.5  |\n",
      "|  BEV, 2000   |  -   |  -   |  -   |  -   |  -   |  -   |\n",
      "|  BEV, 2010   |  -   |  -   |  -   | 1.4  | 4.3  |  -   |\n",
      "|  BEV, 2020   | 2.0  | 2.4  |  -   | 15.0 | 23.7 |  -   |\n",
      "|  BEV, 2030   | 6.3  | 8.6  | 0.3  | 21.6 | 32.9 | 2.2  |\n",
      "|  BEV, 2040   | 8.5  | 11.9 | 1.1  | 25.2 | 38.1 | 3.3  |\n",
      "|  BEV, 2050   | 10.1 | 14.2 | 1.6  | 27.6 | 41.6 | 4.0  |\n",
      "| HEV-d, 2000  | 8.5  | 12.7 | 1.2  | 25.3 | 38.5 | 3.4  |\n",
      "| HEV-d, 2010  | 8.5  | 12.6 | 1.2  | 25.2 | 38.4 | 3.3  |\n",
      "| HEV-d, 2020  | 9.0  | 13.3 | 1.3  | 25.5 | 38.8 | 3.5  |\n",
      "| HEV-d, 2030  | 10.1 | 14.8 | 1.5  | 27.5 | 41.8 | 4.0  |\n",
      "| HEV-d, 2040  | 10.6 | 15.5 | 1.7  | 28.6 | 43.3 | 4.2  |\n",
      "| HEV-d, 2050  | 11.2 | 16.3 | 1.9  | 29.6 | 44.8 | 4.5  |\n",
      "+--------------+------+------+------+------+------+------+\n",
      "The driving mass of the following vehicles exceeds the permissible gross mass. Reduce the target range for those vehicles, reduce the load factor or increase the battery cell energy density to find a solution.\n",
      "PHEV-d 18t 2000\n",
      "PHEV-d 18t 2010\n",
      "PHEV-d 26t 2000\n",
      "PHEV-d 26t 2010\n",
      "PHEV-d 3.5t 2000\n",
      "PHEV-d 3.5t 2010\n",
      "PHEV-d 3.5t 2020\n",
      "PHEV-d 40t 2000\n",
      "PHEV-d 60t 2000\n",
      "PHEV-d 7.5t 2000\n",
      "PHEV-d 7.5t 2010\n",
      "BEV 18t 2000\n",
      "BEV 18t 2010\n",
      "BEV 26t 2000\n",
      "BEV 26t 2010\n",
      "BEV 3.5t 2000\n",
      "BEV 3.5t 2010\n",
      "BEV 3.5t 2020\n",
      "BEV 40t 2000\n",
      "BEV 60t 2000\n",
      "BEV 7.5t 2000\n",
      "BEV 7.5t 2010\n"
     ]
    },
    {
     "data": {
      "text/html": [
       "<div>\n",
       "<style scoped>\n",
       "    .dataframe tbody tr th:only-of-type {\n",
       "        vertical-align: middle;\n",
       "    }\n",
       "\n",
       "    .dataframe tbody tr th {\n",
       "        vertical-align: top;\n",
       "    }\n",
       "\n",
       "    .dataframe thead th {\n",
       "        text-align: right;\n",
       "    }\n",
       "</style>\n",
       "<table border=\"1\" class=\"dataframe\">\n",
       "  <thead>\n",
       "    <tr style=\"text-align: right;\">\n",
       "      <th></th>\n",
       "      <th></th>\n",
       "      <th>powertrain</th>\n",
       "      <th>parameter</th>\n",
       "      <th>year</th>\n",
       "      <th>val</th>\n",
       "    </tr>\n",
       "    <tr>\n",
       "      <th>size</th>\n",
       "      <th>value</th>\n",
       "      <th></th>\n",
       "      <th></th>\n",
       "      <th></th>\n",
       "      <th></th>\n",
       "    </tr>\n",
       "  </thead>\n",
       "  <tbody>\n",
       "    <tr>\n",
       "      <td>18t</td>\n",
       "      <td>0</td>\n",
       "      <td>ICEV-d</td>\n",
       "      <td>TtW energy</td>\n",
       "      <td>2020</td>\n",
       "      <td>12132.379082</td>\n",
       "    </tr>\n",
       "    <tr>\n",
       "      <td>26t</td>\n",
       "      <td>0</td>\n",
       "      <td>ICEV-d</td>\n",
       "      <td>TtW energy</td>\n",
       "      <td>2020</td>\n",
       "      <td>18296.439959</td>\n",
       "    </tr>\n",
       "    <tr>\n",
       "      <td>3.5t</td>\n",
       "      <td>0</td>\n",
       "      <td>ICEV-d</td>\n",
       "      <td>TtW energy</td>\n",
       "      <td>2020</td>\n",
       "      <td>5707.692259</td>\n",
       "    </tr>\n",
       "    <tr>\n",
       "      <td>40t</td>\n",
       "      <td>0</td>\n",
       "      <td>ICEV-d</td>\n",
       "      <td>TtW energy</td>\n",
       "      <td>2020</td>\n",
       "      <td>21039.656150</td>\n",
       "    </tr>\n",
       "    <tr>\n",
       "      <td>60t</td>\n",
       "      <td>0</td>\n",
       "      <td>ICEV-d</td>\n",
       "      <td>TtW energy</td>\n",
       "      <td>2020</td>\n",
       "      <td>26699.973858</td>\n",
       "    </tr>\n",
       "    <tr>\n",
       "      <td>7.5t</td>\n",
       "      <td>0</td>\n",
       "      <td>ICEV-d</td>\n",
       "      <td>TtW energy</td>\n",
       "      <td>2020</td>\n",
       "      <td>7566.758628</td>\n",
       "    </tr>\n",
       "  </tbody>\n",
       "</table>\n",
       "</div>"
      ],
      "text/plain": [
       "           powertrain   parameter  year           val\n",
       "size value                                           \n",
       "18t  0         ICEV-d  TtW energy  2020  12132.379082\n",
       "26t  0         ICEV-d  TtW energy  2020  18296.439959\n",
       "3.5t 0         ICEV-d  TtW energy  2020   5707.692259\n",
       "40t  0         ICEV-d  TtW energy  2020  21039.656150\n",
       "60t  0         ICEV-d  TtW energy  2020  26699.973858\n",
       "7.5t 0         ICEV-d  TtW energy  2020   7566.758628"
      ]
     },
     "execution_count": 22,
     "metadata": {},
     "output_type": "execute_result"
    }
   ],
   "source": [
    "tip = TruckInputParameters() \n",
    "tip.static()\n",
    "_, array = fill_xarray_from_input_parameters(tip)\n",
    "array.loc[dict(parameter=\"capacity utilization\")] = 1\n",
    "tm = TruckModel(array, cycle=\"Long haul\")\n",
    "\n",
    "tm.set_all()\n",
    "tm.array.sel(year=2020, powertrain=\"ICEV-d\", parameter=\"TtW energy\").to_dataframe(\"val\")"
   ]
  },
  {
   "cell_type": "code",
   "execution_count": 34,
   "metadata": {},
   "outputs": [
    {
     "data": {
      "text/html": [
       "<pre>&lt;xarray.DataArray (year: 6, value: 1)&gt;\n",
       "array([[38226.18804143],\n",
       "       [38131.96295669],\n",
       "       [38635.15496249],\n",
       "       [41640.99598885],\n",
       "       [43213.77997604],\n",
       "       [44746.62167993]])\n",
       "Coordinates:\n",
       "    size        &lt;U4 &#x27;60t&#x27;\n",
       "    powertrain  &lt;U8 &#x27;ICEV-d&#x27;\n",
       "    parameter   &lt;U48 &#x27;total cargo mass&#x27;\n",
       "  * year        (year) int32 2000 2010 2020 2030 2040 2050\n",
       "  * value       (value) int32 0</pre>"
      ],
      "text/plain": [
       "<xarray.DataArray (year: 6, value: 1)>\n",
       "array([[38226.18804143],\n",
       "       [38131.96295669],\n",
       "       [38635.15496249],\n",
       "       [41640.99598885],\n",
       "       [43213.77997604],\n",
       "       [44746.62167993]])\n",
       "Coordinates:\n",
       "    size        <U4 '60t'\n",
       "    powertrain  <U8 'ICEV-d'\n",
       "    parameter   <U48 'total cargo mass'\n",
       "  * year        (year) int32 2000 2010 2020 2030 2040 2050\n",
       "  * value       (value) int32 0"
      ]
     },
     "execution_count": 34,
     "metadata": {},
     "output_type": "execute_result"
    }
   ],
   "source": [
    "tm.array.sel(parameter=\"total cargo mass\", powertrain=\"ICEV-d\", size=\"60t\")"
   ]
  },
  {
   "cell_type": "code",
   "execution_count": 35,
   "metadata": {},
   "outputs": [
    {
     "data": {
      "text/html": [
       "<pre>&lt;xarray.DataArray (year: 6, value: 1)&gt;\n",
       "array([[21773.81195857],\n",
       "       [21868.03704331],\n",
       "       [21364.84503751],\n",
       "       [18359.00401115],\n",
       "       [16786.22002396],\n",
       "       [15253.37832007]])\n",
       "Coordinates:\n",
       "    size        &lt;U4 &#x27;60t&#x27;\n",
       "    powertrain  &lt;U8 &#x27;ICEV-d&#x27;\n",
       "    parameter   &lt;U48 &#x27;curb mass&#x27;\n",
       "  * year        (year) int32 2000 2010 2020 2030 2040 2050\n",
       "  * value       (value) int32 0</pre>"
      ],
      "text/plain": [
       "<xarray.DataArray (year: 6, value: 1)>\n",
       "array([[21773.81195857],\n",
       "       [21868.03704331],\n",
       "       [21364.84503751],\n",
       "       [18359.00401115],\n",
       "       [16786.22002396],\n",
       "       [15253.37832007]])\n",
       "Coordinates:\n",
       "    size        <U4 '60t'\n",
       "    powertrain  <U8 'ICEV-d'\n",
       "    parameter   <U48 'curb mass'\n",
       "  * year        (year) int32 2000 2010 2020 2030 2040 2050\n",
       "  * value       (value) int32 0"
      ]
     },
     "execution_count": 35,
     "metadata": {},
     "output_type": "execute_result"
    }
   ],
   "source": [
    "tm.array.sel(parameter=\"curb mass\", size=\"60t\", powertrain=\"ICEV-d\")"
   ]
  },
  {
   "cell_type": "code",
   "execution_count": null,
   "metadata": {},
   "outputs": [],
   "source": []
  }
 ],
 "metadata": {
  "kernelspec": {
   "display_name": "Python 3",
   "language": "python",
   "name": "python3"
  },
  "language_info": {
   "codemirror_mode": {
    "name": "ipython",
    "version": 3
   },
   "file_extension": ".py",
   "mimetype": "text/x-python",
   "name": "python",
   "nbconvert_exporter": "python",
   "pygments_lexer": "ipython3",
   "version": "3.7.5"
  }
 },
 "nbformat": 4,
 "nbformat_minor": 4
}
