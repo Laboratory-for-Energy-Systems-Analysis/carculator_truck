{
 "cells": [
  {
   "cell_type": "code",
   "execution_count": 1,
   "metadata": {},
   "outputs": [],
   "source": [
    "import matplotlib.pyplot as plt\n",
    "import pandas as pd\n",
    "df_lg = pd.read_csv(r'C:\\Users\\romai\\Documents\\GitHub\\carculator_truck\\dev\\Class5_Tractor_ENG_400_Long_Haul+ES_1Hz_full.vmod',\n",
    "                 sep=\",\", header=1)\n",
    "df_reg = pd.read_csv(r'C:\\Users\\romai\\Documents\\GitHub\\carculator_truck\\dev\\Class5_Tractor_ENG_400_Regional_Delivery_1Hz_full.vmod',\n",
    "                 sep=\",\", header=1)\n",
    "df_urb = pd.read_csv(r'C:\\Users\\romai\\Documents\\GitHub\\carculator_truck\\dev\\Class5_Tractor_ENG_400_Urban_Delivery_1Hz_full.vmod',\n",
    "                 sep=\",\", header=1)\n"
   ]
  },
  {
   "cell_type": "code",
   "execution_count": 22,
   "metadata": {},
   "outputs": [],
   "source": [
    "df_lg.loc[:, [\"time [s]\", \"v_act [km/h]\"]].to_excel(\"400_lg.xlsx\")"
   ]
  },
  {
   "cell_type": "code",
   "execution_count": 23,
   "metadata": {},
   "outputs": [],
   "source": [
    "df_reg.loc[:, [\"time [s]\", \"v_act [km/h]\"]].to_excel(\"400_reg.xlsx\")"
   ]
  },
  {
   "cell_type": "code",
   "execution_count": 24,
   "metadata": {},
   "outputs": [],
   "source": [
    "df_urb.loc[:, [\"time [s]\", \"v_act [km/h]\"]].to_excel(\"400_urb.xlsx\")"
   ]
  },
  {
   "cell_type": "code",
   "execution_count": 28,
   "metadata": {},
   "outputs": [
    {
     "data": {
      "text/plain": [
       "<matplotlib.axes._subplots.AxesSubplot at 0x17f227b4388>"
      ]
     },
     "execution_count": 28,
     "metadata": {},
     "output_type": "execute_result"
    },
    {
     "data": {
      "image/png": "[encoded data removed]",
      "text/plain": [
       "<Figure size 432x288 with 1 Axes>"
      ]
     },
     "metadata": {
      "needs_background": "light"
     },
     "output_type": "display_data"
    }
   ],
   "source": [
    "df_lg.loc[0:100, [\"time [s]\", \"v_targ [km/h]\",\"v_act [km/h]\"]].plot()"
   ]
  },
  {
   "cell_type": "code",
   "execution_count": null,
   "metadata": {},
   "outputs": [],
   "source": [
    "# 40t, lg, empty\n",
    "8300\n",
    "# 40t, lg, full\n",
    "13700\n",
    "\n",
    "# 40t, urb, empty\n",
    "12000\n",
    "# 40t, urb, full\n",
    "22440\n",
    "\n",
    "# 18t, lg, full\n",
    "8571\n",
    "# 18t, lg, empty\n",
    "6938\n",
    "# 18t, urb, full\n",
    "11830\n",
    "# 18t, urb, empty\n",
    "8144\n",
    "\n",
    "# 7.5t, lg, full\n",
    "4780\n",
    "# 7.5t, lg, empty\n",
    "4166\n",
    "# 7.5t, urb, full\n",
    "6107\n",
    "# 7.5t, urb, empty\n",
    "4772\n",
    "\n",
    "# 3.5, lg, full\n",
    "\n",
    "# 3.5t, lg, empty\n"
   ]
  },
  {
   "cell_type": "code",
   "execution_count": null,
   "metadata": {},
   "outputs": [],
   "source": []
  },
  {
   "cell_type": "code",
   "execution_count": 52,
   "metadata": {},
   "outputs": [
    {
     "data": {
      "text/plain": [
       "4166.091396657156"
      ]
     },
     "execution_count": 52,
     "metadata": {},
     "output_type": "execute_result"
    }
   ],
   "source": [
    "total_fc_lg = (df_lg.loc[:, \"FC-Final [g/h]\"]/3600/1000).sum()*42400 # kj/cycle\n",
    "distance_lg = (df_lg.loc[:,\"v_act [km/h]\"] * 1000 /3600).sum()/1000 #m/s\n",
    "total_fc_lg/distance_lg"
   ]
  },
  {
   "cell_type": "code",
   "execution_count": 53,
   "metadata": {},
   "outputs": [
    {
     "data": {
      "text/plain": [
       "4189.114787884509"
      ]
     },
     "execution_count": 53,
     "metadata": {},
     "output_type": "execute_result"
    }
   ],
   "source": [
    "total_fc_reg = (df_reg.loc[:, \"FC-Final [g/h]\"]/3600/1000).sum()*42400 # kj/cycle\n",
    "distance_reg = (df_reg.loc[:,\"v_act [km/h]\"] * 1000 /3600).sum()/1000 #m/s\n",
    "total_fc_reg/distance_reg"
   ]
  },
  {
   "cell_type": "code",
   "execution_count": 54,
   "metadata": {},
   "outputs": [
    {
     "data": {
      "text/plain": [
       "4772.469451544178"
      ]
     },
     "execution_count": 54,
     "metadata": {},
     "output_type": "execute_result"
    }
   ],
   "source": [
    "total_fc_urb = (df_urb.loc[:, \"FC-Final [g/h]\"]/3600/1000).sum()*42400 # kj/cycle\n",
    "distance_urb = (df_urb.loc[:,\"v_act [km/h]\"] * 1000 /3600).sum()/1000 #m/s\n",
    "total_fc_urb/distance_urb"
   ]
  },
  {
   "cell_type": "code",
   "execution_count": 28,
   "metadata": {},
   "outputs": [
    {
     "data": {
      "text/plain": [
       "10150.0"
      ]
     },
     "execution_count": 28,
     "metadata": {},
     "output_type": "execute_result"
    }
   ],
   "source": [
    "(8300+12000)/2"
   ]
  },
  {
   "cell_type": "code",
   "execution_count": 33,
   "metadata": {},
   "outputs": [
    {
     "data": {
      "text/plain": [
       "18070.0"
      ]
     },
     "execution_count": 33,
     "metadata": {},
     "output_type": "execute_result"
    }
   ],
   "source": [
    "(13700+22440)/2"
   ]
  },
  {
   "cell_type": "code",
   "execution_count": 34,
   "metadata": {},
   "outputs": [
    {
     "data": {
      "text/plain": [
       "14110.0"
      ]
     },
     "execution_count": 34,
     "metadata": {},
     "output_type": "execute_result"
    }
   ],
   "source": [
    "(10150+18070)/2"
   ]
  },
  {
   "cell_type": "code",
   "execution_count": 116,
   "metadata": {},
   "outputs": [],
   "source": [
    "from carculator_truck import *"
   ]
  },
  {
   "cell_type": "code",
   "execution_count": 181,
   "metadata": {},
   "outputs": [
    {
     "name": "stdout",
     "output_type": "stream",
     "text": [
      "Long haul driving cycle is selected. Vehicles will be designed to achieve a minimal range of 800 km.\n",
      "\n",
      "Capacity utilization assumed (share of available payload used)\n",
      "+----------------+------+------+------+------+------+------+\n",
      "|                | 18t  | 26t  | 3.5t | 40t  | 60t  | 7.5t |\n",
      "+----------------+------+------+------+------+------+------+\n",
      "|   BEV, 2000    | 0.64 | 0.73 | 0.83 | 0.76 | 0.73 | 0.83 |\n",
      "|   BEV, 2010    | 0.64 | 0.73 | 0.83 | 0.76 | 0.73 | 0.83 |\n",
      "|   BEV, 2020    | 0.64 | 0.73 | 0.83 | 0.76 | 0.73 | 0.83 |\n",
      "|   BEV, 2030    | 0.64 | 0.73 | 0.83 | 0.76 | 0.73 | 0.83 |\n",
      "|   BEV, 2040    | 0.64 | 0.73 | 0.83 | 0.76 | 0.73 | 0.83 |\n",
      "|   BEV, 2050    | 0.64 | 0.73 | 0.83 | 0.76 | 0.73 | 0.83 |\n",
      "|   FCEV, 2000   | 0.64 | 0.73 | 0.83 | 0.76 | 0.73 | 0.83 |\n",
      "|   FCEV, 2010   | 0.64 | 0.73 | 0.83 | 0.76 | 0.73 | 0.83 |\n",
      "|   FCEV, 2020   | 0.64 | 0.73 | 0.83 | 0.76 | 0.73 | 0.83 |\n",
      "|   FCEV, 2030   | 0.64 | 0.73 | 0.83 | 0.76 | 0.73 | 0.83 |\n",
      "|   FCEV, 2040   | 0.64 | 0.73 | 0.83 | 0.76 | 0.73 | 0.83 |\n",
      "|   FCEV, 2050   | 0.64 | 0.73 | 0.83 | 0.76 | 0.73 | 0.83 |\n",
      "|  HEV-d, 2000   | 0.64 | 0.73 | 0.83 | 0.76 | 0.73 | 0.83 |\n",
      "|  HEV-d, 2010   | 0.64 | 0.73 | 0.83 | 0.76 | 0.73 | 0.83 |\n",
      "|  HEV-d, 2020   | 0.64 | 0.73 | 0.83 | 0.76 | 0.73 | 0.83 |\n",
      "|  HEV-d, 2030   | 0.64 | 0.73 | 0.83 | 0.76 | 0.73 | 0.83 |\n",
      "|  HEV-d, 2040   | 0.64 | 0.73 | 0.83 | 0.76 | 0.73 | 0.83 |\n",
      "|  HEV-d, 2050   | 0.64 | 0.73 | 0.83 | 0.76 | 0.73 | 0.83 |\n",
      "|  ICEV-d, 2000  | 0.64 | 0.73 | 0.83 | 0.76 | 0.73 | 0.83 |\n",
      "|  ICEV-d, 2010  | 0.64 | 0.73 | 0.83 | 0.76 | 0.73 | 0.83 |\n",
      "|  ICEV-d, 2020  | 0.64 | 0.73 | 0.83 | 0.76 | 0.73 | 0.83 |\n",
      "|  ICEV-d, 2030  | 0.64 | 0.73 | 0.83 | 0.76 | 0.73 | 0.83 |\n",
      "|  ICEV-d, 2040  | 0.64 | 0.73 | 0.83 | 0.76 | 0.73 | 0.83 |\n",
      "|  ICEV-d, 2050  | 0.64 | 0.73 | 0.83 | 0.76 | 0.73 | 0.83 |\n",
      "|  ICEV-g, 2000  | 0.64 | 0.73 | 0.83 | 0.76 | 0.73 | 0.83 |\n",
      "|  ICEV-g, 2010  | 0.64 | 0.73 | 0.83 | 0.76 | 0.73 | 0.83 |\n",
      "|  ICEV-g, 2020  | 0.64 | 0.73 | 0.83 | 0.76 | 0.73 | 0.83 |\n",
      "|  ICEV-g, 2030  | 0.64 | 0.73 | 0.83 | 0.76 | 0.73 | 0.83 |\n",
      "|  ICEV-g, 2040  | 0.64 | 0.73 | 0.83 | 0.76 | 0.73 | 0.83 |\n",
      "|  ICEV-g, 2050  | 0.64 | 0.73 | 0.83 | 0.76 | 0.73 | 0.83 |\n",
      "| PHEV-c-d, 2000 | 0.64 | 0.73 | 0.83 | 0.76 | 0.73 | 0.83 |\n",
      "| PHEV-c-d, 2010 | 0.64 | 0.73 | 0.83 | 0.76 | 0.73 | 0.83 |\n",
      "| PHEV-c-d, 2020 | 0.64 | 0.73 | 0.83 | 0.76 | 0.73 | 0.83 |\n",
      "| PHEV-c-d, 2030 | 0.64 | 0.73 | 0.83 | 0.76 | 0.73 | 0.83 |\n",
      "| PHEV-c-d, 2040 | 0.64 | 0.73 | 0.83 | 0.76 | 0.73 | 0.83 |\n",
      "| PHEV-c-d, 2050 | 0.64 | 0.73 | 0.83 | 0.76 | 0.73 | 0.83 |\n",
      "|  PHEV-d, 2000  | 0.64 | 0.73 | 0.83 | 0.76 | 0.73 | 0.83 |\n",
      "|  PHEV-d, 2010  | 0.64 | 0.73 | 0.83 | 0.76 | 0.73 | 0.83 |\n",
      "|  PHEV-d, 2020  | 0.64 | 0.73 | 0.83 | 0.76 | 0.73 | 0.83 |\n",
      "|  PHEV-d, 2030  | 0.64 | 0.73 | 0.83 | 0.76 | 0.73 | 0.83 |\n",
      "|  PHEV-d, 2040  | 0.64 | 0.73 | 0.83 | 0.76 | 0.73 | 0.83 |\n",
      "|  PHEV-d, 2050  | 0.64 | 0.73 | 0.83 | 0.76 | 0.73 | 0.83 |\n",
      "|  PHEV-e, 2000  | 0.64 | 0.73 | 0.83 | 0.76 | 0.73 | 0.83 |\n",
      "|  PHEV-e, 2010  | 0.64 | 0.73 | 0.83 | 0.76 | 0.73 | 0.83 |\n",
      "|  PHEV-e, 2020  | 0.64 | 0.73 | 0.83 | 0.76 | 0.73 | 0.83 |\n",
      "|  PHEV-e, 2030  | 0.64 | 0.73 | 0.83 | 0.76 | 0.73 | 0.83 |\n",
      "|  PHEV-e, 2040  | 0.64 | 0.73 | 0.83 | 0.76 | 0.73 | 0.83 |\n",
      "|  PHEV-e, 2050  | 0.64 | 0.73 | 0.83 | 0.76 | 0.73 | 0.83 |\n",
      "+----------------+------+------+------+------+------+------+\n",
      "\n",
      "Payload (in tons)\n",
      "+--------------+-----+------+------+------+------+------+\n",
      "|              | 18t | 26t  | 3.5t | 40t  | 60t  | 7.5t |\n",
      "+--------------+-----+------+------+------+------+------+\n",
      "| ICEV-d, 2000 | 5.4 | 9.1  | 1.0  | 19.1 | 27.9 | 2.7  |\n",
      "| ICEV-d, 2010 | 5.4 | 9.2  | 1.0  | 19.1 | 28.0 | 2.8  |\n",
      "| ICEV-d, 2020 | 5.8 | 9.7  | 1.1  | 19.4 | 28.4 | 3.0  |\n",
      "| ICEV-d, 2030 | 6.5 | 10.9 | 1.3  | 21.0 | 30.6 | 3.4  |\n",
      "| ICEV-d, 2040 | 6.8 | 11.4 | 1.5  | 21.8 | 31.7 | 3.6  |\n",
      "| ICEV-d, 2050 | 7.2 | 12.0 | 1.6  | 22.6 | 32.8 | 3.8  |\n",
      "| ICEV-g, 2000 | 5.0 | 8.6  | 0.7  | 18.4 | 27.2 | 2.4  |\n",
      "| ICEV-g, 2010 | 5.1 | 8.7  | 0.7  | 18.6 | 27.3 | 2.5  |\n",
      "| ICEV-g, 2020 | 5.4 | 9.3  | 0.8  | 18.9 | 27.8 | 2.7  |\n",
      "| ICEV-g, 2030 | 6.2 | 10.5 | 1.1  | 20.5 | 30.0 | 3.1  |\n",
      "| ICEV-g, 2040 | 6.6 | 11.1 | 1.2  | 21.4 | 31.2 | 3.3  |\n",
      "| ICEV-g, 2050 | 7.0 | 11.7 | 1.4  | 22.2 | 32.4 | 3.6  |\n",
      "| PHEV-d, 2000 |  -  |  -   |  -   |  -   |  -   |  -   |\n",
      "| PHEV-d, 2010 |  -  |  -   |  -   |  -   | 0.2  |  -   |\n",
      "| PHEV-d, 2020 | 1.2 | 1.5  |  -   | 11.4 | 17.7 |  -   |\n",
      "| PHEV-d, 2030 | 4.1 | 6.4  | 0.3  | 16.6 | 24.6 | 1.8  |\n",
      "| PHEV-d, 2040 | 5.6 | 8.9  | 0.9  | 19.3 | 28.3 | 2.7  |\n",
      "| PHEV-d, 2050 | 6.6 | 10.6 | 1.3  | 21.2 | 30.8 | 3.4  |\n",
      "|  FCEV, 2000  | 4.5 | 7.5  | 0.5  | 17.4 | 25.8 | 2.1  |\n",
      "|  FCEV, 2010  | 4.9 | 8.3  | 0.7  | 18.2 | 26.7 | 2.4  |\n",
      "|  FCEV, 2020  | 5.4 | 9.1  | 0.9  | 18.7 | 27.4 | 2.7  |\n",
      "|  FCEV, 2030  | 6.2 | 10.3 | 1.2  | 20.4 | 29.7 | 3.2  |\n",
      "|  FCEV, 2040  | 6.8 | 11.2 | 1.4  | 21.6 | 31.3 | 3.5  |\n",
      "|  FCEV, 2050  | 7.2 | 11.8 | 1.6  | 22.4 | 32.5 | 3.8  |\n",
      "|  BEV, 2000   |  -  |  -   |  -   |  -   |  -   |  -   |\n",
      "|  BEV, 2010   |  -  |  -   |  -   |  -   | 0.2  |  -   |\n",
      "|  BEV, 2020   | 1.2 | 1.5  |  -   | 11.4 | 17.7 |  -   |\n",
      "|  BEV, 2030   | 4.1 | 6.4  | 0.3  | 16.6 | 24.6 | 1.8  |\n",
      "|  BEV, 2040   | 5.6 | 8.9  | 0.9  | 19.3 | 28.3 | 2.7  |\n",
      "|  BEV, 2050   | 6.6 | 10.6 | 1.3  | 21.2 | 30.8 | 3.4  |\n",
      "| HEV-d, 2000  | 5.5 | 9.3  | 1.0  | 19.2 | 28.1 | 2.8  |\n",
      "| HEV-d, 2010  | 5.5 | 9.3  | 1.0  | 19.3 | 28.2 | 2.8  |\n",
      "| HEV-d, 2020  | 5.8 | 9.8  | 1.1  | 19.6 | 28.5 | 3.0  |\n",
      "| HEV-d, 2030  | 6.5 | 10.9 | 1.3  | 21.1 | 30.7 | 3.4  |\n",
      "| HEV-d, 2040  | 6.9 | 11.5 | 1.5  | 21.9 | 31.8 | 3.6  |\n",
      "| HEV-d, 2050  | 7.2 | 12.1 | 1.6  | 22.7 | 32.9 | 3.8  |\n",
      "+--------------+-----+------+------+------+------+------+\n",
      "The driving mass of the following vehicles exceeds the permissible gross mass. Reduce the target range for those vehicles, reduce the load factor or increase the battery cell energy density to find a solution.\n",
      "PHEV-d 18t 2000\n",
      "PHEV-d 18t 2010\n",
      "PHEV-d 26t 2000\n",
      "PHEV-d 26t 2010\n",
      "PHEV-d 3.5t 2000\n",
      "PHEV-d 3.5t 2010\n",
      "PHEV-d 3.5t 2020\n",
      "PHEV-d 40t 2000\n",
      "PHEV-d 40t 2010\n",
      "PHEV-d 60t 2000\n",
      "PHEV-d 7.5t 2000\n",
      "PHEV-d 7.5t 2010\n",
      "PHEV-d 7.5t 2020\n",
      "BEV 18t 2000\n",
      "BEV 18t 2010\n",
      "BEV 26t 2000\n",
      "BEV 26t 2010\n",
      "BEV 3.5t 2000\n",
      "BEV 3.5t 2010\n",
      "BEV 3.5t 2020\n",
      "BEV 40t 2000\n",
      "BEV 40t 2010\n",
      "BEV 60t 2000\n",
      "BEV 7.5t 2000\n",
      "BEV 7.5t 2010\n",
      "BEV 7.5t 2020\n"
     ]
    },
    {
     "data": {
      "text/html": [
       "<div>\n",
       "<style scoped>\n",
       "    .dataframe tbody tr th:only-of-type {\n",
       "        vertical-align: middle;\n",
       "    }\n",
       "\n",
       "    .dataframe tbody tr th {\n",
       "        vertical-align: top;\n",
       "    }\n",
       "\n",
       "    .dataframe thead th {\n",
       "        text-align: right;\n",
       "    }\n",
       "</style>\n",
       "<table border=\"1\" class=\"dataframe\">\n",
       "  <thead>\n",
       "    <tr style=\"text-align: right;\">\n",
       "      <th></th>\n",
       "      <th></th>\n",
       "      <th>powertrain</th>\n",
       "      <th>parameter</th>\n",
       "      <th>year</th>\n",
       "      <th>val</th>\n",
       "    </tr>\n",
       "    <tr>\n",
       "      <th>size</th>\n",
       "      <th>value</th>\n",
       "      <th></th>\n",
       "      <th></th>\n",
       "      <th></th>\n",
       "      <th></th>\n",
       "    </tr>\n",
       "  </thead>\n",
       "  <tbody>\n",
       "    <tr>\n",
       "      <td>18t</td>\n",
       "      <td>0</td>\n",
       "      <td>ICEV-d</td>\n",
       "      <td>TtW energy</td>\n",
       "      <td>2020</td>\n",
       "      <td>18.877166</td>\n",
       "    </tr>\n",
       "    <tr>\n",
       "      <td>26t</td>\n",
       "      <td>0</td>\n",
       "      <td>ICEV-d</td>\n",
       "      <td>TtW energy</td>\n",
       "      <td>2020</td>\n",
       "      <td>23.499137</td>\n",
       "    </tr>\n",
       "    <tr>\n",
       "      <td>3.5t</td>\n",
       "      <td>0</td>\n",
       "      <td>ICEV-d</td>\n",
       "      <td>TtW energy</td>\n",
       "      <td>2020</td>\n",
       "      <td>8.049294</td>\n",
       "    </tr>\n",
       "    <tr>\n",
       "      <td>40t</td>\n",
       "      <td>0</td>\n",
       "      <td>ICEV-d</td>\n",
       "      <td>TtW energy</td>\n",
       "      <td>2020</td>\n",
       "      <td>29.517074</td>\n",
       "    </tr>\n",
       "    <tr>\n",
       "      <td>60t</td>\n",
       "      <td>0</td>\n",
       "      <td>ICEV-d</td>\n",
       "      <td>TtW energy</td>\n",
       "      <td>2020</td>\n",
       "      <td>37.714281</td>\n",
       "    </tr>\n",
       "    <tr>\n",
       "      <td>7.5t</td>\n",
       "      <td>0</td>\n",
       "      <td>ICEV-d</td>\n",
       "      <td>TtW energy</td>\n",
       "      <td>2020</td>\n",
       "      <td>11.091047</td>\n",
       "    </tr>\n",
       "  </tbody>\n",
       "</table>\n",
       "</div>"
      ],
      "text/plain": [
       "           powertrain   parameter  year        val\n",
       "size value                                        \n",
       "18t  0         ICEV-d  TtW energy  2020  18.877166\n",
       "26t  0         ICEV-d  TtW energy  2020  23.499137\n",
       "3.5t 0         ICEV-d  TtW energy  2020   8.049294\n",
       "40t  0         ICEV-d  TtW energy  2020  29.517074\n",
       "60t  0         ICEV-d  TtW energy  2020  37.714281\n",
       "7.5t 0         ICEV-d  TtW energy  2020  11.091047"
      ]
     },
     "execution_count": 181,
     "metadata": {},
     "output_type": "execute_result"
    }
   ],
   "source": [
    "tip = TruckInputParameters() \n",
    "tip.static()\n",
    "_, array = fill_xarray_from_input_parameters(tip)\n",
    "\n",
    "array.loc[dict(parameter=\"capacity utilization\", size=[\"40t\"])] = .76\n",
    "#array.loc[dict(parameter=\"capacity utilization\", size=[\"18t\"])] = .64\n",
    "#array.loc[dict(parameter=\"capacity utilization\", size=[\"7.5t\"])] = .9\n",
    "#array.loc[dict(parameter=\"capacity utilization\", size=[\"7.5t\"])] = .83\n",
    "\n",
    "#array.loc[dict(parameter=\"capacity utilization\")] = 0\n",
    "\n",
    "tm = TruckModel(array, cycle=\"Long haul\")\n",
    "\n",
    "tm.set_all()\n",
    "(tm.array.sel(year=2020, powertrain=\"ICEV-d\", parameter=\"TtW energy\")/42400*100).to_dataframe(\"val\")"
   ]
  },
  {
   "cell_type": "code",
   "execution_count": 158,
   "metadata": {},
   "outputs": [
    {
     "data": {
      "text/html": [
       "<div>\n",
       "<style scoped>\n",
       "    .dataframe tbody tr th:only-of-type {\n",
       "        vertical-align: middle;\n",
       "    }\n",
       "\n",
       "    .dataframe tbody tr th {\n",
       "        vertical-align: top;\n",
       "    }\n",
       "\n",
       "    .dataframe thead th {\n",
       "        text-align: right;\n",
       "    }\n",
       "</style>\n",
       "<table border=\"1\" class=\"dataframe\">\n",
       "  <thead>\n",
       "    <tr style=\"text-align: right;\">\n",
       "      <th></th>\n",
       "      <th></th>\n",
       "      <th>powertrain</th>\n",
       "      <th>parameter</th>\n",
       "      <th>year</th>\n",
       "      <th>val</th>\n",
       "    </tr>\n",
       "    <tr>\n",
       "      <th>size</th>\n",
       "      <th>value</th>\n",
       "      <th></th>\n",
       "      <th></th>\n",
       "      <th></th>\n",
       "      <th></th>\n",
       "    </tr>\n",
       "  </thead>\n",
       "  <tbody>\n",
       "    <tr>\n",
       "      <td>18t</td>\n",
       "      <td>0</td>\n",
       "      <td>ICEV-d</td>\n",
       "      <td>TtW energy</td>\n",
       "      <td>2020</td>\n",
       "      <td>20.507230</td>\n",
       "    </tr>\n",
       "    <tr>\n",
       "      <td>26t</td>\n",
       "      <td>0</td>\n",
       "      <td>ICEV-d</td>\n",
       "      <td>TtW energy</td>\n",
       "      <td>2020</td>\n",
       "      <td>25.642492</td>\n",
       "    </tr>\n",
       "    <tr>\n",
       "      <td>3.5t</td>\n",
       "      <td>0</td>\n",
       "      <td>ICEV-d</td>\n",
       "      <td>TtW energy</td>\n",
       "      <td>2020</td>\n",
       "      <td>8.167015</td>\n",
       "    </tr>\n",
       "    <tr>\n",
       "      <td>40t</td>\n",
       "      <td>0</td>\n",
       "      <td>ICEV-d</td>\n",
       "      <td>TtW energy</td>\n",
       "      <td>2020</td>\n",
       "      <td>32.557816</td>\n",
       "    </tr>\n",
       "    <tr>\n",
       "      <td>60t</td>\n",
       "      <td>0</td>\n",
       "      <td>ICEV-d</td>\n",
       "      <td>TtW energy</td>\n",
       "      <td>2020</td>\n",
       "      <td>43.950936</td>\n",
       "    </tr>\n",
       "    <tr>\n",
       "      <td>7.5t</td>\n",
       "      <td>0</td>\n",
       "      <td>ICEV-d</td>\n",
       "      <td>TtW energy</td>\n",
       "      <td>2020</td>\n",
       "      <td>11.561888</td>\n",
       "    </tr>\n",
       "  </tbody>\n",
       "</table>\n",
       "</div>"
      ],
      "text/plain": [
       "           powertrain   parameter  year        val\n",
       "size value                                        \n",
       "18t  0         ICEV-d  TtW energy  2020  20.507230\n",
       "26t  0         ICEV-d  TtW energy  2020  25.642492\n",
       "3.5t 0         ICEV-d  TtW energy  2020   8.167015\n",
       "40t  0         ICEV-d  TtW energy  2020  32.557816\n",
       "60t  0         ICEV-d  TtW energy  2020  43.950936\n",
       "7.5t 0         ICEV-d  TtW energy  2020  11.561888"
      ]
     },
     "execution_count": 158,
     "metadata": {},
     "output_type": "execute_result"
    }
   ],
   "source": [
    "(tm.array.sel(year=2020, powertrain=\"ICEV-d\", parameter=\"TtW energy\")/42400*100).to_dataframe(\"val\")"
   ]
  },
  {
   "cell_type": "code",
   "execution_count": 144,
   "metadata": {},
   "outputs": [],
   "source": [
    "ic = InventoryCalculation(tm.array, fuel_blend=tm.fuel_blend, country=tm.country)"
   ]
  },
  {
   "cell_type": "code",
   "execution_count": 145,
   "metadata": {},
   "outputs": [
    {
     "name": "stdout",
     "output_type": "stream",
     "text": [
      "****************** IMPORTANT BACKGROUND PARAMETERS ******************\n",
      " * The country of use is RER\n",
      " * Energy batteries produced in CN using NMC chemistry.\n",
      " * in 2000, % of renewable: 55.0%, GHG intensity per kWh: 452 g. CO2-eq.\n",
      " \t * in 2010, % of renewable: 55.0%, GHG intensity per kWh: 376 g. CO2-eq.\n",
      " \t * in 2020, % of renewable: 55.0%, GHG intensity per kWh: 319 g. CO2-eq.\n",
      " \t * in 2030, % of renewable: 55.0%, GHG intensity per kWh: 275 g. CO2-eq.\n",
      " \t * in 2040, % of renewable: 55.0%, GHG intensity per kWh: 235 g. CO2-eq.\n",
      " \t * in 2050, % of renewable: 55.0%, GHG intensity per kWh: 211 g. CO2-eq.\n",
      " * electrolysis is completed by smr - natural gas.\n",
      " \t * in 2000 _________________________________________ 0.0%\n",
      " \t * in 2010 _________________________________________ 1.0%\n",
      " \t * in 2020 _________________________________________ 2.0%\n",
      " \t * in 2030 _________________________________________ 6.0%\n",
      " \t * in 2040 _________________________________________ 8.0%\n",
      " \t * in 2050 _________________________________________ 12.0%\n",
      " * cng is completed by biogas.\n",
      " \t * in 2000 _________________________________________ 0.0%\n",
      " \t * in 2010 _________________________________________ 1.0%\n",
      " \t * in 2020 _________________________________________ 2.0%\n",
      " \t * in 2030 _________________________________________ 6.0%\n",
      " \t * in 2040 _________________________________________ 8.0%\n",
      " \t * in 2050 _________________________________________ 12.0%\n",
      " * diesel is completed by biodiesel - cooking oil.\n",
      " \t * in 2000 _________________________________________ 0.0%\n",
      " \t * in 2010 _________________________________________ 1.0%\n",
      " \t * in 2020 _________________________________________ 2.0%\n",
      " \t * in 2030 _________________________________________ 6.0%\n",
      " \t * in 2040 _________________________________________ 8.0%\n",
      " \t * in 2050 _________________________________________ 12.0%\n",
      " * *********************************************************************\n"
     ]
    },
    {
     "name": "stderr",
     "output_type": "stream",
     "text": [
      "C:\\Users\\sacchi_r\\AppData\\Local\\Continuum\\miniconda3\\envs\\coarse\\lib\\site-packages\\scipy\\sparse\\linalg\\dsolve\\linsolve.py:133: SparseEfficiencyWarning: spsolve requires A be CSC or CSR matrix format\n",
      "  SparseEfficiencyWarning)\n"
     ]
    }
   ],
   "source": [
    "res = ic.calculate_impacts()"
   ]
  },
  {
   "cell_type": "code",
   "execution_count": 171,
   "metadata": {},
   "outputs": [
    {
     "data": {
      "text/plain": [
       "Text(0, 0.5, 'kg CO2/tkm')"
      ]
     },
     "execution_count": 171,
     "metadata": {},
     "output_type": "execute_result"
    },
    {
     "data": {
      "image/png": "[encoded data removed]",
      "text/plain": [
       "<Figure size 1440x360 with 1 Axes>"
      ]
     },
     "metadata": {
      "needs_background": "light"
     },
     "output_type": "display_data"
    }
   ],
   "source": [
    "res.sel(impact_category=\"climate change\", value=0, year=2020,powertrain=\"ICEV-d\").to_dataframe(\"val\").unstack()[\"val\"].plot(kind=\"bar\",\n",
    "                                                                                             stacked=True, figsize=(20, 5))\n",
    "\n",
    "plt.plot([0,1,2,3,4,5], [.163,.163,.513,.087,.087,.214,], marker=\"*\", linewidth=0, markersize=25, c=\"red\")\n",
    "plt.ylabel(\"kg CO2/tkm\")"
   ]
  },
  {
   "cell_type": "code",
   "execution_count": null,
   "metadata": {},
   "outputs": [],
   "source": []
  }
 ],
 "metadata": {
  "kernelspec": {
   "display_name": "Python 3",
   "language": "python",
   "name": "python3"
  },
  "language_info": {
   "codemirror_mode": {
    "name": "ipython",
    "version": 3
   },
   "file_extension": ".py",
   "mimetype": "text/x-python",
   "name": "python",
   "nbconvert_exporter": "python",
   "pygments_lexer": "ipython3",
   "version": "3.7.5"
  }
 },
 "nbformat": 4,
 "nbformat_minor": 4
}
