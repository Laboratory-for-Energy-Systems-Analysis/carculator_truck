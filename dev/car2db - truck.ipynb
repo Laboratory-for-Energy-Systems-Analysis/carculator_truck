{
 "cells": [
  {
   "cell_type": "code",
   "execution_count": 1,
   "metadata": {},
   "outputs": [],
   "source": [
    "import numpy as np\n",
    "import pandas as pd"
   ]
  },
  {
   "cell_type": "markdown",
   "metadata": {},
   "source": [
    "# Extract car2db vehicles"
   ]
  },
  {
   "cell_type": "code",
   "execution_count": 2,
   "metadata": {},
   "outputs": [],
   "source": [
    "import mysql.connector\n",
    "import matplotlib.pyplot as plt\n",
    "import pandas as pd\n",
    "\n",
    "cnx = mysql.connector.connect(user='romain', password='Dream.0523',\n",
    "                              host='localhost',\n",
    "                              database='truck')\n",
    "cursor = cnx.cursor()\n",
    "\n",
    "year = 2015\n",
    "\n",
    "query_ID = (\"SELECT DISTINCT ct.id_car_trim \"\n",
    "         \"FROM car_make c \"\n",
    "             \"INNER JOIN car_model cm ON cm.id_car_make = c.id_car_make \"\n",
    "             \"INNER JOIN car_trim ct ON ct.id_car_model = cm.id_car_model \"\n",
    "             \"INNER JOIN car_specification_value csv ON csv.id_car_trim = ct.id_car_trim \"\n",
    "             \"INNER JOIN car_specification  cs ON cs.id_car_specification = csv.id_car_specification \"\n",
    "                \n",
    "        )\n",
    "\n",
    "cursor.execute(query_ID)\n",
    "l_ID = [l[0] for l in cursor.fetchall()]\n",
    "\n",
    "cnx.close()\n",
    "\n",
    "cnx = mysql.connector.connect(user='romain', password='Dream.0523',\n",
    "                              host='localhost',\n",
    "                              database='truck')\n",
    "\n",
    "cursor = cnx.cursor()\n",
    "\n",
    "query = (\"SELECT ct.id_car_trim, ctype.name, c.name, cm.name, ct.name, cs.name, csv.value \"\n",
    "         \"FROM car_make c \"\n",
    "             \"INNER JOIN car_type ctype ON ctype.id_car_type = c.id_car_type \"\n",
    "             \"INNER JOIN car_model cm ON cm.id_car_make = c.id_car_make \"\n",
    "             \"INNER JOIN car_trim ct ON ct.id_car_model = cm.id_car_model \"\n",
    "             \"INNER JOIN car_specification_value csv ON csv.id_car_trim = ct.id_car_trim \"\n",
    "             \"INNER JOIN car_specification  cs ON cs.id_car_specification = csv.id_car_specification \"\n",
    "        \"WHERE  ct.id_car_trim IN (\" + ','.join(map(str, l_ID)) + \")\"\n",
    "        )\n",
    "cursor.execute(query)\n",
    "\n",
    "df = pd.DataFrame( [[ij for ij in i] for i in cursor.fetchall()])\n",
    "df.rename(columns={0:'ID', 1:'Type', 2: 'Make name', 3: 'Model name', 4:'Trim', 5:'Spec', 6:'Spec value'}, inplace=True)\n",
    "\n",
    "cnx.close()\n",
    "\n",
    "df = df.pivot_table(index=['ID', 'Type', 'Make name', 'Model name', 'Trim'], columns='Spec', values='Spec value', aggfunc='first')\n",
    "df['Curb weight'] = df['Curb weight'].astype('float64')\n",
    "df['Curb vehicle weight'] = df['Curb weight'].astype('float64')\n",
    "df['Engine power'] = df['Engine power'].astype('float64')\n",
    "df['Useful volume'] = df['Useful volume'].str.extract('(\\d+)').astype('float64')\n",
    "\n",
    "df['Length'] = df['Length'].str.split(pat=\"-\").str[0]\n",
    "df['Length'] = df['Length'].astype('float64')\n",
    "df[\"The length of the car\"] = df[\"The length of the car\"].str.extract('(\\d+)').astype('float64')\n",
    "\n",
    "df['Tractor width'] = df['Tractor width'].astype('float64')\n",
    "df['Height'] = df['Height'].str.split(pat=\"-\").str[0]\n",
    "df[\"The height of the car\"] = df[\"The height of the car\"].str.extract('(\\d+)').astype('float64')\n",
    "#df['Wheelbase'] = df['Wheelbase'].str.extract('(\\d+)').astype('float64')\n",
    "df['Front track'] = df['Front track'].str.split(pat=\"/\").str[0]\n",
    "df['Front track'] = df['Front track'].astype('float64')\n",
    "\n",
    "df['Rear track'] = df['Rear track'].str.split(pat=\"/\").str[0]\n",
    "df['Rear track'] = df['Rear track'].str.replace(\" \",\"\")\n",
    "df['Rear track'] = df['Rear track'].astype('float64')\n",
    "\n",
    "df['Payload'] = df['Payload'].str.split(pat=\"-\").str[0]\n",
    "df['Payload'] = df['Payload'].str.split(pat=\"(\").str[0]\n",
    "df['Payload'] = df['Payload'].str.split(pat=\"/\").str[0]\n",
    "df['Payload'] = df['Payload'].astype('float64')\n",
    "\n",
    "df[\"The width of the car\"] = df[\"The width of the car\"].str.extract('(\\d+)').astype('float64')\n",
    "\n",
    "df[\"Curb weight of the trailer\"] = df[\"Curb weight of the trailer\"].astype('float64')\n",
    "df[\"Length of the trailer\"] = df[\"Length of the trailer\"].str.split(pat=\"-\").str[0]\n",
    "df[\"Length of the trailer\"] = df[\"Length of the trailer\"].str.split(pat=\"+\").str[0]\n",
    "df[\"Length of the trailer\"] = df[\"Length of the trailer\"].str.replace(\",\",\".\")\n",
    "df[\"Length of the trailer\"] = df[\"Length of the trailer\"].astype('float64')\n",
    "\n",
    "df[\"Fuel tank capacity\"] = df[\"Fuel tank capacity\"].str.split(pat=\"x\").str[0]\n",
    "df[\"Fuel tank capacity\"] = df[\"Fuel tank capacity\"].str.split(pat=\"+\").str[0]\n",
    "df[\"Fuel tank capacity\"] = df[\"Fuel tank capacity\"].str.split(pat=\",\").str[0]\n",
    "df[\"Fuel tank capacity\"] = df[\"Fuel tank capacity\"].str.split(pat=\"(\").str[0]\n",
    "df[\"Fuel tank capacity\"] = df[\"Fuel tank capacity\"].str.split(pat=\"or\").str[0]\n",
    "df[\"Fuel tank capacity\"] = df[\"Fuel tank capacity\"].str.split(pat=\"*\").str[1]\n",
    "df[\"Fuel tank capacity\"] = df[\"Fuel tank capacity\"].astype('float64')\n",
    "\n",
    "df[\"The full weight of the bus\"] = df[\"The full weight of the bus\"].astype('float64')\n",
    "\n",
    "df[\"Gross vehicle weight\"] = df[\"Gross vehicle weight\"].str.extract('(\\d+)').astype('float64')\n",
    "df[\"Gross vehicle weight\"] = df[\"Gross vehicle weight\"].astype(\"float64\")\n",
    "df[\"Payload\"] = df[\"Payload\"].astype(\"float64\")\n",
    "\n",
    "df['Volume'] = (df['The width of the car'] * df['The width of the car'] * df['The length of the car']) / 1e9\n",
    "\n",
    "df = df.reset_index()\n",
    "df.to_excel(\"trucks_db.xlsx\")"
   ]
  },
  {
   "cell_type": "markdown",
   "metadata": {},
   "source": [
    "# Or load the data from an Excel file, if the SQL db is not accessible"
   ]
  },
  {
   "cell_type": "code",
   "execution_count": 14,
   "metadata": {},
   "outputs": [],
   "source": [
    "df = pd.read_excel(\"trucks_db.xlsx\")\n",
    "df_bus = df.loc[df[\"Type\"]==\"Buses\"]\n",
    "df_medium = df.loc[df[\"Type\"]==\"Medium Trucks\"]\n",
    "df_heavy = df.loc[df[\"Type\"]==\"Heavy-Duty Tractors\"]"
   ]
  },
  {
   "cell_type": "code",
   "execution_count": 15,
   "metadata": {},
   "outputs": [
    {
     "data": {
      "text/plain": [
       "Text(0.5, 1.0, 'Buses')"
      ]
     },
     "execution_count": 15,
     "metadata": {},
     "output_type": "execute_result"
    },
    {
     "data": {
      "image/png": "[encoded data removed]",
      "text/plain": [
       "<Figure size 432x288 with 1 Axes>"
      ]
     },
     "metadata": {
      "needs_background": "light"
     },
     "output_type": "display_data"
    }
   ],
   "source": [
    "import numpy as np\n",
    "df_bus.plot(\"Engine power\", \"Curb weight\", kind=\"scatter\")\n",
    "\n",
    "ind = df_bus.loc[(~df_bus[\"Engine power\"].isnull())&(~df_bus[\"Curb weight\"].isnull()),\"Engine power\"]\n",
    "vals = df_bus.loc[(~df_bus[\"Engine power\"].isnull())&(~df_bus[\"Curb weight\"].isnull()),\"Curb weight\"]\n",
    "\n",
    "z = np.polyfit(ind, vals, 2)\n",
    "f = np.poly1d(z)\n",
    "\n",
    "# calculate new x's and y's\n",
    "x_new = np.linspace(100, 450, 50)\n",
    "y_new = f(x_new)\n",
    "\n",
    "plt.plot(x_new, y_new,  linestyle=\"-\", color=\"orange\")\n",
    "        \n",
    "plt.title(\"Buses\")"
   ]
  },
  {
   "cell_type": "code",
   "execution_count": 17,
   "metadata": {},
   "outputs": [
    {
     "data": {
      "text/plain": [
       "Text(0.5, 1.0, 'Buses: curb weight vs. gross weight')"
      ]
     },
     "execution_count": 17,
     "metadata": {},
     "output_type": "execute_result"
    },
    {
     "data": {
      "image/png": "[encoded data removed]",
      "text/plain": [
       "<Figure size 432x288 with 1 Axes>"
      ]
     },
     "metadata": {
      "needs_background": "light"
     },
     "output_type": "display_data"
    }
   ],
   "source": [
    "df_bus.plot(\"Curb weight\", \"The full weight of the bus\", kind=\"scatter\")\n",
    "\n",
    "ind = df_bus.loc[(~df_bus[\"The full weight of the bus\"].isnull())&(~df_bus[\"Curb weight\"].isnull()),\"Curb weight\"]\n",
    "vals = df_bus.loc[(~df_bus[\"The full weight of the bus\"].isnull())&(~df_bus[\"Curb weight\"].isnull()),\"The full weight of the bus\"]\n",
    "\n",
    "z = np.polyfit(ind, vals, 2)\n",
    "f = np.poly1d(z)\n",
    "\n",
    "# calculate new x's and y's\n",
    "x_new = np.linspace(2000, 17500, 50)\n",
    "y_new = f(x_new)\n",
    "\n",
    "plt.plot(x_new, y_new,  linestyle=\"-\", color=\"orange\")\n",
    "\n",
    "plt.title(\"Buses: curb weight vs. gross weight\")"
   ]
  },
  {
   "cell_type": "code",
   "execution_count": 22,
   "metadata": {},
   "outputs": [
    {
     "name": "stdout",
     "output_type": "stream",
     "text": [
      "Unnamed: 0 780\n",
      "ID 780\n",
      "Type 780\n",
      "Make name 780\n",
      "Model name 780\n",
      "Trim 780\n",
      "Amount of gear 406\n",
      "Angle me to ove. lift, not less 35\n",
      "Arrangement of cylinders 602\n",
      "Cab type 547\n",
      "Compression ratio 75\n",
      "Diamètre de braquage 44\n",
      "Drive wheels 559\n",
      "Engine model 638\n",
      "Engine power 739\n",
      "Engine power at rpm 566\n",
      "Engine type 696\n",
      "Environmental standard 621\n",
      "Front brake 107\n",
      "Front track 51\n",
      "Fuel 715\n",
      "Fuel consumption 53\n",
      "Full trailer weight 76\n",
      "Gross vehicle weight 286\n",
      "Ground clearance 57\n",
      "Height of the tractor 197\n",
      "If the rpm with rpm 1\n",
      "Length of the tractor 208\n",
      "Load on fifth wheel 121\n",
      "Maximum speed 226\n",
      "Model transmission 275\n",
      "Number of cylinders 621\n",
      "Potencia 644\n",
      "Pressurization 409\n",
      "Rear brake 105\n",
      "Rear track 37\n",
      "Rims, the dimension 23\n",
      "The load on the front axle 215\n",
      "The load on the rear axle (trolley) 190\n",
      "Torque 602\n",
      "Torque at rpm 555\n",
      "Total train weight 225\n",
      "Tractor width 202\n",
      "Transmission type 468\n",
      "Type front suspension 342\n",
      "Type rear suspension 343\n",
      "Tyre dimension 276\n",
      "Wheel arrangement 92\n",
      "Wheelbase 339\n"
     ]
    }
   ],
   "source": [
    "for i,p in zip(df_heavy.count().index,\n",
    "               df_heavy.count()):\n",
    "    if p!= 0: print(i,p) "
   ]
  },
  {
   "cell_type": "code",
   "execution_count": 21,
   "metadata": {},
   "outputs": [
    {
     "data": {
      "text/plain": [
       "<matplotlib.axes._subplots.AxesSubplot at 0x1db375cdc08>"
      ]
     },
     "execution_count": 21,
     "metadata": {},
     "output_type": "execute_result"
    },
    {
     "data": {
      "image/png": "[encoded data removed]",
      "text/plain": [
       "<Figure size 432x288 with 1 Axes>"
      ]
     },
     "metadata": {
      "needs_background": "light"
     },
     "output_type": "display_data"
    }
   ],
   "source": [
    "df_heavy[\"Environmental standard\"].hist()"
   ]
  },
  {
   "cell_type": "code",
   "execution_count": 24,
   "metadata": {},
   "outputs": [
    {
     "data": {
      "text/plain": [
       "Text(0.5, 1.0, 'Trucks (incl.trailer): Driving mass vs. payload')"
      ]
     },
     "execution_count": 24,
     "metadata": {},
     "output_type": "execute_result"
    },
    {
     "data": {
      "image/png": "[encoded data removed]",
      "text/plain": [
       "<Figure size 432x288 with 1 Axes>"
      ]
     },
     "metadata": {
      "needs_background": "light"
     },
     "output_type": "display_data"
    }
   ],
   "source": [
    "df_medium.plot(\"Gross vehicle weight\", \"Payload\", kind=\"scatter\")\n",
    "plt.title(\"Trucks (incl.trailer): Driving mass vs. payload\")"
   ]
  },
  {
   "cell_type": "markdown",
   "metadata": {},
   "source": [
    "# Trucks"
   ]
  },
  {
   "cell_type": "markdown",
   "metadata": {},
   "source": [
    "Curb weight"
   ]
  },
  {
   "cell_type": "code",
   "execution_count": 35,
   "metadata": {},
   "outputs": [],
   "source": [
    "df_medium = df_medium.sort_values('Gross vehicle weight')\n",
    "bins =  [3000, 4000, 6000, 8000, 15000, 20000, 24000, 28000, 38000, 42000, 55000, 65000]\n",
    "ind = np.digitize(df_medium['Gross vehicle weight'],bins)"
   ]
  },
  {
   "cell_type": "markdown",
   "metadata": {},
   "source": [
    "Curb weight = Gross weight - payload"
   ]
  },
  {
   "cell_type": "code",
   "execution_count": 36,
   "metadata": {},
   "outputs": [],
   "source": [
    "df_medium[\"Curb weight\"] = df_medium[\"Gross vehicle weight\"] - df_medium[\"Payload\"]"
   ]
  },
  {
   "cell_type": "markdown",
   "metadata": {},
   "source": [
    "Median and quantiles of **curb weight** by gross weight interval (3.5, 7.5, 18, 26, 40 and 60t)"
   ]
  },
  {
   "cell_type": "code",
   "execution_count": 38,
   "metadata": {},
   "outputs": [
    {
     "data": {
      "text/html": [
       "<div>\n",
       "<style scoped>\n",
       "    .dataframe tbody tr th:only-of-type {\n",
       "        vertical-align: middle;\n",
       "    }\n",
       "\n",
       "    .dataframe tbody tr th {\n",
       "        vertical-align: top;\n",
       "    }\n",
       "\n",
       "    .dataframe thead th {\n",
       "        text-align: right;\n",
       "    }\n",
       "</style>\n",
       "<table border=\"1\" class=\"dataframe\">\n",
       "  <thead>\n",
       "    <tr style=\"text-align: right;\">\n",
       "      <th></th>\n",
       "      <th>count</th>\n",
       "      <th>mean</th>\n",
       "      <th>std</th>\n",
       "      <th>min</th>\n",
       "      <th>25%</th>\n",
       "      <th>50%</th>\n",
       "      <th>75%</th>\n",
       "      <th>max</th>\n",
       "    </tr>\n",
       "  </thead>\n",
       "  <tbody>\n",
       "    <tr>\n",
       "      <td>1</td>\n",
       "      <td>6.0</td>\n",
       "      <td>1970.000000</td>\n",
       "      <td>336.749165</td>\n",
       "      <td>1550.0</td>\n",
       "      <td>1850.00</td>\n",
       "      <td>1925.0</td>\n",
       "      <td>2000.00</td>\n",
       "      <td>2570.0</td>\n",
       "    </tr>\n",
       "    <tr>\n",
       "      <td>3</td>\n",
       "      <td>39.0</td>\n",
       "      <td>3650.897436</td>\n",
       "      <td>722.365332</td>\n",
       "      <td>2500.0</td>\n",
       "      <td>3200.00</td>\n",
       "      <td>3510.0</td>\n",
       "      <td>3900.00</td>\n",
       "      <td>5750.0</td>\n",
       "    </tr>\n",
       "    <tr>\n",
       "      <td>5</td>\n",
       "      <td>135.0</td>\n",
       "      <td>8259.866667</td>\n",
       "      <td>1776.983150</td>\n",
       "      <td>-4650.0</td>\n",
       "      <td>7820.00</td>\n",
       "      <td>8300.0</td>\n",
       "      <td>9200.00</td>\n",
       "      <td>13050.0</td>\n",
       "    </tr>\n",
       "    <tr>\n",
       "      <td>7</td>\n",
       "      <td>114.0</td>\n",
       "      <td>10128.026316</td>\n",
       "      <td>1835.826912</td>\n",
       "      <td>-1000.0</td>\n",
       "      <td>9600.00</td>\n",
       "      <td>10000.0</td>\n",
       "      <td>10800.00</td>\n",
       "      <td>15100.0</td>\n",
       "    </tr>\n",
       "    <tr>\n",
       "      <td>9</td>\n",
       "      <td>56.0</td>\n",
       "      <td>14588.482143</td>\n",
       "      <td>2665.561841</td>\n",
       "      <td>10780.0</td>\n",
       "      <td>12900.00</td>\n",
       "      <td>13780.0</td>\n",
       "      <td>15887.50</td>\n",
       "      <td>25500.0</td>\n",
       "    </tr>\n",
       "    <tr>\n",
       "      <td>11</td>\n",
       "      <td>2.0</td>\n",
       "      <td>21312.500000</td>\n",
       "      <td>3270.368863</td>\n",
       "      <td>19000.0</td>\n",
       "      <td>20156.25</td>\n",
       "      <td>21312.5</td>\n",
       "      <td>22468.75</td>\n",
       "      <td>23625.0</td>\n",
       "    </tr>\n",
       "  </tbody>\n",
       "</table>\n",
       "</div>"
      ],
      "text/plain": [
       "    count          mean          std      min       25%      50%       75%  \\\n",
       "1     6.0   1970.000000   336.749165   1550.0   1850.00   1925.0   2000.00   \n",
       "3    39.0   3650.897436   722.365332   2500.0   3200.00   3510.0   3900.00   \n",
       "5   135.0   8259.866667  1776.983150  -4650.0   7820.00   8300.0   9200.00   \n",
       "7   114.0  10128.026316  1835.826912  -1000.0   9600.00  10000.0  10800.00   \n",
       "9    56.0  14588.482143  2665.561841  10780.0  12900.00  13780.0  15887.50   \n",
       "11    2.0  21312.500000  3270.368863  19000.0  20156.25  21312.5  22468.75   \n",
       "\n",
       "        max  \n",
       "1    2570.0  \n",
       "3    5750.0  \n",
       "5   13050.0  \n",
       "7   15100.0  \n",
       "9   25500.0  \n",
       "11  23625.0  "
      ]
     },
     "execution_count": 38,
     "metadata": {},
     "output_type": "execute_result"
    }
   ],
   "source": [
    "df_medium.groupby(ind)[\"Curb weight\"].describe().iloc[[1,3, 5, 7, 9, 11]]"
   ]
  },
  {
   "cell_type": "markdown",
   "metadata": {},
   "source": [
    "Power-to-mass ratio"
   ]
  },
  {
   "cell_type": "code",
   "execution_count": 39,
   "metadata": {},
   "outputs": [],
   "source": [
    "df_medium[\"power-to-mass ratio\"] = ((df_medium[\"Engine power\"]/df_medium[\"Curb weight\"])*1000)"
   ]
  },
  {
   "cell_type": "code",
   "execution_count": 41,
   "metadata": {},
   "outputs": [
    {
     "data": {
      "text/html": [
       "<div>\n",
       "<style scoped>\n",
       "    .dataframe tbody tr th:only-of-type {\n",
       "        vertical-align: middle;\n",
       "    }\n",
       "\n",
       "    .dataframe tbody tr th {\n",
       "        vertical-align: top;\n",
       "    }\n",
       "\n",
       "    .dataframe thead th {\n",
       "        text-align: right;\n",
       "    }\n",
       "</style>\n",
       "<table border=\"1\" class=\"dataframe\">\n",
       "  <thead>\n",
       "    <tr style=\"text-align: right;\">\n",
       "      <th></th>\n",
       "      <th>count</th>\n",
       "      <th>mean</th>\n",
       "      <th>std</th>\n",
       "      <th>min</th>\n",
       "      <th>25%</th>\n",
       "      <th>50%</th>\n",
       "      <th>75%</th>\n",
       "      <th>max</th>\n",
       "    </tr>\n",
       "  </thead>\n",
       "  <tbody>\n",
       "    <tr>\n",
       "      <td>1</td>\n",
       "      <td>6.0</td>\n",
       "      <td>62.740523</td>\n",
       "      <td>22.591168</td>\n",
       "      <td>31.128405</td>\n",
       "      <td>50.000000</td>\n",
       "      <td>66.135135</td>\n",
       "      <td>70.270270</td>\n",
       "      <td>96.774194</td>\n",
       "    </tr>\n",
       "    <tr>\n",
       "      <td>3</td>\n",
       "      <td>37.0</td>\n",
       "      <td>38.763038</td>\n",
       "      <td>11.464745</td>\n",
       "      <td>21.217391</td>\n",
       "      <td>30.830040</td>\n",
       "      <td>38.157895</td>\n",
       "      <td>42.500000</td>\n",
       "      <td>71.633238</td>\n",
       "    </tr>\n",
       "    <tr>\n",
       "      <td>5</td>\n",
       "      <td>134.0</td>\n",
       "      <td>34.671471</td>\n",
       "      <td>12.829842</td>\n",
       "      <td>-49.462366</td>\n",
       "      <td>26.592292</td>\n",
       "      <td>34.683240</td>\n",
       "      <td>43.771980</td>\n",
       "      <td>63.510393</td>\n",
       "    </tr>\n",
       "    <tr>\n",
       "      <td>7</td>\n",
       "      <td>111.0</td>\n",
       "      <td>30.401043</td>\n",
       "      <td>35.771151</td>\n",
       "      <td>-330.000000</td>\n",
       "      <td>26.000000</td>\n",
       "      <td>29.411765</td>\n",
       "      <td>39.278351</td>\n",
       "      <td>57.066667</td>\n",
       "    </tr>\n",
       "    <tr>\n",
       "      <td>9</td>\n",
       "      <td>56.0</td>\n",
       "      <td>28.372121</td>\n",
       "      <td>4.876363</td>\n",
       "      <td>15.450980</td>\n",
       "      <td>25.000000</td>\n",
       "      <td>28.168024</td>\n",
       "      <td>33.048631</td>\n",
       "      <td>37.847866</td>\n",
       "    </tr>\n",
       "    <tr>\n",
       "      <td>11</td>\n",
       "      <td>2.0</td>\n",
       "      <td>21.678920</td>\n",
       "      <td>5.217743</td>\n",
       "      <td>17.989418</td>\n",
       "      <td>19.834169</td>\n",
       "      <td>21.678920</td>\n",
       "      <td>23.523670</td>\n",
       "      <td>25.368421</td>\n",
       "    </tr>\n",
       "  </tbody>\n",
       "</table>\n",
       "</div>"
      ],
      "text/plain": [
       "    count       mean        std         min        25%        50%        75%  \\\n",
       "1     6.0  62.740523  22.591168   31.128405  50.000000  66.135135  70.270270   \n",
       "3    37.0  38.763038  11.464745   21.217391  30.830040  38.157895  42.500000   \n",
       "5   134.0  34.671471  12.829842  -49.462366  26.592292  34.683240  43.771980   \n",
       "7   111.0  30.401043  35.771151 -330.000000  26.000000  29.411765  39.278351   \n",
       "9    56.0  28.372121   4.876363   15.450980  25.000000  28.168024  33.048631   \n",
       "11    2.0  21.678920   5.217743   17.989418  19.834169  21.678920  23.523670   \n",
       "\n",
       "          max  \n",
       "1   96.774194  \n",
       "3   71.633238  \n",
       "5   63.510393  \n",
       "7   57.066667  \n",
       "9   37.847866  \n",
       "11  25.368421  "
      ]
     },
     "execution_count": 41,
     "metadata": {},
     "output_type": "execute_result"
    }
   ],
   "source": [
    "df_medium.groupby(ind)[\"power-to-mass ratio\"].describe().iloc[[1,3, 5, 7, 9, 11]]"
   ]
  },
  {
   "cell_type": "markdown",
   "metadata": {},
   "source": [
    "Frontal area = width * height (we assume a flat front!)"
   ]
  },
  {
   "cell_type": "code",
   "execution_count": 42,
   "metadata": {},
   "outputs": [],
   "source": [
    "df_medium[\"frontal area\"] = (df_medium[\"The width of the car\"]*df_medium[\"The height of the car\"]) / 1e6"
   ]
  },
  {
   "cell_type": "code",
   "execution_count": 44,
   "metadata": {},
   "outputs": [
    {
     "data": {
      "text/html": [
       "<div>\n",
       "<style scoped>\n",
       "    .dataframe tbody tr th:only-of-type {\n",
       "        vertical-align: middle;\n",
       "    }\n",
       "\n",
       "    .dataframe tbody tr th {\n",
       "        vertical-align: top;\n",
       "    }\n",
       "\n",
       "    .dataframe thead th {\n",
       "        text-align: right;\n",
       "    }\n",
       "</style>\n",
       "<table border=\"1\" class=\"dataframe\">\n",
       "  <thead>\n",
       "    <tr style=\"text-align: right;\">\n",
       "      <th></th>\n",
       "      <th>count</th>\n",
       "      <th>mean</th>\n",
       "      <th>std</th>\n",
       "      <th>min</th>\n",
       "      <th>25%</th>\n",
       "      <th>50%</th>\n",
       "      <th>75%</th>\n",
       "      <th>max</th>\n",
       "    </tr>\n",
       "  </thead>\n",
       "  <tbody>\n",
       "    <tr>\n",
       "      <td>1</td>\n",
       "      <td>8.0</td>\n",
       "      <td>4.427534</td>\n",
       "      <td>0.892136</td>\n",
       "      <td>3.80550</td>\n",
       "      <td>3.905288</td>\n",
       "      <td>4.088088</td>\n",
       "      <td>4.544550</td>\n",
       "      <td>6.48515</td>\n",
       "    </tr>\n",
       "    <tr>\n",
       "      <td>3</td>\n",
       "      <td>52.0</td>\n",
       "      <td>5.598084</td>\n",
       "      <td>0.862128</td>\n",
       "      <td>4.14904</td>\n",
       "      <td>4.982588</td>\n",
       "      <td>5.315825</td>\n",
       "      <td>6.449936</td>\n",
       "      <td>7.58740</td>\n",
       "    </tr>\n",
       "    <tr>\n",
       "      <td>5</td>\n",
       "      <td>171.0</td>\n",
       "      <td>7.743828</td>\n",
       "      <td>1.025424</td>\n",
       "      <td>5.63500</td>\n",
       "      <td>7.012500</td>\n",
       "      <td>7.509750</td>\n",
       "      <td>8.007000</td>\n",
       "      <td>10.96100</td>\n",
       "    </tr>\n",
       "    <tr>\n",
       "      <td>7</td>\n",
       "      <td>117.0</td>\n",
       "      <td>8.048134</td>\n",
       "      <td>0.697277</td>\n",
       "      <td>6.70215</td>\n",
       "      <td>7.750000</td>\n",
       "      <td>7.862500</td>\n",
       "      <td>8.237500</td>\n",
       "      <td>10.00000</td>\n",
       "    </tr>\n",
       "    <tr>\n",
       "      <td>9</td>\n",
       "      <td>53.0</td>\n",
       "      <td>8.108979</td>\n",
       "      <td>0.453158</td>\n",
       "      <td>6.86250</td>\n",
       "      <td>7.937500</td>\n",
       "      <td>8.045250</td>\n",
       "      <td>8.440500</td>\n",
       "      <td>8.92500</td>\n",
       "    </tr>\n",
       "    <tr>\n",
       "      <td>11</td>\n",
       "      <td>2.0</td>\n",
       "      <td>7.871250</td>\n",
       "      <td>0.047730</td>\n",
       "      <td>7.83750</td>\n",
       "      <td>7.854375</td>\n",
       "      <td>7.871250</td>\n",
       "      <td>7.888125</td>\n",
       "      <td>7.90500</td>\n",
       "    </tr>\n",
       "  </tbody>\n",
       "</table>\n",
       "</div>"
      ],
      "text/plain": [
       "    count      mean       std      min       25%       50%       75%       max\n",
       "1     8.0  4.427534  0.892136  3.80550  3.905288  4.088088  4.544550   6.48515\n",
       "3    52.0  5.598084  0.862128  4.14904  4.982588  5.315825  6.449936   7.58740\n",
       "5   171.0  7.743828  1.025424  5.63500  7.012500  7.509750  8.007000  10.96100\n",
       "7   117.0  8.048134  0.697277  6.70215  7.750000  7.862500  8.237500  10.00000\n",
       "9    53.0  8.108979  0.453158  6.86250  7.937500  8.045250  8.440500   8.92500\n",
       "11    2.0  7.871250  0.047730  7.83750  7.854375  7.871250  7.888125   7.90500"
      ]
     },
     "execution_count": 44,
     "metadata": {},
     "output_type": "execute_result"
    }
   ],
   "source": [
    "df_medium.groupby(ind)[\"frontal area\"].describe().iloc[[1,3, 5, 7, 9, 11]]"
   ]
  },
  {
   "cell_type": "markdown",
   "metadata": {},
   "source": [
    "Payload"
   ]
  },
  {
   "cell_type": "code",
   "execution_count": 45,
   "metadata": {},
   "outputs": [
    {
     "data": {
      "text/html": [
       "<div>\n",
       "<style scoped>\n",
       "    .dataframe tbody tr th:only-of-type {\n",
       "        vertical-align: middle;\n",
       "    }\n",
       "\n",
       "    .dataframe tbody tr th {\n",
       "        vertical-align: top;\n",
       "    }\n",
       "\n",
       "    .dataframe thead th {\n",
       "        text-align: right;\n",
       "    }\n",
       "</style>\n",
       "<table border=\"1\" class=\"dataframe\">\n",
       "  <thead>\n",
       "    <tr style=\"text-align: right;\">\n",
       "      <th></th>\n",
       "      <th>count</th>\n",
       "      <th>mean</th>\n",
       "      <th>std</th>\n",
       "      <th>min</th>\n",
       "      <th>25%</th>\n",
       "      <th>50%</th>\n",
       "      <th>75%</th>\n",
       "      <th>max</th>\n",
       "    </tr>\n",
       "  </thead>\n",
       "  <tbody>\n",
       "    <tr>\n",
       "      <td>1</td>\n",
       "      <td>6.0</td>\n",
       "      <td>1558.333333</td>\n",
       "      <td>278.238507</td>\n",
       "      <td>1100.0</td>\n",
       "      <td>1500.0</td>\n",
       "      <td>1575.0</td>\n",
       "      <td>1650.0</td>\n",
       "      <td>1950.0</td>\n",
       "    </tr>\n",
       "    <tr>\n",
       "      <td>3</td>\n",
       "      <td>39.0</td>\n",
       "      <td>3531.923077</td>\n",
       "      <td>747.184730</td>\n",
       "      <td>2100.0</td>\n",
       "      <td>3000.0</td>\n",
       "      <td>3600.0</td>\n",
       "      <td>4000.0</td>\n",
       "      <td>5000.0</td>\n",
       "    </tr>\n",
       "    <tr>\n",
       "      <td>5</td>\n",
       "      <td>135.0</td>\n",
       "      <td>9343.000000</td>\n",
       "      <td>2171.864200</td>\n",
       "      <td>5000.0</td>\n",
       "      <td>8010.0</td>\n",
       "      <td>9400.0</td>\n",
       "      <td>10900.0</td>\n",
       "      <td>20650.0</td>\n",
       "    </tr>\n",
       "    <tr>\n",
       "      <td>7</td>\n",
       "      <td>114.0</td>\n",
       "      <td>15443.289474</td>\n",
       "      <td>1983.127595</td>\n",
       "      <td>11000.0</td>\n",
       "      <td>14312.5</td>\n",
       "      <td>15000.0</td>\n",
       "      <td>16400.0</td>\n",
       "      <td>25000.0</td>\n",
       "    </tr>\n",
       "    <tr>\n",
       "      <td>9</td>\n",
       "      <td>56.0</td>\n",
       "      <td>25873.303571</td>\n",
       "      <td>2749.396674</td>\n",
       "      <td>15900.0</td>\n",
       "      <td>24600.0</td>\n",
       "      <td>25300.0</td>\n",
       "      <td>28100.0</td>\n",
       "      <td>29400.0</td>\n",
       "    </tr>\n",
       "    <tr>\n",
       "      <td>11</td>\n",
       "      <td>2.0</td>\n",
       "      <td>38000.000000</td>\n",
       "      <td>2828.427125</td>\n",
       "      <td>36000.0</td>\n",
       "      <td>37000.0</td>\n",
       "      <td>38000.0</td>\n",
       "      <td>39000.0</td>\n",
       "      <td>40000.0</td>\n",
       "    </tr>\n",
       "  </tbody>\n",
       "</table>\n",
       "</div>"
      ],
      "text/plain": [
       "    count          mean          std      min      25%      50%      75%  \\\n",
       "1     6.0   1558.333333   278.238507   1100.0   1500.0   1575.0   1650.0   \n",
       "3    39.0   3531.923077   747.184730   2100.0   3000.0   3600.0   4000.0   \n",
       "5   135.0   9343.000000  2171.864200   5000.0   8010.0   9400.0  10900.0   \n",
       "7   114.0  15443.289474  1983.127595  11000.0  14312.5  15000.0  16400.0   \n",
       "9    56.0  25873.303571  2749.396674  15900.0  24600.0  25300.0  28100.0   \n",
       "11    2.0  38000.000000  2828.427125  36000.0  37000.0  38000.0  39000.0   \n",
       "\n",
       "        max  \n",
       "1    1950.0  \n",
       "3    5000.0  \n",
       "5   20650.0  \n",
       "7   25000.0  \n",
       "9   29400.0  \n",
       "11  40000.0  "
      ]
     },
     "execution_count": 45,
     "metadata": {},
     "output_type": "execute_result"
    }
   ],
   "source": [
    "df_medium.groupby(ind)[\"Payload\"].describe().iloc[[1,3, 5, 7, 9, 11]]"
   ]
  },
  {
   "cell_type": "markdown",
   "metadata": {},
   "source": [
    "Fuel tank capacity"
   ]
  },
  {
   "cell_type": "code",
   "execution_count": null,
   "metadata": {},
   "outputs": [],
   "source": []
  },
  {
   "cell_type": "code",
   "execution_count": 62,
   "metadata": {},
   "outputs": [
    {
     "data": {
      "text/plain": [
       "Spec\n",
       "Curb weight of the trailer    0.0\n",
       "Curb weight                   0.0\n",
       "Curb vehicle weight           0.0\n",
       "dtype: float64"
      ]
     },
     "execution_count": 62,
     "metadata": {},
     "output_type": "execute_result"
    }
   ],
   "source": [
    "df_trucks[[\"Curb weight of the trailer\", \"Curb weight\", \"Curb vehicle weight\", ]].sum()"
   ]
  },
  {
   "cell_type": "code",
   "execution_count": 64,
   "metadata": {},
   "outputs": [
    {
     "data": {
      "text/plain": [
       "<matplotlib.axes._subplots.AxesSubplot at 0x22bc0896648>"
      ]
     },
     "execution_count": 64,
     "metadata": {},
     "output_type": "execute_result"
    },
    {
     "data": {
      "image/png": "[encoded data removed]",
      "text/plain": [
       "<Figure size 432x288 with 1 Axes>"
      ]
     },
     "metadata": {
      "needs_background": "light"
     },
     "output_type": "display_data"
    }
   ],
   "source": [
    "df_trucks.plot(\"Gross vehicle weight\", \"Payload\", kind=\"scatter\")"
   ]
  },
  {
   "cell_type": "code",
   "execution_count": 55,
   "metadata": {},
   "outputs": [
    {
     "data": {
      "text/plain": [
       "['ABS',\n",
       " 'Acceleration time to 60 km/h',\n",
       " 'Acceleration to 100 km/h',\n",
       " 'Amount of gear',\n",
       " 'Angle me to ove. lift, not less',\n",
       " 'Appointment',\n",
       " 'Arrangement of cylinders',\n",
       " 'Back track width',\n",
       " 'Base',\n",
       " 'Body type',\n",
       " 'Cab type',\n",
       " 'Class bus',\n",
       " \"Compartments'\",\n",
       " 'Compression ratio',\n",
       " 'Cross-section',\n",
       " 'Curb vehicle weight',\n",
       " 'Curb weight',\n",
       " 'Curb weight of the trailer',\n",
       " 'Diamètre de braquage',\n",
       " 'Door width',\n",
       " 'Drive wheels',\n",
       " 'Engine layout',\n",
       " 'Engine model',\n",
       " 'Engine power',\n",
       " 'Engine power at rpm',\n",
       " 'Engine type',\n",
       " 'Environmental standard',\n",
       " 'Front brake',\n",
       " 'Front overhang',\n",
       " 'Front track',\n",
       " 'Fuel',\n",
       " 'Fuel consumption',\n",
       " 'Fuel consumption at 60 km/h, l/100 km',\n",
       " 'Fuel consumption mixed cycle',\n",
       " 'Fuel tank capacity',\n",
       " 'Full trailer weight',\n",
       " 'Gross vehicle weight',\n",
       " 'Ground clearance',\n",
       " 'Height',\n",
       " 'Height of loading platform',\n",
       " 'Height of the tractor',\n",
       " 'Height with awning',\n",
       " 'Height without awning',\n",
       " 'If the rpm with rpm',\n",
       " 'Length',\n",
       " 'Length of cargo area (platform)',\n",
       " 'Length of loading platform',\n",
       " 'Length of platform',\n",
       " 'Length of the tractor',\n",
       " 'Length of the trailer',\n",
       " 'Load on fifth wheel',\n",
       " 'Loading height',\n",
       " 'Maximum speed',\n",
       " 'Model transmission',\n",
       " 'Number of Euro pallets (800x1200),',\n",
       " 'Number of axes',\n",
       " 'Number of cylinders',\n",
       " 'Number of gear (mechanical gearbox)',\n",
       " 'Number of gears (automatic transmission)',\n",
       " 'Number of places',\n",
       " 'Outer turning radius',\n",
       " 'Parking brake',\n",
       " 'Payload',\n",
       " 'Platform description',\n",
       " 'Platform width',\n",
       " 'Potencia',\n",
       " 'Pressurization',\n",
       " 'Pump',\n",
       " 'Quantity of doors',\n",
       " 'Rear brake',\n",
       " 'Rear overhang',\n",
       " 'Rear track',\n",
       " 'Recommended tractor',\n",
       " 'Rims, the dimension',\n",
       " 'Service brake',\n",
       " 'Servo',\n",
       " 'Support device',\n",
       " 'The Luggage compartment',\n",
       " 'The area of the platform',\n",
       " 'The ceiling height in the cabin',\n",
       " 'The full weight of the bus',\n",
       " 'The height of a step above the level of the road',\n",
       " 'The height of self-suction',\n",
       " 'The height of the car',\n",
       " 'The height of the cargo compartment (sides of the platform)',\n",
       " 'The height of the fifth wheel',\n",
       " 'The length of the car',\n",
       " 'The load on the Central axle',\n",
       " 'The load on the fifth wheel of the tractor',\n",
       " 'The load on the front axle',\n",
       " 'The load on the rear axle',\n",
       " 'The load on the rear axle (trolley)',\n",
       " 'The mass on the cart (axis)',\n",
       " 'The maximum transport speed',\n",
       " 'The number of valves per cylinder',\n",
       " 'The number of wheels + spare',\n",
       " 'The tank material',\n",
       " 'The total number of seats (including boarding)',\n",
       " 'The type of braking system',\n",
       " 'The volume of the cargo compartment',\n",
       " 'The volume of the engine at rpm',\n",
       " 'The volume of the tank/bodywork',\n",
       " 'The width of the car',\n",
       " 'The width of the passage between the seats',\n",
       " 'Tire size',\n",
       " 'Torque',\n",
       " 'Torque at rpm',\n",
       " 'Total mass',\n",
       " 'Total train weight',\n",
       " 'Total weight with trailer',\n",
       " 'Tractor width',\n",
       " 'Transmission type',\n",
       " 'Type brake',\n",
       " 'Type front suspension',\n",
       " 'Type of suspension',\n",
       " 'Type of trailer',\n",
       " 'Type rear suspension',\n",
       " 'Type steering',\n",
       " 'Tyre dimension',\n",
       " 'Useful volume',\n",
       " 'Wheel arrangement',\n",
       " 'Wheelbase',\n",
       " 'Width of loading platform',\n",
       " 'Width of the trailer',\n",
       " 'Width the cargo compartment (platform)',\n",
       " 'With turnover',\n",
       " 'Volume']"
      ]
     },
     "execution_count": 55,
     "metadata": {},
     "output_type": "execute_result"
    }
   ],
   "source": [
    "list(df.columns)"
   ]
  },
  {
   "cell_type": "code",
   "execution_count": 56,
   "metadata": {},
   "outputs": [
    {
     "data": {
      "text/plain": [
       "ID     Type           Make name  Model name  Trim\n",
       "79922  Medium Trucks  Star       266         266     150.0\n",
       "Name: Fuel tank capacity, dtype: float64"
      ]
     },
     "execution_count": 56,
     "metadata": {},
     "output_type": "execute_result"
    }
   ],
   "source": [
    "df.loc[~df[\"Fuel tank capacity\"].isnull(), \"Fuel tank capacity\"]"
   ]
  },
  {
   "cell_type": "code",
   "execution_count": 12,
   "metadata": {},
   "outputs": [
    {
     "data": {
      "text/plain": [
       "Text(0.5, 1.0, 'Trucks (incl.trailer): Driving mass vs. engine power')"
      ]
     },
     "execution_count": 12,
     "metadata": {},
     "output_type": "execute_result"
    },
    {
     "data": {
      "image/png": "[encoded data removed]",
      "text/plain": [
       "<Figure size 432x288 with 1 Axes>"
      ]
     },
     "metadata": {
      "needs_background": "light"
     },
     "output_type": "display_data"
    }
   ],
   "source": [
    "df_trucks.plot(\"Gross vehicle weight\", \"Engine power\", kind=\"scatter\")\n",
    "plt.title(\"Trucks (incl.trailer): Driving mass vs. engine power\")"
   ]
  },
  {
   "cell_type": "code",
   "execution_count": 156,
   "metadata": {},
   "outputs": [
    {
     "data": {
      "text/plain": [
       "<matplotlib.axes._subplots.AxesSubplot object at 0x000001971B81D308>"
      ]
     },
     "execution_count": 156,
     "metadata": {},
     "output_type": "execute_result"
    },
    {
     "data": {
      "image/png": "[encoded data removed]",
      "text/plain": [
       "<Figure size 432x288 with 1 Axes>"
      ]
     },
     "metadata": {
      "needs_background": "light"
     },
     "output_type": "display_data"
    }
   ],
   "source": [
    "df_2.loc[(df_2[\"Type\"] == \"Buses\")&(~df_2[\"Length\"].isnull()),'Length'].hist()"
   ]
  },
  {
   "cell_type": "code",
   "execution_count": 55,
   "metadata": {},
   "outputs": [
    {
     "data": {
      "text/plain": [
       "260"
      ]
     },
     "execution_count": 55,
     "metadata": {},
     "output_type": "execute_result"
    }
   ],
   "source": [
    "len(df.loc[(~df[\"Curb weight\"].isnull())&(~df[\"Curb vehicle weight\"].isnull()),:])"
   ]
  },
  {
   "cell_type": "code",
   "execution_count": null,
   "metadata": {},
   "outputs": [],
   "source": []
  }
 ],
 "metadata": {
  "kernelspec": {
   "display_name": "Python 3",
   "language": "python",
   "name": "python3"
  },
  "language_info": {
   "codemirror_mode": {
    "name": "ipython",
    "version": 3
   },
   "file_extension": ".py",
   "mimetype": "text/x-python",
   "name": "python",
   "nbconvert_exporter": "python",
   "pygments_lexer": "ipython3",
   "version": "3.7.5"
  }
 },
 "nbformat": 4,
 "nbformat_minor": 4
}
