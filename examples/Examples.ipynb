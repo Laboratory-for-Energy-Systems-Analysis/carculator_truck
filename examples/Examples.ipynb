{
 "cells": [
  {
   "cell_type": "markdown",
   "metadata": {},
   "source": [
    "# Examples on how to use `carculator_truck`"
   ]
  },
  {
   "cell_type": "markdown",
   "metadata": {},
   "source": [
    "Github: https://github.com/romainsacchi/carculator-truck/\n",
    "\n",
    "Publication:\n",
    "\n",
    "*Does size matter? The influence of size, load factor, range autonomy and application type on the Life Cycle Assessment of current and future trucks.*\n",
    "\n",
    "Romain Sacchi, Christian Bauer, Brian Cox\n",
    "\n",
    "Submitted to Environmental Science and Technology ([link](https://pubs.acs.org/doi/10.1021/acs.est.0c07773))"
   ]
  },
  {
   "cell_type": "markdown",
   "metadata": {},
   "source": [
    "# Truck model"
   ]
  },
  {
   "cell_type": "markdown",
   "metadata": {},
   "source": [
    "Import the library"
   ]
  },
  {
   "cell_type": "code",
   "execution_count": 1,
   "metadata": {},
   "outputs": [],
   "source": [
    "from carculator_truck import *\n",
    "import matplotlib.pyplot as plt"
   ]
  },
  {
   "cell_type": "markdown",
   "metadata": {},
   "source": [
    "Load the default vehicles parameters"
   ]
  },
  {
   "cell_type": "code",
   "execution_count": 2,
   "metadata": {},
   "outputs": [],
   "source": [
    "tip = TruckInputParameters()"
   ]
  },
  {
   "cell_type": "markdown",
   "metadata": {},
   "source": [
    "Define the calculation mode: static or stochastic(number of iterations)\n",
    "* `static`: the model use one value for each parameter: the most likely value\n",
    "* `stochastic`: the model uses a range of values pseudo-randomly generated on the basis of a probability distribution. The number of values generated is given by the integer argument passed to `.stochastic()`"
   ]
  },
  {
   "cell_type": "code",
   "execution_count": 3,
   "metadata": {},
   "outputs": [],
   "source": [
    "tip.static()"
   ]
  },
  {
   "cell_type": "markdown",
   "metadata": {},
   "source": [
    "Fill-in the array that will be used to create the car models"
   ]
  },
  {
   "cell_type": "code",
   "execution_count": 4,
   "metadata": {},
   "outputs": [],
   "source": [
    "dcts, array = fill_xarray_from_input_parameters(tip)"
   ]
  },
  {
   "cell_type": "markdown",
   "metadata": {},
   "source": [
    "We can check the powertrains, sizes and yaers considered"
   ]
  },
  {
   "cell_type": "code",
   "execution_count": 5,
   "metadata": {},
   "outputs": [
    {
     "data": {
      "text/plain": [
       "['BEV', 'FCEV', 'HEV-d', 'ICEV-d', 'ICEV-g', 'PHEV-c-d', 'PHEV-d', 'PHEV-e']"
      ]
     },
     "execution_count": 5,
     "metadata": {},
     "output_type": "execute_result"
    }
   ],
   "source": [
    "list(array.powertrain.values)"
   ]
  },
  {
   "cell_type": "markdown",
   "metadata": {},
   "source": [
    "2000, 2010, 2020, 2030, 2040 and 2050 are the default years"
   ]
  },
  {
   "cell_type": "code",
   "execution_count": 6,
   "metadata": {},
   "outputs": [
    {
     "data": {
      "text/plain": [
       "[2000, 2010, 2020, 2030, 2040, 2050]"
      ]
     },
     "execution_count": 6,
     "metadata": {},
     "output_type": "execute_result"
    }
   ],
   "source": [
    "list(array.year.values)"
   ]
  },
  {
   "cell_type": "markdown",
   "metadata": {},
   "source": [
    "And there are several size classes, refering to the gross vehicle weight (note that you cannot call the \"size\" dimension as previsouly done with \"powertrain\" and \"year\", because \"size\" also happens to be a property of the array object)."
   ]
  },
  {
   "cell_type": "code",
   "execution_count": 7,
   "metadata": {},
   "outputs": [
    {
     "data": {
      "text/plain": [
       "['18t', '26t', '3.5t', '32t', '40t', '60t', '7.5t']"
      ]
     },
     "execution_count": 7,
     "metadata": {},
     "output_type": "execute_result"
    }
   ],
   "source": [
    "list(array.coords[\"size\"].values)"
   ]
  },
  {
   "cell_type": "markdown",
   "metadata": {},
   "source": [
    "## Interpolate between default years"
   ]
  },
  {
   "cell_type": "markdown",
   "metadata": {},
   "source": [
    "It is possible to derive truck models for other years by interpolating between two years. It is not advised to extrapolate beyond 2050 though."
   ]
  },
  {
   "cell_type": "code",
   "execution_count": 8,
   "metadata": {},
   "outputs": [
    {
     "data": {
      "text/plain": [
       "[2018, 2022, 2035]"
      ]
     },
     "execution_count": 8,
     "metadata": {},
     "output_type": "execute_result"
    }
   ],
   "source": [
    "array = array.interp(year=[2018, 2022, 2035],  kwargs={'fill_value': 'extrapolate'})\n",
    "list(array.year.values)"
   ]
  },
  {
   "cell_type": "markdown",
   "metadata": {},
   "source": [
    "## Driving cycles"
   ]
  },
  {
   "cell_type": "markdown",
   "metadata": {},
   "source": [
    "We can create now the truck models, using the default parameters, while specifying a driving cycle. Three driving cycles are available, and default range autonomy values are associated to each of these driving cycles:\n",
    "\n",
    "* Urban delivery (150 km)\n",
    "* Regional delivery (400 km)\n",
    "* Long haul (800 km)\n",
    "\n",
    "If not driving cycle is specified, \"Urban delivery\" is chosen."
   ]
  },
  {
   "cell_type": "code",
   "execution_count": 9,
   "metadata": {},
   "outputs": [],
   "source": [
    "tm = TruckModel(array, cycle='Long haul')"
   ]
  },
  {
   "cell_type": "markdown",
   "metadata": {},
   "source": [
    "To build the vehicles and claculate their energy consumption, use the `set_all()` method."
   ]
  },
  {
   "cell_type": "code",
   "execution_count": 10,
   "metadata": {},
   "outputs": [
    {
     "name": "stdout",
     "output_type": "stream",
     "text": [
      "Finding solutions for trucks...\n",
      "Long haul driving cycle is selected. \n",
      "Vehicles will be designed to achieve a minimal range of 800 km.\n",
      "\n",
      "\n",
      "'-' vehicle with driving mass superior to the permissible gross weight.\n",
      "'/' vehicle not available for the specified year.\n",
      "+-------------------+-------+--------+-------+------+------+------+-------+\n",
      "| Payload (in tons) |  18t  |  26t   |  3.5t | 32t  | 40t  | 60t  |  7.5t |\n",
      "+-------------------+-------+--------+-------+------+------+------+-------+\n",
      "|     BEV, 2018     |   /   |   /    |   /   |  /   |  /   |  /   |   /   |\n",
      "|     BEV, 2022     | -3.0- |  7.1   |  -0.6 | 10.8 | 13.8 | 19.3 |  0.0  |\n",
      "|     BEV, 2035     |  7.4  | -12.0- | -1.0- | 13.8 | 13.8 | 19.3 | -2.0- |\n",
      "|     FCEV, 2018    |   /   |   /    |   /   |  /   |  /   |  /   |   /   |\n",
      "|     FCEV, 2022    |  7.4  | -13.0- |  1.1  | 13.8 | 13.8 | 19.3 |  2.6  |\n",
      "|     FCEV, 2035    |  7.4  |  13.4  |  1.1  | 13.8 | 13.8 | 19.3 |  2.6  |\n",
      "|    HEV-d, 2018    |   /   |   /    |   /   |  /   |  /   |  /   |   /   |\n",
      "|    HEV-d, 2022    |  7.4  |  13.4  |  1.1  | 13.8 | 13.8 | 19.3 |  2.6  |\n",
      "|    HEV-d, 2035    |  7.4  |  13.4  |  1.1  | 13.8 | 13.8 | 19.3 |  2.6  |\n",
      "|    ICEV-d, 2018   |  7.4  | -13.0- |  1.1  | 13.8 | 13.8 | 19.3 |  2.6  |\n",
      "|    ICEV-d, 2022   |  7.4  |  13.4  |  1.1  | 13.8 | 13.8 | 19.3 |  2.6  |\n",
      "|    ICEV-d, 2035   |  7.4  |  13.4  |  1.1  | 13.8 | 13.8 | 19.3 |  2.6  |\n",
      "|    ICEV-g, 2018   |  7.4  | -13.0- | -1.0- | 13.8 | 13.8 | 19.3 |  2.6  |\n",
      "|    ICEV-g, 2022   |  7.4  | -13.0- |  1.1  | 13.8 | 13.8 | 19.3 |  2.6  |\n",
      "|    ICEV-g, 2035   |  7.4  |  13.4  |  1.1  | 13.8 | 13.8 | 19.3 |  2.6  |\n",
      "|    PHEV-d, 2018   |   /   |   /    |   /   |  /   |  /   |  /   |   /   |\n",
      "|    PHEV-d, 2022   |  7.4  |  13.4  |  1.1  | 13.8 | 13.8 | 19.3 |  2.6  |\n",
      "|    PHEV-d, 2035   |  7.4  |  13.4  |  1.1  | 13.8 | 13.8 | 19.3 |  2.6  |\n",
      "+-------------------+-------+--------+-------+------+------+------+-------+\n"
     ]
    }
   ],
   "source": [
    "tm.set_all()"
   ]
  },
  {
   "cell_type": "markdown",
   "metadata": {},
   "source": [
    "## Narrow down scope of analysis"
   ]
  },
  {
   "cell_type": "markdown",
   "metadata": {},
   "source": [
    "If you do not wish to analyze all these trucks, you can also narrow down the scope.\n",
    "Here for example, we narrow the scope down to 40t electric and diesel trucks in 2020."
   ]
  },
  {
   "cell_type": "code",
   "execution_count": 11,
   "metadata": {},
   "outputs": [
    {
     "name": "stdout",
     "output_type": "stream",
     "text": [
      "Finding solutions for trucks...\n",
      "Long haul driving cycle is selected. \n",
      "Vehicles will be designed to achieve a minimal range of 800 km.\n",
      "\n",
      "\n",
      "'-' vehicle with driving mass superior to the permissible gross weight.\n",
      "'/' vehicle not available for the specified year.\n",
      "+-------------------+--------+\n",
      "| Payload (in tons) |  40t   |\n",
      "+-------------------+--------+\n",
      "|     BEV, 2020     | -13.0- |\n",
      "|    ICEV-d, 2020   |  13.8  |\n",
      "+-------------------+--------+\n"
     ]
    }
   ],
   "source": [
    "from carculator_truck import *\n",
    "import matplotlib.pyplot as plt\n",
    "tip = TruckInputParameters()\n",
    "tip.static()\n",
    "\n",
    "new_scope = {\n",
    "    \"powertrain\": [\"BEV\", \"ICEV-d\"],\n",
    "    \"size\": [\"40t\"],\n",
    "    \"year\": [2020]\n",
    "}\n",
    "dcts, array = fill_xarray_from_input_parameters(tip, scope=new_scope)\n",
    "tm = TruckModel(array, cycle='Long haul')\n",
    "tm.set_all()"
   ]
  },
  {
   "cell_type": "markdown",
   "metadata": {},
   "source": [
    "## Plot driving cycle"
   ]
  },
  {
   "cell_type": "markdown",
   "metadata": {},
   "source": [
    "We can easily plot the driving cycle, to have a idea...\n",
    "Here are the first 100 seconds of the VECTO's \"Long haul\" driving cycle, for the truck sizes."
   ]
  },
  {
   "cell_type": "code",
   "execution_count": 12,
   "metadata": {},
   "outputs": [
    {
     "data": {
      "text/plain": [
       "Text(0.5, 0, 'second')"
      ]
     },
     "execution_count": 12,
     "metadata": {},
     "output_type": "execute_result"
    },
    {
     "data": {
      "image/png": "[encoded data removed]",
      "text/plain": [
       "<Figure size 640x480 with 1 Axes>"
      ]
     },
     "metadata": {},
     "output_type": "display_data"
    }
   ],
   "source": [
    "import matplotlib.pyplot as plt\n",
    "from carculator_truck import *\n",
    "%matplotlib inline\n",
    "sizes = [\"3.5t\", \"7.5t\", \"18t\", \"26t\", \"40t\", \"60t\"]\n",
    "plt.plot(get_driving_cycle(size=sizes, name=\"Long haul\")[:100])\n",
    "plt.legend(sizes)\n",
    "plt.ylabel(\"km/h\")\n",
    "plt.xlabel(\"second\")"
   ]
  },
  {
   "cell_type": "markdown",
   "metadata": {},
   "source": [
    "## Using own driving cycle"
   ]
  },
  {
   "cell_type": "code",
   "execution_count": 13,
   "metadata": {},
   "outputs": [
    {
     "data": {
      "text/plain": [
       "Text(0.5, 0, 'second of driving')"
      ]
     },
     "execution_count": 13,
     "metadata": {},
     "output_type": "execute_result"
    },
    {
     "data": {
      "image/png": "[encoded data removed]",
      "text/plain": [
       "<Figure size 640x480 with 1 Axes>"
      ]
     },
     "metadata": {},
     "output_type": "display_data"
    }
   ],
   "source": [
    "import numpy as np\n",
    "import matplotlib.pyplot as plt\n",
    "from carculator import *\n",
    "x = np.linspace(-np.pi, np.pi, 200)\n",
    "cycle = np.sin(x)*20 + 50\n",
    "cycle = np.repeat(cycle, 5)\n",
    "plt.plot(np.arange(0,1000), cycle)\n",
    "\n",
    "plt.ylabel('km/h')\n",
    "plt.xlabel('second of driving')"
   ]
  },
  {
   "cell_type": "code",
   "execution_count": 14,
   "metadata": {},
   "outputs": [
    {
     "name": "stdout",
     "output_type": "stream",
     "text": [
      "Finding solutions for trucks...\n",
      "A custom driving cycle is selected. \n",
      "Vehicles will be designed to achieve a minimal range of 800 km.\n",
      "\n",
      "\n",
      "'-' vehicle with driving mass superior to the permissible gross weight.\n",
      "'/' vehicle not available for the specified year.\n",
      "+-------------------+-----+\n",
      "| Payload (in tons) | 40t |\n",
      "+-------------------+-----+\n",
      "|     BEV, 2020     | 8.8 |\n",
      "|    ICEV-d, 2020   | 8.8 |\n",
      "+-------------------+-----+\n"
     ]
    }
   ],
   "source": [
    "from carculator_truck import *\n",
    "import matplotlib.pyplot as plt\n",
    "tip = TruckInputParameters()\n",
    "tip.static()\n",
    "\n",
    "new_scope = {\n",
    "    \"powertrain\": [\"BEV\", \"ICEV-d\"],\n",
    "    \"size\": [\"40t\"],\n",
    "    \"year\": [2020]\n",
    "}\n",
    "dcts, array = fill_xarray_from_input_parameters(tip, scope=new_scope)\n",
    "tm = TruckModel(array, cycle=cycle)\n",
    "tm.set_all()"
   ]
  },
  {
   "cell_type": "markdown",
   "metadata": {},
   "source": [
    "## Override input parameters"
   ]
  },
  {
   "cell_type": "markdown",
   "metadata": {},
   "source": [
    "Input parameters can be modified in `array` before passing it to `TruckModel`."
   ]
  },
  {
   "cell_type": "markdown",
   "metadata": {},
   "source": [
    "## Specific range autonomy"
   ]
  },
  {
   "cell_type": "markdown",
   "metadata": {},
   "source": [
    "For a given driving cycle, a different range autonomy can be given than the default one."
   ]
  },
  {
   "cell_type": "code",
   "execution_count": 15,
   "metadata": {},
   "outputs": [
    {
     "name": "stdout",
     "output_type": "stream",
     "text": [
      "Finding solutions for trucks...\n",
      "Urban delivery driving cycle is selected. \n",
      "Vehicles will be designed to achieve a minimal range of 600 km.\n",
      "\n",
      "\n",
      "'-' vehicle with driving mass superior to the permissible gross weight.\n",
      "'/' vehicle not available for the specified year.\n",
      "+-------------------+-----+\n",
      "| Payload (in tons) | 40t |\n",
      "+-------------------+-----+\n",
      "|     BEV, 2020     | 8.8 |\n",
      "|    ICEV-d, 2020   | 8.8 |\n",
      "+-------------------+-----+\n"
     ]
    }
   ],
   "source": [
    "tm = TruckModel(array, cycle='Urban delivery', target_range=600)\n",
    "tm.set_all()"
   ]
  },
  {
   "cell_type": "markdown",
   "metadata": {},
   "source": [
    "### Override lifetime"
   ]
  },
  {
   "cell_type": "code",
   "execution_count": 16,
   "metadata": {},
   "outputs": [
    {
     "name": "stdout",
     "output_type": "stream",
     "text": [
      "Finding solutions for trucks...\n",
      "A custom driving cycle is selected. \n",
      "Vehicles will be designed to achieve a minimal range of 800 km.\n",
      "\n",
      "\n",
      "'-' vehicle with driving mass superior to the permissible gross weight.\n",
      "'/' vehicle not available for the specified year.\n",
      "+-------------------+-----+\n",
      "| Payload (in tons) | 40t |\n",
      "+-------------------+-----+\n",
      "|     BEV, 2020     | 8.8 |\n",
      "|    ICEV-d, 2020   | 8.8 |\n",
      "+-------------------+-----+\n",
      "<xarray.DataArray (size: 1, powertrain: 2, year: 1, value: 1)>\n",
      "array([[[[2000000.]],\n",
      "\n",
      "        [[2000000.]]]], dtype=float32)\n",
      "Coordinates:\n",
      "  * size        (size) <U3 '40t'\n",
      "  * powertrain  (powertrain) <U6 'BEV' 'ICEV-d'\n",
      "    parameter   <U64 'lifetime kilometers'\n",
      "  * year        (year) int64 2020\n",
      "  * value       (value) int64 0\n"
     ]
    }
   ],
   "source": [
    "from carculator_truck import *\n",
    "import matplotlib.pyplot as plt\n",
    "tip = TruckInputParameters()\n",
    "tip.static()\n",
    "\n",
    "new_scope = {\n",
    "    \"powertrain\": [\"BEV\", \"ICEV-d\"],\n",
    "    \"size\": [\"40t\"],\n",
    "    \"year\": [2020]\n",
    "}\n",
    "dcts, array = fill_xarray_from_input_parameters(tip, scope=new_scope)\n",
    "\n",
    "########################\n",
    "array.loc[dict(parameter=\"lifetime kilometers\")] = 2000000\n",
    "########################\n",
    "tm = TruckModel(array, cycle=cycle)\n",
    "tm.set_all()\n",
    "print(tm[\"lifetime kilometers\"])"
   ]
  },
  {
   "cell_type": "markdown",
   "metadata": {},
   "source": [
    "## Override calculated parameters"
   ]
  },
  {
   "cell_type": "markdown",
   "metadata": {},
   "source": [
    "### Override cargo mass\n",
    "To override the cargo mass, this needs to be specified in `TruckModel`, in kilograms.\n",
    "If you give a payload that exceeds the load carrying capacity, it will be trimmed to the load carrying capacity."
   ]
  },
  {
   "cell_type": "code",
   "execution_count": 17,
   "metadata": {},
   "outputs": [
    {
     "name": "stdout",
     "output_type": "stream",
     "text": [
      "Finding solutions for trucks...\n",
      "Urban delivery driving cycle is selected. \n",
      "Vehicles will be designed to achieve a minimal range of 150 km.\n",
      "\n",
      "\n",
      "'-' vehicle with driving mass superior to the permissible gross weight.\n",
      "'/' vehicle not available for the specified year.\n",
      "+-------------------+-----+\n",
      "| Payload (in tons) | 40t |\n",
      "+-------------------+-----+\n",
      "|     BEV, 2020     | 6.0 |\n",
      "|    ICEV-d, 2020   | 8.0 |\n",
      "+-------------------+-----+\n"
     ]
    }
   ],
   "source": [
    "from carculator_truck import *\n",
    "import matplotlib.pyplot as plt\n",
    "tip = TruckInputParameters()\n",
    "tip.static()\n",
    "\n",
    "new_scope = {\n",
    "    \"powertrain\": [\"BEV\", \"ICEV-d\"],\n",
    "    \"size\": [\"40t\"],\n",
    "    \"year\": [2020]\n",
    "}\n",
    "dcts, array = fill_xarray_from_input_parameters(tip, scope=new_scope)\n",
    "\n",
    "tm = TruckModel(\n",
    "    array=array,\n",
    "    payload={\n",
    "        (\"ICEV-d\", \"40t\", 2020): 8000,\n",
    "        (\"BEV\", \"40t\", 2020): 6000,    \n",
    "    }\n",
    ")\n",
    "\n",
    "tm.set_all()"
   ]
  },
  {
   "cell_type": "markdown",
   "metadata": {},
   "source": [
    "### Override annual mileage\n",
    "To override the annual mileage, this needs to be specified in TruckModel, in kilometers per year.\n",
    "This, together with the `lifetime kilometers` value will define the truck's lifeimte (in years)."
   ]
  },
  {
   "cell_type": "code",
   "execution_count": 18,
   "metadata": {},
   "outputs": [
    {
     "name": "stdout",
     "output_type": "stream",
     "text": [
      "Finding solutions for trucks...\n",
      "Urban delivery driving cycle is selected. \n",
      "Vehicles will be designed to achieve a minimal range of 150 km.\n",
      "\n",
      "\n",
      "'-' vehicle with driving mass superior to the permissible gross weight.\n",
      "'/' vehicle not available for the specified year.\n",
      "+-------------------+-----+\n",
      "| Payload (in tons) | 40t |\n",
      "+-------------------+-----+\n",
      "|     BEV, 2020     | 8.8 |\n",
      "|    ICEV-d, 2020   | 8.8 |\n",
      "+-------------------+-----+\n",
      "<xarray.DataArray (size: 1, powertrain: 2, year: 1, value: 1)>\n",
      "array([[[[13000.]],\n",
      "\n",
      "        [[15000.]]]], dtype=float32)\n",
      "Coordinates:\n",
      "  * size        (size) <U3 '40t'\n",
      "  * powertrain  (powertrain) <U6 'BEV' 'ICEV-d'\n",
      "    parameter   <U64 'kilometers per year'\n",
      "  * year        (year) int64 2020\n",
      "  * value       (value) int64 0\n"
     ]
    }
   ],
   "source": [
    "from carculator_truck import *\n",
    "import matplotlib.pyplot as plt\n",
    "tip = TruckInputParameters()\n",
    "tip.static()\n",
    "\n",
    "new_scope = {\n",
    "    \"powertrain\": [\"BEV\", \"ICEV-d\"],\n",
    "    \"size\": [\"40t\"],\n",
    "    \"year\": [2020]\n",
    "}\n",
    "dcts, array = fill_xarray_from_input_parameters(tip, scope=new_scope)\n",
    "\n",
    "tm = TruckModel(\n",
    "    array=array,\n",
    "    annual_mileage={\n",
    "        (\"ICEV-d\", \"40t\", 2020): 15000,\n",
    "        (\"BEV\", \"40t\", 2020): 13000,    \n",
    "    }\n",
    ")\n",
    "\n",
    "tm.set_all()\n",
    "\n",
    "print(tm[\"kilometers per year\"])"
   ]
  },
  {
   "cell_type": "markdown",
   "metadata": {},
   "source": [
    "### Override power\n",
    "The engine power of trucks can be overriden by passing the values, in kilowatts, to `TruckModel`, instead of being defined by the truck's mass and a mass-to-power ratio."
   ]
  },
  {
   "cell_type": "code",
   "execution_count": 19,
   "metadata": {},
   "outputs": [
    {
     "name": "stdout",
     "output_type": "stream",
     "text": [
      "Finding solutions for trucks...\n",
      "Urban delivery driving cycle is selected. \n",
      "Vehicles will be designed to achieve a minimal range of 150 km.\n",
      "\n",
      "\n",
      "'-' vehicle with driving mass superior to the permissible gross weight.\n",
      "'/' vehicle not available for the specified year.\n",
      "+-------------------+-----+\n",
      "| Payload (in tons) | 40t |\n",
      "+-------------------+-----+\n",
      "|     BEV, 2020     | 8.8 |\n",
      "|    ICEV-d, 2020   | 8.8 |\n",
      "+-------------------+-----+\n",
      "<xarray.DataArray (size: 1, powertrain: 2, parameter: 2, year: 1, value: 1)>\n",
      "array([[[[[  0.]],\n",
      "\n",
      "         [[450.]]],\n",
      "\n",
      "\n",
      "        [[[260.]],\n",
      "\n",
      "         [[  0.]]]]], dtype=float32)\n",
      "Coordinates:\n",
      "  * size        (size) <U3 '40t'\n",
      "  * powertrain  (powertrain) <U6 'BEV' 'ICEV-d'\n",
      "  * parameter   (parameter) <U64 'combustion power' 'electric power'\n",
      "  * year        (year) int64 2020\n",
      "  * value       (value) int64 0\n"
     ]
    }
   ],
   "source": [
    "from carculator_truck import *\n",
    "import matplotlib.pyplot as plt\n",
    "tip = TruckInputParameters()\n",
    "tip.static()\n",
    "\n",
    "new_scope = {\n",
    "    \"powertrain\": [\"BEV\", \"ICEV-d\"],\n",
    "    \"size\": [\"40t\"],\n",
    "    \"year\": [2020]\n",
    "}\n",
    "dcts, array = fill_xarray_from_input_parameters(tip, scope=new_scope)\n",
    "\n",
    "tm = TruckModel(\n",
    "    array=array,\n",
    "    power={\n",
    "        (\"ICEV-d\", \"40t\", 2020): 260,\n",
    "        (\"BEV\", \"40t\", 2020): 450,    \n",
    "    }\n",
    ")\n",
    "\n",
    "tm.set_all()\n",
    "\n",
    "print(tm[[\"combustion power\", \"electric power\"]])"
   ]
  },
  {
   "cell_type": "markdown",
   "metadata": {},
   "source": [
    "### Override fuel consumption\n",
    "The energy consumption of trucks can be overriden. The values need to be passed to `TruckModel`, in kilojoules per vkm."
   ]
  },
  {
   "cell_type": "code",
   "execution_count": 20,
   "metadata": {},
   "outputs": [
    {
     "name": "stdout",
     "output_type": "stream",
     "text": [
      "Finding solutions for trucks...\n",
      "Urban delivery driving cycle is selected. \n",
      "Vehicles will be designed to achieve a minimal range of 150 km.\n",
      "\n",
      "Overriding TtW energy for ICEV-d 40t 2020 with 13000 kj/km\n",
      "Overriding TtW energy for BEV 40t 2020 with 4500 kj/km\n",
      "Overriding TtW energy for ICEV-d 40t 2020 with 13000 kj/km\n",
      "Overriding TtW energy for BEV 40t 2020 with 4500 kj/km\n",
      "\n",
      "'-' vehicle with driving mass superior to the permissible gross weight.\n",
      "'/' vehicle not available for the specified year.\n",
      "+-------------------+-----+\n",
      "| Payload (in tons) | 40t |\n",
      "+-------------------+-----+\n",
      "|     BEV, 2020     | 8.8 |\n",
      "|    ICEV-d, 2020   | 8.8 |\n",
      "+-------------------+-----+\n",
      "<xarray.DataArray (size: 1, powertrain: 2, year: 1, value: 1)>\n",
      "array([[[[ 4500.]],\n",
      "\n",
      "        [[13000.]]]], dtype=float32)\n",
      "Coordinates:\n",
      "  * size        (size) <U3 '40t'\n",
      "  * powertrain  (powertrain) <U6 'BEV' 'ICEV-d'\n",
      "    parameter   <U64 'TtW energy'\n",
      "  * year        (year) int64 2020\n",
      "  * value       (value) int64 0\n"
     ]
    }
   ],
   "source": [
    "from carculator_truck import *\n",
    "import matplotlib.pyplot as plt\n",
    "tip = TruckInputParameters()\n",
    "tip.static()\n",
    "\n",
    "new_scope = {\n",
    "    \"powertrain\": [\"BEV\", \"ICEV-d\"],\n",
    "    \"size\": [\"40t\"],\n",
    "    \"year\": [2020]\n",
    "}\n",
    "dcts, array = fill_xarray_from_input_parameters(tip, scope=new_scope)\n",
    "\n",
    "tm = TruckModel(\n",
    "    array=array,\n",
    "    energy_consumption={\n",
    "        (\"ICEV-d\", \"40t\", 2020): 13000, # kj per km,\n",
    "        (\"BEV\", \"40t\", 2020): 4500 # kj per km,    \n",
    "    }\n",
    ")\n",
    "\n",
    "tm.set_all()\n",
    "\n",
    "print(tm[\"TtW energy\"])"
   ]
  },
  {
   "cell_type": "markdown",
   "metadata": {},
   "source": [
    "### Override vehicle mass\n",
    "The target mass, in kilograms, needs to be passed to `TruckModel`. The model will increment/decrement the use of light-weighting materials until the curb mass reaches the target mass. The `curb mass` is not always ending up precisely on the target mass, but generally close to."
   ]
  },
  {
   "cell_type": "code",
   "execution_count": 21,
   "metadata": {},
   "outputs": [
    {
     "name": "stdout",
     "output_type": "stream",
     "text": [
      "Finding solutions for trucks...\n",
      "Urban delivery driving cycle is selected. \n",
      "Vehicles will be designed to achieve a minimal range of 150 km.\n",
      "\n",
      "\n",
      "'-' vehicle with driving mass superior to the permissible gross weight.\n",
      "'/' vehicle not available for the specified year.\n",
      "+-------------------+-----+\n",
      "| Payload (in tons) | 40t |\n",
      "+-------------------+-----+\n",
      "|     BEV, 2020     | 8.8 |\n",
      "|    ICEV-d, 2020   | 8.8 |\n",
      "+-------------------+-----+\n",
      "<xarray.DataArray (size: 1, powertrain: 2, year: 1, value: 1)>\n",
      "array([[[[16049.838]],\n",
      "\n",
      "        [[13000.026]]]], dtype=float32)\n",
      "Coordinates:\n",
      "  * size        (size) <U3 '40t'\n",
      "  * powertrain  (powertrain) <U6 'BEV' 'ICEV-d'\n",
      "    parameter   <U64 'curb mass'\n",
      "  * year        (year) int64 2020\n",
      "  * value       (value) int64 0\n"
     ]
    }
   ],
   "source": [
    "from carculator_truck import *\n",
    "import matplotlib.pyplot as plt\n",
    "tip = TruckInputParameters()\n",
    "tip.static()\n",
    "\n",
    "new_scope = {\n",
    "    \"powertrain\": [\"BEV\", \"ICEV-d\"],\n",
    "    \"size\": [\"40t\"],\n",
    "    \"year\": [2020]\n",
    "}\n",
    "dcts, array = fill_xarray_from_input_parameters(tip, scope=new_scope)\n",
    "\n",
    "tm = TruckModel(\n",
    "    array=array,\n",
    "    target_mass={\n",
    "        (\"ICEV-d\", \"40t\", 2020): 13000, # kj per km,\n",
    "        (\"BEV\", \"40t\", 2020): 16000 # kj per km,    \n",
    "    }\n",
    ")\n",
    "\n",
    "tm.set_all()\n",
    "\n",
    "print(tm[\"curb mass\"])"
   ]
  },
  {
   "cell_type": "markdown",
   "metadata": {},
   "source": [
    "### Override battery capacity\n",
    "You cannot set the battery capacity (in kWh), because it is defined by the electric consumption of the vehicle and its target range autonomy,"
   ]
  },
  {
   "cell_type": "markdown",
   "metadata": {},
   "source": [
    "### Select battery chemistry\n",
    "The user can change the chemistry of the battery.\n",
    "Options are: NMC, LFP, NCA and LTO.\n",
    "Note that these battery types have different energy densities, and will result in a different battery mass to satisfy a same range autonomy (see documentation about energy storage).\n",
    "The user can also specifiy a manufacture location, which will define the energy mix to use for its manufacture later at teh inventory building step."
   ]
  },
  {
   "cell_type": "code",
   "execution_count": 22,
   "metadata": {},
   "outputs": [
    {
     "name": "stdout",
     "output_type": "stream",
     "text": [
      "Finding solutions for trucks...\n",
      "Urban delivery driving cycle is selected. \n",
      "Vehicles will be designed to achieve a minimal range of 150 km.\n",
      "\n",
      "\n",
      "'-' vehicle with driving mass superior to the permissible gross weight.\n",
      "'/' vehicle not available for the specified year.\n",
      "+-------------------+-----+\n",
      "| Payload (in tons) | 40t |\n",
      "+-------------------+-----+\n",
      "|     BEV, 2020     | 8.8 |\n",
      "+-------------------+-----+\n"
     ]
    },
    {
     "data": {
      "text/html": [
       "<div>\n",
       "<style scoped>\n",
       "    .dataframe tbody tr th:only-of-type {\n",
       "        vertical-align: middle;\n",
       "    }\n",
       "\n",
       "    .dataframe tbody tr th {\n",
       "        vertical-align: top;\n",
       "    }\n",
       "\n",
       "    .dataframe thead th {\n",
       "        text-align: right;\n",
       "    }\n",
       "</style>\n",
       "<table border=\"1\" class=\"dataframe\">\n",
       "  <thead>\n",
       "    <tr style=\"text-align: right;\">\n",
       "      <th></th>\n",
       "      <th></th>\n",
       "      <th></th>\n",
       "      <th></th>\n",
       "      <th></th>\n",
       "      <th>val</th>\n",
       "    </tr>\n",
       "    <tr>\n",
       "      <th>size</th>\n",
       "      <th>powertrain</th>\n",
       "      <th>parameter</th>\n",
       "      <th>year</th>\n",
       "      <th>value</th>\n",
       "      <th></th>\n",
       "    </tr>\n",
       "  </thead>\n",
       "  <tbody>\n",
       "    <tr>\n",
       "      <th rowspan=\"6\" valign=\"top\">40t</th>\n",
       "      <th rowspan=\"6\" valign=\"top\">BEV</th>\n",
       "      <th>energy battery mass</th>\n",
       "      <th>2020</th>\n",
       "      <th>0</th>\n",
       "      <td>1650.515259</td>\n",
       "    </tr>\n",
       "    <tr>\n",
       "      <th>battery cell mass</th>\n",
       "      <th>2020</th>\n",
       "      <th>0</th>\n",
       "      <td>990.309204</td>\n",
       "    </tr>\n",
       "    <tr>\n",
       "      <th>battery BoP mass</th>\n",
       "      <th>2020</th>\n",
       "      <th>0</th>\n",
       "      <td>660.206055</td>\n",
       "    </tr>\n",
       "    <tr>\n",
       "      <th>battery cell mass share</th>\n",
       "      <th>2020</th>\n",
       "      <th>0</th>\n",
       "      <td>0.600000</td>\n",
       "    </tr>\n",
       "    <tr>\n",
       "      <th>electric energy stored</th>\n",
       "      <th>2020</th>\n",
       "      <th>0</th>\n",
       "      <td>227.771118</td>\n",
       "    </tr>\n",
       "    <tr>\n",
       "      <th>battery cell energy density</th>\n",
       "      <th>2020</th>\n",
       "      <th>0</th>\n",
       "      <td>0.230000</td>\n",
       "    </tr>\n",
       "  </tbody>\n",
       "</table>\n",
       "</div>"
      ],
      "text/plain": [
       "                                                                val\n",
       "size powertrain parameter                   year value             \n",
       "40t  BEV        energy battery mass         2020 0      1650.515259\n",
       "                battery cell mass           2020 0       990.309204\n",
       "                battery BoP mass            2020 0       660.206055\n",
       "                battery cell mass share     2020 0         0.600000\n",
       "                electric energy stored      2020 0       227.771118\n",
       "                battery cell energy density 2020 0         0.230000"
      ]
     },
     "execution_count": 22,
     "metadata": {},
     "output_type": "execute_result"
    }
   ],
   "source": [
    "from carculator_truck import *\n",
    "import matplotlib.pyplot as plt\n",
    "tip = TruckInputParameters()\n",
    "tip.static()\n",
    "\n",
    "new_scope = {\n",
    "    \"powertrain\": [\"BEV\",],\n",
    "    \"size\": [\"40t\"],\n",
    "    \"year\": [2020]\n",
    "}\n",
    "dcts, array = fill_xarray_from_input_parameters(tip, scope=new_scope)\n",
    "\n",
    "tm = TruckModel(\n",
    "    array=array,\n",
    "    energy_storage={\n",
    "        \"electric\": {\n",
    "            (\"BEV\", \"40t\", 2020): \"NCA\"\n",
    "        },\n",
    "        \"origin\": \"CN\"\n",
    "    }\n",
    ")\n",
    "\n",
    "tm.set_all()\n",
    "\n",
    "tm[[\"energy battery mass\", \"battery cell mass\", \"battery BoP mass\", \"battery cell mass share\", \"electric energy stored\", \"battery cell energy density\"]].to_dataframe(\"val\")"
   ]
  },
  {
   "cell_type": "markdown",
   "metadata": {},
   "source": [
    "## Select country\n",
    "The country of use can be specified -- if not, Switzerland is used.\n",
    "It will affect a number of aspects, such as the sulfur content in fuel, the electricity mix, etc.\n",
    "It has to be given as the ISO alpha-2 country code."
   ]
  },
  {
   "cell_type": "code",
   "execution_count": 23,
   "metadata": {},
   "outputs": [
    {
     "name": "stdout",
     "output_type": "stream",
     "text": [
      "Finding solutions for trucks...\n",
      "Urban delivery driving cycle is selected. \n",
      "Vehicles will be designed to achieve a minimal range of 150 km.\n",
      "\n",
      "\n",
      "'-' vehicle with driving mass superior to the permissible gross weight.\n",
      "'/' vehicle not available for the specified year.\n",
      "+-------------------+-----+\n",
      "| Payload (in tons) | 40t |\n",
      "+-------------------+-----+\n",
      "|     BEV, 2020     | 8.8 |\n",
      "+-------------------+-----+\n"
     ]
    }
   ],
   "source": [
    "from carculator_truck import *\n",
    "import matplotlib.pyplot as plt\n",
    "tip = TruckInputParameters()\n",
    "tip.static()\n",
    "\n",
    "new_scope = {\n",
    "    \"powertrain\": [\"BEV\",],\n",
    "    \"size\": [\"40t\"],\n",
    "    \"year\": [2020]\n",
    "}\n",
    "dcts, array = fill_xarray_from_input_parameters(tip, scope=new_scope)\n",
    "\n",
    "tm = TruckModel(\n",
    "    array=array,\n",
    "    country=\"FR\"\n",
    ")\n",
    "\n",
    "tm.set_all()"
   ]
  },
  {
   "cell_type": "markdown",
   "metadata": {},
   "source": [
    "## Select fuel blend"
   ]
  },
  {
   "cell_type": "markdown",
   "metadata": {},
   "source": [
    "`TruckModel` can also receive arguments relating to a fuel blend for each year for a specific vehicle, or for all of them. Fuel blends are specified as a dictionary.\n",
    "\n",
    "Available fuels for fuel blends are:\n",
    "* ICEV-d\n",
    "    * diesel\n",
    "    * biodiesel - cooking oil\n",
    "    * biodiesel - algae\n",
    "    * synthetic diesel - economic allocation\n",
    "    * synthetic diesel - energy allocation\n",
    "* ICEV-g\n",
    "    * cng\n",
    "    * biogas - sewage sludge\n",
    "    * biogas - biowaste\n",
    "    * syngas\n",
    "* FCEV\n",
    "    * electrolysis\n",
    "    * smr - natural gas\n",
    "    * smr - natural gas with CCS\n",
    "    * smr - biogas\n",
    "    * smr - biogas with CCS\n",
    "    * atr - natural gas\n",
    "    * atr - natural gas with CCS\n",
    "    * atr - biogas\n",
    "    * atr - biogas with CCS\n",
    "    * coal gasification\n",
    "    * wood gasification\n",
    "    * wood gasification with CCS\n",
    "    * wood gasification with EF\n",
    "    * wood gasification with EF with CCS\n",
    "    \n",
    "Note: for BEV trucks, a custom electricity mix can be defined at a later stage. Also, if `electrolysis` is chosen as a fuel for FCEV, or if a synthetic fuel is chosen for ICEV-d or ICEV-g (`synthetic diesel`, `syngas`), the electricity mix defined will be used to produce the necessary hydrogen via electrolysis. If no user-defined electricity mix is passed, then the electricity correpsonding the country defined in `TruckModel` will be used. If no country is passed to `TruckModel`, the Swiss mix is chosen. "
   ]
  },
  {
   "cell_type": "code",
   "execution_count": 24,
   "metadata": {},
   "outputs": [
    {
     "name": "stdout",
     "output_type": "stream",
     "text": [
      "Finding solutions for trucks...\n",
      "Urban delivery driving cycle is selected. \n",
      "Vehicles will be designed to achieve a minimal range of 150 km.\n",
      "\n",
      "\n",
      "'-' vehicle with driving mass superior to the permissible gross weight.\n",
      "'/' vehicle not available for the specified year.\n",
      "+-------------------+-----+\n",
      "| Payload (in tons) | 40t |\n",
      "+-------------------+-----+\n",
      "|    ICEV-d, 2020   | 8.8 |\n",
      "|    ICEV-d, 2030   | 8.8 |\n",
      "+-------------------+-----+\n"
     ]
    }
   ],
   "source": [
    "# exmaple with ICEV-d trucks using a blend of 30% of synthetic diesel in 2020 and 35% in 2030\n",
    "# in Czech Republic\n",
    "\n",
    "from carculator_truck import *\n",
    "import matplotlib.pyplot as plt\n",
    "tip = TruckInputParameters()\n",
    "tip.static()\n",
    "\n",
    "new_scope = {\n",
    "    \"powertrain\": [\"ICEV-d\",],\n",
    "    \"size\": [\"40t\"],\n",
    "    \"year\": [2020, 2030]\n",
    "}\n",
    "dcts, array = fill_xarray_from_input_parameters(tip, scope=new_scope)\n",
    "\n",
    "fb={\n",
    "    \"diesel\":{\n",
    "        \"primary\": {\n",
    "            \"type\": \"diesel\",\n",
    "            \"share\": [.7, .65]\n",
    "        },\n",
    "        \"secondary\": {\n",
    "            \"type\": \"synthetic diesel - energy allocation\",\n",
    "            \"share\": [.3, .35],\n",
    "            }\n",
    "    }\n",
    "}\n",
    "\n",
    "tm = TruckModel(\n",
    "    array=array,\n",
    "    country=\"CZ\",\n",
    "    fuel_blend=fb\n",
    ")\n",
    "\n",
    "tm.set_all()"
   ]
  },
  {
   "cell_type": "markdown",
   "metadata": {},
   "source": [
    "We can check the fuel blend like so:"
   ]
  },
  {
   "cell_type": "code",
   "execution_count": 25,
   "metadata": {},
   "outputs": [
    {
     "data": {
      "text/plain": [
       "{'diesel': {'primary': {'type': 'diesel',\n",
       "   'share': array([0.7 , 0.65]),\n",
       "   'name': ('diesel production, low-sulfur, petroleum refinery operation',\n",
       "    'Europe without Switzerland',\n",
       "    'kilogram',\n",
       "    'diesel, low-sulfur'),\n",
       "   'CO2': 3.15,\n",
       "   'biogenic share': 0},\n",
       "  'secondary': {'type': 'synthetic diesel - energy allocation',\n",
       "   'share': array([0.3 , 0.35]),\n",
       "   'name': ('diesel production, synthetic, from electrolysis-based hydrogen, energy allocation, at fuelling station',\n",
       "    'RER',\n",
       "    'kilogram',\n",
       "    'diesel, synthetic, vehicle grade'),\n",
       "   'CO2': 3.15,\n",
       "   'biogenic share': 1}}}"
      ]
     },
     "execution_count": 25,
     "metadata": {},
     "output_type": "execute_result"
    }
   ],
   "source": [
    "tm.fuel_blend"
   ]
  },
  {
   "cell_type": "markdown",
   "metadata": {},
   "source": [
    "When the truck model is defined, the vehicles can be modeled using `set_all()`.\n",
    "A few electric vehicles end up with a driving mass superior to the permissible gross weight.\n",
    "These vehicles will not be considered in the end-results."
   ]
  },
  {
   "cell_type": "code",
   "execution_count": 26,
   "metadata": {},
   "outputs": [
    {
     "name": "stdout",
     "output_type": "stream",
     "text": [
      "Finding solutions for trucks...\n",
      "Long haul driving cycle is selected. \n",
      "Vehicles will be designed to achieve a minimal range of 800 km.\n",
      "\n",
      "\n",
      "'-' vehicle with driving mass superior to the permissible gross weight.\n",
      "'/' vehicle not available for the specified year.\n",
      "+-------------------+-------+--------+--------+------+--------+------+-------+\n",
      "| Payload (in tons) |  18t  |  26t   |  3.5t  | 32t  |  40t   | 60t  |  7.5t |\n",
      "+-------------------+-------+--------+--------+------+--------+------+-------+\n",
      "|     BEV, 2000     |   /   |   /    |   /    |  /   |   /    |  /   |   /   |\n",
      "|     BEV, 2010     |   /   |   /    |   /    |  /   |   /    |  /   |   /   |\n",
      "|     BEV, 2020     | -2.0- |  5.7   | --1.0- | 9.3  | -13.0- | 19.3 |  -0.5 |\n",
      "|     BEV, 2030     |  6.4  | -11.0- |  0.3   | 13.8 |  13.8  | 19.3 | -2.0- |\n",
      "|     BEV, 2040     |  7.4  |  13.1  | -1.0-  | 13.8 |  13.8  | 19.3 |  2.6  |\n",
      "|     BEV, 2050     |  7.4  |  13.4  |  1.1   | 13.8 |  13.8  | 19.3 |  2.6  |\n",
      "|    ICEV-d, 2000   |  7.4  | -13.0- |  1.1   | 13.8 |  13.8  | 19.3 |  2.6  |\n",
      "|    ICEV-d, 2010   |  7.4  | -13.0- |  1.1   | 13.8 |  13.8  | 19.3 |  2.6  |\n",
      "|    ICEV-d, 2020   |  7.4  | -13.0- |  1.1   | 13.8 |  13.8  | 19.3 |  2.6  |\n",
      "|    ICEV-d, 2030   |  7.4  |  13.4  |  1.1   | 13.8 |  13.8  | 19.3 |  2.6  |\n",
      "|    ICEV-d, 2040   |  7.4  |  13.4  |  1.1   | 13.8 |  13.8  | 19.3 |  2.6  |\n",
      "|    ICEV-d, 2050   |  7.4  |  13.4  |  1.1   | 13.8 |  13.8  | 19.3 |  2.6  |\n",
      "+-------------------+-------+--------+--------+------+--------+------+-------+\n"
     ]
    }
   ],
   "source": [
    "from carculator_truck import *\n",
    "import matplotlib.pyplot as plt\n",
    "tip = TruckInputParameters()\n",
    "tip.static()\n",
    "\n",
    "new_scope = {\n",
    "    \"powertrain\": [\"BEV\", \"ICEV-d\"],\n",
    "}\n",
    "dcts, array = fill_xarray_from_input_parameters(tip, scope=new_scope)\n",
    "tm = TruckModel(array, cycle='Long haul')\n",
    "tm.set_all()"
   ]
  },
  {
   "cell_type": "markdown",
   "metadata": {},
   "source": [
    "Let's look at the fuel and electric consumption (liters per vkm and kWh per vkm), for Large trucks (40t)."
   ]
  },
  {
   "cell_type": "code",
   "execution_count": 27,
   "metadata": {},
   "outputs": [
    {
     "data": {
      "text/html": [
       "<div>\n",
       "<style scoped>\n",
       "    .dataframe tbody tr th:only-of-type {\n",
       "        vertical-align: middle;\n",
       "    }\n",
       "\n",
       "    .dataframe tbody tr th {\n",
       "        vertical-align: top;\n",
       "    }\n",
       "\n",
       "    .dataframe thead th {\n",
       "        text-align: right;\n",
       "    }\n",
       "</style>\n",
       "<table border=\"1\" class=\"dataframe\">\n",
       "  <thead>\n",
       "    <tr style=\"text-align: right;\">\n",
       "      <th></th>\n",
       "      <th>year</th>\n",
       "      <th>2000</th>\n",
       "      <th>2010</th>\n",
       "      <th>2020</th>\n",
       "      <th>2030</th>\n",
       "      <th>2040</th>\n",
       "      <th>2050</th>\n",
       "    </tr>\n",
       "    <tr>\n",
       "      <th>powertrain</th>\n",
       "      <th>parameter</th>\n",
       "      <th></th>\n",
       "      <th></th>\n",
       "      <th></th>\n",
       "      <th></th>\n",
       "      <th></th>\n",
       "      <th></th>\n",
       "    </tr>\n",
       "  </thead>\n",
       "  <tbody>\n",
       "    <tr>\n",
       "      <th rowspan=\"2\" valign=\"top\">BEV</th>\n",
       "      <th>electricity consumption</th>\n",
       "      <td>176.218948</td>\n",
       "      <td>175.793671</td>\n",
       "      <td>180.598480</td>\n",
       "      <td>141.549011</td>\n",
       "      <td>130.465668</td>\n",
       "      <td>124.044540</td>\n",
       "    </tr>\n",
       "    <tr>\n",
       "      <th>fuel consumption</th>\n",
       "      <td>0.000000</td>\n",
       "      <td>0.000000</td>\n",
       "      <td>0.000000</td>\n",
       "      <td>0.000000</td>\n",
       "      <td>0.000000</td>\n",
       "      <td>0.000000</td>\n",
       "    </tr>\n",
       "    <tr>\n",
       "      <th rowspan=\"2\" valign=\"top\">ICEV-d</th>\n",
       "      <th>electricity consumption</th>\n",
       "      <td>0.000000</td>\n",
       "      <td>0.000000</td>\n",
       "      <td>0.000000</td>\n",
       "      <td>0.000000</td>\n",
       "      <td>0.000000</td>\n",
       "      <td>0.000000</td>\n",
       "    </tr>\n",
       "    <tr>\n",
       "      <th>fuel consumption</th>\n",
       "      <td>32.110466</td>\n",
       "      <td>31.293116</td>\n",
       "      <td>28.820381</td>\n",
       "      <td>23.574764</td>\n",
       "      <td>21.404202</td>\n",
       "      <td>19.313015</td>\n",
       "    </tr>\n",
       "  </tbody>\n",
       "</table>\n",
       "</div>"
      ],
      "text/plain": [
       "year                                      2000        2010        2020  \\\n",
       "powertrain parameter                                                     \n",
       "BEV        electricity consumption  176.218948  175.793671  180.598480   \n",
       "           fuel consumption           0.000000    0.000000    0.000000   \n",
       "ICEV-d     electricity consumption    0.000000    0.000000    0.000000   \n",
       "           fuel consumption          32.110466   31.293116   28.820381   \n",
       "\n",
       "year                                      2030        2040        2050  \n",
       "powertrain parameter                                                    \n",
       "BEV        electricity consumption  141.549011  130.465668  124.044540  \n",
       "           fuel consumption           0.000000    0.000000    0.000000  \n",
       "ICEV-d     electricity consumption    0.000000    0.000000    0.000000  \n",
       "           fuel consumption          23.574764   21.404202   19.313015  "
      ]
     },
     "execution_count": 27,
     "metadata": {},
     "output_type": "execute_result"
    }
   ],
   "source": [
    "(tm.array.sel(size='40t', value=0, parameter=['electricity consumption', 'fuel consumption']) * 100).to_dataframe(\"val\")[\"val\"].unstack()"
   ]
  },
  {
   "cell_type": "markdown",
   "metadata": {},
   "source": [
    "One can print the list of input and calculated parameters"
   ]
  },
  {
   "cell_type": "code",
   "execution_count": 28,
   "metadata": {},
   "outputs": [
    {
     "data": {
      "text/plain": [
       "['1-Pentene direct emissions, rural',\n",
       " '1-Pentene direct emissions, suburban',\n",
       " '1-Pentene direct emissions, urban',\n",
       " 'Acetaldehyde direct emissions, rural',\n",
       " 'Acetaldehyde direct emissions, suburban',\n",
       " 'Acetaldehyde direct emissions, urban',\n",
       " 'Acetone direct emissions, rural',\n",
       " 'Acetone direct emissions, suburban',\n",
       " 'Acetone direct emissions, urban',\n",
       " 'Acrolein direct emissions, rural',\n",
       " 'Acrolein direct emissions, suburban',\n",
       " 'Acrolein direct emissions, urban',\n",
       " 'Ammonia direct emissions, rural',\n",
       " 'Ammonia direct emissions, suburban',\n",
       " 'Ammonia direct emissions, urban',\n",
       " 'Arsenic direct emissions, rural',\n",
       " 'Arsenic direct emissions, suburban',\n",
       " 'Arsenic direct emissions, urban',\n",
       " 'Benzaldehyde direct emissions, rural',\n",
       " 'Benzaldehyde direct emissions, suburban',\n",
       " 'Benzaldehyde direct emissions, urban',\n",
       " 'Benzene direct emissions, rural',\n",
       " 'Benzene direct emissions, suburban',\n",
       " 'Benzene direct emissions, urban',\n",
       " 'Butane direct emissions, rural',\n",
       " 'Butane direct emissions, suburban',\n",
       " 'Butane direct emissions, urban',\n",
       " 'CNG engine efficiency correction factor',\n",
       " 'CNG pump-to-tank leakage',\n",
       " 'CNG tank mass intercept',\n",
       " 'CNG tank mass slope',\n",
       " 'CO2 per kg fuel',\n",
       " 'Cadmium direct emissions, rural',\n",
       " 'Cadmium direct emissions, suburban',\n",
       " 'Cadmium direct emissions, urban',\n",
       " 'Carbon monoxide direct emissions, rural',\n",
       " 'Carbon monoxide direct emissions, suburban',\n",
       " 'Carbon monoxide direct emissions, urban',\n",
       " 'Chromium VI direct emissions, rural',\n",
       " 'Chromium VI direct emissions, suburban',\n",
       " 'Chromium VI direct emissions, urban',\n",
       " 'Chromium direct emissions, rural',\n",
       " 'Chromium direct emissions, suburban',\n",
       " 'Chromium direct emissions, urban',\n",
       " 'Copper direct emissions, rural',\n",
       " 'Copper direct emissions, suburban',\n",
       " 'Copper direct emissions, urban',\n",
       " 'Cyclohexane direct emissions, rural',\n",
       " 'Cyclohexane direct emissions, suburban',\n",
       " 'Cyclohexane direct emissions, urban',\n",
       " 'Dinitrogen oxide direct emissions, rural',\n",
       " 'Dinitrogen oxide direct emissions, suburban',\n",
       " 'Dinitrogen oxide direct emissions, urban',\n",
       " 'Ethane direct emissions, rural',\n",
       " 'Ethane direct emissions, suburban',\n",
       " 'Ethane direct emissions, urban',\n",
       " 'Ethene direct emissions, rural',\n",
       " 'Ethene direct emissions, suburban',\n",
       " 'Ethene direct emissions, urban',\n",
       " 'Formaldehyde direct emissions, rural',\n",
       " 'Formaldehyde direct emissions, suburban',\n",
       " 'Formaldehyde direct emissions, urban',\n",
       " 'Heptane direct emissions, rural',\n",
       " 'Heptane direct emissions, suburban',\n",
       " 'Heptane direct emissions, urban',\n",
       " 'Hexane direct emissions, rural',\n",
       " 'Hexane direct emissions, suburban',\n",
       " 'Hexane direct emissions, urban',\n",
       " 'Hydrocarbons direct emissions, rural',\n",
       " 'Hydrocarbons direct emissions, suburban',\n",
       " 'Hydrocarbons direct emissions, urban',\n",
       " 'LHV fuel MJ per kg',\n",
       " 'Lead direct emissions, rural',\n",
       " 'Lead direct emissions, suburban',\n",
       " 'Lead direct emissions, urban',\n",
       " 'Mercury direct emissions, rural',\n",
       " 'Mercury direct emissions, suburban',\n",
       " 'Mercury direct emissions, urban',\n",
       " 'Methane direct emissions, rural',\n",
       " 'Methane direct emissions, suburban',\n",
       " 'Methane direct emissions, urban',\n",
       " 'Methyl ethyl ketone direct emissions, rural',\n",
       " 'Methyl ethyl ketone direct emissions, suburban',\n",
       " 'Methyl ethyl ketone direct emissions, urban',\n",
       " 'Nickel direct emissions, rural',\n",
       " 'Nickel direct emissions, suburban',\n",
       " 'Nickel direct emissions, urban',\n",
       " 'Nitrogen dioxide direct emissions, rural',\n",
       " 'Nitrogen dioxide direct emissions, suburban',\n",
       " 'Nitrogen dioxide direct emissions, urban',\n",
       " 'Nitrogen oxides direct emissions, rural',\n",
       " 'Nitrogen oxides direct emissions, suburban',\n",
       " 'Nitrogen oxides direct emissions, urban',\n",
       " 'Non-methane hydrocarbon direct emissions, rural',\n",
       " 'Non-methane hydrocarbon direct emissions, suburban',\n",
       " 'Non-methane hydrocarbon direct emissions, urban',\n",
       " 'PAH, polycyclic aromatic hydrocarbons direct emissions, rural',\n",
       " 'PAH, polycyclic aromatic hydrocarbons direct emissions, suburban',\n",
       " 'PAH, polycyclic aromatic hydrocarbons direct emissions, urban',\n",
       " 'Particulate matters direct emissions, rural',\n",
       " 'Particulate matters direct emissions, suburban',\n",
       " 'Particulate matters direct emissions, urban',\n",
       " 'Pentane direct emissions, rural',\n",
       " 'Pentane direct emissions, suburban',\n",
       " 'Pentane direct emissions, urban',\n",
       " 'Propane direct emissions, rural',\n",
       " 'Propane direct emissions, suburban',\n",
       " 'Propane direct emissions, urban',\n",
       " 'Propene direct emissions, rural',\n",
       " 'Propene direct emissions, suburban',\n",
       " 'Propene direct emissions, urban',\n",
       " 'Selenium direct emissions, rural',\n",
       " 'Selenium direct emissions, suburban',\n",
       " 'Selenium direct emissions, urban',\n",
       " 'Styrene direct emissions, rural',\n",
       " 'Styrene direct emissions, suburban',\n",
       " 'Styrene direct emissions, urban',\n",
       " 'Toluene direct emissions, rural',\n",
       " 'Toluene direct emissions, suburban',\n",
       " 'Toluene direct emissions, urban',\n",
       " 'TtW efficiency',\n",
       " 'TtW energy',\n",
       " 'TtW energy, combustion mode',\n",
       " 'TtW energy, electric mode',\n",
       " 'Zinc direct emissions, rural',\n",
       " 'Zinc direct emissions, suburban',\n",
       " 'Zinc direct emissions, urban',\n",
       " 'adblue cost',\n",
       " 'adblue cost per kg',\n",
       " 'aerodynamic drag coefficient',\n",
       " 'amortised component replacement cost',\n",
       " 'amortised purchase cost',\n",
       " 'auxiliary energy',\n",
       " 'auxiliary power demand',\n",
       " 'auxilliary power base demand',\n",
       " 'available payload',\n",
       " 'average passenger mass',\n",
       " 'average passengers',\n",
       " 'battery BoP mass',\n",
       " 'battery DoD',\n",
       " 'battery cell energy density',\n",
       " 'battery cell energy density, LFP',\n",
       " 'battery cell energy density, LTO',\n",
       " 'battery cell energy density, NCA',\n",
       " 'battery cell energy density, NMC',\n",
       " 'battery cell mass',\n",
       " 'battery cell mass share',\n",
       " 'battery cell mass share, LFP',\n",
       " 'battery cell mass share, LTO',\n",
       " 'battery cell mass share, NCA',\n",
       " 'battery cell mass share, NMC',\n",
       " 'battery cell power density',\n",
       " 'battery cell production electricity',\n",
       " 'battery cell production energy',\n",
       " 'battery cell production energy electricity share',\n",
       " 'battery cell production heat',\n",
       " 'battery charge efficiency',\n",
       " 'battery cycle life',\n",
       " 'battery cycle life, LFP',\n",
       " 'battery cycle life, LTO',\n",
       " 'battery cycle life, NCA',\n",
       " 'battery cycle life, NMC',\n",
       " 'battery discharge efficiency',\n",
       " 'battery lifetime kilometers',\n",
       " 'battery lifetime replacements',\n",
       " 'battery onboard charging infrastructure cost',\n",
       " 'battery power',\n",
       " 'brake wear emissions',\n",
       " 'braking system mass',\n",
       " 'cabin mass',\n",
       " 'capacity utilization',\n",
       " 'cargo mass',\n",
       " 'charger efficiency',\n",
       " 'charger mass',\n",
       " 'combustion engine mass',\n",
       " 'combustion exhaust treatment cost',\n",
       " 'combustion power',\n",
       " 'combustion power share',\n",
       " 'combustion powertrain cost',\n",
       " 'combustion powertrain cost per kW',\n",
       " 'component replacement cost',\n",
       " 'converter mass',\n",
       " 'cooling energy consumption',\n",
       " 'cooling thermal demand',\n",
       " 'curb mass',\n",
       " 'driving mass',\n",
       " 'electric energy stored',\n",
       " 'electric engine mass',\n",
       " 'electric power',\n",
       " 'electric powertrain cost',\n",
       " 'electric powertrain cost per kW',\n",
       " 'electric utility factor',\n",
       " 'electrical system mass',\n",
       " 'electricity consumption',\n",
       " 'emission factor',\n",
       " 'emotor fixed mass',\n",
       " 'emotor mass per power',\n",
       " 'energy battery cost',\n",
       " 'energy battery cost per kWh',\n",
       " 'energy battery mass',\n",
       " 'energy cost',\n",
       " 'energy cost per kWh',\n",
       " 'engine efficiency',\n",
       " 'engine fixed mass',\n",
       " 'engine mass per power',\n",
       " 'exhaust system mass',\n",
       " 'frontal area',\n",
       " 'fuel cell ancillary BoP mass',\n",
       " 'fuel cell ancillary BoP mass per power',\n",
       " 'fuel cell cost',\n",
       " 'fuel cell cost per kW',\n",
       " 'fuel cell essential BoP mass',\n",
       " 'fuel cell essential BoP mass per power',\n",
       " 'fuel cell lifetime hours',\n",
       " 'fuel cell lifetime replacements',\n",
       " 'fuel cell own consumption',\n",
       " 'fuel cell power',\n",
       " 'fuel cell power area density',\n",
       " 'fuel cell power density',\n",
       " 'fuel cell power share',\n",
       " 'fuel cell stack efficiency',\n",
       " 'fuel cell stack mass',\n",
       " 'fuel cell system efficiency',\n",
       " 'fuel consumption',\n",
       " 'fuel density per kg',\n",
       " 'fuel mass',\n",
       " 'fuel tank cost',\n",
       " 'fuel tank cost per kg',\n",
       " 'fuel tank mass',\n",
       " 'fuel tank mass per energy',\n",
       " 'glider base mass',\n",
       " 'glider cost',\n",
       " 'glider lightweighting cost per kg',\n",
       " 'gross mass',\n",
       " 'heat pump cost',\n",
       " 'heating energy consumption',\n",
       " 'heating thermal demand',\n",
       " 'insurance cost',\n",
       " 'insurance cost per year',\n",
       " 'interest rate',\n",
       " 'internal noise',\n",
       " 'inverter fix mass',\n",
       " 'inverter mass',\n",
       " 'inverter mass per power',\n",
       " 'is_available',\n",
       " 'is_compliant',\n",
       " 'kilometers per year',\n",
       " 'lifetime',\n",
       " 'lifetime kilometers',\n",
       " 'lightweighting',\n",
       " 'lightweighting cost',\n",
       " 'm-Xylene direct emissions, rural',\n",
       " 'm-Xylene direct emissions, suburban',\n",
       " 'm-Xylene direct emissions, urban',\n",
       " 'maintenance cost',\n",
       " 'maintenance cost per km',\n",
       " 'markup factor',\n",
       " 'maximum theoretical payload',\n",
       " 'noise, octave 1, day time, rural',\n",
       " 'noise, octave 1, day time, suburban',\n",
       " 'noise, octave 1, day time, urban',\n",
       " 'noise, octave 1, evening time, rural',\n",
       " 'noise, octave 1, evening time, suburban',\n",
       " 'noise, octave 1, evening time, urban',\n",
       " 'noise, octave 1, night time, rural',\n",
       " 'noise, octave 1, night time, suburban',\n",
       " 'noise, octave 1, night time, urban',\n",
       " 'noise, octave 2, day time, rural',\n",
       " 'noise, octave 2, day time, suburban',\n",
       " 'noise, octave 2, day time, urban',\n",
       " 'noise, octave 2, evening time, rural',\n",
       " 'noise, octave 2, evening time, suburban',\n",
       " 'noise, octave 2, evening time, urban',\n",
       " 'noise, octave 2, night time, rural',\n",
       " 'noise, octave 2, night time, suburban',\n",
       " 'noise, octave 2, night time, urban',\n",
       " 'noise, octave 3, day time, rural',\n",
       " 'noise, octave 3, day time, suburban',\n",
       " 'noise, octave 3, day time, urban',\n",
       " 'noise, octave 3, evening time, rural',\n",
       " 'noise, octave 3, evening time, suburban',\n",
       " 'noise, octave 3, evening time, urban',\n",
       " 'noise, octave 3, night time, rural',\n",
       " 'noise, octave 3, night time, suburban',\n",
       " 'noise, octave 3, night time, urban',\n",
       " 'noise, octave 4, day time, rural',\n",
       " 'noise, octave 4, day time, suburban',\n",
       " 'noise, octave 4, day time, urban',\n",
       " 'noise, octave 4, evening time, rural',\n",
       " 'noise, octave 4, evening time, suburban',\n",
       " 'noise, octave 4, evening time, urban',\n",
       " 'noise, octave 4, night time, rural',\n",
       " 'noise, octave 4, night time, suburban',\n",
       " 'noise, octave 4, night time, urban',\n",
       " 'noise, octave 5, day time, rural',\n",
       " 'noise, octave 5, day time, suburban',\n",
       " 'noise, octave 5, day time, urban',\n",
       " 'noise, octave 5, evening time, rural',\n",
       " 'noise, octave 5, evening time, suburban',\n",
       " 'noise, octave 5, evening time, urban',\n",
       " 'noise, octave 5, night time, rural',\n",
       " 'noise, octave 5, night time, suburban',\n",
       " 'noise, octave 5, night time, urban',\n",
       " 'noise, octave 6, day time, rural',\n",
       " 'noise, octave 6, day time, suburban',\n",
       " 'noise, octave 6, day time, urban',\n",
       " 'noise, octave 6, evening time, rural',\n",
       " 'noise, octave 6, evening time, suburban',\n",
       " 'noise, octave 6, evening time, urban',\n",
       " 'noise, octave 6, night time, rural',\n",
       " 'noise, octave 6, night time, suburban',\n",
       " 'noise, octave 6, night time, urban',\n",
       " 'noise, octave 7, day time, rural',\n",
       " 'noise, octave 7, day time, suburban',\n",
       " 'noise, octave 7, day time, urban',\n",
       " 'noise, octave 7, evening time, rural',\n",
       " 'noise, octave 7, evening time, suburban',\n",
       " 'noise, octave 7, evening time, urban',\n",
       " 'noise, octave 7, night time, rural',\n",
       " 'noise, octave 7, night time, suburban',\n",
       " 'noise, octave 7, night time, urban',\n",
       " 'noise, octave 8, day time, rural',\n",
       " 'noise, octave 8, day time, suburban',\n",
       " 'noise, octave 8, day time, urban',\n",
       " 'noise, octave 8, evening time, rural',\n",
       " 'noise, octave 8, evening time, suburban',\n",
       " 'noise, octave 8, evening time, urban',\n",
       " 'noise, octave 8, night time, rural',\n",
       " 'noise, octave 8, night time, suburban',\n",
       " 'noise, octave 8, night time, urban',\n",
       " 'number of axles',\n",
       " 'o-Xylene direct emissions, rural',\n",
       " 'o-Xylene direct emissions, suburban',\n",
       " 'o-Xylene direct emissions, urban',\n",
       " 'other components mass',\n",
       " 'oxidation energy stored',\n",
       " 'power',\n",
       " 'power battery cost',\n",
       " 'power battery cost per kW',\n",
       " 'power distribution unit mass',\n",
       " 'power to mass ratio',\n",
       " 'purchase cost',\n",
       " 'recuperation efficiency',\n",
       " 'road dust emissions',\n",
       " 'road wear emissions',\n",
       " 'rolling resistance coefficient',\n",
       " 'share recuperated energy',\n",
       " 'suspension mass',\n",
       " 'target range',\n",
       " 'tire wear emissions',\n",
       " 'toll cost',\n",
       " 'toll cost per km',\n",
       " 'total cargo mass',\n",
       " 'total cost per km',\n",
       " 'transmission efficiency',\n",
       " 'transmission mass',\n",
       " 'transmission mass per ton of gross weight',\n",
       " 'wheels and tires mass']"
      ]
     },
     "execution_count": 28,
     "metadata": {},
     "output_type": "execute_result"
    }
   ],
   "source": [
    "tip.parameters"
   ]
  },
  {
   "cell_type": "markdown",
   "metadata": {},
   "source": [
    "We can plot any attributes of the truck models. For example here, the battery capacity of all electric trucks in 2018."
   ]
  },
  {
   "cell_type": "code",
   "execution_count": 29,
   "metadata": {},
   "outputs": [
    {
     "data": {
      "image/png": "[encoded data removed]",
      "text/plain": [
       "<Figure size 640x480 with 1 Axes>"
      ]
     },
     "metadata": {},
     "output_type": "display_data"
    }
   ],
   "source": [
    "tm.array.sel(powertrain='BEV', year=2020, parameter='electric energy stored', value=0)\\\n",
    "    .to_dataframe(\"val\").unstack()[\"val\"].plot(kind=\"bar\")\n",
    "plt.ylabel('kWh')\n",
    "plt.show()"
   ]
  },
  {
   "cell_type": "markdown",
   "metadata": {},
   "source": [
    "## Uncertainty"
   ]
  },
  {
   "cell_type": "markdown",
   "metadata": {},
   "source": [
    "The same can be done considering uncertainties in input parameters (here with a 2020 40t truck), using a Monte Carlo approach.\n",
    "Most input parameters are defined with an uncertainty distribution, which the model uses to generate pseudo-random values."
   ]
  },
  {
   "cell_type": "code",
   "execution_count": 6,
   "metadata": {},
   "outputs": [
    {
     "name": "stdout",
     "output_type": "stream",
     "text": [
      "Finding solutions for trucks...\n",
      "Long haul driving cycle is selected. \n",
      "Vehicles will be designed to achieve a minimal range of 800 km.\n",
      "\n",
      "\n",
      "'-' vehicle with driving mass superior to the permissible gross weight.\n",
      "'/' vehicle not available for the specified year.\n",
      "+-------------------+------+\n",
      "| Payload (in tons) | 40t  |\n",
      "+-------------------+------+\n",
      "|     BEV, 2030     | 13.8 |\n",
      "|     FCEV, 2030    | 13.8 |\n",
      "|    HEV-d, 2030    | 13.8 |\n",
      "|    ICEV-d, 2030   | 13.8 |\n",
      "|    ICEV-g, 2030   | 13.8 |\n",
      "|    PHEV-d, 2030   | 13.8 |\n",
      "+-------------------+------+\n"
     ]
    }
   ],
   "source": [
    "from carculator_truck import *\n",
    "tip = TruckInputParameters()\n",
    "\n",
    "# 50 iterations\n",
    "tip.stochastic(250)\n",
    "#tip.static()\n",
    "\n",
    "dcts, array = fill_xarray_from_input_parameters(tip, scope={\"size\":[\"40t\"], \"year\":[2030],})\n",
    "tm = TruckModel(array, cycle=\"Long haul\")\n",
    "tm.set_all()"
   ]
  },
  {
   "cell_type": "code",
   "execution_count": 7,
   "metadata": {},
   "outputs": [
    {
     "data": {
      "text/plain": [
       "<matplotlib.legend.Legend at 0x156925990>"
      ]
     },
     "execution_count": 7,
     "metadata": {},
     "output_type": "execute_result"
    },
    {
     "data": {
      "image/png": "[encoded data removed]",
      "text/plain": [
       "<Figure size 640x480 with 1 Axes>"
      ]
     },
     "metadata": {},
     "output_type": "display_data"
    }
   ],
   "source": [
    "import matplotlib.pyplot as plt\n",
    "TtW_energy = (tm.array.sel(size='40t', year=2030, parameter='TtW energy') / 34200 * 100).to_dataframe(\"val\")[\"val\"].groupby(\"powertrain\") # assuming 34.2 MJ/L petrol\n",
    "TtW_energy.hist()\n",
    "plt.xlabel('L petrol-eq./100 km')\n",
    "plt.ylabel('occurences')\n",
    "plt.legend(TtW_energy.sum().index.tolist())"
   ]
  },
  {
   "cell_type": "markdown",
   "metadata": {},
   "source": [
    "We can check the randomly generated values for any parameter like so. Here, for the diesel consumption, in liters/100 km."
   ]
  },
  {
   "cell_type": "code",
   "execution_count": 10,
   "metadata": {},
   "outputs": [
    {
     "data": {
      "text/html": [
       "<div><svg style=\"position: absolute; width: 0; height: 0; overflow: hidden\">\n",
       "<defs>\n",
       "<symbol id=\"icon-database\" viewBox=\"0 0 32 32\">\n",
       "<path d=\"M16 0c-8.837 0-16 2.239-16 5v4c0 2.761 7.163 5 16 5s16-2.239 16-5v-4c0-2.761-7.163-5-16-5z\"></path>\n",
       "<path d=\"M16 17c-8.837 0-16-2.239-16-5v6c0 2.761 7.163 5 16 5s16-2.239 16-5v-6c0 2.761-7.163 5-16 5z\"></path>\n",
       "<path d=\"M16 26c-8.837 0-16-2.239-16-5v6c0 2.761 7.163 5 16 5s16-2.239 16-5v-6c0 2.761-7.163 5-16 5z\"></path>\n",
       "</symbol>\n",
       "<symbol id=\"icon-file-text2\" viewBox=\"0 0 32 32\">\n",
       "<path d=\"M28.681 7.159c-0.694-0.947-1.662-2.053-2.724-3.116s-2.169-2.030-3.116-2.724c-1.612-1.182-2.393-1.319-2.841-1.319h-15.5c-1.378 0-2.5 1.121-2.5 2.5v27c0 1.378 1.122 2.5 2.5 2.5h23c1.378 0 2.5-1.122 2.5-2.5v-19.5c0-0.448-0.137-1.23-1.319-2.841zM24.543 5.457c0.959 0.959 1.712 1.825 2.268 2.543h-4.811v-4.811c0.718 0.556 1.584 1.309 2.543 2.268zM28 29.5c0 0.271-0.229 0.5-0.5 0.5h-23c-0.271 0-0.5-0.229-0.5-0.5v-27c0-0.271 0.229-0.5 0.5-0.5 0 0 15.499-0 15.5 0v7c0 0.552 0.448 1 1 1h7v19.5z\"></path>\n",
       "<path d=\"M23 26h-14c-0.552 0-1-0.448-1-1s0.448-1 1-1h14c0.552 0 1 0.448 1 1s-0.448 1-1 1z\"></path>\n",
       "<path d=\"M23 22h-14c-0.552 0-1-0.448-1-1s0.448-1 1-1h14c0.552 0 1 0.448 1 1s-0.448 1-1 1z\"></path>\n",
       "<path d=\"M23 18h-14c-0.552 0-1-0.448-1-1s0.448-1 1-1h14c0.552 0 1 0.448 1 1s-0.448 1-1 1z\"></path>\n",
       "</symbol>\n",
       "</defs>\n",
       "</svg>\n",
       "<style>/* CSS stylesheet for displaying xarray objects in jupyterlab.\n",
       " *\n",
       " */\n",
       "\n",
       ":root {\n",
       "  --xr-font-color0: var(--jp-content-font-color0, rgba(0, 0, 0, 1));\n",
       "  --xr-font-color2: var(--jp-content-font-color2, rgba(0, 0, 0, 0.54));\n",
       "  --xr-font-color3: var(--jp-content-font-color3, rgba(0, 0, 0, 0.38));\n",
       "  --xr-border-color: var(--jp-border-color2, #e0e0e0);\n",
       "  --xr-disabled-color: var(--jp-layout-color3, #bdbdbd);\n",
       "  --xr-background-color: var(--jp-layout-color0, white);\n",
       "  --xr-background-color-row-even: var(--jp-layout-color1, white);\n",
       "  --xr-background-color-row-odd: var(--jp-layout-color2, #eeeeee);\n",
       "}\n",
       "\n",
       "html[theme=dark],\n",
       "body[data-theme=dark],\n",
       "body.vscode-dark {\n",
       "  --xr-font-color0: rgba(255, 255, 255, 1);\n",
       "  --xr-font-color2: rgba(255, 255, 255, 0.54);\n",
       "  --xr-font-color3: rgba(255, 255, 255, 0.38);\n",
       "  --xr-border-color: #1F1F1F;\n",
       "  --xr-disabled-color: #515151;\n",
       "  --xr-background-color: #111111;\n",
       "  --xr-background-color-row-even: #111111;\n",
       "  --xr-background-color-row-odd: #313131;\n",
       "}\n",
       "\n",
       ".xr-wrap {\n",
       "  display: block !important;\n",
       "  min-width: 300px;\n",
       "  max-width: 700px;\n",
       "}\n",
       "\n",
       ".xr-text-repr-fallback {\n",
       "  /* fallback to plain text repr when CSS is not injected (untrusted notebook) */\n",
       "  display: none;\n",
       "}\n",
       "\n",
       ".xr-header {\n",
       "  padding-top: 6px;\n",
       "  padding-bottom: 6px;\n",
       "  margin-bottom: 4px;\n",
       "  border-bottom: solid 1px var(--xr-border-color);\n",
       "}\n",
       "\n",
       ".xr-header > div,\n",
       ".xr-header > ul {\n",
       "  display: inline;\n",
       "  margin-top: 0;\n",
       "  margin-bottom: 0;\n",
       "}\n",
       "\n",
       ".xr-obj-type,\n",
       ".xr-array-name {\n",
       "  margin-left: 2px;\n",
       "  margin-right: 10px;\n",
       "}\n",
       "\n",
       ".xr-obj-type {\n",
       "  color: var(--xr-font-color2);\n",
       "}\n",
       "\n",
       ".xr-sections {\n",
       "  padding-left: 0 !important;\n",
       "  display: grid;\n",
       "  grid-template-columns: 150px auto auto 1fr 20px 20px;\n",
       "}\n",
       "\n",
       ".xr-section-item {\n",
       "  display: contents;\n",
       "}\n",
       "\n",
       ".xr-section-item input {\n",
       "  display: none;\n",
       "}\n",
       "\n",
       ".xr-section-item input + label {\n",
       "  color: var(--xr-disabled-color);\n",
       "}\n",
       "\n",
       ".xr-section-item input:enabled + label {\n",
       "  cursor: pointer;\n",
       "  color: var(--xr-font-color2);\n",
       "}\n",
       "\n",
       ".xr-section-item input:enabled + label:hover {\n",
       "  color: var(--xr-font-color0);\n",
       "}\n",
       "\n",
       ".xr-section-summary {\n",
       "  grid-column: 1;\n",
       "  color: var(--xr-font-color2);\n",
       "  font-weight: 500;\n",
       "}\n",
       "\n",
       ".xr-section-summary > span {\n",
       "  display: inline-block;\n",
       "  padding-left: 0.5em;\n",
       "}\n",
       "\n",
       ".xr-section-summary-in:disabled + label {\n",
       "  color: var(--xr-font-color2);\n",
       "}\n",
       "\n",
       ".xr-section-summary-in + label:before {\n",
       "  display: inline-block;\n",
       "  content: '►';\n",
       "  font-size: 11px;\n",
       "  width: 15px;\n",
       "  text-align: center;\n",
       "}\n",
       "\n",
       ".xr-section-summary-in:disabled + label:before {\n",
       "  color: var(--xr-disabled-color);\n",
       "}\n",
       "\n",
       ".xr-section-summary-in:checked + label:before {\n",
       "  content: '▼';\n",
       "}\n",
       "\n",
       ".xr-section-summary-in:checked + label > span {\n",
       "  display: none;\n",
       "}\n",
       "\n",
       ".xr-section-summary,\n",
       ".xr-section-inline-details {\n",
       "  padding-top: 4px;\n",
       "  padding-bottom: 4px;\n",
       "}\n",
       "\n",
       ".xr-section-inline-details {\n",
       "  grid-column: 2 / -1;\n",
       "}\n",
       "\n",
       ".xr-section-details {\n",
       "  display: none;\n",
       "  grid-column: 1 / -1;\n",
       "  margin-bottom: 5px;\n",
       "}\n",
       "\n",
       ".xr-section-summary-in:checked ~ .xr-section-details {\n",
       "  display: contents;\n",
       "}\n",
       "\n",
       ".xr-array-wrap {\n",
       "  grid-column: 1 / -1;\n",
       "  display: grid;\n",
       "  grid-template-columns: 20px auto;\n",
       "}\n",
       "\n",
       ".xr-array-wrap > label {\n",
       "  grid-column: 1;\n",
       "  vertical-align: top;\n",
       "}\n",
       "\n",
       ".xr-preview {\n",
       "  color: var(--xr-font-color3);\n",
       "}\n",
       "\n",
       ".xr-array-preview,\n",
       ".xr-array-data {\n",
       "  padding: 0 5px !important;\n",
       "  grid-column: 2;\n",
       "}\n",
       "\n",
       ".xr-array-data,\n",
       ".xr-array-in:checked ~ .xr-array-preview {\n",
       "  display: none;\n",
       "}\n",
       "\n",
       ".xr-array-in:checked ~ .xr-array-data,\n",
       ".xr-array-preview {\n",
       "  display: inline-block;\n",
       "}\n",
       "\n",
       ".xr-dim-list {\n",
       "  display: inline-block !important;\n",
       "  list-style: none;\n",
       "  padding: 0 !important;\n",
       "  margin: 0;\n",
       "}\n",
       "\n",
       ".xr-dim-list li {\n",
       "  display: inline-block;\n",
       "  padding: 0;\n",
       "  margin: 0;\n",
       "}\n",
       "\n",
       ".xr-dim-list:before {\n",
       "  content: '(';\n",
       "}\n",
       "\n",
       ".xr-dim-list:after {\n",
       "  content: ')';\n",
       "}\n",
       "\n",
       ".xr-dim-list li:not(:last-child):after {\n",
       "  content: ',';\n",
       "  padding-right: 5px;\n",
       "}\n",
       "\n",
       ".xr-has-index {\n",
       "  font-weight: bold;\n",
       "}\n",
       "\n",
       ".xr-var-list,\n",
       ".xr-var-item {\n",
       "  display: contents;\n",
       "}\n",
       "\n",
       ".xr-var-item > div,\n",
       ".xr-var-item label,\n",
       ".xr-var-item > .xr-var-name span {\n",
       "  background-color: var(--xr-background-color-row-even);\n",
       "  margin-bottom: 0;\n",
       "}\n",
       "\n",
       ".xr-var-item > .xr-var-name:hover span {\n",
       "  padding-right: 5px;\n",
       "}\n",
       "\n",
       ".xr-var-list > li:nth-child(odd) > div,\n",
       ".xr-var-list > li:nth-child(odd) > label,\n",
       ".xr-var-list > li:nth-child(odd) > .xr-var-name span {\n",
       "  background-color: var(--xr-background-color-row-odd);\n",
       "}\n",
       "\n",
       ".xr-var-name {\n",
       "  grid-column: 1;\n",
       "}\n",
       "\n",
       ".xr-var-dims {\n",
       "  grid-column: 2;\n",
       "}\n",
       "\n",
       ".xr-var-dtype {\n",
       "  grid-column: 3;\n",
       "  text-align: right;\n",
       "  color: var(--xr-font-color2);\n",
       "}\n",
       "\n",
       ".xr-var-preview {\n",
       "  grid-column: 4;\n",
       "}\n",
       "\n",
       ".xr-index-preview {\n",
       "  grid-column: 2 / 5;\n",
       "  color: var(--xr-font-color2);\n",
       "}\n",
       "\n",
       ".xr-var-name,\n",
       ".xr-var-dims,\n",
       ".xr-var-dtype,\n",
       ".xr-preview,\n",
       ".xr-attrs dt {\n",
       "  white-space: nowrap;\n",
       "  overflow: hidden;\n",
       "  text-overflow: ellipsis;\n",
       "  padding-right: 10px;\n",
       "}\n",
       "\n",
       ".xr-var-name:hover,\n",
       ".xr-var-dims:hover,\n",
       ".xr-var-dtype:hover,\n",
       ".xr-attrs dt:hover {\n",
       "  overflow: visible;\n",
       "  width: auto;\n",
       "  z-index: 1;\n",
       "}\n",
       "\n",
       ".xr-var-attrs,\n",
       ".xr-var-data,\n",
       ".xr-index-data {\n",
       "  display: none;\n",
       "  background-color: var(--xr-background-color) !important;\n",
       "  padding-bottom: 5px !important;\n",
       "}\n",
       "\n",
       ".xr-var-attrs-in:checked ~ .xr-var-attrs,\n",
       ".xr-var-data-in:checked ~ .xr-var-data,\n",
       ".xr-index-data-in:checked ~ .xr-index-data {\n",
       "  display: block;\n",
       "}\n",
       "\n",
       ".xr-var-data > table {\n",
       "  float: right;\n",
       "}\n",
       "\n",
       ".xr-var-name span,\n",
       ".xr-var-data,\n",
       ".xr-index-name div,\n",
       ".xr-index-data,\n",
       ".xr-attrs {\n",
       "  padding-left: 25px !important;\n",
       "}\n",
       "\n",
       ".xr-attrs,\n",
       ".xr-var-attrs,\n",
       ".xr-var-data,\n",
       ".xr-index-data {\n",
       "  grid-column: 1 / -1;\n",
       "}\n",
       "\n",
       "dl.xr-attrs {\n",
       "  padding: 0;\n",
       "  margin: 0;\n",
       "  display: grid;\n",
       "  grid-template-columns: 125px auto;\n",
       "}\n",
       "\n",
       ".xr-attrs dt,\n",
       ".xr-attrs dd {\n",
       "  padding: 0;\n",
       "  margin: 0;\n",
       "  float: left;\n",
       "  padding-right: 10px;\n",
       "  width: auto;\n",
       "}\n",
       "\n",
       ".xr-attrs dt {\n",
       "  font-weight: normal;\n",
       "  grid-column: 1;\n",
       "}\n",
       "\n",
       ".xr-attrs dt:hover span {\n",
       "  display: inline-block;\n",
       "  background: var(--xr-background-color);\n",
       "  padding-right: 10px;\n",
       "}\n",
       "\n",
       ".xr-attrs dd {\n",
       "  grid-column: 2;\n",
       "  white-space: pre-wrap;\n",
       "  word-break: break-all;\n",
       "}\n",
       "\n",
       ".xr-icon-database,\n",
       ".xr-icon-file-text2,\n",
       ".xr-no-icon {\n",
       "  display: inline-block;\n",
       "  vertical-align: middle;\n",
       "  width: 1em;\n",
       "  height: 1.5em !important;\n",
       "  stroke-width: 0;\n",
       "  stroke: currentColor;\n",
       "  fill: currentColor;\n",
       "}\n",
       "</style><pre class='xr-text-repr-fallback'>&lt;xarray.DataArray (value: 250)&gt;\n",
       "array([22.476265, 24.030392, 20.949783, 22.875921, 20.997648, 22.462765,\n",
       "       20.478497, 20.348803, 22.781393, 21.504442, 20.820751, 20.45522 ,\n",
       "       22.560017, 21.298513, 21.513681, 22.765564, 22.195717, 22.05951 ,\n",
       "       22.14343 , 20.110367, 22.221323, 20.980978, 22.90551 , 22.08366 ,\n",
       "       22.012142, 21.030104, 20.454988, 22.589308, 20.758392, 22.946222,\n",
       "       21.522535, 20.411396, 20.90064 , 22.91827 , 22.35553 , 20.283709,\n",
       "       21.124735, 22.63765 , 22.940435, 23.391993, 19.64291 , 20.572765,\n",
       "       21.348635, 21.632069, 20.684261, 22.788364, 21.970455, 21.816519,\n",
       "       21.363228, 21.169304, 19.85431 , 20.88684 , 19.72356 , 21.73545 ,\n",
       "       20.312223, 20.375368, 21.462057, 21.212248, 23.429867, 21.088018,\n",
       "       19.220648, 22.176102, 21.285826, 23.018171, 20.483213, 22.456438,\n",
       "       20.207115, 22.123161, 22.585865, 22.681318, 21.185299, 21.526905,\n",
       "       22.010456, 23.170444, 23.153511, 20.860096, 20.5611  , 20.081598,\n",
       "       21.039711, 20.339928, 21.883982, 21.70317 , 20.599464, 22.991243,\n",
       "       22.12775 , 20.368402, 21.764275, 20.768902, 20.28753 , 20.345327,\n",
       "       22.717875, 19.843874, 21.516176, 23.265974, 20.525375, 22.270288,\n",
       "       21.304918, 20.306583, 21.354502, 22.36353 , 21.142616, 22.321863,\n",
       "       20.233692, 21.72376 , 21.624487, 21.762735, 20.71584 , 20.343176,\n",
       "       23.07917 , 20.805359, 21.712662, 20.811779, 20.951494, 20.949215,\n",
       "       22.486273, 21.4682  , 22.000494, 21.54287 , 20.76593 , 18.4987  ,\n",
       "...\n",
       "       22.238531, 22.01114 , 20.653875, 22.533146, 18.7616  , 22.92712 ,\n",
       "       22.772892, 20.638725, 21.617153, 22.110117, 20.683147, 20.287565,\n",
       "       21.473602, 20.360687, 20.129984, 22.784256, 21.363516, 22.375622,\n",
       "       21.241447, 20.87464 , 23.076136, 19.25994 , 21.385433, 22.249117,\n",
       "       22.085306, 22.650423, 21.090155, 22.412949, 21.987455, 23.243202,\n",
       "       20.412714, 21.852966, 23.245071, 21.367838, 22.247904, 20.768305,\n",
       "       22.291592, 20.41978 , 23.484415, 21.68727 , 20.392952, 19.707825,\n",
       "       19.77083 , 22.274082, 22.779932, 20.630014, 22.226202, 21.089088,\n",
       "       21.418669, 22.740156, 20.21282 , 21.071829, 24.65937 , 20.452387,\n",
       "       21.32365 , 21.3599  , 22.918636, 22.786556, 21.840544, 21.564074,\n",
       "       22.22144 , 20.025703, 22.040638, 21.124554, 20.698448, 21.371023,\n",
       "       22.331646, 21.26997 , 23.30028 , 21.517996, 22.144186, 21.34911 ,\n",
       "       22.896505, 22.007408, 20.8862  , 21.336258, 21.7848  , 21.189617,\n",
       "       22.411976, 22.313892, 21.150124, 22.963223, 20.371058, 24.37239 ,\n",
       "       21.71525 , 21.891321, 22.16821 , 22.673222, 22.714773, 20.6559  ,\n",
       "       22.251293, 22.27905 , 20.56293 , 23.54775 , 21.178247, 21.527853,\n",
       "       21.02164 , 22.404774, 19.963972, 23.33867 , 20.902256, 21.88493 ,\n",
       "       21.679316, 22.213196, 21.10179 , 22.259373, 22.25786 , 22.4372  ,\n",
       "       21.821867, 21.51776 , 21.89038 , 21.96389 , 21.622253, 22.971693,\n",
       "       21.301752, 21.808092, 21.791918, 20.504969], dtype=float32)\n",
       "Coordinates:\n",
       "    size        &lt;U3 &#x27;40t&#x27;\n",
       "    powertrain  &lt;U8 &#x27;ICEV-d&#x27;\n",
       "    parameter   &lt;U64 &#x27;fuel consumption&#x27;\n",
       "    year        int64 2030\n",
       "  * value       (value) int64 0 1 2 3 4 5 6 7 ... 243 244 245 246 247 248 249</pre><div class='xr-wrap' style='display:none'><div class='xr-header'><div class='xr-obj-type'>xarray.DataArray</div><div class='xr-array-name'></div><ul class='xr-dim-list'><li><span class='xr-has-index'>value</span>: 250</li></ul></div><ul class='xr-sections'><li class='xr-section-item'><div class='xr-array-wrap'><input id='section-5ede52e3-25b8-4760-bda1-ee22ceac72c1' class='xr-array-in' type='checkbox' checked><label for='section-5ede52e3-25b8-4760-bda1-ee22ceac72c1' title='Show/hide data repr'><svg class='icon xr-icon-database'><use xlink:href='#icon-database'></use></svg></label><div class='xr-array-preview xr-preview'><span>22.48 24.03 20.95 22.88 21.0 22.46 ... 22.97 21.3 21.81 21.79 20.5</span></div><div class='xr-array-data'><pre>array([22.476265, 24.030392, 20.949783, 22.875921, 20.997648, 22.462765,\n",
       "       20.478497, 20.348803, 22.781393, 21.504442, 20.820751, 20.45522 ,\n",
       "       22.560017, 21.298513, 21.513681, 22.765564, 22.195717, 22.05951 ,\n",
       "       22.14343 , 20.110367, 22.221323, 20.980978, 22.90551 , 22.08366 ,\n",
       "       22.012142, 21.030104, 20.454988, 22.589308, 20.758392, 22.946222,\n",
       "       21.522535, 20.411396, 20.90064 , 22.91827 , 22.35553 , 20.283709,\n",
       "       21.124735, 22.63765 , 22.940435, 23.391993, 19.64291 , 20.572765,\n",
       "       21.348635, 21.632069, 20.684261, 22.788364, 21.970455, 21.816519,\n",
       "       21.363228, 21.169304, 19.85431 , 20.88684 , 19.72356 , 21.73545 ,\n",
       "       20.312223, 20.375368, 21.462057, 21.212248, 23.429867, 21.088018,\n",
       "       19.220648, 22.176102, 21.285826, 23.018171, 20.483213, 22.456438,\n",
       "       20.207115, 22.123161, 22.585865, 22.681318, 21.185299, 21.526905,\n",
       "       22.010456, 23.170444, 23.153511, 20.860096, 20.5611  , 20.081598,\n",
       "       21.039711, 20.339928, 21.883982, 21.70317 , 20.599464, 22.991243,\n",
       "       22.12775 , 20.368402, 21.764275, 20.768902, 20.28753 , 20.345327,\n",
       "       22.717875, 19.843874, 21.516176, 23.265974, 20.525375, 22.270288,\n",
       "       21.304918, 20.306583, 21.354502, 22.36353 , 21.142616, 22.321863,\n",
       "       20.233692, 21.72376 , 21.624487, 21.762735, 20.71584 , 20.343176,\n",
       "       23.07917 , 20.805359, 21.712662, 20.811779, 20.951494, 20.949215,\n",
       "       22.486273, 21.4682  , 22.000494, 21.54287 , 20.76593 , 18.4987  ,\n",
       "...\n",
       "       22.238531, 22.01114 , 20.653875, 22.533146, 18.7616  , 22.92712 ,\n",
       "       22.772892, 20.638725, 21.617153, 22.110117, 20.683147, 20.287565,\n",
       "       21.473602, 20.360687, 20.129984, 22.784256, 21.363516, 22.375622,\n",
       "       21.241447, 20.87464 , 23.076136, 19.25994 , 21.385433, 22.249117,\n",
       "       22.085306, 22.650423, 21.090155, 22.412949, 21.987455, 23.243202,\n",
       "       20.412714, 21.852966, 23.245071, 21.367838, 22.247904, 20.768305,\n",
       "       22.291592, 20.41978 , 23.484415, 21.68727 , 20.392952, 19.707825,\n",
       "       19.77083 , 22.274082, 22.779932, 20.630014, 22.226202, 21.089088,\n",
       "       21.418669, 22.740156, 20.21282 , 21.071829, 24.65937 , 20.452387,\n",
       "       21.32365 , 21.3599  , 22.918636, 22.786556, 21.840544, 21.564074,\n",
       "       22.22144 , 20.025703, 22.040638, 21.124554, 20.698448, 21.371023,\n",
       "       22.331646, 21.26997 , 23.30028 , 21.517996, 22.144186, 21.34911 ,\n",
       "       22.896505, 22.007408, 20.8862  , 21.336258, 21.7848  , 21.189617,\n",
       "       22.411976, 22.313892, 21.150124, 22.963223, 20.371058, 24.37239 ,\n",
       "       21.71525 , 21.891321, 22.16821 , 22.673222, 22.714773, 20.6559  ,\n",
       "       22.251293, 22.27905 , 20.56293 , 23.54775 , 21.178247, 21.527853,\n",
       "       21.02164 , 22.404774, 19.963972, 23.33867 , 20.902256, 21.88493 ,\n",
       "       21.679316, 22.213196, 21.10179 , 22.259373, 22.25786 , 22.4372  ,\n",
       "       21.821867, 21.51776 , 21.89038 , 21.96389 , 21.622253, 22.971693,\n",
       "       21.301752, 21.808092, 21.791918, 20.504969], dtype=float32)</pre></div></div></li><li class='xr-section-item'><input id='section-becfc472-df93-41ac-a78e-4c75aa787516' class='xr-section-summary-in' type='checkbox'  checked><label for='section-becfc472-df93-41ac-a78e-4c75aa787516' class='xr-section-summary' >Coordinates: <span>(5)</span></label><div class='xr-section-inline-details'></div><div class='xr-section-details'><ul class='xr-var-list'><li class='xr-var-item'><div class='xr-var-name'><span>size</span></div><div class='xr-var-dims'>()</div><div class='xr-var-dtype'>&lt;U3</div><div class='xr-var-preview xr-preview'>&#x27;40t&#x27;</div><input id='attrs-73e9d21f-aac2-43fb-b769-c9ad8db347f5' class='xr-var-attrs-in' type='checkbox' disabled><label for='attrs-73e9d21f-aac2-43fb-b769-c9ad8db347f5' title='Show/Hide attributes'><svg class='icon xr-icon-file-text2'><use xlink:href='#icon-file-text2'></use></svg></label><input id='data-8ad9dcd5-f201-4fc1-8319-e8d9616f0b08' class='xr-var-data-in' type='checkbox'><label for='data-8ad9dcd5-f201-4fc1-8319-e8d9616f0b08' title='Show/Hide data repr'><svg class='icon xr-icon-database'><use xlink:href='#icon-database'></use></svg></label><div class='xr-var-attrs'><dl class='xr-attrs'></dl></div><div class='xr-var-data'><pre>array(&#x27;40t&#x27;, dtype=&#x27;&lt;U3&#x27;)</pre></div></li><li class='xr-var-item'><div class='xr-var-name'><span>powertrain</span></div><div class='xr-var-dims'>()</div><div class='xr-var-dtype'>&lt;U8</div><div class='xr-var-preview xr-preview'>&#x27;ICEV-d&#x27;</div><input id='attrs-a4f8cf21-a35b-4c1a-b23c-5f2b6e4ca0c5' class='xr-var-attrs-in' type='checkbox' disabled><label for='attrs-a4f8cf21-a35b-4c1a-b23c-5f2b6e4ca0c5' title='Show/Hide attributes'><svg class='icon xr-icon-file-text2'><use xlink:href='#icon-file-text2'></use></svg></label><input id='data-ce9ac6dd-a947-4b2a-bc40-1f89a3ed08e2' class='xr-var-data-in' type='checkbox'><label for='data-ce9ac6dd-a947-4b2a-bc40-1f89a3ed08e2' title='Show/Hide data repr'><svg class='icon xr-icon-database'><use xlink:href='#icon-database'></use></svg></label><div class='xr-var-attrs'><dl class='xr-attrs'></dl></div><div class='xr-var-data'><pre>array(&#x27;ICEV-d&#x27;, dtype=&#x27;&lt;U8&#x27;)</pre></div></li><li class='xr-var-item'><div class='xr-var-name'><span>parameter</span></div><div class='xr-var-dims'>()</div><div class='xr-var-dtype'>&lt;U64</div><div class='xr-var-preview xr-preview'>&#x27;fuel consumption&#x27;</div><input id='attrs-9b8b09ee-5ad4-4a99-b3a3-efe98bea4196' class='xr-var-attrs-in' type='checkbox' disabled><label for='attrs-9b8b09ee-5ad4-4a99-b3a3-efe98bea4196' title='Show/Hide attributes'><svg class='icon xr-icon-file-text2'><use xlink:href='#icon-file-text2'></use></svg></label><input id='data-7c0ba54e-d85b-410c-900f-0af04be14929' class='xr-var-data-in' type='checkbox'><label for='data-7c0ba54e-d85b-410c-900f-0af04be14929' title='Show/Hide data repr'><svg class='icon xr-icon-database'><use xlink:href='#icon-database'></use></svg></label><div class='xr-var-attrs'><dl class='xr-attrs'></dl></div><div class='xr-var-data'><pre>array(&#x27;fuel consumption&#x27;, dtype=&#x27;&lt;U64&#x27;)</pre></div></li><li class='xr-var-item'><div class='xr-var-name'><span>year</span></div><div class='xr-var-dims'>()</div><div class='xr-var-dtype'>int64</div><div class='xr-var-preview xr-preview'>2030</div><input id='attrs-4a3271e0-9c87-48c6-afe7-a80bd6267f26' class='xr-var-attrs-in' type='checkbox' disabled><label for='attrs-4a3271e0-9c87-48c6-afe7-a80bd6267f26' title='Show/Hide attributes'><svg class='icon xr-icon-file-text2'><use xlink:href='#icon-file-text2'></use></svg></label><input id='data-bbd907d9-a5f9-4388-a485-fe1b5c3a9d8f' class='xr-var-data-in' type='checkbox'><label for='data-bbd907d9-a5f9-4388-a485-fe1b5c3a9d8f' title='Show/Hide data repr'><svg class='icon xr-icon-database'><use xlink:href='#icon-database'></use></svg></label><div class='xr-var-attrs'><dl class='xr-attrs'></dl></div><div class='xr-var-data'><pre>array(2030)</pre></div></li><li class='xr-var-item'><div class='xr-var-name'><span class='xr-has-index'>value</span></div><div class='xr-var-dims'>(value)</div><div class='xr-var-dtype'>int64</div><div class='xr-var-preview xr-preview'>0 1 2 3 4 5 ... 245 246 247 248 249</div><input id='attrs-df51da62-cc7e-4d2a-90f5-0bf9ae06c5ac' class='xr-var-attrs-in' type='checkbox' disabled><label for='attrs-df51da62-cc7e-4d2a-90f5-0bf9ae06c5ac' title='Show/Hide attributes'><svg class='icon xr-icon-file-text2'><use xlink:href='#icon-file-text2'></use></svg></label><input id='data-bcfcfc98-88fa-493b-b508-890672c3410c' class='xr-var-data-in' type='checkbox'><label for='data-bcfcfc98-88fa-493b-b508-890672c3410c' title='Show/Hide data repr'><svg class='icon xr-icon-database'><use xlink:href='#icon-database'></use></svg></label><div class='xr-var-attrs'><dl class='xr-attrs'></dl></div><div class='xr-var-data'><pre>array([  0,   1,   2, ..., 247, 248, 249])</pre></div></li></ul></div></li><li class='xr-section-item'><input id='section-95619136-df72-44b8-aeda-6f0f8d5a8bd6' class='xr-section-summary-in' type='checkbox'  ><label for='section-95619136-df72-44b8-aeda-6f0f8d5a8bd6' class='xr-section-summary' >Indexes: <span>(1)</span></label><div class='xr-section-inline-details'></div><div class='xr-section-details'><ul class='xr-var-list'><li class='xr-var-item'><div class='xr-index-name'><div>value</div></div><div class='xr-index-preview'>PandasIndex</div><div></div><input id='index-34b1a428-53ec-4973-8cf4-01e6b34b9e9c' class='xr-index-data-in' type='checkbox'/><label for='index-34b1a428-53ec-4973-8cf4-01e6b34b9e9c' title='Show/Hide index repr'><svg class='icon xr-icon-database'><use xlink:href='#icon-database'></use></svg></label><div class='xr-index-data'><pre>PandasIndex(Int64Index([  0,   1,   2,   3,   4,   5,   6,   7,   8,   9,\n",
       "            ...\n",
       "            240, 241, 242, 243, 244, 245, 246, 247, 248, 249],\n",
       "           dtype=&#x27;int64&#x27;, name=&#x27;value&#x27;, length=250))</pre></div></li></ul></div></li><li class='xr-section-item'><input id='section-1a99e851-deb1-4938-9740-abd35e98c9c3' class='xr-section-summary-in' type='checkbox' disabled ><label for='section-1a99e851-deb1-4938-9740-abd35e98c9c3' class='xr-section-summary'  title='Expand/collapse section'>Attributes: <span>(0)</span></label><div class='xr-section-inline-details'></div><div class='xr-section-details'><dl class='xr-attrs'></dl></div></li></ul></div></div>"
      ],
      "text/plain": [
       "<xarray.DataArray (value: 250)>\n",
       "array([22.476265, 24.030392, 20.949783, 22.875921, 20.997648, 22.462765,\n",
       "       20.478497, 20.348803, 22.781393, 21.504442, 20.820751, 20.45522 ,\n",
       "       22.560017, 21.298513, 21.513681, 22.765564, 22.195717, 22.05951 ,\n",
       "       22.14343 , 20.110367, 22.221323, 20.980978, 22.90551 , 22.08366 ,\n",
       "       22.012142, 21.030104, 20.454988, 22.589308, 20.758392, 22.946222,\n",
       "       21.522535, 20.411396, 20.90064 , 22.91827 , 22.35553 , 20.283709,\n",
       "       21.124735, 22.63765 , 22.940435, 23.391993, 19.64291 , 20.572765,\n",
       "       21.348635, 21.632069, 20.684261, 22.788364, 21.970455, 21.816519,\n",
       "       21.363228, 21.169304, 19.85431 , 20.88684 , 19.72356 , 21.73545 ,\n",
       "       20.312223, 20.375368, 21.462057, 21.212248, 23.429867, 21.088018,\n",
       "       19.220648, 22.176102, 21.285826, 23.018171, 20.483213, 22.456438,\n",
       "       20.207115, 22.123161, 22.585865, 22.681318, 21.185299, 21.526905,\n",
       "       22.010456, 23.170444, 23.153511, 20.860096, 20.5611  , 20.081598,\n",
       "       21.039711, 20.339928, 21.883982, 21.70317 , 20.599464, 22.991243,\n",
       "       22.12775 , 20.368402, 21.764275, 20.768902, 20.28753 , 20.345327,\n",
       "       22.717875, 19.843874, 21.516176, 23.265974, 20.525375, 22.270288,\n",
       "       21.304918, 20.306583, 21.354502, 22.36353 , 21.142616, 22.321863,\n",
       "       20.233692, 21.72376 , 21.624487, 21.762735, 20.71584 , 20.343176,\n",
       "       23.07917 , 20.805359, 21.712662, 20.811779, 20.951494, 20.949215,\n",
       "       22.486273, 21.4682  , 22.000494, 21.54287 , 20.76593 , 18.4987  ,\n",
       "...\n",
       "       22.238531, 22.01114 , 20.653875, 22.533146, 18.7616  , 22.92712 ,\n",
       "       22.772892, 20.638725, 21.617153, 22.110117, 20.683147, 20.287565,\n",
       "       21.473602, 20.360687, 20.129984, 22.784256, 21.363516, 22.375622,\n",
       "       21.241447, 20.87464 , 23.076136, 19.25994 , 21.385433, 22.249117,\n",
       "       22.085306, 22.650423, 21.090155, 22.412949, 21.987455, 23.243202,\n",
       "       20.412714, 21.852966, 23.245071, 21.367838, 22.247904, 20.768305,\n",
       "       22.291592, 20.41978 , 23.484415, 21.68727 , 20.392952, 19.707825,\n",
       "       19.77083 , 22.274082, 22.779932, 20.630014, 22.226202, 21.089088,\n",
       "       21.418669, 22.740156, 20.21282 , 21.071829, 24.65937 , 20.452387,\n",
       "       21.32365 , 21.3599  , 22.918636, 22.786556, 21.840544, 21.564074,\n",
       "       22.22144 , 20.025703, 22.040638, 21.124554, 20.698448, 21.371023,\n",
       "       22.331646, 21.26997 , 23.30028 , 21.517996, 22.144186, 21.34911 ,\n",
       "       22.896505, 22.007408, 20.8862  , 21.336258, 21.7848  , 21.189617,\n",
       "       22.411976, 22.313892, 21.150124, 22.963223, 20.371058, 24.37239 ,\n",
       "       21.71525 , 21.891321, 22.16821 , 22.673222, 22.714773, 20.6559  ,\n",
       "       22.251293, 22.27905 , 20.56293 , 23.54775 , 21.178247, 21.527853,\n",
       "       21.02164 , 22.404774, 19.963972, 23.33867 , 20.902256, 21.88493 ,\n",
       "       21.679316, 22.213196, 21.10179 , 22.259373, 22.25786 , 22.4372  ,\n",
       "       21.821867, 21.51776 , 21.89038 , 21.96389 , 21.622253, 22.971693,\n",
       "       21.301752, 21.808092, 21.791918, 20.504969], dtype=float32)\n",
       "Coordinates:\n",
       "    size        <U3 '40t'\n",
       "    powertrain  <U8 'ICEV-d'\n",
       "    parameter   <U64 'fuel consumption'\n",
       "    year        int64 2030\n",
       "  * value       (value) int64 0 1 2 3 4 5 6 7 ... 243 244 245 246 247 248 249"
      ]
     },
     "execution_count": 10,
     "metadata": {},
     "output_type": "execute_result"
    }
   ],
   "source": [
    "tm.array.sel(size='40t', year=2030, parameter='fuel consumption', powertrain=\"ICEV-d\") * 100"
   ]
  },
  {
   "cell_type": "markdown",
   "metadata": {},
   "source": [
    "We can look at noise emissions. We see that most noise is emitted in rural environment (because the Long haul driving cycle is mostly taking place outside of cities). Noise emissions are dependent of the driving cycle chosen."
   ]
  },
  {
   "cell_type": "code",
   "execution_count": 12,
   "metadata": {},
   "outputs": [
    {
     "data": {
      "text/plain": [
       "Text(0, 0.5, 'joules per km')"
      ]
     },
     "execution_count": 12,
     "metadata": {},
     "output_type": "execute_result"
    },
    {
     "data": {
      "image/png": "[encoded data removed]",
      "text/plain": [
       "<Figure size 640x480 with 1 Axes>"
      ]
     },
     "metadata": {},
     "output_type": "display_data"
    }
   ],
   "source": [
    "list_param = list(tm.array.parameter.values)\n",
    "noise_emissions = [x for x in list_param if 'noise' in x]\n",
    "data = tm.array.sel(parameter=noise_emissions, year=2030, size='40t', powertrain='ICEV-g', value=0)\\\n",
    "    .to_dataframe(name='noise emissions')['noise emissions']\n",
    "data[data>0].plot(kind='bar')\n",
    "plt.ylabel('joules per km')"
   ]
  },
  {
   "cell_type": "markdown",
   "metadata": {},
   "source": [
    "### Calculation of the inventories\n",
    "\n",
    "`InventoryTruck` takes several arguments:\n",
    "\n",
    "* `TruckModel`, mandatory: instance of TruckModel\n",
    "* `background_configuration`, optional: dictionary where specific parameters for electricity mix, battery technology, etc. can be defined\n",
    "* `scenario`, optional: background prospective energy scenario that should be used. Can be \"SSP2-NPi\", \"SSP2-PkBudg1150\", \"SSP2-PkBudg500\", \"static\". \"SSP2-Base\" is used if unspecified. More info on REMIND scenarios [here](https://premise.readthedocs.io/en/latest/introduction.html#default-iam-scenarios)\n",
    "* `method`, optional: impact characterization method that should be used. Can be: \"recipe\" or \"ilcd\". \"recipe\" is used if unspecified.\n",
    "* `indicator`, optional: can be \"midpoint\" or \"endpoint\". Endpoint indicators only available for Recipe 2008. \"midpoint\" used if unspecified.\n",
    "* `functional_unit`: units impacts should be normalized by. Can be `vkm` for vehicle-kilometer, or `tkm` for ton-kilometer.\n",
    "\n",
    "\n",
    "Hence, it can be as simple as this:"
   ]
  },
  {
   "cell_type": "code",
   "execution_count": 37,
   "metadata": {},
   "outputs": [
    {
     "name": "stdout",
     "output_type": "stream",
     "text": [
      "Finding solutions for trucks...\n",
      "Urban delivery driving cycle is selected. \n",
      "Vehicles will be designed to achieve a minimal range of 150 km.\n",
      "\n",
      "\n",
      "'-' vehicle with driving mass superior to the permissible gross weight.\n",
      "'/' vehicle not available for the specified year.\n",
      "+-------------------+-----+\n",
      "| Payload (in tons) | 40t |\n",
      "+-------------------+-----+\n",
      "|     BEV, 2020     | 8.8 |\n",
      "|     FCEV, 2020    | 8.8 |\n",
      "|    HEV-d, 2020    | 8.8 |\n",
      "|    ICEV-d, 2020   | 8.8 |\n",
      "|    ICEV-g, 2020   | 8.8 |\n",
      "|    PHEV-d, 2020   | 8.8 |\n",
      "+-------------------+-----+\n",
      "****************** IMPORTANT BACKGROUND PARAMETERS ******************\n",
      " * The country of use is CH.\n",
      " * Power and energy batteries produced in CN using ['NMC-622'] chemistry/ies\n",
      " * between 2020 and 2031, % of renewable: 75.0.\n",
      " * electrolysis is completed by smr - natural gas.\n",
      " \t * in 2020 _________________________________________ 0%\n",
      " * cng is completed by biogas - sewage sludge.\n",
      " \t * in 2020 _________________________________________ 22.0%\n",
      " * diesel is completed by biodiesel - cooking oil.\n",
      " \t * in 2020 _________________________________________ 5.0%\n",
      " * *********************************************************************\n"
     ]
    }
   ],
   "source": [
    "from carculator_truck import *\n",
    "tip = TruckInputParameters()\n",
    "\n",
    "tip.static()\n",
    "dcts, array = fill_xarray_from_input_parameters(tip, scope={\"size\":[\"40t\"], \"year\":[2020]})\n",
    "tm = TruckModel(array, cycle=\"Urban delivery\")\n",
    "tm.set_all()\n",
    "ic = InventoryTruck(tm)"
   ]
  },
  {
   "cell_type": "code",
   "execution_count": 38,
   "metadata": {},
   "outputs": [
    {
     "data": {
      "text/plain": [
       "'vkm'"
      ]
     },
     "execution_count": 38,
     "metadata": {},
     "output_type": "execute_result"
    }
   ],
   "source": [
    "ic.func_unit"
   ]
  },
  {
   "cell_type": "code",
   "execution_count": 39,
   "metadata": {},
   "outputs": [
    {
     "data": {
      "text/plain": [
       "'recipe'"
      ]
     },
     "execution_count": 39,
     "metadata": {},
     "output_type": "execute_result"
    }
   ],
   "source": [
    "ic.method"
   ]
  },
  {
   "cell_type": "code",
   "execution_count": 40,
   "metadata": {},
   "outputs": [
    {
     "data": {
      "text/plain": [
       "'midpoint'"
      ]
     },
     "execution_count": 40,
     "metadata": {},
     "output_type": "execute_result"
    }
   ],
   "source": [
    "ic.indicator"
   ]
  },
  {
   "cell_type": "code",
   "execution_count": 41,
   "metadata": {},
   "outputs": [
    {
     "data": {
      "text/plain": [
       "{'GWP100a': {'method': 'IPCC 2013',\n",
       "  'category': 'GWP100a',\n",
       "  'type': 'midpoint',\n",
       "  'abbreviation': 'GWP100',\n",
       "  'unit': 'kg CO2-Eq.',\n",
       "  'source': 'https://www.ipcc.ch'},\n",
       " 'freshwater ecotoxicity': {'method': 'ReCiPe 2008 Midpoint (H) V1.13',\n",
       "  'category': 'freshwater ecotoxicity',\n",
       "  'type': 'midpoint',\n",
       "  'abbreviation': 'FETPinf',\n",
       "  'unit': 'kg 1,4-DC.',\n",
       "  'source': 'https://www.rivm.nl/documenten/6recipe111'},\n",
       " 'human toxicity': {'method': 'ReCiPe 2008 Midpoint (H) V1.13',\n",
       "  'category': 'human toxicity',\n",
       "  'type': 'midpoint',\n",
       "  'abbreviation': 'HTPinf',\n",
       "  'unit': 'kg 1,4-DC.',\n",
       "  'source': 'https://www.rivm.nl/documenten/6recipe111'},\n",
       " 'marine ecotoxicity': {'method': 'ReCiPe 2008 Midpoint (H) V1.13',\n",
       "  'category': 'marine ecotoxicity',\n",
       "  'type': 'midpoint',\n",
       "  'abbreviation': 'METPinf',\n",
       "  'unit': 'kg 1,4-DB.',\n",
       "  'source': 'https://www.rivm.nl/documenten/6recipe111'},\n",
       " 'terrestrial ecotoxicity': {'method': 'ReCiPe 2008 Midpoint (H) V1.13',\n",
       "  'category': 'terrestrial ecotoxicity',\n",
       "  'type': 'midpoint',\n",
       "  'abbreviation': 'TETPinf',\n",
       "  'unit': 'kg 1,4-DC.',\n",
       "  'source': 'https://www.rivm.nl/documenten/6recipe111'},\n",
       " 'metal depletion': {'method': 'ReCiPe 2008 Midpoint (H) V1.13',\n",
       "  'category': 'metal depletion',\n",
       "  'type': 'midpoint',\n",
       "  'abbreviation': 'MDP',\n",
       "  'unit': 'kg Fe-Eq.',\n",
       "  'source': 'https://www.rivm.nl/documenten/6recipe111'},\n",
       " 'agricultural land occupation': {'method': 'ReCiPe 2008 Midpoint (H) V1.13',\n",
       "  'category': 'agricultural land occupation',\n",
       "  'type': 'midpoint',\n",
       "  'abbreviation': 'ALOP',\n",
       "  'unit': 'square meter-year',\n",
       "  'source': 'https://www.rivm.nl/documenten/6recipe111'},\n",
       " 'climate change': {'method': 'ReCiPe 2008 Midpoint (H) V1.13',\n",
       "  'category': 'climate change',\n",
       "  'type': 'midpoint',\n",
       "  'abbreviation': 'GWP100',\n",
       "  'unit': 'kg CO2-Eq.',\n",
       "  'source': 'https://www.rivm.nl/documenten/6recipe111'},\n",
       " 'fossil depletion': {'method': 'ReCiPe 2008 Midpoint (H) V1.13',\n",
       "  'category': 'fossil depletion',\n",
       "  'type': 'midpoint',\n",
       "  'abbreviation': 'FDP',\n",
       "  'unit': 'kg oil-Eq.',\n",
       "  'source': 'https://www.rivm.nl/documenten/6recipe111'},\n",
       " 'freshwater eutrophication': {'method': 'ReCiPe 2008 Midpoint (H) V1.13',\n",
       "  'category': 'freshwater eutrophication',\n",
       "  'type': 'midpoint',\n",
       "  'abbreviation': 'FEP',\n",
       "  'unit': 'kg P-Eq.',\n",
       "  'source': 'https://www.rivm.nl/documenten/6recipe111'},\n",
       " 'ionising radiation': {'method': 'ReCiPe 2008 Midpoint (H) V1.13',\n",
       "  'category': 'ionising radiation',\n",
       "  'type': 'midpoint',\n",
       "  'abbreviation': 'IRP_HE',\n",
       "  'unit': 'kg U235-Eq.',\n",
       "  'source': 'https://www.rivm.nl/documenten/6recipe111'},\n",
       " 'marine eutrophication': {'method': 'ReCiPe 2008 Midpoint (H) V1.13',\n",
       "  'category': 'marine eutrophication',\n",
       "  'type': 'midpoint',\n",
       "  'abbreviation': 'MEP',\n",
       "  'unit': 'kg N-Eq.',\n",
       "  'source': 'https://www.rivm.nl/documenten/6recipe111'},\n",
       " 'natural land transformation': {'method': 'ReCiPe 2008 Midpoint (H) V1.13',\n",
       "  'category': 'natural land transformation',\n",
       "  'type': 'midpoint',\n",
       "  'abbreviation': 'NLTP',\n",
       "  'unit': 'square meter',\n",
       "  'source': 'https://www.rivm.nl/documenten/6recipe111'},\n",
       " 'ozone depletion': {'method': 'ReCiPe 2008 Midpoint (H) V1.13',\n",
       "  'category': 'ozone depletion',\n",
       "  'type': 'midpoint',\n",
       "  'abbreviation': 'ODPinf',\n",
       "  'unit': 'kg CFC-11.',\n",
       "  'source': 'https://www.rivm.nl/documenten/6recipe111'},\n",
       " 'particulate matter formation': {'method': 'ReCiPe 2008 Midpoint (H) V1.13',\n",
       "  'category': 'particulate matter formation',\n",
       "  'type': 'midpoint',\n",
       "  'abbreviation': 'PMFP',\n",
       "  'unit': 'kg PM10-Eq.',\n",
       "  'source': 'https://www.rivm.nl/documenten/6recipe111'},\n",
       " 'photochemical oxidant formation': {'method': 'ReCiPe 2008 Midpoint (H) V1.13',\n",
       "  'category': 'photochemical oxidant formation',\n",
       "  'type': 'midpoint',\n",
       "  'abbreviation': 'POFP',\n",
       "  'unit': 'kg NMVOC-.',\n",
       "  'source': 'https://www.rivm.nl/documenten/6recipe111'},\n",
       " 'terrestrial acidification': {'method': 'ReCiPe 2008 Midpoint (H) V1.13',\n",
       "  'category': 'terrestrial acidification',\n",
       "  'type': 'midpoint',\n",
       "  'abbreviation': 'TAP100',\n",
       "  'unit': 'kg SO2-Eq.',\n",
       "  'source': 'https://www.rivm.nl/documenten/6recipe111'},\n",
       " 'urban land occupation': {'method': 'ReCiPe 2008 Midpoint (H) V1.13',\n",
       "  'category': 'urban land occupation',\n",
       "  'type': 'midpoint',\n",
       "  'abbreviation': 'ULOP',\n",
       "  'unit': 'square meter-year',\n",
       "  'source': 'https://www.rivm.nl/documenten/6recipe111'},\n",
       " 'water depletion': {'method': 'ReCiPe 2008 Midpoint (H) V1.13',\n",
       "  'category': 'water depletion',\n",
       "  'type': 'midpoint',\n",
       "  'abbreviation': 'WDP',\n",
       "  'unit': 'm3 water-.',\n",
       "  'source': 'https://www.rivm.nl/documenten/6recipe111'},\n",
       " 'GWP100a, incl. bio CO2': {'method': 'IPCC 2013',\n",
       "  'category': 'GWP100a, incl. bio CO2',\n",
       "  'type': 'midpoint',\n",
       "  'abbreviation': 'GWP100, incl. bio CO2',\n",
       "  'unit': 'kg CO2-Eq.',\n",
       "  'source': 'https://github.com/polca/premise_gwp'},\n",
       " 'noise emissions': {'method': 'Additional indicator',\n",
       "  'category': 'noise emissions',\n",
       "  'type': 'midpoint',\n",
       "  'abbreviation': 'HN',\n",
       "  'unit': 'Person-Pascal.second',\n",
       "  'source': 'https://onlinelibrary.wiley.com/doi/full/10.1111/jiec.12837'},\n",
       " 'renewable primary energy': {'method': 'Additional indicator',\n",
       "  'category': 'renewable primary energy',\n",
       "  'type': 'midpoint',\n",
       "  'abbreviation': 'RPE',\n",
       "  'unit': 'megajoule',\n",
       "  'source': 'ecoinvent 3.8'},\n",
       " 'non-renewable primary energy': {'method': 'Additional indicator',\n",
       "  'category': 'non-renewable primary energy',\n",
       "  'type': 'midpoint',\n",
       "  'abbreviation': 'NRPE',\n",
       "  'unit': 'megajoule',\n",
       "  'source': 'ecoinvent 3.8'}}"
      ]
     },
     "execution_count": 41,
     "metadata": {},
     "output_type": "execute_result"
    }
   ],
   "source": [
    "ic.impact_categories"
   ]
  },
  {
   "cell_type": "code",
   "execution_count": 42,
   "metadata": {},
   "outputs": [],
   "source": [
    "res = ic.calculate_impacts()"
   ]
  },
  {
   "cell_type": "code",
   "execution_count": 43,
   "metadata": {},
   "outputs": [
    {
     "data": {
      "text/plain": [
       "Text(0, 0.5, 'kg CO2-eq./tkm')"
      ]
     },
     "execution_count": 43,
     "metadata": {},
     "output_type": "execute_result"
    },
    {
     "data": {
      "image/png": "[encoded data removed]",
      "text/plain": [
       "<Figure size 640x480 with 1 Axes>"
      ]
     },
     "metadata": {},
     "output_type": "display_data"
    }
   ],
   "source": [
    "res.sel(value=0, year=2020, impact_category=\"climate change\").to_dataframe(\"val\").unstack()[\"val\"].plot(kind=\"bar\", stacked=True)\n",
    "plt.ylabel(\"kg CO2-eq./tkm\")"
   ]
  },
  {
   "cell_type": "markdown",
   "metadata": {},
   "source": [
    "Let's look at the same results, but based on a ton-kilometer"
   ]
  },
  {
   "cell_type": "code",
   "execution_count": 44,
   "metadata": {},
   "outputs": [
    {
     "name": "stdout",
     "output_type": "stream",
     "text": [
      "****************** IMPORTANT BACKGROUND PARAMETERS ******************\n",
      " * The country of use is CH.\n",
      " * Power and energy batteries produced in CN using ['NMC-622'] chemistry/ies\n",
      " * between 2020 and 2031, % of renewable: 75.0.\n",
      " * electrolysis is completed by smr - natural gas.\n",
      " \t * in 2020 _________________________________________ 0%\n",
      " * cng is completed by biogas - sewage sludge.\n",
      " \t * in 2020 _________________________________________ 22.0%\n",
      " * diesel is completed by biodiesel - cooking oil.\n",
      " \t * in 2020 _________________________________________ 5.0%\n",
      " * *********************************************************************\n"
     ]
    },
    {
     "data": {
      "text/plain": [
       "Text(0, 0.5, 'kg CO2-eq./tkm')"
      ]
     },
     "execution_count": 44,
     "metadata": {},
     "output_type": "execute_result"
    },
    {
     "data": {
      "image/png": "[encoded data removed]",
      "text/plain": [
       "<Figure size 640x480 with 1 Axes>"
      ]
     },
     "metadata": {},
     "output_type": "display_data"
    }
   ],
   "source": [
    "ic = InventoryTruck(tm, functional_unit=\"tkm\")\n",
    "res = ic.calculate_impacts()\n",
    "res.sel(value=0, year=2020, impact_category=\"climate change\").to_dataframe(\"val\").unstack()[\"val\"].plot(kind=\"bar\", stacked=True)\n",
    "plt.ylabel(\"kg CO2-eq./tkm\")"
   ]
  },
  {
   "cell_type": "markdown",
   "metadata": {},
   "source": [
    "Or more complex, like this below, where:\n",
    "* an electricity mix is defined (100% hydro)\n",
    "* a battery type and place of manufacture are defined. Battery type can be \"NMC\", \"NCA\" or \"LFP\". Place of production can be any alpha-2 country code, in addition to \"RER\".\n",
    "* a hydrogen tank type is defined. It can be \"carbon fiber\", \"hdpe\" or \"aluminium\". It refers to the lining system.\n",
    "* a climate-ambitious [REMIND](https://www.pik-potsdam.de/en/institute/departments/transformation-pathways/models/remind) PkBudg1150 energy scenario is chosen to adapt the ecoinvent background database.\n",
    "* the endpoint indicators of the Recipe 2008 method are selected (ReCiPe midpoint and ILCD midpoint indicators also available)."
   ]
  },
  {
   "cell_type": "code",
   "execution_count": 45,
   "metadata": {},
   "outputs": [
    {
     "data": {
      "text/plain": [
       "['Hydro',\n",
       " 'Nuclear',\n",
       " 'Gas',\n",
       " 'Solar',\n",
       " 'Wind',\n",
       " 'Biomass',\n",
       " 'Coal',\n",
       " 'Oil',\n",
       " 'Geothermal',\n",
       " 'Waste',\n",
       " 'Biogas CCS',\n",
       " 'Biomass CCS',\n",
       " 'Coal CCS',\n",
       " 'Gas CCS',\n",
       " 'Wood CCS',\n",
       " 'Hydro, reservoir',\n",
       " 'Gas CCGT',\n",
       " 'Gas CHP',\n",
       " 'Solar, thermal',\n",
       " 'Wind, offshore',\n",
       " 'Lignite']"
      ]
     },
     "execution_count": 45,
     "metadata": {},
     "output_type": "execute_result"
    }
   ],
   "source": [
    "# electricity technologies available to make up mix\n",
    "list(ic.elec_map.keys())"
   ]
  },
  {
   "cell_type": "code",
   "execution_count": 14,
   "metadata": {},
   "outputs": [],
   "source": [
    "# 100% hydropower\n",
    "bc={\n",
    "    \"custom electricity mix\": [\n",
    "        [1,0,0,0,0,0,0,0,0,0,0,0,0,0,0,0,0,0,0,0,0],\n",
    "    ]\n",
    "}"
   ]
  },
  {
   "cell_type": "code",
   "execution_count": 15,
   "metadata": {},
   "outputs": [
    {
     "name": "stdout",
     "output_type": "stream",
     "text": [
      "Finding solutions for trucks...\n",
      "Urban delivery driving cycle is selected. \n",
      "Vehicles will be designed to achieve a minimal range of 150 km.\n",
      "\n",
      "\n",
      "'-' vehicle with driving mass superior to the permissible gross weight.\n",
      "'/' vehicle not available for the specified year.\n",
      "+-------------------+-----+\n",
      "| Payload (in tons) | 40t |\n",
      "+-------------------+-----+\n",
      "|    ICEV-d, 2020   | 8.8 |\n",
      "|     BEV, 2020     | 8.8 |\n",
      "+-------------------+-----+\n",
      "****************** IMPORTANT BACKGROUND PARAMETERS ******************\n",
      " * The country of use is DE.\n",
      " * Power and energy batteries produced in NO using ['LFP'] chemistry/ies\n",
      " * between 2020 and 2031, % of renewable: 100.0.\n",
      " * diesel is completed by biodiesel - cooking oil.\n",
      " \t * in 2020 _________________________________________ 5.0%\n",
      " * *********************************************************************\n"
     ]
    }
   ],
   "source": [
    "from carculator_truck import *\n",
    "tip = TruckInputParameters()\n",
    "\n",
    "scope={\n",
    "    \"powertrain\":[\"ICEV-d\", \"BEV\"],\n",
    "    \"size\":[\"40t\"],\n",
    "    \"year\":[2020]\n",
    "}\n",
    "\n",
    "tip.static()\n",
    "dcts, array = fill_xarray_from_input_parameters(tip, scope=scope)\n",
    "tm = TruckModel(\n",
    "    array,\n",
    "    cycle=\"Urban delivery\",\n",
    "    country=\"DE\",\n",
    "    energy_storage={\n",
    "        \"electric\": {\n",
    "            (\"BEV\", \"40t\", 2020): \"LFP\"\n",
    "        },\n",
    "        \"origin\": \"NO\",\n",
    "        \"hydrogen\": {\n",
    "            \"tank type\": \"carbon fiber\"\n",
    "        }\n",
    "    }\n",
    ")\n",
    "tm.set_all()\n",
    "\n",
    "ic = InventoryTruck(\n",
    "    tm,\n",
    "    background_configuration=bc,\n",
    "    scenario=\"SSP2-PkBudg1150\",\n",
    "    method=\"recipe\",\n",
    "    indicator=\"endpoint\"\n",
    ")"
   ]
  },
  {
   "cell_type": "code",
   "execution_count": 16,
   "metadata": {},
   "outputs": [
    {
     "data": {
      "text/plain": [
       "array([[1., 0., 0., 0., 0., 0., 0., 0., 0., 0., 0., 0., 0., 0., 0., 0.,\n",
       "        0., 0., 0., 0., 0.]])"
      ]
     },
     "execution_count": 16,
     "metadata": {},
     "output_type": "execute_result"
    }
   ],
   "source": [
    "ic.mix"
   ]
  },
  {
   "cell_type": "code",
   "execution_count": 17,
   "metadata": {},
   "outputs": [
    {
     "data": {
      "text/plain": [
       "'vkm'"
      ]
     },
     "execution_count": 17,
     "metadata": {},
     "output_type": "execute_result"
    }
   ],
   "source": [
    "ic.func_unit"
   ]
  },
  {
   "cell_type": "markdown",
   "metadata": {},
   "source": [
    "We can have a look at the underlying technology matrix, which has the dimensions [iterations, inputs, outputs]."
   ]
  },
  {
   "cell_type": "code",
   "execution_count": 2,
   "metadata": {},
   "outputs": [
    {
     "data": {
      "text/plain": [
       "array([[[1., 0., 0., 0., 0., 0., 0., 0., 0., 0.],\n",
       "        [0., 1., 0., 0., 0., 0., 0., 0., 0., 0.],\n",
       "        [0., 0., 1., 0., 0., 0., 0., 0., 0., 0.],\n",
       "        [0., 0., 0., 1., 0., 0., 0., 0., 0., 0.],\n",
       "        [0., 0., 0., 0., 1., 0., 0., 0., 0., 0.],\n",
       "        [0., 0., 0., 0., 0., 1., 0., 0., 0., 0.],\n",
       "        [0., 0., 0., 0., 0., 0., 1., 0., 0., 0.],\n",
       "        [0., 0., 0., 0., 0., 0., 0., 1., 0., 0.],\n",
       "        [0., 0., 0., 0., 0., 0., 0., 0., 1., 0.],\n",
       "        [0., 0., 0., 0., 0., 0., 0., 0., 0., 1.]]])"
      ]
     },
     "execution_count": 2,
     "metadata": {},
     "output_type": "execute_result"
    }
   ],
   "source": [
    "ic.A[:10,:10, :10]"
   ]
  },
  {
   "cell_type": "markdown",
   "metadata": {},
   "source": [
    "The labels of its rows and columns"
   ]
  },
  {
   "cell_type": "code",
   "execution_count": 3,
   "metadata": {},
   "outputs": [
    {
     "data": {
      "text/plain": [
       "[('1-Pentene', ('air',), 'kilogram'),\n",
       " ('1-Pentene', ('air', 'low population density, long-term'), 'kilogram'),\n",
       " ('1-Pentene', ('air', 'non-urban air or from high stacks'), 'kilogram'),\n",
       " ('1-Pentene', ('air', 'urban air close to ground'), 'kilogram'),\n",
       " ('2,4-D', ('soil', 'agricultural'), 'kilogram'),\n",
       " ('AOX, Adsorbable Organic Halogen as Cl',\n",
       "  ('water', 'surface water'),\n",
       "  'kilogram'),\n",
       " ('ATR BM + CCS (MDEA), 98 (average), with digestate incineration, 25 bar',\n",
       "  'CH',\n",
       "  'megajoule',\n",
       "  'Hydrogen, gaseous, 25 bar'),\n",
       " ('ATR BM, with digestate incineration, 25 bar',\n",
       "  'CH',\n",
       "  'megajoule',\n",
       "  'Hydrogen, gaseous, 25 bar'),\n",
       " ('ATR NG + CCS (MDEA), 98 (average), 25 bar',\n",
       "  'RER',\n",
       "  'megajoule',\n",
       "  'Hydrogen, gaseous, 25 bar'),\n",
       " ('ATR NG, 25 bar', 'RER', 'megajoule', 'Hydrogen, gaseous, 25 bar')]"
      ]
     },
     "execution_count": 3,
     "metadata": {},
     "output_type": "execute_result"
    }
   ],
   "source": [
    "list(ic.inputs.keys())[:10]"
   ]
  },
  {
   "cell_type": "markdown",
   "metadata": {},
   "source": [
    "You can check the available indicators from the method you selected."
   ]
  },
  {
   "cell_type": "code",
   "execution_count": 4,
   "metadata": {},
   "outputs": [
    {
     "data": {
      "text/plain": [
       "{'Ecosystems': {'method': 'ReCiPe 2008 Endpoint (H, A) V1.13',\n",
       "  'category': 'Ecosystems',\n",
       "  'type': 'endpoint',\n",
       "  'abbreviation': '',\n",
       "  'unit': 'species.lost',\n",
       "  'source': 'https://www.rivm.nl/documenten/6recipe111'},\n",
       " 'Human health': {'method': 'ReCiPe 2008 Endpoint (H, A) V1.13',\n",
       "  'category': 'Human health',\n",
       "  'type': 'endpoint',\n",
       "  'abbreviation': '',\n",
       "  'unit': 'DALY',\n",
       "  'source': 'https://www.rivm.nl/documenten/6recipe111'},\n",
       " 'Resources': {'method': 'ReCiPe 2008 Endpoint (H, A) V1.13',\n",
       "  'category': 'Resources',\n",
       "  'type': 'endpoint',\n",
       "  'abbreviation': '',\n",
       "  'unit': 'USD',\n",
       "  'source': 'https://www.rivm.nl/documenten/6recipe111'},\n",
       " 'Noise': {'method': 'Cucurachi et al. 2019',\n",
       "  'category': 'Noise',\n",
       "  'type': 'endpoint',\n",
       "  'abbreviation': '',\n",
       "  'unit': 'DALY',\n",
       "  'source': 'https://onlinelibrary.wiley.com/doi/full/10.1111/jiec.12837'}}"
      ]
     },
     "execution_count": 4,
     "metadata": {},
     "output_type": "execute_result"
    }
   ],
   "source": [
    "ic.impact_categories"
   ]
  },
  {
   "cell_type": "markdown",
   "metadata": {},
   "source": [
    "# Impact assessment\n",
    "\n",
    "And then you can solve the inventories and characterize impacts."
   ]
  },
  {
   "cell_type": "code",
   "execution_count": 5,
   "metadata": {},
   "outputs": [],
   "source": [
    "results = ic.calculate_impacts()"
   ]
  },
  {
   "cell_type": "code",
   "execution_count": 7,
   "metadata": {},
   "outputs": [
    {
     "data": {
      "image/png": "[encoded data removed]",
      "text/plain": [
       "<Figure size 1000x500 with 1 Axes>"
      ]
     },
     "metadata": {},
     "output_type": "display_data"
    }
   ],
   "source": [
    "import matplotlib.pyplot as plt\n",
    "results.sel(impact_category='Human health', size='40t', value=0)\\\n",
    "    .to_dataframe('impact')\\\n",
    "    .unstack(level=2)['impact']\\\n",
    "    .plot(kind='bar',\n",
    "                stacked=True,\n",
    "         figsize=(10,5))\n",
    "plt.ylabel('DALY/ton-km')\n",
    "plt.show()"
   ]
  },
  {
   "cell_type": "markdown",
   "metadata": {},
   "source": [
    "Or with uncertainty (150 iterations). We just need to specify the number of iterations to `.stochastic()`.\n",
    "\n",
    "Note: only the uncertainty at the vehicle level (incl. its components) is considered. Hence, no uncertainty is considered in the \"background\" inventories (e.g., steel production), or at the impact assessment level.\n",
    "The only uncertainty/sensitivity in the background inventories one can \"appreciate\", is the one relating to the different future energy scenarios, going from a moderate climate policy (\"SSP2-Base\") to am amitious one (\"SSP2-PkBudg1100\"). Those scenarios will affect the background inventories in regard to efficiencies of power production, penetration of renewables, etc.\n",
    "\n",
    "To include uncertainty from the background inventories, you need to export the vehicle inventories to a LCA software (e.g., Brightway2) and link them to the ecoinvent database."
   ]
  },
  {
   "cell_type": "code",
   "execution_count": 8,
   "metadata": {},
   "outputs": [
    {
     "name": "stdout",
     "output_type": "stream",
     "text": [
      "Finding solutions for trucks...\n",
      "Urban delivery driving cycle is selected. \n",
      "Vehicles will be designed to achieve a minimal range of 150 km.\n",
      "\n",
      "\n",
      "'-' vehicle with driving mass superior to the permissible gross weight.\n",
      "'/' vehicle not available for the specified year.\n",
      "+-------------------+-----+\n",
      "| Payload (in tons) | 40t |\n",
      "+-------------------+-----+\n",
      "|    ICEV-d, 2020   | 8.8 |\n",
      "|     BEV, 2020     | 8.8 |\n",
      "+-------------------+-----+\n",
      "****************** IMPORTANT BACKGROUND PARAMETERS ******************\n",
      " * The country of use is DE.\n",
      " * Power and energy batteries produced in NO using ['LFP'] chemistry/ies\n",
      " * between 2020 and 2031, % of renewable: 100.0.\n",
      " * diesel is completed by biodiesel - cooking oil.\n",
      " \t * in 2020 _________________________________________ 5.0%\n",
      " * *********************************************************************\n"
     ]
    }
   ],
   "source": [
    "from carculator_truck import *\n",
    "tip = TruckInputParameters()\n",
    "\n",
    "scope={\n",
    "    \"powertrain\":[\"ICEV-d\", \"BEV\"],\n",
    "    \"size\":[\"40t\"],\n",
    "    \"year\":[2020]\n",
    "}\n",
    "\n",
    "tip.stochastic(100)\n",
    "\n",
    "dcts, array = fill_xarray_from_input_parameters(tip, scope=scope)\n",
    "tm = TruckModel(\n",
    "    array,\n",
    "    cycle=\"Urban delivery\",\n",
    "    country=\"DE\",\n",
    "    energy_storage={\n",
    "        \"electric\": {\n",
    "            (\"BEV\", \"40t\", 2020): \"LFP\"\n",
    "        },\n",
    "        \"origin\": \"NO\",\n",
    "        \"hydrogen\": {\n",
    "            \"tank type\": \"carbon fiber\"\n",
    "        }\n",
    "    }\n",
    ")\n",
    "tm.set_all()\n",
    "\n",
    "bc={\n",
    "    \"custom electricity mix\": [\n",
    "        [1,0,0,0,0,0,0,0,0,0,0,0,0,0,0,0,0,0,0,0,0],\n",
    "    ]\n",
    "}\n",
    "\n",
    "ic = InventoryTruck(\n",
    "    tm,\n",
    "    background_configuration=bc,\n",
    "    scenario=\"SSP2-PkBudg1150\",\n",
    "    method=\"recipe\",\n",
    "    indicator=\"endpoint\"\n",
    ")"
   ]
  },
  {
   "cell_type": "code",
   "execution_count": 9,
   "metadata": {},
   "outputs": [
    {
     "data": {
      "image/png": "[encoded data removed]",
      "text/plain": [
       "<Figure size 1000x500 with 1 Axes>"
      ]
     },
     "metadata": {},
     "output_type": "display_data"
    }
   ],
   "source": [
    "import matplotlib.pyplot as plt\n",
    "results.sel(impact_category='Human health', size='40t', value=0)\\\n",
    "    .to_dataframe('impact')\\\n",
    "    .unstack()['impact'].T\\\n",
    "    .boxplot(showfliers=False,\n",
    "         figsize=(10,5))\n",
    "plt.ylabel('DALY/ton-km')\n",
    "plt.xticks(rotation=90)\n",
    "plt.show()"
   ]
  },
  {
   "cell_type": "markdown",
   "metadata": {},
   "source": [
    "# Sensitivity analysis"
   ]
  },
  {
   "cell_type": "markdown",
   "metadata": {},
   "source": [
    "`carculator_truck` has a function to calculate the sensitivity of characterized results in regard to the inputs parameters of `TruckModel`. This function generates a number of \"scenarios\" within which one input parameter has its value increased by 10%. The newly calculated results are stored and compared to the reference scneario (where none of the input parameter values are modified)."
   ]
  },
  {
   "cell_type": "markdown",
   "metadata": {},
   "source": [
    "To do so, we run the model in **static** mode, but we give the argument `sensitivity=True` to `fill_xarray_from_input_parameters()` and `calculate_impacts()`."
   ]
  },
  {
   "cell_type": "code",
   "execution_count": 2,
   "metadata": {},
   "outputs": [
    {
     "name": "stdout",
     "output_type": "stream",
     "text": [
      "Finding solutions for trucks...\n",
      "Urban delivery driving cycle is selected. \n",
      "Vehicles will be designed to achieve a minimal range of 150 km.\n",
      "\n",
      "\n",
      "'-' vehicle with driving mass superior to the permissible gross weight.\n",
      "'/' vehicle not available for the specified year.\n",
      "+-------------------+-----+\n",
      "| Payload (in tons) | 40t |\n",
      "+-------------------+-----+\n",
      "|    ICEV-d, 2020   | 8.8 |\n",
      "|     BEV, 2020     | 8.8 |\n",
      "|     FCEV, 2020    | 8.8 |\n",
      "|    ICEV-g, 2020   | 8.8 |\n",
      "+-------------------+-----+\n",
      "****************** IMPORTANT BACKGROUND PARAMETERS ******************\n",
      " * The country of use is CH.\n",
      " * Power and energy batteries produced in CN using ['NMC-622'] chemistry/ies\n",
      " * between 2020 and 2031, % of renewable: 75.0.\n",
      " * electrolysis is completed by smr - natural gas.\n",
      " \t * in 2020 _________________________________________ 0%\n",
      " * cng is completed by biogas - sewage sludge.\n",
      " \t * in 2020 _________________________________________ 22.0%\n",
      " * diesel is completed by biodiesel - cooking oil.\n",
      " \t * in 2020 _________________________________________ 5.0%\n",
      " * *********************************************************************\n"
     ]
    }
   ],
   "source": [
    "from carculator_truck import *\n",
    "import matplotlib.pyplot as plt\n",
    "import numpy as np\n",
    "tip = TruckInputParameters()\n",
    "tip.static()\n",
    "\n",
    "scope={\n",
    "    \"powertrain\":[\"ICEV-d\", \"BEV\", \"FCEV\", \"ICEV-g\"],\n",
    "    \"size\":[\"40t\"],\n",
    "    \"year\":[2020]\n",
    "}\n",
    "\n",
    "\n",
    "_, array = fill_xarray_from_input_parameters(tip, sensitivity=True, scope=scope)\n",
    "tm = TruckModel(array)\n",
    "tm.set_all()\n",
    "\n",
    "ic = InventoryTruck(tm,)\n",
    "res = ic.calculate_impacts(sensitivity=True)"
   ]
  },
  {
   "cell_type": "markdown",
   "metadata": {},
   "source": [
    "We retrieve an array that contains characterized results for a number of scenarios (where only one parameter value is increased in each scenario), normalized in regard to the reference scenario. Hence, values above 1 indicate that increasing the parameter value given in the `parameter` dimension of the array by 10% led to an increase in the characterized results (for the impact category selected).\n",
    "\n",
    "We can turn the array into a `pandas` dataframe for better visualization. We can also remove the results that equal to 1 (which indicate that increasing the value of the selected parameter by 10% had no influence on the characterized result).\n",
    "\n",
    "Let's see the result for a 40-ton battery electric vehicle in 2020, in regard to the impact category **Climate change**."
   ]
  },
  {
   "cell_type": "code",
   "execution_count": 3,
   "metadata": {},
   "outputs": [
    {
     "data": {
      "text/plain": [
       "Text(0.5, 1.0, 'Parameters value increased by 10%')"
      ]
     },
     "execution_count": 3,
     "metadata": {},
     "output_type": "execute_result"
    },
    {
     "data": {
      "image/png": "[encoded data removed]",
      "text/plain": [
       "<Figure size 1000x500 with 1 Axes>"
      ]
     },
     "metadata": {},
     "output_type": "display_data"
    }
   ],
   "source": [
    "df = res.sel(impact_category=\"climate change\", powertrain=\"BEV\", size=\"40t\", year=2020)\\\n",
    "    .to_dataframe(\"climate change influence\")\n",
    "df = df.loc[(df[\"climate change influence\"] > 1.001)|(df[\"climate change influence\"] < 1),:]\n",
    "df[\"climate change influence\"] -= 1 \n",
    "df[\"climate change influence\"] *= 100 \n",
    "df = df.sort_values(\"climate change influence\", ascending=True)\n",
    "df.plot(y = \"climate change influence\", kind=\"bar\", figsize=(10,5))\n",
    "plt.ylabel(\"Change in GWP100a results [%]\")\n",
    "plt.title(\"Parameters value increased by 10%\")"
   ]
  },
  {
   "cell_type": "markdown",
   "metadata": {},
   "source": [
    "Therefore, we can see that the characterized results for **Climate change** are negatively influenced by changes of +10% in the parameter value for the charge and discharge efficiency of the battery as well as the drivetrain and engine efficiency.\n",
    "The load factor (total cargo mass) and the energy density of cells are also very important factors.\n",
    "\n",
    "On the other end, the results are positively influenced by changes in the parameter value for the glider base mass, as well as the mass of the different vehicle components (and the lightweighting factor)."
   ]
  },
  {
   "cell_type": "markdown",
   "metadata": {},
   "source": [
    "# Export inventories"
   ]
  },
  {
   "cell_type": "markdown",
   "metadata": {},
   "source": [
    "Inventories in `static` calculation mode can be exported to different formats:\n",
    "* as an Excel file compatible for import with `brightway2`\n",
    "* a Brightway2 LCIImporter object\n",
    "* a Python dictionary"
   ]
  },
  {
   "cell_type": "markdown",
   "metadata": {},
   "source": [
    "## Export inventories without uncertainty \n",
    "\n",
    "Inventories are exported to an Excel file which can later be imported into `brightway2`. The `export_to_excel()` function returns the filepath where the Excel file can be found (the same directory as the script calling it)."
   ]
  },
  {
   "cell_type": "code",
   "execution_count": 1,
   "metadata": {},
   "outputs": [
    {
     "name": "stdout",
     "output_type": "stream",
     "text": [
      "Finding solutions for trucks...\n",
      "Urban delivery driving cycle is selected. \n",
      "Vehicles will be designed to achieve a minimal range of 150 km.\n",
      "\n",
      "\n",
      "'-' vehicle with driving mass superior to the permissible gross weight.\n",
      "'/' vehicle not available for the specified year.\n",
      "+-------------------+-----+-----+------+-----+-----+------+------+\n",
      "| Payload (in tons) | 18t | 26t | 3.5t | 32t | 40t | 60t  | 7.5t |\n",
      "+-------------------+-----+-----+------+-----+-----+------+------+\n",
      "|     BEV, 2000     |  /  |  /  |  /   |  /  |  /  |  /   |  /   |\n",
      "|     BEV, 2010     |  /  |  /  |  /   |  /  |  /  |  /   |  /   |\n",
      "|     BEV, 2020     | 2.7 | 6.3 | 0.8  | 8.8 | 8.8 | 16.4 | 1.8  |\n",
      "|     BEV, 2030     | 2.7 | 6.3 | 0.8  | 8.8 | 8.8 | 16.4 | 1.8  |\n",
      "|     BEV, 2040     | 2.7 | 6.3 | 0.8  | 8.8 | 8.8 | 16.4 | 1.8  |\n",
      "|     BEV, 2050     | 2.7 | 6.3 | 0.8  | 8.8 | 8.8 | 16.4 | 1.8  |\n",
      "|     FCEV, 2000    |  /  |  /  |  /   |  /  |  /  |  /   |  /   |\n",
      "|     FCEV, 2010    |  /  |  /  |  /   |  /  |  /  |  /   |  /   |\n",
      "|     FCEV, 2020    | 2.7 | 6.3 | 0.8  | 8.8 | 8.8 | 16.4 | 1.8  |\n",
      "|     FCEV, 2030    | 2.7 | 6.3 | 0.8  | 8.8 | 8.8 | 16.4 | 1.8  |\n",
      "|     FCEV, 2040    | 2.7 | 6.3 | 0.8  | 8.8 | 8.8 | 16.4 | 1.8  |\n",
      "|     FCEV, 2050    | 2.7 | 6.3 | 0.8  | 8.8 | 8.8 | 16.4 | 1.8  |\n",
      "|    HEV-d, 2000    |  /  |  /  |  /   |  /  |  /  |  /   |  /   |\n",
      "|    HEV-d, 2010    |  /  |  /  |  /   |  /  |  /  |  /   |  /   |\n",
      "|    HEV-d, 2020    | 2.7 | 6.3 | 0.8  | 8.8 | 8.8 | 16.4 | 1.8  |\n",
      "|    HEV-d, 2030    | 2.7 | 6.3 | 0.8  | 8.8 | 8.8 | 16.4 | 1.8  |\n",
      "|    HEV-d, 2040    | 2.7 | 6.3 | 0.8  | 8.8 | 8.8 | 16.4 | 1.8  |\n",
      "|    HEV-d, 2050    | 2.7 | 6.3 | 0.8  | 8.8 | 8.8 | 16.4 | 1.8  |\n",
      "|    ICEV-d, 2000   | 2.7 | 6.3 | 0.8  | 8.8 | 8.8 | 16.4 | 1.8  |\n",
      "|    ICEV-d, 2010   | 2.7 | 6.3 | 0.8  | 8.8 | 8.8 | 16.4 | 1.8  |\n",
      "|    ICEV-d, 2020   | 2.7 | 6.3 | 0.8  | 8.8 | 8.8 | 16.4 | 1.8  |\n",
      "|    ICEV-d, 2030   | 2.7 | 6.3 | 0.8  | 8.8 | 8.8 | 16.4 | 1.8  |\n",
      "|    ICEV-d, 2040   | 2.7 | 6.3 | 0.8  | 8.8 | 8.8 | 16.4 | 1.8  |\n",
      "|    ICEV-d, 2050   | 2.7 | 6.3 | 0.8  | 8.8 | 8.8 | 16.4 | 1.8  |\n",
      "|    ICEV-g, 2000   | 2.7 | 6.3 | 0.8  | 8.8 | 8.8 | 16.4 | 1.8  |\n",
      "|    ICEV-g, 2010   | 2.7 | 6.3 | 0.8  | 8.8 | 8.8 | 16.4 | 1.8  |\n",
      "|    ICEV-g, 2020   | 2.7 | 6.3 | 0.8  | 8.8 | 8.8 | 16.4 | 1.8  |\n",
      "|    ICEV-g, 2030   | 2.7 | 6.3 | 0.8  | 8.8 | 8.8 | 16.4 | 1.8  |\n",
      "|    ICEV-g, 2040   | 2.7 | 6.3 | 0.8  | 8.8 | 8.8 | 16.4 | 1.8  |\n",
      "|    ICEV-g, 2050   | 2.7 | 6.3 | 0.8  | 8.8 | 8.8 | 16.4 | 1.8  |\n",
      "|    PHEV-d, 2000   |  /  |  /  |  /   |  /  |  /  |  /   |  /   |\n",
      "|    PHEV-d, 2010   |  /  |  /  |  /   |  /  |  /  |  /   |  /   |\n",
      "|    PHEV-d, 2020   | 2.7 | 6.3 | 0.8  | 8.8 | 8.8 | 16.4 | 1.8  |\n",
      "|    PHEV-d, 2030   | 2.7 | 6.3 | 0.8  | 8.8 | 8.8 | 16.4 | 1.8  |\n",
      "|    PHEV-d, 2040   | 2.7 | 6.3 | 0.8  | 8.8 | 8.8 | 16.4 | 1.8  |\n",
      "|    PHEV-d, 2050   | 2.7 | 6.3 | 0.8  | 8.8 | 8.8 | 16.4 | 1.8  |\n",
      "+-------------------+-----+-----+------+-----+-----+------+------+\n",
      "****************** IMPORTANT BACKGROUND PARAMETERS ******************\n",
      " * The country of use is CH.\n",
      " * Power and energy batteries produced in CN using ['NMC-622'] chemistry/ies\n",
      " * between 2000 and 2010, % of renewable: 59.0.\n",
      " \t * between 2010 and 2020, % of renewable: 66.0.\n",
      " \t * between 2020 and 2030, % of renewable: 75.0.\n",
      " \t * between 2030 and 2040, % of renewable: 84.0.\n",
      " \t * between 2040 and 2050, % of renewable: 88.0.\n",
      " \t * between 2050 and 2060, % of renewable: 88.0.\n",
      " * electrolysis is completed by smr - natural gas.\n",
      " \t * in 2000 _________________________________________ 0%\n",
      " \t * in 2010 _________________________________________ 0%\n",
      " \t * in 2020 _________________________________________ 0%\n",
      " \t * in 2030 _________________________________________ 0%\n",
      " \t * in 2040 _________________________________________ 0%\n",
      " \t * in 2050 _________________________________________ 0%\n",
      " * cng is completed by biogas - sewage sludge.\n",
      " \t * in 2000 _________________________________________ 10.0%\n",
      " \t * in 2010 _________________________________________ 20.0%\n",
      " \t * in 2020 _________________________________________ 22.0%\n",
      " \t * in 2030 _________________________________________ 22.0%\n",
      " \t * in 2040 _________________________________________ 22.0%\n",
      " \t * in 2050 _________________________________________ 22.0%\n",
      " * diesel is completed by biodiesel - cooking oil.\n",
      " \t * in 2000 _________________________________________ 0.0%\n",
      " \t * in 2010 _________________________________________ 0.0%\n",
      " \t * in 2020 _________________________________________ 5.0%\n",
      " \t * in 2030 _________________________________________ 5.0%\n",
      " \t * in 2040 _________________________________________ 5.0%\n",
      " \t * in 2050 _________________________________________ 5.0%\n",
      " * *********************************************************************\n"
     ]
    }
   ],
   "source": [
    "from carculator_truck import *\n",
    "import matplotlib.pyplot as plt\n",
    "tip = TruckInputParameters()\n",
    "tip.static()\n",
    "dcts, array = fill_xarray_from_input_parameters(tip)\n",
    "tm = TruckModel(array)\n",
    "tm.set_all()\n",
    "\n",
    "scope = {'powertrain':['ICEV-d', 'PHEV-d'],}\n",
    "\n",
    "ic = InventoryTruck(tm)"
   ]
  },
  {
   "cell_type": "markdown",
   "metadata": {},
   "source": [
    "Here is the call to export the inventories as a Brightway2-compatible Excel file.\n",
    "Note that you can specify a directory where the file should be saved.\n",
    "Otherwise, it will be saved in the root directory of `carculator_truck`"
   ]
  },
  {
   "cell_type": "code",
   "execution_count": 2,
   "metadata": {},
   "outputs": [
    {
     "data": {
      "text/plain": [
       "\u001b[0;31mSignature:\u001b[0m\n",
       "\u001b[0mic\u001b[0m\u001b[0;34m.\u001b[0m\u001b[0mexport_lci\u001b[0m\u001b[0;34m(\u001b[0m\u001b[0;34m\u001b[0m\n",
       "\u001b[0;34m\u001b[0m    \u001b[0mecoinvent_version\u001b[0m\u001b[0;34m=\u001b[0m\u001b[0;34m'3.8'\u001b[0m\u001b[0;34m,\u001b[0m\u001b[0;34m\u001b[0m\n",
       "\u001b[0;34m\u001b[0m    \u001b[0mfilename\u001b[0m\u001b[0;34m=\u001b[0m\u001b[0;34m'carculator_lci'\u001b[0m\u001b[0;34m,\u001b[0m\u001b[0;34m\u001b[0m\n",
       "\u001b[0;34m\u001b[0m    \u001b[0mdirectory\u001b[0m\u001b[0;34m=\u001b[0m\u001b[0;32mNone\u001b[0m\u001b[0;34m,\u001b[0m\u001b[0;34m\u001b[0m\n",
       "\u001b[0;34m\u001b[0m    \u001b[0msoftware\u001b[0m\u001b[0;34m=\u001b[0m\u001b[0;34m'brightway2'\u001b[0m\u001b[0;34m,\u001b[0m\u001b[0;34m\u001b[0m\n",
       "\u001b[0;34m\u001b[0m    \u001b[0mformat\u001b[0m\u001b[0;34m=\u001b[0m\u001b[0;34m'bw2io'\u001b[0m\u001b[0;34m,\u001b[0m\u001b[0;34m\u001b[0m\n",
       "\u001b[0;34m\u001b[0m\u001b[0;34m)\u001b[0m\u001b[0;34m\u001b[0m\u001b[0;34m\u001b[0m\u001b[0m\n",
       "\u001b[0;31mDocstring:\u001b[0m\n",
       "Export the inventory. Can export to Simapro (as csv), or brightway2 (as bw2io object, file or string).\n",
       ":param db_name:\n",
       ":param ecoinvent_version: str. \"3.5\", \"3.6\", \"3.7\" or \"3.8\"\n",
       ":param filename: str. Name of the file to be exported\n",
       ":param directory: str. Directory where the file is saved\n",
       ":param software: str. \"brightway2\" or \"simapro\"\n",
       ":param format: str. \"bw2io\" or \"file\" or \"string\"\n",
       "::return: inventory, or the filepath where the file is saved.\n",
       ":rtype: list\n",
       "\u001b[0;31mFile:\u001b[0m      ~/GitHub/carculator_utils/carculator_utils/inventory.py\n",
       "\u001b[0;31mType:\u001b[0m      method\n"
      ]
     },
     "metadata": {},
     "output_type": "display_data"
    }
   ],
   "source": [
    "ic.export_lci?"
   ]
  },
  {
   "cell_type": "code",
   "execution_count": 3,
   "metadata": {},
   "outputs": [
    {
     "name": "stderr",
     "output_type": "stream",
     "text": [
      "0% [##############################] 100% | ETA: 00:00:00 | Item ID: 1837\n",
      "Total time elapsed: 00:00:01\n"
     ]
    }
   ],
   "source": [
    "i = ic.export_lci(\n",
    "    software=\"brightway2\",\n",
    "    ecoinvent_version='3.6',\n",
    "    format=\"file\"\n",
    "    #directory=r\"a_file/path/here\"\n",
    ")"
   ]
  },
  {
   "cell_type": "code",
   "execution_count": 4,
   "metadata": {},
   "outputs": [
    {
     "data": {
      "text/plain": [
       "'/Users/romain/GitHub/carculator_truck/examples/carculator_lci_bw2.xlsx'"
      ]
     },
     "execution_count": 4,
     "metadata": {},
     "output_type": "execute_result"
    }
   ],
   "source": [
    "i"
   ]
  },
  {
   "cell_type": "markdown",
   "metadata": {},
   "source": [
    "If you want instead to use the inventories in SimaPro 9:"
   ]
  },
  {
   "cell_type": "code",
   "execution_count": 5,
   "metadata": {},
   "outputs": [
    {
     "name": "stderr",
     "output_type": "stream",
     "text": [
      "0% [##############################] 100% | ETA: 00:00:00 | Item ID: 1837\n",
      "Total time elapsed: 00:00:01\n"
     ]
    }
   ],
   "source": [
    "i = ic.export_lci(\n",
    "    software=\"simapro\",\n",
    "    ecoinvent_version='3.6',\n",
    "    format=\"file\"\n",
    ")"
   ]
  },
  {
   "cell_type": "code",
   "execution_count": 6,
   "metadata": {},
   "outputs": [
    {
     "data": {
      "text/plain": [
       "'/Users/romain/GitHub/carculator_truck/examples/carculator_lci_simapro.csv'"
      ]
     },
     "execution_count": 6,
     "metadata": {},
     "output_type": "execute_result"
    }
   ],
   "source": [
    "i"
   ]
  },
  {
   "cell_type": "code",
   "execution_count": 9,
   "metadata": {},
   "outputs": [
    {
     "name": "stderr",
     "output_type": "stream",
     "text": [
      "0% [##############################] 100% | ETA: 00:00:00 | Item ID: 1837\n",
      "Total time elapsed: 00:00:01\n"
     ]
    }
   ],
   "source": [
    "i = ic.export_lci(\n",
    "    software=\"brightway2\",\n",
    "    ecoinvent_version='3.8',\n",
    "    format=\"bw2io\"\n",
    ")"
   ]
  },
  {
   "cell_type": "code",
   "execution_count": 10,
   "metadata": {},
   "outputs": [
    {
     "data": {
      "text/plain": [
       "<bw2io.importers.base_lci.LCIImporter at 0x14739f850>"
      ]
     },
     "execution_count": 10,
     "metadata": {},
     "output_type": "execute_result"
    }
   ],
   "source": [
    "i"
   ]
  },
  {
   "cell_type": "markdown",
   "metadata": {},
   "source": [
    "Here, the inventory is instead returned as a `brightway2` LCIImporter object, which can be directly registered into `brightway2`."
   ]
  },
  {
   "cell_type": "markdown",
   "metadata": {},
   "source": [
    "Currently, the inventories can be exported so as to link with **ecoinvent cut-off** 3.6 to 3.8.\n",
    "The ecoinvent version can be specified in the `ecoinvent_version` argument."
   ]
  },
  {
   "cell_type": "code",
   "execution_count": 11,
   "metadata": {},
   "outputs": [
    {
     "name": "stdout",
     "output_type": "stream",
     "text": [
      "Applying strategy: normalize_units\n",
      "Applying strategy: drop_unspecified_subcategories\n",
      "Applying strategy: assign_only_product_as_production\n",
      "Applying strategy: strip_biosphere_exc_locations\n",
      "Applied 4 strategies in 0.01 seconds\n",
      "Applying strategy: link_iterable_by_fields\n",
      "Creating new biosphere database: additional_biosphere\n",
      "Applying strategy: link_iterable_by_fields\n",
      "Applied 1 strategies in 0.05 seconds\n",
      "Applying strategy: link_iterable_by_fields\n",
      "Applying strategy: link_iterable_by_fields\n",
      "Applying strategy: link_iterable_by_fields\n",
      "737 datasets\n",
      "21984 exchanges\n",
      "0 unlinked exchanges\n",
      "  \n"
     ]
    },
    {
     "data": {
      "text/plain": [
       "(737, 21984, 0)"
      ]
     },
     "execution_count": 11,
     "metadata": {},
     "output_type": "execute_result"
    }
   ],
   "source": [
    "import brightway2 as bw\n",
    "bw.projects.set_current('new4')\n",
    "\n",
    "i.apply_strategies()\n",
    "\n",
    "i.match_database(fields=[\"name\", \"unit\", \"location\"])\n",
    "if 'additional_biosphere' not in bw.databases:\n",
    "    i.create_new_biosphere('additional_biosphere')\n",
    "i.match_database(\"ecoinvent 3.8 cutoff\",  fields=[\"reference product\", \"name\", \"unit\", \"location\"])\n",
    "i.match_database('biosphere3',  fields=[\"name\", \"unit\", \"categories\"])\n",
    "i.match_database('additional_biosphere',  fields=[\"name\", \"unit\", \"categories\"])\n",
    "\n",
    "i.statistics()\n",
    "#i.write_database()"
   ]
  },
  {
   "cell_type": "markdown",
   "metadata": {},
   "source": [
    "Once the export database registered, the user can perform LCAs, like so:"
   ]
  },
  {
   "cell_type": "code",
   "execution_count": 31,
   "metadata": {},
   "outputs": [
    {
     "data": {
      "text/plain": [
       "[{'Heavy duty truck, ICEV-d, 40t gross weight, 2020, EURO-VI' (ton-kilometer, RER, None): 1},\n",
       " {'Medium duty truck, ICEV-d, 26t gross weight, 2020, EURO-VI' (ton-kilometer, RER, None): 1},\n",
       " {'Medium duty truck, ICEV-d, 18t gross weight, 2020, EURO-VI' (ton-kilometer, RER, None): 1},\n",
       " {'Heavy duty truck, ICEV-d, 60t gross weight, 2020, EURO-VI' (ton-kilometer, RER, None): 1},\n",
       " {'Medium duty truck, ICEV-d, 3.5t gross weight, 2020, EURO-VI' (ton-kilometer, RER, None): 1},\n",
       " {'Medium duty truck, ICEV-d, 7.5t gross weight, 2020, EURO-VI' (ton-kilometer, RER, None): 1}]"
      ]
     },
     "execution_count": 31,
     "metadata": {},
     "output_type": "execute_result"
    }
   ],
   "source": [
    "FU = [{a:1} for a in bw.Database(\"carculator db\") if \"ICEV-d\" in a[\"name\"] and \"2020\" in a[\"name\"]]\n",
    "FU"
   ]
  },
  {
   "cell_type": "code",
   "execution_count": 32,
   "metadata": {},
   "outputs": [],
   "source": [
    "import pandas as pd\n",
    "bw.calculation_setups['multiLCA'] = {'inv': FU, 'ia': [('IPCC 2013', 'climate change', 'GWP 100a')]}\n",
    "myMultiLCA = bw.MultiLCA('multiLCA')\n",
    "df_impact = pd.DataFrame(columns = [('IPCC 2013', 'climate change', 'GWP 100a')],\n",
    "                         data = myMultiLCA.results,\n",
    "                         index=[(k['name'], k['location'], k[\"database\"]) for i in FU for k in i])\n"
   ]
  },
  {
   "cell_type": "code",
   "execution_count": 33,
   "metadata": {},
   "outputs": [
    {
     "data": {
      "text/plain": [
       "<matplotlib.axes._subplots.AxesSubplot at 0x186b9f133c8>"
      ]
     },
     "execution_count": 33,
     "metadata": {},
     "output_type": "execute_result"
    },
    {
     "data": {
      "image/png": "[encoded data removed]",
      "text/plain": [
       "<Figure size 432x288 with 1 Axes>"
      ]
     },
     "metadata": {
      "needs_background": "light"
     },
     "output_type": "display_data"
    }
   ],
   "source": [
    "df_impact.plot(kind=\"bar\", stacked=True)"
   ]
  },
  {
   "cell_type": "markdown",
   "metadata": {},
   "source": [
    "Because the exchanges of the export inventories are tagged by main impact categories (e.g., direct, glider, powertrain, maintenance, etc.), it is also possible to do a contribution analysis by traversing the supply chain of the product system:"
   ]
  },
  {
   "cell_type": "code",
   "execution_count": 34,
   "metadata": {},
   "outputs": [
    {
     "data": {
      "text/plain": [
       "defaultdict(int,\n",
       "            {'other': 0.0187563286639458,\n",
       "             'direct - exhaust': 0.07605538612410703,\n",
       "             'energy chain': 0.01156049759572285,\n",
       "             'energy storage': 0.0,\n",
       "             'glider': 8.711647996311385e-05})"
      ]
     },
     "execution_count": 34,
     "metadata": {},
     "output_type": "execute_result"
    }
   ],
   "source": [
    "import bw2analyzer as bw2a\n",
    "d = bw2a.traverse_tagged_databases(FU[0], ('IPCC 2013', 'climate change', 'GWP 100a'))\n",
    "d[0]"
   ]
  }
 ],
 "metadata": {
  "kernelspec": {
   "display_name": "Python 3 (ipykernel)",
   "language": "python",
   "name": "python3"
  },
  "language_info": {
   "codemirror_mode": {
    "name": "ipython",
    "version": 3
   },
   "file_extension": ".py",
   "mimetype": "text/x-python",
   "name": "python",
   "nbconvert_exporter": "python",
   "pygments_lexer": "ipython3",
   "version": "3.10.8"
  }
 },
 "nbformat": 4,
 "nbformat_minor": 4
}
