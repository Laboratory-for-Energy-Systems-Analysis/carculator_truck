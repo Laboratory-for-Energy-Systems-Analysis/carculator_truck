{
 "cells": [
  {
   "cell_type": "markdown",
   "metadata": {},
   "source": [
    "# Examples on how to use `carculator_truck`"
   ]
  },
  {
   "cell_type": "markdown",
   "metadata": {},
   "source": [
    "Github: https://github.com/romainsacchi/carculator-truck/\n",
    "\n",
    "Publication:\n",
    "\n",
    "*Does size matter? The influence of size, load factor, range autonomy and application type on the Life Cycle Assessment of current and future trucks.*\n",
    "\n",
    "Romain Sacchi, Christian Bauer\n",
    "\n",
    "Submitted to Environmental Science and Technology (*in review*)"
   ]
  },
  {
   "cell_type": "markdown",
   "metadata": {},
   "source": [
    "# Car model"
   ]
  },
  {
   "cell_type": "markdown",
   "metadata": {},
   "source": [
    "Import the library"
   ]
  },
  {
   "cell_type": "code",
   "execution_count": 1,
   "metadata": {},
   "outputs": [],
   "source": [
    "from carculator_truck import *\n",
    "import matplotlib.pyplot as plt"
   ]
  },
  {
   "cell_type": "markdown",
   "metadata": {},
   "source": [
    "Load the default vehicles parameters"
   ]
  },
  {
   "cell_type": "code",
   "execution_count": 2,
   "metadata": {},
   "outputs": [],
   "source": [
    "tip = TruckInputParameters()"
   ]
  },
  {
   "cell_type": "markdown",
   "metadata": {},
   "source": [
    "Define the calculation mode: static or stochastic(number of iterations)\n",
    "* `static`: the model use one value for each parameter: the most likely value\n",
    "* `stochastic`: the model uses a range of values pseudo-randomly generated on the basis of a probability distribution. The number of values generated is given by the integer argument passed to `.stochastic()`"
   ]
  },
  {
   "cell_type": "code",
   "execution_count": 3,
   "metadata": {},
   "outputs": [],
   "source": [
    "tip.static()"
   ]
  },
  {
   "cell_type": "markdown",
   "metadata": {},
   "source": [
    "Fill-in the array that will be used to create the car models"
   ]
  },
  {
   "cell_type": "code",
   "execution_count": 4,
   "metadata": {},
   "outputs": [],
   "source": [
    "dcts, array = fill_xarray_from_input_parameters(tip)"
   ]
  },
  {
   "cell_type": "markdown",
   "metadata": {},
   "source": [
    "We can check the powertrains, sizes and yaers considered"
   ]
  },
  {
   "cell_type": "code",
   "execution_count": 5,
   "metadata": {},
   "outputs": [
    {
     "data": {
      "text/plain": [
       "['BEV', 'FCEV', 'HEV-d', 'ICEV-d', 'ICEV-g', 'PHEV-c-d', 'PHEV-d', 'PHEV-e']"
      ]
     },
     "execution_count": 5,
     "metadata": {},
     "output_type": "execute_result"
    }
   ],
   "source": [
    "list(array.powertrain.values)"
   ]
  },
  {
   "cell_type": "markdown",
   "metadata": {},
   "source": [
    "2000, 2010, 2020, 2030, 2040 and 2050 are the default years"
   ]
  },
  {
   "cell_type": "code",
   "execution_count": 6,
   "metadata": {},
   "outputs": [
    {
     "data": {
      "text/plain": [
       "[2000, 2010, 2020, 2030, 2040, 2050]"
      ]
     },
     "execution_count": 6,
     "metadata": {},
     "output_type": "execute_result"
    }
   ],
   "source": [
    "list(array.year.values)"
   ]
  },
  {
   "cell_type": "markdown",
   "metadata": {},
   "source": [
    "And there are several size classes, refering to the gross vehicle weight (note that you cannot call the \"size\" dimension as previsouly done with \"powertrain\" and \"year\", because \"size\" also happens to be a property of the array object)."
   ]
  },
  {
   "cell_type": "code",
   "execution_count": 7,
   "metadata": {},
   "outputs": [
    {
     "data": {
      "text/plain": [
       "['18t', '26t', '3.5t', '40t', '60t', '7.5t']"
      ]
     },
     "execution_count": 7,
     "metadata": {},
     "output_type": "execute_result"
    }
   ],
   "source": [
    "list(array.coords[\"size\"].values)"
   ]
  },
  {
   "cell_type": "markdown",
   "metadata": {},
   "source": [
    "It is possible to derive truck models for other years by interpolating between two years. It is not advised to extrapolate beyond 2050 though."
   ]
  },
  {
   "cell_type": "code",
   "execution_count": 9,
   "metadata": {},
   "outputs": [],
   "source": [
    "array = array.interp(year=[2018, 2022, 2035],  kwargs={'fill_value': 'extrapolate'})"
   ]
  },
  {
   "cell_type": "markdown",
   "metadata": {},
   "source": [
    "We can create now the truck models, using the default parameters, while specifying a driving cycle. Three driving cycles are available, and default range autonomy values are associated to each of these driving cycles:\n",
    "\n",
    "* Urban delivery (150 km)\n",
    "* Regional delivery (400 km)\n",
    "* Long haul (800 km)\n",
    "\n",
    "If not driving cycle is specified, \"Urban delivery\" is chosen."
   ]
  },
  {
   "cell_type": "code",
   "execution_count": 6,
   "metadata": {},
   "outputs": [
    {
     "name": "stdout",
     "output_type": "stream",
     "text": [
      "Long haul driving cycle is selected. Vehicles will be designed to achieve a minimal range of 800 km.\n",
      "\n",
      "Capacity utilization assumed (share of available payload used)\n",
      "+----------------+------+------+------+------+------+------+\n",
      "|                | 18t  | 26t  | 3.5t | 40t  | 60t  | 7.5t |\n",
      "+----------------+------+------+------+------+------+------+\n",
      "|   BEV, 2000    | 0.64 | 0.73 | 0.83 | 0.73 | 0.73 | 0.83 |\n",
      "|   BEV, 2010    | 0.64 | 0.73 | 0.83 | 0.73 | 0.73 | 0.83 |\n",
      "|   BEV, 2020    | 0.64 | 0.73 | 0.83 | 0.73 | 0.73 | 0.83 |\n",
      "|   BEV, 2030    | 0.64 | 0.73 | 0.83 | 0.73 | 0.73 | 0.83 |\n",
      "|   BEV, 2040    | 0.64 | 0.73 | 0.83 | 0.73 | 0.73 | 0.83 |\n",
      "|   BEV, 2050    | 0.64 | 0.73 | 0.83 | 0.73 | 0.73 | 0.83 |\n",
      "|   FCEV, 2000   | 0.64 | 0.73 | 0.83 | 0.73 | 0.73 | 0.83 |\n",
      "|   FCEV, 2010   | 0.64 | 0.73 | 0.83 | 0.73 | 0.73 | 0.83 |\n",
      "|   FCEV, 2020   | 0.64 | 0.73 | 0.83 | 0.73 | 0.73 | 0.83 |\n",
      "|   FCEV, 2030   | 0.64 | 0.73 | 0.83 | 0.73 | 0.73 | 0.83 |\n",
      "|   FCEV, 2040   | 0.64 | 0.73 | 0.83 | 0.73 | 0.73 | 0.83 |\n",
      "|   FCEV, 2050   | 0.64 | 0.73 | 0.83 | 0.73 | 0.73 | 0.83 |\n",
      "|  HEV-d, 2000   | 0.64 | 0.73 | 0.83 | 0.73 | 0.73 | 0.83 |\n",
      "|  HEV-d, 2010   | 0.64 | 0.73 | 0.83 | 0.73 | 0.73 | 0.83 |\n",
      "|  HEV-d, 2020   | 0.64 | 0.73 | 0.83 | 0.73 | 0.73 | 0.83 |\n",
      "|  HEV-d, 2030   | 0.64 | 0.73 | 0.83 | 0.73 | 0.73 | 0.83 |\n",
      "|  HEV-d, 2040   | 0.64 | 0.73 | 0.83 | 0.73 | 0.73 | 0.83 |\n",
      "|  HEV-d, 2050   | 0.64 | 0.73 | 0.83 | 0.73 | 0.73 | 0.83 |\n",
      "|  ICEV-d, 2000  | 0.64 | 0.73 | 0.83 | 0.73 | 0.73 | 0.83 |\n",
      "|  ICEV-d, 2010  | 0.64 | 0.73 | 0.83 | 0.73 | 0.73 | 0.83 |\n",
      "|  ICEV-d, 2020  | 0.64 | 0.73 | 0.83 | 0.73 | 0.73 | 0.83 |\n",
      "|  ICEV-d, 2030  | 0.64 | 0.73 | 0.83 | 0.73 | 0.73 | 0.83 |\n",
      "|  ICEV-d, 2040  | 0.64 | 0.73 | 0.83 | 0.73 | 0.73 | 0.83 |\n",
      "|  ICEV-d, 2050  | 0.64 | 0.73 | 0.83 | 0.73 | 0.73 | 0.83 |\n",
      "|  ICEV-g, 2000  | 0.64 | 0.73 | 0.83 | 0.73 | 0.73 | 0.83 |\n",
      "|  ICEV-g, 2010  | 0.64 | 0.73 | 0.83 | 0.73 | 0.73 | 0.83 |\n",
      "|  ICEV-g, 2020  | 0.64 | 0.73 | 0.83 | 0.73 | 0.73 | 0.83 |\n",
      "|  ICEV-g, 2030  | 0.64 | 0.73 | 0.83 | 0.73 | 0.73 | 0.83 |\n",
      "|  ICEV-g, 2040  | 0.64 | 0.73 | 0.83 | 0.73 | 0.73 | 0.83 |\n",
      "|  ICEV-g, 2050  | 0.64 | 0.73 | 0.83 | 0.73 | 0.73 | 0.83 |\n",
      "| PHEV-c-d, 2000 | 0.64 | 0.73 | 0.83 | 0.73 | 0.73 | 0.83 |\n",
      "| PHEV-c-d, 2010 | 0.64 | 0.73 | 0.83 | 0.73 | 0.73 | 0.83 |\n",
      "| PHEV-c-d, 2020 | 0.64 | 0.73 | 0.83 | 0.73 | 0.73 | 0.83 |\n",
      "| PHEV-c-d, 2030 | 0.64 | 0.73 | 0.83 | 0.73 | 0.73 | 0.83 |\n",
      "| PHEV-c-d, 2040 | 0.64 | 0.73 | 0.83 | 0.73 | 0.73 | 0.83 |\n",
      "| PHEV-c-d, 2050 | 0.64 | 0.73 | 0.83 | 0.73 | 0.73 | 0.83 |\n",
      "|  PHEV-d, 2000  | 0.64 | 0.73 | 0.83 | 0.73 | 0.73 | 0.83 |\n",
      "|  PHEV-d, 2010  | 0.64 | 0.73 | 0.83 | 0.73 | 0.73 | 0.83 |\n",
      "|  PHEV-d, 2020  | 0.64 | 0.73 | 0.83 | 0.73 | 0.73 | 0.83 |\n",
      "|  PHEV-d, 2030  | 0.64 | 0.73 | 0.83 | 0.73 | 0.73 | 0.83 |\n",
      "|  PHEV-d, 2040  | 0.64 | 0.73 | 0.83 | 0.73 | 0.73 | 0.83 |\n",
      "|  PHEV-d, 2050  | 0.64 | 0.73 | 0.83 | 0.73 | 0.73 | 0.83 |\n",
      "|  PHEV-e, 2000  | 0.64 | 0.73 | 0.83 | 0.73 | 0.73 | 0.83 |\n",
      "|  PHEV-e, 2010  | 0.64 | 0.73 | 0.83 | 0.73 | 0.73 | 0.83 |\n",
      "|  PHEV-e, 2020  | 0.64 | 0.73 | 0.83 | 0.73 | 0.73 | 0.83 |\n",
      "|  PHEV-e, 2030  | 0.64 | 0.73 | 0.83 | 0.73 | 0.73 | 0.83 |\n",
      "|  PHEV-e, 2040  | 0.64 | 0.73 | 0.83 | 0.73 | 0.73 | 0.83 |\n",
      "|  PHEV-e, 2050  | 0.64 | 0.73 | 0.83 | 0.73 | 0.73 | 0.83 |\n",
      "+----------------+------+------+------+------+------+------+\n"
     ]
    }
   ],
   "source": [
    "tm = TruckModel(array, cycle='Long haul')"
   ]
  },
  {
   "cell_type": "markdown",
   "metadata": {},
   "source": [
    "We can easily plot the driving cycle, to have a idea...\n",
    "Here are the first 100 seconds, for the truck sizes."
   ]
  },
  {
   "cell_type": "code",
   "execution_count": 11,
   "metadata": {},
   "outputs": [
    {
     "data": {
      "text/plain": [
       "Text(0.5, 0, 'second')"
      ]
     },
     "execution_count": 11,
     "metadata": {},
     "output_type": "execute_result"
    },
    {
     "data": {
      "image/png": "[encoded data removed]",
      "text/plain": [
       "<Figure size 432x288 with 1 Axes>"
      ]
     },
     "metadata": {
      "needs_background": "light"
     },
     "output_type": "display_data"
    }
   ],
   "source": [
    "import matplotlib.pyplot as plt\n",
    "plt.plot(get_standard_driving_cycle(\"Long haul\")[:100])\n",
    "plt.legend([\"3.5t\", \"7.5t\", \"18t\", \"26t\", \"40t\", \"60t\"])\n",
    "plt.ylabel(\"km/h\")\n",
    "plt.xlabel(\"second\")"
   ]
  },
  {
   "cell_type": "markdown",
   "metadata": {},
   "source": [
    "Besides the driving cycle, `TruckModel` can also receive arguments relating to:\n",
    "* the country of use, by specifying `country=\"SE\"`\n",
    "* the energy saving targets to achieve, by passing a dictionary of the form `{2025:.85, 2030:.7}`. These targets apply to diesel and natural gas vehicles, and the reference year is 2020. If none is passed, `{2025:.85, 2030:.7}` is chosen. It represents an improvement of the tank-to-wheel energy use of 30% by 2030, as being expected by the European Union. `carculator_truck` will gradually electrify the powertrains of the diesel and natural gas trucks until these targets are met. If you do not wish any such \"forced\" imporvement by hybridization of the powertrain, use `{2050:1}`.\n",
    "* a fuel blend for each year for a specific vehicle, or for all of them. Fuel blends are specified as a dictionary.\n",
    "\n",
    "Available fuels for fuel blends are:\n",
    "* ICEV-d\n",
    "    * diesel\n",
    "    * biodiesel - cooking oil\n",
    "    * biodiesel - algae\n",
    "    * synthetic diesel\n",
    "* ICEV-g\n",
    "    * cng\n",
    "    * biogas - sewage sludge\n",
    "    * biogas - biowaste\n",
    "    * syngas\n",
    "* FCEV\n",
    "    * electrolysis\n",
    "    * smr - natural gas\n",
    "    * smr - natural gas with CCS\n",
    "    * smr - biogas\n",
    "    * smr - biogas with CCS\n",
    "    * atr - natural gas\n",
    "    * atr - natural gas with CCS\n",
    "    * atr - biogas\n",
    "    * atr - biogas with CCS\n",
    "    * coal gasification\n",
    "    * wood gasification\n",
    "    * wood gasification with CCS\n",
    "    * wood gasification with EF\n",
    "    * wood gasification with EF with CCS\n",
    "    \n",
    "Note: for BEV trucks, a custom electricity mix can be defined at a later stage. Also, if `electrolysis` is chosen as a fuel for FCEV, or if a synthetic fuel is chosen for ICEV-d or ICEV-g (`synthetic diesel`, `syngas`), the electricity mix defined will be used to produce the necessary hydrogen via electrolysis. If no user-defined electricity mix is passed, then the electricity correpsonding the country defined in `TruckModel` will be used. If no country is passed to `TruckModel`, the geographical area of the European Union is chosen. "
   ]
  },
  {
   "cell_type": "code",
   "execution_count": 12,
   "metadata": {},
   "outputs": [
    {
     "name": "stdout",
     "output_type": "stream",
     "text": [
      "Long haul driving cycle is selected. Vehicles will be designed to achieve a minimal range of 800 km.\n",
      "\n",
      "Capacity utilization assumed (share of available payload used)\n",
      "+----------------+------+------+------+------+------+------+\n",
      "|                | 18t  | 26t  | 3.5t | 40t  | 60t  | 7.5t |\n",
      "+----------------+------+------+------+------+------+------+\n",
      "|   BEV, 2018    | 0.64 | 0.73 | 0.83 | 0.73 | 0.73 | 0.83 |\n",
      "|   BEV, 2022    | 0.64 | 0.73 | 0.83 | 0.73 | 0.73 | 0.83 |\n",
      "|   BEV, 2035    | 0.64 | 0.73 | 0.83 | 0.73 | 0.73 | 0.83 |\n",
      "|   FCEV, 2018   | 0.64 | 0.73 | 0.83 | 0.73 | 0.73 | 0.83 |\n",
      "|   FCEV, 2022   | 0.64 | 0.73 | 0.83 | 0.73 | 0.73 | 0.83 |\n",
      "|   FCEV, 2035   | 0.64 | 0.73 | 0.83 | 0.73 | 0.73 | 0.83 |\n",
      "|  HEV-d, 2018   | 0.64 | 0.73 | 0.83 | 0.73 | 0.73 | 0.83 |\n",
      "|  HEV-d, 2022   | 0.64 | 0.73 | 0.83 | 0.73 | 0.73 | 0.83 |\n",
      "|  HEV-d, 2035   | 0.64 | 0.73 | 0.83 | 0.73 | 0.73 | 0.83 |\n",
      "|  ICEV-d, 2018  | 0.64 | 0.73 | 0.83 | 0.73 | 0.73 | 0.83 |\n",
      "|  ICEV-d, 2022  | 0.64 | 0.73 | 0.83 | 0.73 | 0.73 | 0.83 |\n",
      "|  ICEV-d, 2035  | 0.64 | 0.73 | 0.83 | 0.73 | 0.73 | 0.83 |\n",
      "|  ICEV-g, 2018  | 0.64 | 0.73 | 0.83 | 0.73 | 0.73 | 0.83 |\n",
      "|  ICEV-g, 2022  | 0.64 | 0.73 | 0.83 | 0.73 | 0.73 | 0.83 |\n",
      "|  ICEV-g, 2035  | 0.64 | 0.73 | 0.83 | 0.73 | 0.73 | 0.83 |\n",
      "| PHEV-c-d, 2018 | 0.64 | 0.73 | 0.83 | 0.73 | 0.73 | 0.83 |\n",
      "| PHEV-c-d, 2022 | 0.64 | 0.73 | 0.83 | 0.73 | 0.73 | 0.83 |\n",
      "| PHEV-c-d, 2035 | 0.64 | 0.73 | 0.83 | 0.73 | 0.73 | 0.83 |\n",
      "|  PHEV-d, 2018  | 0.64 | 0.73 | 0.83 | 0.73 | 0.73 | 0.83 |\n",
      "|  PHEV-d, 2022  | 0.64 | 0.73 | 0.83 | 0.73 | 0.73 | 0.83 |\n",
      "|  PHEV-d, 2035  | 0.64 | 0.73 | 0.83 | 0.73 | 0.73 | 0.83 |\n",
      "|  PHEV-e, 2018  | 0.64 | 0.73 | 0.83 | 0.73 | 0.73 | 0.83 |\n",
      "|  PHEV-e, 2022  | 0.64 | 0.73 | 0.83 | 0.73 | 0.73 | 0.83 |\n",
      "|  PHEV-e, 2035  | 0.64 | 0.73 | 0.83 | 0.73 | 0.73 | 0.83 |\n",
      "+----------------+------+------+------+------+------+------+\n"
     ]
    }
   ],
   "source": [
    "# exmaple of a specific energy reduction target of 18% in 2025, 22% by 2030 and 25% by 2035\n",
    "# with ICEV-d trucks using a blend of 30% of synthetic bioediesel in 2018 and 35% in 2035\n",
    "# in Czech Republic\n",
    "\n",
    "energy_targets={\n",
    "    2025:.82,\n",
    "    2030:.78,\n",
    "    2035: .75\n",
    "}\n",
    "\n",
    "fb={\n",
    "    \"diesel\":{\n",
    "        \"primary\": {\n",
    "            \"type\": \"diesel\",\n",
    "            \"share\": [.7,1,.65],\n",
    "        \"secondary\": {\n",
    "            \"type\": \"synthetic diesel\",\n",
    "            \"share\": [.3,1,.35],\n",
    "        }\n",
    "    }\n",
    "}\n",
    "}\n",
    "\n",
    "tm = TruckModel(array, cycle='Long haul', country=\"CZ\", fuel_blend=fb, energy_target=energy_targets)\n"
   ]
  },
  {
   "cell_type": "markdown",
   "metadata": {},
   "source": [
    "At this point, it is possible to modify some input parameter values, such as the *load factor*, or the *range autonomy*:"
   ]
  },
  {
   "cell_type": "code",
   "execution_count": 13,
   "metadata": {},
   "outputs": [
    {
     "data": {
      "text/html": [
       "<pre>&lt;xarray.DataArray (value: 1)&gt;\n",
       "array([0.56])\n",
       "Coordinates:\n",
       "    size        &lt;U4 &#x27;7.5t&#x27;\n",
       "    powertrain  &lt;U8 &#x27;BEV&#x27;\n",
       "    parameter   &lt;U48 &#x27;capacity utilization&#x27;\n",
       "  * value       (value) int32 0\n",
       "    year        int32 2022</pre>"
      ],
      "text/plain": [
       "<xarray.DataArray (value: 1)>\n",
       "array([0.56])\n",
       "Coordinates:\n",
       "    size        <U4 '7.5t'\n",
       "    powertrain  <U8 'BEV'\n",
       "    parameter   <U48 'capacity utilization'\n",
       "  * value       (value) int32 0\n",
       "    year        int32 2022"
      ]
     },
     "execution_count": 13,
     "metadata": {},
     "output_type": "execute_result"
    }
   ],
   "source": [
    "# modify the load factor of 7.5-ton truck, BEV, in 2022 to 56%\n",
    "tm.array.loc[dict(powertrain=\"BEV\", year=2022, size=\"7.5t\", parameter=\"capacity utilization\")] = .56\n",
    "# print new load factor\n",
    "tm.array.sel(powertrain=\"BEV\", year=2022, size=\"7.5t\", parameter=\"capacity utilization\")"
   ]
  },
  {
   "cell_type": "code",
   "execution_count": 14,
   "metadata": {},
   "outputs": [
    {
     "data": {
      "text/html": [
       "<pre>&lt;xarray.DataArray (value: 1)&gt;\n",
       "array([650.])\n",
       "Coordinates:\n",
       "    size        &lt;U4 &#x27;7.5t&#x27;\n",
       "    powertrain  &lt;U8 &#x27;BEV&#x27;\n",
       "    parameter   &lt;U48 &#x27;target range&#x27;\n",
       "  * value       (value) int32 0\n",
       "    year        int32 2022</pre>"
      ],
      "text/plain": [
       "<xarray.DataArray (value: 1)>\n",
       "array([650.])\n",
       "Coordinates:\n",
       "    size        <U4 '7.5t'\n",
       "    powertrain  <U8 'BEV'\n",
       "    parameter   <U48 'target range'\n",
       "  * value       (value) int32 0\n",
       "    year        int32 2022"
      ]
     },
     "execution_count": 14,
     "metadata": {},
     "output_type": "execute_result"
    }
   ],
   "source": [
    "# modify the range autonomy of 7.5-ton truck, BEV, in 2022 to 56%\n",
    "tm.array.loc[dict(powertrain=\"BEV\", year=2022, size=\"7.5t\", parameter=\"target range\")] = 650\n",
    "# print new load factor\n",
    "tm.array.sel(powertrain=\"BEV\", year=2022, size=\"7.5t\", parameter=\"target range\")"
   ]
  },
  {
   "cell_type": "markdown",
   "metadata": {},
   "source": [
    "Alternatively, we can override specific input parameters value by passing a dictionary or a filepath to an Excel file.\n",
    "For example, we can lower the lifetime (expressed in kilometers) of the 40-ton vehicles to 500,000 km (instead of 1,000,000):"
   ]
  },
  {
   "cell_type": "code",
   "execution_count": 15,
   "metadata": {},
   "outputs": [
    {
     "name": "stdout",
     "output_type": "stream",
     "text": [
      "Long haul driving cycle is selected. Vehicles will be designed to achieve a minimal range of 800 km.\n",
      "\n",
      "Capacity utilization assumed (share of available payload used)\n",
      "+----------------+------+------+------+------+------+------+\n",
      "|                | 18t  | 26t  | 3.5t | 40t  | 60t  | 7.5t |\n",
      "+----------------+------+------+------+------+------+------+\n",
      "|   BEV, 2018    | 0.64 | 0.73 | 0.83 | 0.73 | 0.73 | 0.83 |\n",
      "|   BEV, 2022    | 0.64 | 0.73 | 0.83 | 0.73 | 0.73 | 0.56 |\n",
      "|   BEV, 2035    | 0.64 | 0.73 | 0.83 | 0.73 | 0.73 | 0.83 |\n",
      "|   FCEV, 2018   | 0.64 | 0.73 | 0.83 | 0.73 | 0.73 | 0.83 |\n",
      "|   FCEV, 2022   | 0.64 | 0.73 | 0.83 | 0.73 | 0.73 | 0.83 |\n",
      "|   FCEV, 2035   | 0.64 | 0.73 | 0.83 | 0.73 | 0.73 | 0.83 |\n",
      "|  HEV-d, 2018   | 0.64 | 0.73 | 0.83 | 0.73 | 0.73 | 0.83 |\n",
      "|  HEV-d, 2022   | 0.64 | 0.73 | 0.83 | 0.73 | 0.73 | 0.83 |\n",
      "|  HEV-d, 2035   | 0.64 | 0.73 | 0.83 | 0.73 | 0.73 | 0.83 |\n",
      "|  ICEV-d, 2018  | 0.64 | 0.73 | 0.83 | 0.73 | 0.73 | 0.83 |\n",
      "|  ICEV-d, 2022  | 0.64 | 0.73 | 0.83 | 0.73 | 0.73 | 0.83 |\n",
      "|  ICEV-d, 2035  | 0.64 | 0.73 | 0.83 | 0.73 | 0.73 | 0.83 |\n",
      "|  ICEV-g, 2018  | 0.64 | 0.73 | 0.83 | 0.73 | 0.73 | 0.83 |\n",
      "|  ICEV-g, 2022  | 0.64 | 0.73 | 0.83 | 0.73 | 0.73 | 0.83 |\n",
      "|  ICEV-g, 2035  | 0.64 | 0.73 | 0.83 | 0.73 | 0.73 | 0.83 |\n",
      "| PHEV-c-d, 2018 | 0.64 | 0.73 | 0.83 | 0.73 | 0.73 | 0.83 |\n",
      "| PHEV-c-d, 2022 | 0.64 | 0.73 | 0.83 | 0.73 | 0.73 | 0.83 |\n",
      "| PHEV-c-d, 2035 | 0.64 | 0.73 | 0.83 | 0.73 | 0.73 | 0.83 |\n",
      "|  PHEV-d, 2018  | 0.64 | 0.73 | 0.83 | 0.73 | 0.73 | 0.83 |\n",
      "|  PHEV-d, 2022  | 0.64 | 0.73 | 0.83 | 0.73 | 0.73 | 0.83 |\n",
      "|  PHEV-d, 2035  | 0.64 | 0.73 | 0.83 | 0.73 | 0.73 | 0.83 |\n",
      "|  PHEV-e, 2018  | 0.64 | 0.73 | 0.83 | 0.73 | 0.73 | 0.83 |\n",
      "|  PHEV-e, 2022  | 0.64 | 0.73 | 0.83 | 0.73 | 0.73 | 0.83 |\n",
      "|  PHEV-e, 2035  | 0.64 | 0.73 | 0.83 | 0.73 | 0.73 | 0.83 |\n",
      "+----------------+------+------+------+------+------+------+\n"
     ]
    },
    {
     "data": {
      "text/html": [
       "<pre>&lt;xarray.DataArray (powertrain: 8, year: 3)&gt;\n",
       "array([[500000., 500000., 500000.],\n",
       "       [500000., 500000., 500000.],\n",
       "       [500000., 500000., 500000.],\n",
       "       [500000., 500000., 500000.],\n",
       "       [500000., 500000., 500000.],\n",
       "       [500000., 500000., 500000.],\n",
       "       [500000., 500000., 500000.],\n",
       "       [500000., 500000., 500000.]])\n",
       "Coordinates:\n",
       "    size        &lt;U4 &#x27;40t&#x27;\n",
       "  * powertrain  (powertrain) &lt;U8 &#x27;BEV&#x27; &#x27;FCEV&#x27; &#x27;HEV-d&#x27; ... &#x27;PHEV-d&#x27; &#x27;PHEV-e&#x27;\n",
       "    parameter   &lt;U48 &#x27;lifetime kilometers&#x27;\n",
       "    value       int32 0\n",
       "  * year        (year) int32 2018 2022 2035</pre>"
      ],
      "text/plain": [
       "<xarray.DataArray (powertrain: 8, year: 3)>\n",
       "array([[500000., 500000., 500000.],\n",
       "       [500000., 500000., 500000.],\n",
       "       [500000., 500000., 500000.],\n",
       "       [500000., 500000., 500000.],\n",
       "       [500000., 500000., 500000.],\n",
       "       [500000., 500000., 500000.],\n",
       "       [500000., 500000., 500000.],\n",
       "       [500000., 500000., 500000.]])\n",
       "Coordinates:\n",
       "    size        <U4 '40t'\n",
       "  * powertrain  (powertrain) <U8 'BEV' 'FCEV' 'HEV-d' ... 'PHEV-d' 'PHEV-e'\n",
       "    parameter   <U48 'lifetime kilometers'\n",
       "    value       int32 0\n",
       "  * year        (year) int32 2018 2022 2035"
      ]
     },
     "execution_count": 15,
     "metadata": {},
     "output_type": "execute_result"
    }
   ],
   "source": [
    "# here using a dictionary\n",
    "dict_param = {('Driving', 'all', '40t', 'lifetime kilometers', 'none'): {(2018, 'loc'): 500000,\n",
    "                                                                            (2022, 'loc'): 500000,\n",
    "                                                                            (2035, 'loc'): 500000}}\n",
    "\n",
    "modify_xarray_from_custom_parameters(dict_param, array)\n",
    "tm = TruckModel(array, cycle='Long haul')\n",
    "\n",
    "# print new lifetime values\n",
    "tm.array.sel(size=\"40t\", parameter=\"lifetime kilometers\", value=0)"
   ]
  },
  {
   "cell_type": "code",
   "execution_count": 5,
   "metadata": {},
   "outputs": [
    {
     "name": "stdout",
     "output_type": "stream",
     "text": [
      "Long haul driving cycle is selected. Vehicles will be designed to achieve a minimal range of 800 km.\n",
      "\n",
      "Capacity utilization assumed (share of available payload used)\n",
      "+----------------+------+------+------+------+------+------+\n",
      "|                | 18t  | 26t  | 3.5t | 40t  | 60t  | 7.5t |\n",
      "+----------------+------+------+------+------+------+------+\n",
      "|   BEV, 2000    | 0.64 | 0.73 | 0.83 | 0.73 | 0.73 | 0.83 |\n",
      "|   BEV, 2010    | 0.64 | 0.73 | 0.83 | 0.73 | 0.73 | 0.83 |\n",
      "|   BEV, 2020    | 0.64 | 0.73 | 0.83 | 0.73 | 0.73 | 0.83 |\n",
      "|   BEV, 2030    | 0.64 | 0.73 | 0.83 | 0.73 | 0.73 | 0.83 |\n",
      "|   BEV, 2040    | 0.64 | 0.73 | 0.83 | 0.73 | 0.73 | 0.83 |\n",
      "|   BEV, 2050    | 0.64 | 0.73 | 0.83 | 0.73 | 0.73 | 0.83 |\n",
      "|   FCEV, 2000   | 0.64 | 0.73 | 0.83 | 0.73 | 0.73 | 0.83 |\n",
      "|   FCEV, 2010   | 0.64 | 0.73 | 0.83 | 0.73 | 0.73 | 0.83 |\n",
      "|   FCEV, 2020   | 0.64 | 0.73 | 0.83 | 0.73 | 0.73 | 0.83 |\n",
      "|   FCEV, 2030   | 0.64 | 0.73 | 0.83 | 0.73 | 0.73 | 0.83 |\n",
      "|   FCEV, 2040   | 0.64 | 0.73 | 0.83 | 0.73 | 0.73 | 0.83 |\n",
      "|   FCEV, 2050   | 0.64 | 0.73 | 0.83 | 0.73 | 0.73 | 0.83 |\n",
      "|  HEV-d, 2000   | 0.64 | 0.73 | 0.83 | 0.73 | 0.73 | 0.83 |\n",
      "|  HEV-d, 2010   | 0.64 | 0.73 | 0.83 | 0.73 | 0.73 | 0.83 |\n",
      "|  HEV-d, 2020   | 0.64 | 0.73 | 0.83 | 0.73 | 0.73 | 0.83 |\n",
      "|  HEV-d, 2030   | 0.64 | 0.73 | 0.83 | 0.73 | 0.73 | 0.83 |\n",
      "|  HEV-d, 2040   | 0.64 | 0.73 | 0.83 | 0.73 | 0.73 | 0.83 |\n",
      "|  HEV-d, 2050   | 0.64 | 0.73 | 0.83 | 0.73 | 0.73 | 0.83 |\n",
      "|  ICEV-d, 2000  | 0.64 | 0.73 | 0.83 | 0.73 | 0.73 | 0.83 |\n",
      "|  ICEV-d, 2010  | 0.64 | 0.73 | 0.83 | 0.73 | 0.73 | 0.83 |\n",
      "|  ICEV-d, 2020  | 0.64 | 0.73 | 0.83 | 0.73 | 0.73 | 0.83 |\n",
      "|  ICEV-d, 2030  | 0.64 | 0.73 | 0.83 | 0.73 | 0.73 | 0.83 |\n",
      "|  ICEV-d, 2040  | 0.64 | 0.73 | 0.83 | 0.73 | 0.73 | 0.83 |\n",
      "|  ICEV-d, 2050  | 0.64 | 0.73 | 0.83 | 0.73 | 0.73 | 0.83 |\n",
      "|  ICEV-g, 2000  | 0.64 | 0.73 | 0.83 | 0.73 | 0.73 | 0.83 |\n",
      "|  ICEV-g, 2010  | 0.64 | 0.73 | 0.83 | 0.73 | 0.73 | 0.83 |\n",
      "|  ICEV-g, 2020  | 0.64 | 0.73 | 0.83 | 0.73 | 0.73 | 0.83 |\n",
      "|  ICEV-g, 2030  | 0.64 | 0.73 | 0.83 | 0.73 | 0.73 | 0.83 |\n",
      "|  ICEV-g, 2040  | 0.64 | 0.73 | 0.83 | 0.73 | 0.73 | 0.83 |\n",
      "|  ICEV-g, 2050  | 0.64 | 0.73 | 0.83 | 0.73 | 0.73 | 0.83 |\n",
      "| PHEV-c-d, 2000 | 0.64 | 0.73 | 0.83 | 0.73 | 0.73 | 0.83 |\n",
      "| PHEV-c-d, 2010 | 0.64 | 0.73 | 0.83 | 0.73 | 0.73 | 0.83 |\n",
      "| PHEV-c-d, 2020 | 0.64 | 0.73 | 0.83 | 0.73 | 0.73 | 0.83 |\n",
      "| PHEV-c-d, 2030 | 0.64 | 0.73 | 0.83 | 0.73 | 0.73 | 0.83 |\n",
      "| PHEV-c-d, 2040 | 0.64 | 0.73 | 0.83 | 0.73 | 0.73 | 0.83 |\n",
      "| PHEV-c-d, 2050 | 0.64 | 0.73 | 0.83 | 0.73 | 0.73 | 0.83 |\n",
      "|  PHEV-d, 2000  | 0.64 | 0.73 | 0.83 | 0.73 | 0.73 | 0.83 |\n",
      "|  PHEV-d, 2010  | 0.64 | 0.73 | 0.83 | 0.73 | 0.73 | 0.83 |\n",
      "|  PHEV-d, 2020  | 0.64 | 0.73 | 0.83 | 0.73 | 0.73 | 0.83 |\n",
      "|  PHEV-d, 2030  | 0.64 | 0.73 | 0.83 | 0.73 | 0.73 | 0.83 |\n",
      "|  PHEV-d, 2040  | 0.64 | 0.73 | 0.83 | 0.73 | 0.73 | 0.83 |\n",
      "|  PHEV-d, 2050  | 0.64 | 0.73 | 0.83 | 0.73 | 0.73 | 0.83 |\n",
      "|  PHEV-e, 2000  | 0.64 | 0.73 | 0.83 | 0.73 | 0.73 | 0.83 |\n",
      "|  PHEV-e, 2010  | 0.64 | 0.73 | 0.83 | 0.73 | 0.73 | 0.83 |\n",
      "|  PHEV-e, 2020  | 0.64 | 0.73 | 0.83 | 0.73 | 0.73 | 0.83 |\n",
      "|  PHEV-e, 2030  | 0.64 | 0.73 | 0.83 | 0.73 | 0.73 | 0.83 |\n",
      "|  PHEV-e, 2040  | 0.64 | 0.73 | 0.83 | 0.73 | 0.73 | 0.83 |\n",
      "|  PHEV-e, 2050  | 0.64 | 0.73 | 0.83 | 0.73 | 0.73 | 0.83 |\n",
      "+----------------+------+------+------+------+------+------+\n"
     ]
    },
    {
     "data": {
      "text/html": [
       "<pre>&lt;xarray.DataArray (powertrain: 8, year: 6)&gt;\n",
       "array([[1050000., 1050000., 1050000., 1050000., 1050000., 1050000.],\n",
       "       [1050000., 1050000., 1050000., 1050000., 1050000., 1050000.],\n",
       "       [1050000., 1050000., 1050000., 1050000., 1050000., 1050000.],\n",
       "       [1050000., 1050000., 1050000., 1050000., 1050000., 1050000.],\n",
       "       [1050000., 1050000., 1050000., 1050000., 1050000., 1050000.],\n",
       "       [1050000., 1050000., 1050000., 1050000., 1050000., 1050000.],\n",
       "       [1050000., 1050000., 1050000., 1050000., 1050000., 1050000.],\n",
       "       [1050000., 1050000., 1050000., 1050000., 1050000., 1050000.]],\n",
       "      dtype=float32)\n",
       "Coordinates:\n",
       "    size        &lt;U4 &#x27;40t&#x27;\n",
       "  * powertrain  (powertrain) &lt;U8 &#x27;BEV&#x27; &#x27;FCEV&#x27; &#x27;HEV-d&#x27; ... &#x27;PHEV-d&#x27; &#x27;PHEV-e&#x27;\n",
       "    parameter   &lt;U48 &#x27;lifetime kilometers&#x27;\n",
       "  * year        (year) int32 2000 2010 2020 2030 2040 2050\n",
       "    value       int32 0</pre>"
      ],
      "text/plain": [
       "<xarray.DataArray (powertrain: 8, year: 6)>\n",
       "array([[1050000., 1050000., 1050000., 1050000., 1050000., 1050000.],\n",
       "       [1050000., 1050000., 1050000., 1050000., 1050000., 1050000.],\n",
       "       [1050000., 1050000., 1050000., 1050000., 1050000., 1050000.],\n",
       "       [1050000., 1050000., 1050000., 1050000., 1050000., 1050000.],\n",
       "       [1050000., 1050000., 1050000., 1050000., 1050000., 1050000.],\n",
       "       [1050000., 1050000., 1050000., 1050000., 1050000., 1050000.],\n",
       "       [1050000., 1050000., 1050000., 1050000., 1050000., 1050000.],\n",
       "       [1050000., 1050000., 1050000., 1050000., 1050000., 1050000.]],\n",
       "      dtype=float32)\n",
       "Coordinates:\n",
       "    size        <U4 '40t'\n",
       "  * powertrain  (powertrain) <U8 'BEV' 'FCEV' 'HEV-d' ... 'PHEV-d' 'PHEV-e'\n",
       "    parameter   <U48 'lifetime kilometers'\n",
       "  * year        (year) int32 2000 2010 2020 2030 2040 2050\n",
       "    value       int32 0"
      ]
     },
     "execution_count": 5,
     "metadata": {},
     "output_type": "execute_result"
    }
   ],
   "source": [
    "from carculator_truck import *\n",
    "tip = TruckInputParameters()\n",
    "tip.static()\n",
    "# same but using an Excel file instead\n",
    "dcts, array = fill_xarray_from_input_parameters(tip)\n",
    "fp = r\"C:\\Users\\romai\\Documents\\GitHub\\carculator_truck\\docs\\template_workbook.xlsx\"\n",
    "# note that a filepath is passed, instead of a dictionary\n",
    "\n",
    "et = {\n",
    "    2025:.9,\n",
    "    2030:.8,\n",
    "    2040:.6,\n",
    "    2050:.5\n",
    "}\n",
    "\n",
    "tm = TruckModel(array, cycle='Long haul', energy_target=et)\n",
    "\n",
    "# print new lifetime values\n",
    "tm.array.sel(size=\"40t\", parameter=\"lifetime kilometers\", value=0)"
   ]
  },
  {
   "cell_type": "markdown",
   "metadata": {},
   "source": [
    "When the truck model is defined, the vehicles can be modeled using `set_all()`.\n",
    "As we can see, a few diesel and gas vehicles do not manage to reach the energy targets in 2040 and 2050.\n",
    "Also, a few electric vehicles end up with a driving mass superior to the permissible gross weight.\n",
    "These vehicles will not be considered in the end-results."
   ]
  },
  {
   "cell_type": "code",
   "execution_count": 6,
   "metadata": {},
   "outputs": [
    {
     "name": "stdout",
     "output_type": "stream",
     "text": [
      "\n",
      "Payload (in tons)\n",
      "Vehicles for which the payload is not specified have either: \n",
      "1. a driving mass superior to the permissible gross weight. Possible solutions include: reducing the range autonomy for those vehicles, reducing the load factor, increasing the battery cell energy density.\n",
      "2. an energy efficiency too low to comply with the energy target specified. Possible solutions include: changing the energy reduction targets specified, increasing the engine efficiency.\n",
      "+--------------+-----+------+------+------+------+------+\n",
      "|              | 18t | 26t  | 3.5t | 40t  | 60t  | 7.5t |\n",
      "+--------------+-----+------+------+------+------+------+\n",
      "| ICEV-d, 2000 | 6.2 | 12.0 | 1.0  | 18.4 | 28.0 | 2.7  |\n",
      "| ICEV-d, 2010 | 6.2 | 12.1 | 1.0  | 18.4 | 28.0 | 2.8  |\n",
      "| ICEV-d, 2020 | 6.5 | 12.4 | 1.1  | 18.7 | 28.4 | 3.0  |\n",
      "| ICEV-d, 2030 | 7.2 | 13.3 | 1.4  | 20.3 | 30.7 | 3.4  |\n",
      "| ICEV-d, 2040 | 7.5 |  -   | 1.5  | 21.1 |  -   | 3.6  |\n",
      "| ICEV-d, 2050 |  -  |  -   | 1.6  |  -   |  -   | 3.8  |\n",
      "| ICEV-g, 2000 | 5.8 | 11.6 | 0.7  | 17.8 | 27.3 | 2.4  |\n",
      "| ICEV-g, 2010 | 5.9 | 11.6 | 0.7  | 17.9 | 27.4 | 2.5  |\n",
      "| ICEV-g, 2020 | 6.2 | 12.0 | 0.9  | 18.2 | 27.8 | 2.7  |\n",
      "| ICEV-g, 2030 | 6.9 | 13.0 | 1.1  | 19.9 | 30.2 | 3.1  |\n",
      "| ICEV-g, 2040 | 7.3 |  -   | 1.3  | 20.8 |  -   | 3.4  |\n",
      "| ICEV-g, 2050 |  -  |  -   | 1.4  |  -   |  -   | 3.6  |\n",
      "| PHEV-d, 2000 |  -  |  -   |  -   |  -   |  -   |  -   |\n",
      "| PHEV-d, 2010 |  -  |  -   |  -   |  -   |  -   |  -   |\n",
      "| PHEV-d, 2020 | 2.0 | 3.7  |  -   | 10.9 | 17.6 |  -   |\n",
      "| PHEV-d, 2030 | 4.8 | 8.4  | 0.3  | 15.9 | 24.5 | 1.8  |\n",
      "| PHEV-d, 2040 | 6.2 | 10.8 | 0.9  | 18.6 | 28.3 | 2.7  |\n",
      "| PHEV-d, 2050 | 7.1 | 12.3 | 1.3  | 20.4 | 30.7 | 3.3  |\n",
      "|  FCEV, 2000  | 5.6 | 10.5 | 0.7  | 17.2 | 26.2 | 2.2  |\n",
      "|  FCEV, 2010  | 6.0 | 11.2 | 0.9  | 17.8 | 27.1 | 2.5  |\n",
      "|  FCEV, 2020  | 6.4 | 11.8 | 1.1  | 18.3 | 27.8 | 2.8  |\n",
      "|  FCEV, 2030  | 7.0 | 12.7 | 1.3  | 19.8 | 30.0 | 3.2  |\n",
      "|  FCEV, 2040  | 7.5 | 13.3 | 1.5  | 20.9 | 31.5 | 3.6  |\n",
      "|  FCEV, 2050  | 7.8 | 13.8 | 1.6  | 21.7 | 32.7 | 3.8  |\n",
      "|  BEV, 2000   |  -  |  -   |  -   |  -   |  -   |  -   |\n",
      "|  BEV, 2010   |  -  |  -   |  -   |  -   |  -   |  -   |\n",
      "|  BEV, 2020   | 2.0 | 3.7  |  -   | 10.9 | 17.6 |  -   |\n",
      "|  BEV, 2030   | 4.8 | 8.4  | 0.3  | 15.9 | 24.5 | 1.8  |\n",
      "|  BEV, 2040   | 6.2 | 10.8 | 0.9  | 18.6 | 28.3 | 2.7  |\n",
      "|  BEV, 2050   | 7.1 | 12.3 | 1.3  | 20.4 | 30.7 | 3.3  |\n",
      "| HEV-d, 2000  | 6.3 | 12.1 | 1.0  | 18.5 | 28.2 | 2.8  |\n",
      "| HEV-d, 2010  | 6.3 | 12.2 | 1.1  | 18.6 | 28.2 | 2.8  |\n",
      "| HEV-d, 2020  | 6.6 | 12.5 | 1.2  | 18.8 | 28.6 | 3.0  |\n",
      "| HEV-d, 2030  | 7.2 | 13.3 | 1.4  | 20.3 | 30.7 | 3.4  |\n",
      "| HEV-d, 2040  | 7.5 | 13.7 | 1.5  | 21.1 | 31.8 | 3.6  |\n",
      "| HEV-d, 2050  | 7.8 | 14.1 | 1.6  | 21.8 | 32.9 | 3.8  |\n",
      "+--------------+-----+------+------+------+------+------+\n"
     ]
    }
   ],
   "source": [
    "tm.set_all()"
   ]
  },
  {
   "cell_type": "markdown",
   "metadata": {},
   "source": [
    "Let's look at the Tank-to-wheel energy, for a Large diesel truck (40t)."
   ]
  },
  {
   "cell_type": "code",
   "execution_count": 18,
   "metadata": {},
   "outputs": [
    {
     "data": {
      "text/html": [
       "<pre>&lt;xarray.DataArray (year: 6)&gt;\n",
       "array([13214.594 , 12553.063 , 11905.694 ,  9327.988 ,  6975.858 ,\n",
       "        6357.2427], dtype=float32)\n",
       "Coordinates:\n",
       "    size        &lt;U4 &#x27;40t&#x27;\n",
       "    powertrain  &lt;U8 &#x27;ICEV-d&#x27;\n",
       "    parameter   &lt;U48 &#x27;TtW energy&#x27;\n",
       "  * year        (year) int32 2000 2010 2020 2030 2040 2050\n",
       "    value       int32 0</pre>"
      ],
      "text/plain": [
       "<xarray.DataArray (year: 6)>\n",
       "array([13214.594 , 12553.063 , 11905.694 ,  9327.988 ,  6975.858 ,\n",
       "        6357.2427], dtype=float32)\n",
       "Coordinates:\n",
       "    size        <U4 '40t'\n",
       "    powertrain  <U8 'ICEV-d'\n",
       "    parameter   <U48 'TtW energy'\n",
       "  * year        (year) int32 2000 2010 2020 2030 2040 2050\n",
       "    value       int32 0"
      ]
     },
     "execution_count": 18,
     "metadata": {},
     "output_type": "execute_result"
    }
   ],
   "source": [
    "tm.array.sel(powertrain='ICEV-d', size='40t', value=0, parameter='TtW energy')"
   ]
  },
  {
   "cell_type": "markdown",
   "metadata": {},
   "source": [
    "One can print the list of input and calculated parameters"
   ]
  },
  {
   "cell_type": "code",
   "execution_count": 28,
   "metadata": {},
   "outputs": [
    {
     "data": {
      "text/plain": [
       "['Ammonia direct emissions, rural',\n",
       " 'Ammonia direct emissions, suburban',\n",
       " 'Ammonia direct emissions, urban',\n",
       " 'Benzene direct emissions, rural',\n",
       " 'Benzene direct emissions, suburban',\n",
       " 'Benzene direct emissions, urban',\n",
       " 'CNG tank mass intercept',\n",
       " 'CNG tank mass slope',\n",
       " 'CO2 per kg fuel',\n",
       " 'Carbon monoxide direct emissions, rural',\n",
       " 'Carbon monoxide direct emissions, suburban',\n",
       " 'Carbon monoxide direct emissions, urban',\n",
       " 'Dinitrogen oxide direct emissions, rural',\n",
       " 'Dinitrogen oxide direct emissions, suburban',\n",
       " 'Dinitrogen oxide direct emissions, urban',\n",
       " 'Hydrocarbons direct emissions, rural',\n",
       " 'Hydrocarbons direct emissions, suburban',\n",
       " 'Hydrocarbons direct emissions, urban',\n",
       " 'LHV fuel MJ per kg',\n",
       " 'Lead direct emissions, rural',\n",
       " 'Lead direct emissions, suburban',\n",
       " 'Lead direct emissions, urban',\n",
       " 'Methane direct emissions, rural',\n",
       " 'Methane direct emissions, suburban',\n",
       " 'Methane direct emissions, urban',\n",
       " 'NMVOC direct emissions, rural',\n",
       " 'NMVOC direct emissions, suburban',\n",
       " 'NMVOC direct emissions, urban',\n",
       " 'Nitrogen dioxide direct emissions, rural',\n",
       " 'Nitrogen dioxide direct emissions, suburban',\n",
       " 'Nitrogen dioxide direct emissions, urban',\n",
       " 'Nitrogen oxides direct emissions, rural',\n",
       " 'Nitrogen oxides direct emissions, suburban',\n",
       " 'Nitrogen oxides direct emissions, urban',\n",
       " 'Particulate matters direct emissions, rural',\n",
       " 'Particulate matters direct emissions, suburban',\n",
       " 'Particulate matters direct emissions, urban',\n",
       " 'Sulfur dioxide direct emissions, rural',\n",
       " 'Sulfur dioxide direct emissions, suburban',\n",
       " 'Sulfur dioxide direct emissions, urban',\n",
       " 'TtW efficiency',\n",
       " 'TtW energy',\n",
       " 'aerodynamic drag coefficient',\n",
       " 'amortised component replacement cost',\n",
       " 'amortised purchase cost',\n",
       " 'auxiliary energy',\n",
       " 'auxiliary power demand',\n",
       " 'auxilliary power base demand',\n",
       " 'available payload',\n",
       " 'average passenger mass',\n",
       " 'average passengers',\n",
       " 'battery BoP mass',\n",
       " 'battery DoD',\n",
       " 'battery cell energy density',\n",
       " 'battery cell mass',\n",
       " 'battery cell mass share',\n",
       " 'battery cell power density',\n",
       " 'battery cell production electricity',\n",
       " 'battery cell production energy',\n",
       " 'battery cell production energy electricity share',\n",
       " 'battery cell production heat',\n",
       " 'battery charge efficiency',\n",
       " 'battery discharge efficiency',\n",
       " 'battery lifetime kilometers',\n",
       " 'battery lifetime replacements',\n",
       " 'battery onboard charging infrastructure cost',\n",
       " 'battery power',\n",
       " 'braking system mass',\n",
       " 'cabin mass',\n",
       " 'capacity utilization',\n",
       " 'charger mass',\n",
       " 'combustion engine mass',\n",
       " 'combustion exhaust treatment cost',\n",
       " 'combustion power',\n",
       " 'combustion power share',\n",
       " 'combustion powertrain cost',\n",
       " 'combustion powertrain cost per kW',\n",
       " 'component replacement cost',\n",
       " 'converter mass',\n",
       " 'cooling energy consumption',\n",
       " 'cooling thermal demand',\n",
       " 'curb mass',\n",
       " 'drivetrain efficiency, empty, long haul',\n",
       " 'drivetrain efficiency, empty, regional delivery',\n",
       " 'drivetrain efficiency, empty, urban delivery',\n",
       " 'drivetrain efficiency, full, long haul',\n",
       " 'drivetrain efficiency, full, regional delivery',\n",
       " 'drivetrain efficiency, full, urban delivery',\n",
       " 'driving mass',\n",
       " 'electric energy stored',\n",
       " 'electric engine mass',\n",
       " 'electric power',\n",
       " 'electric powertrain cost',\n",
       " 'electric powertrain cost per kW',\n",
       " 'electric utility factor',\n",
       " 'electrical system mass',\n",
       " 'electricity consumption',\n",
       " 'emission factor',\n",
       " 'emotor fixed mass',\n",
       " 'emotor mass per power',\n",
       " 'energy battery cost',\n",
       " 'energy battery cost per kWh',\n",
       " 'energy battery mass',\n",
       " 'energy cost',\n",
       " 'energy cost per kWh',\n",
       " 'engine efficiency, empty, long haul',\n",
       " 'engine efficiency, empty, regional delivery',\n",
       " 'engine efficiency, empty, urban delivery',\n",
       " 'engine efficiency, full, long haul',\n",
       " 'engine efficiency, full, regional delivery',\n",
       " 'engine efficiency, full, urban delivery',\n",
       " 'engine fixed mass',\n",
       " 'engine mass per power',\n",
       " 'exhaust system mass',\n",
       " 'frontal area',\n",
       " 'fuel cell ancillary BoP mass',\n",
       " 'fuel cell ancillary BoP mass per power',\n",
       " 'fuel cell cost',\n",
       " 'fuel cell cost per kW',\n",
       " 'fuel cell essential BoP mass',\n",
       " 'fuel cell essential BoP mass per power',\n",
       " 'fuel cell lifetime kilometers',\n",
       " 'fuel cell lifetime replacements',\n",
       " 'fuel cell own consumption',\n",
       " 'fuel cell power',\n",
       " 'fuel cell power area density',\n",
       " 'fuel cell power share',\n",
       " 'fuel cell stack efficiency',\n",
       " 'fuel cell stack mass',\n",
       " 'fuel cell system efficiency',\n",
       " 'fuel mass',\n",
       " 'fuel tank cost',\n",
       " 'fuel tank cost per kg',\n",
       " 'fuel tank mass',\n",
       " 'fuel tank mass per energy',\n",
       " 'glider base mass',\n",
       " 'glider cost',\n",
       " 'glider cost intercept',\n",
       " 'glider cost slope',\n",
       " 'glider lightweighting cost per kg',\n",
       " 'gross mass',\n",
       " 'heat pump cost',\n",
       " 'heating energy consumption',\n",
       " 'heating thermal demand',\n",
       " 'interest rate',\n",
       " 'internal noise',\n",
       " 'inverter fix mass',\n",
       " 'inverter mass',\n",
       " 'inverter mass per power',\n",
       " 'kilometers per year',\n",
       " 'lifetime',\n",
       " 'lifetime kilometers',\n",
       " 'lightweighting',\n",
       " 'lightweighting cost',\n",
       " 'maintenance cost',\n",
       " 'maintenance cost per glider cost',\n",
       " 'markup factor',\n",
       " 'maximum theoretical payload',\n",
       " 'noise, octave 1, day time, rural',\n",
       " 'noise, octave 1, day time, suburban',\n",
       " 'noise, octave 1, day time, urban',\n",
       " 'noise, octave 1, evening time, rural',\n",
       " 'noise, octave 1, evening time, suburban',\n",
       " 'noise, octave 1, evening time, urban',\n",
       " 'noise, octave 1, night time, rural',\n",
       " 'noise, octave 1, night time, suburban',\n",
       " 'noise, octave 1, night time, urban',\n",
       " 'noise, octave 2, day time, rural',\n",
       " 'noise, octave 2, day time, suburban',\n",
       " 'noise, octave 2, day time, urban',\n",
       " 'noise, octave 2, evening time, rural',\n",
       " 'noise, octave 2, evening time, suburban',\n",
       " 'noise, octave 2, evening time, urban',\n",
       " 'noise, octave 2, night time, rural',\n",
       " 'noise, octave 2, night time, suburban',\n",
       " 'noise, octave 2, night time, urban',\n",
       " 'noise, octave 3, day time, rural',\n",
       " 'noise, octave 3, day time, suburban',\n",
       " 'noise, octave 3, day time, urban',\n",
       " 'noise, octave 3, evening time, rural',\n",
       " 'noise, octave 3, evening time, suburban',\n",
       " 'noise, octave 3, evening time, urban',\n",
       " 'noise, octave 3, night time, rural',\n",
       " 'noise, octave 3, night time, suburban',\n",
       " 'noise, octave 3, night time, urban',\n",
       " 'noise, octave 4, day time, rural',\n",
       " 'noise, octave 4, day time, suburban',\n",
       " 'noise, octave 4, day time, urban',\n",
       " 'noise, octave 4, evening time, rural',\n",
       " 'noise, octave 4, evening time, suburban',\n",
       " 'noise, octave 4, evening time, urban',\n",
       " 'noise, octave 4, night time, rural',\n",
       " 'noise, octave 4, night time, suburban',\n",
       " 'noise, octave 4, night time, urban',\n",
       " 'noise, octave 5, day time, rural',\n",
       " 'noise, octave 5, day time, suburban',\n",
       " 'noise, octave 5, day time, urban',\n",
       " 'noise, octave 5, evening time, rural',\n",
       " 'noise, octave 5, evening time, suburban',\n",
       " 'noise, octave 5, evening time, urban',\n",
       " 'noise, octave 5, night time, rural',\n",
       " 'noise, octave 5, night time, suburban',\n",
       " 'noise, octave 5, night time, urban',\n",
       " 'noise, octave 6, day time, rural',\n",
       " 'noise, octave 6, day time, suburban',\n",
       " 'noise, octave 6, day time, urban',\n",
       " 'noise, octave 6, evening time, rural',\n",
       " 'noise, octave 6, evening time, suburban',\n",
       " 'noise, octave 6, evening time, urban',\n",
       " 'noise, octave 6, night time, rural',\n",
       " 'noise, octave 6, night time, suburban',\n",
       " 'noise, octave 6, night time, urban',\n",
       " 'noise, octave 7, day time, rural',\n",
       " 'noise, octave 7, day time, suburban',\n",
       " 'noise, octave 7, day time, urban',\n",
       " 'noise, octave 7, evening time, rural',\n",
       " 'noise, octave 7, evening time, suburban',\n",
       " 'noise, octave 7, evening time, urban',\n",
       " 'noise, octave 7, night time, rural',\n",
       " 'noise, octave 7, night time, suburban',\n",
       " 'noise, octave 7, night time, urban',\n",
       " 'noise, octave 8, day time, rural',\n",
       " 'noise, octave 8, day time, suburban',\n",
       " 'noise, octave 8, day time, urban',\n",
       " 'noise, octave 8, evening time, rural',\n",
       " 'noise, octave 8, evening time, suburban',\n",
       " 'noise, octave 8, evening time, urban',\n",
       " 'noise, octave 8, night time, rural',\n",
       " 'noise, octave 8, night time, suburban',\n",
       " 'noise, octave 8, night time, urban',\n",
       " 'other components mass',\n",
       " 'oxidation energy stored',\n",
       " 'power',\n",
       " 'power battery cost',\n",
       " 'power battery cost per kW',\n",
       " 'power distribution unit mass',\n",
       " 'power to mass ratio',\n",
       " 'purchase cost',\n",
       " 'recuperation efficiency',\n",
       " 'rolling resistance coefficient',\n",
       " 'suspension mass',\n",
       " 'target range',\n",
       " 'total cargo mass',\n",
       " 'total cost per km',\n",
       " 'transmission fixed mass',\n",
       " 'transmission mass',\n",
       " 'transmission mass per ton of gross weight',\n",
       " 'wheels and tires mass']"
      ]
     },
     "execution_count": 28,
     "metadata": {},
     "output_type": "execute_result"
    }
   ],
   "source": [
    "tip.parameters"
   ]
  },
  {
   "cell_type": "markdown",
   "metadata": {},
   "source": [
    "We can also override calculated parameters and recalculate the vehicle specifications.\n",
    "For example, we cna manually overwrite the driving mass and recalculate the energy onsumption:"
   ]
  },
  {
   "cell_type": "code",
   "execution_count": 39,
   "metadata": {},
   "outputs": [],
   "source": [
    "tm.array.loc['40t','ICEV-d','driving mass',:] = [[35000],[36000],[37000]]"
   ]
  },
  {
   "cell_type": "code",
   "execution_count": 40,
   "metadata": {},
   "outputs": [
    {
     "data": {
      "text/html": [
       "<pre>&lt;xarray.DataArray (year: 3, value: 1)&gt;\n",
       "array([[35000.],\n",
       "       [36000.],\n",
       "       [37000.]])\n",
       "Coordinates:\n",
       "    size        &lt;U4 &#x27;40t&#x27;\n",
       "    powertrain  &lt;U8 &#x27;ICEV-d&#x27;\n",
       "    parameter   &lt;U48 &#x27;driving mass&#x27;\n",
       "  * value       (value) int32 0\n",
       "  * year        (year) int32 2018 2022 2035</pre>"
      ],
      "text/plain": [
       "<xarray.DataArray (year: 3, value: 1)>\n",
       "array([[35000.],\n",
       "       [36000.],\n",
       "       [37000.]])\n",
       "Coordinates:\n",
       "    size        <U4 '40t'\n",
       "    powertrain  <U8 'ICEV-d'\n",
       "    parameter   <U48 'driving mass'\n",
       "  * value       (value) int32 0\n",
       "  * year        (year) int32 2018 2022 2035"
      ]
     },
     "execution_count": 40,
     "metadata": {},
     "output_type": "execute_result"
    }
   ],
   "source": [
    "tm.array.loc['40t','ICEV-d','driving mass',:] "
   ]
  },
  {
   "cell_type": "code",
   "execution_count": 41,
   "metadata": {},
   "outputs": [],
   "source": [
    "tm.set_ttw_efficiency()\n",
    "tm.calculate_ttw_energy()"
   ]
  },
  {
   "cell_type": "markdown",
   "metadata": {},
   "source": [
    "We can now see that the Tank to wheel parameter value is different since we increased the driving mass of the vehicle."
   ]
  },
  {
   "cell_type": "code",
   "execution_count": 42,
   "metadata": {},
   "outputs": [
    {
     "data": {
      "text/html": [
       "<pre>&lt;xarray.DataArray (year: 3)&gt;\n",
       "array([12512.04766288, 11937.78519088,  9026.55274996])\n",
       "Coordinates:\n",
       "    size        &lt;U4 &#x27;40t&#x27;\n",
       "    powertrain  &lt;U8 &#x27;ICEV-d&#x27;\n",
       "    parameter   &lt;U48 &#x27;TtW energy&#x27;\n",
       "    value       int32 0\n",
       "  * year        (year) int32 2018 2022 2035</pre>"
      ],
      "text/plain": [
       "<xarray.DataArray (year: 3)>\n",
       "array([12512.04766288, 11937.78519088,  9026.55274996])\n",
       "Coordinates:\n",
       "    size        <U4 '40t'\n",
       "    powertrain  <U8 'ICEV-d'\n",
       "    parameter   <U48 'TtW energy'\n",
       "    value       int32 0\n",
       "  * year        (year) int32 2018 2022 2035"
      ]
     },
     "execution_count": 42,
     "metadata": {},
     "output_type": "execute_result"
    }
   ],
   "source": [
    "tm.array.sel(powertrain='ICEV-d', size='40t', value=0, parameter='TtW energy')"
   ]
  },
  {
   "cell_type": "markdown",
   "metadata": {},
   "source": [
    "We can plot any attributes of the car models. For example here, the battery capacity of all electric trucks in 2018."
   ]
  },
  {
   "cell_type": "code",
   "execution_count": 44,
   "metadata": {},
   "outputs": [
    {
     "data": {
      "image/png": "[encoded data removed]",
      "text/plain": [
       "<Figure size 432x288 with 1 Axes>"
      ]
     },
     "metadata": {
      "needs_background": "light"
     },
     "output_type": "display_data"
    }
   ],
   "source": [
    "battery_cap = tm.array.sel(powertrain='BEV', year=2018, parameter='electric energy stored', value=0)\n",
    "labels = tm.array.coords[\"size\"].values.tolist()\n",
    "\n",
    "plt.bar(labels, battery_cap)\n",
    "plt.ylabel('kWh')\n",
    "plt.show()"
   ]
  },
  {
   "cell_type": "markdown",
   "metadata": {},
   "source": [
    "The same can be done considering uncertainties in input parameters"
   ]
  },
  {
   "cell_type": "code",
   "execution_count": 7,
   "metadata": {
    "scrolled": false
   },
   "outputs": [
    {
     "name": "stdout",
     "output_type": "stream",
     "text": [
      "Urban delivery driving cycle is selected. Vehicles will be designed to achieve a minimal range of 150 km.\n",
      "\n",
      "Capacity utilization assumed (share of available payload used)\n",
      "+----------------+------+------+------+------+------+------+\n",
      "|                | 18t  | 26t  | 3.5t | 40t  | 60t  | 7.5t |\n",
      "+----------------+------+------+------+------+------+------+\n",
      "|   BEV, 2000    | 0.64 | 0.73 | 0.74 | 0.74 | 0.73 | 0.76 |\n",
      "|   BEV, 2010    | 0.65 | 0.73 | 0.73 | 0.73 | 0.73 | 0.74 |\n",
      "|   BEV, 2020    | 0.65 | 0.73 | 0.76 | 0.73 | 0.73 | 0.71 |\n",
      "|   BEV, 2030    | 0.65 | 0.74 | 0.71 | 0.72 | 0.73 | 0.76 |\n",
      "|   BEV, 2040    | 0.65 | 0.73 | 0.69 | 0.73 | 0.74 | 0.74 |\n",
      "|   BEV, 2050    | 0.65 | 0.74 | 0.76 | 0.73 | 0.73 | 0.75 |\n",
      "|   FCEV, 2000   | 0.64 | 0.73 | 0.74 | 0.74 | 0.73 | 0.76 |\n",
      "|   FCEV, 2010   | 0.65 | 0.73 | 0.73 | 0.73 | 0.73 | 0.74 |\n",
      "|   FCEV, 2020   | 0.65 | 0.73 | 0.76 | 0.73 | 0.73 | 0.71 |\n",
      "|   FCEV, 2030   | 0.65 | 0.74 | 0.71 | 0.72 | 0.73 | 0.76 |\n",
      "|   FCEV, 2040   | 0.65 | 0.73 | 0.69 | 0.73 | 0.74 | 0.74 |\n",
      "|   FCEV, 2050   | 0.65 | 0.74 | 0.76 | 0.73 | 0.73 | 0.75 |\n",
      "|  HEV-d, 2000   | 0.64 | 0.73 | 0.74 | 0.74 | 0.73 | 0.76 |\n",
      "|  HEV-d, 2010   | 0.65 | 0.73 | 0.73 | 0.73 | 0.73 | 0.74 |\n",
      "|  HEV-d, 2020   | 0.65 | 0.73 | 0.76 | 0.73 | 0.73 | 0.71 |\n",
      "|  HEV-d, 2030   | 0.65 | 0.74 | 0.71 | 0.72 | 0.73 | 0.76 |\n",
      "|  HEV-d, 2040   | 0.65 | 0.73 | 0.69 | 0.73 | 0.74 | 0.74 |\n",
      "|  HEV-d, 2050   | 0.65 | 0.74 | 0.76 | 0.73 | 0.73 | 0.75 |\n",
      "|  ICEV-d, 2000  | 0.64 | 0.73 | 0.74 | 0.74 | 0.73 | 0.76 |\n",
      "|  ICEV-d, 2010  | 0.65 | 0.73 | 0.73 | 0.73 | 0.73 | 0.74 |\n",
      "|  ICEV-d, 2020  | 0.65 | 0.73 | 0.76 | 0.73 | 0.73 | 0.71 |\n",
      "|  ICEV-d, 2030  | 0.65 | 0.74 | 0.71 | 0.72 | 0.73 | 0.76 |\n",
      "|  ICEV-d, 2040  | 0.65 | 0.73 | 0.69 | 0.73 | 0.74 | 0.74 |\n",
      "|  ICEV-d, 2050  | 0.65 | 0.74 | 0.76 | 0.73 | 0.73 | 0.75 |\n",
      "|  ICEV-g, 2000  | 0.64 | 0.73 | 0.74 | 0.74 | 0.73 | 0.76 |\n",
      "|  ICEV-g, 2010  | 0.65 | 0.73 | 0.73 | 0.73 | 0.73 | 0.74 |\n",
      "|  ICEV-g, 2020  | 0.65 | 0.73 | 0.76 | 0.73 | 0.73 | 0.71 |\n",
      "|  ICEV-g, 2030  | 0.65 | 0.74 | 0.71 | 0.72 | 0.73 | 0.76 |\n",
      "|  ICEV-g, 2040  | 0.65 | 0.73 | 0.69 | 0.73 | 0.74 | 0.74 |\n",
      "|  ICEV-g, 2050  | 0.65 | 0.74 | 0.76 | 0.73 | 0.73 | 0.75 |\n",
      "| PHEV-c-d, 2000 | 0.64 | 0.73 | 0.74 | 0.74 | 0.73 | 0.76 |\n",
      "| PHEV-c-d, 2010 | 0.65 | 0.73 | 0.73 | 0.73 | 0.73 | 0.74 |\n",
      "| PHEV-c-d, 2020 | 0.65 | 0.73 | 0.76 | 0.73 | 0.73 | 0.71 |\n",
      "| PHEV-c-d, 2030 | 0.65 | 0.74 | 0.71 | 0.72 | 0.73 | 0.76 |\n",
      "| PHEV-c-d, 2040 | 0.65 | 0.73 | 0.69 | 0.73 | 0.74 | 0.74 |\n",
      "| PHEV-c-d, 2050 | 0.65 | 0.74 | 0.76 | 0.73 | 0.73 | 0.75 |\n",
      "|  PHEV-d, 2000  | 0.64 | 0.73 | 0.74 | 0.74 | 0.73 | 0.76 |\n",
      "|  PHEV-d, 2010  | 0.65 | 0.73 | 0.73 | 0.73 | 0.73 | 0.74 |\n",
      "|  PHEV-d, 2020  | 0.65 | 0.73 | 0.76 | 0.73 | 0.73 | 0.71 |\n",
      "|  PHEV-d, 2030  | 0.65 | 0.74 | 0.71 | 0.72 | 0.73 | 0.76 |\n",
      "|  PHEV-d, 2040  | 0.65 | 0.73 | 0.69 | 0.73 | 0.74 | 0.74 |\n",
      "|  PHEV-d, 2050  | 0.65 | 0.74 | 0.76 | 0.73 | 0.73 | 0.75 |\n",
      "|  PHEV-e, 2000  | 0.64 | 0.73 | 0.74 | 0.74 | 0.73 | 0.76 |\n",
      "|  PHEV-e, 2010  | 0.65 | 0.73 | 0.73 | 0.73 | 0.73 | 0.74 |\n",
      "|  PHEV-e, 2020  | 0.65 | 0.73 | 0.76 | 0.73 | 0.73 | 0.71 |\n",
      "|  PHEV-e, 2030  | 0.65 | 0.74 | 0.71 | 0.72 | 0.73 | 0.76 |\n",
      "|  PHEV-e, 2040  | 0.65 | 0.73 | 0.69 | 0.73 | 0.74 | 0.74 |\n",
      "|  PHEV-e, 2050  | 0.65 | 0.74 | 0.76 | 0.73 | 0.73 | 0.75 |\n",
      "+----------------+------+------+------+------+------+------+\n"
     ]
    },
    {
     "name": "stderr",
     "output_type": "stream",
     "text": [
      "c:\\users\\romai\\documents\\github\\carculator_truck\\carculator_truck\\model.py:268: FutureWarning: elementwise comparison failed; returning scalar instead, but in the future will perform elementwise comparison\n",
      "  if \"reference\" in self.array.value.values:\n"
     ]
    },
    {
     "name": "stdout",
     "output_type": "stream",
     "text": [
      "\n",
      "Payload (in tons)\n",
      "Vehicles for which the payload is not specified have either: \n",
      "1. a driving mass superior to the permissible gross weight. Possible solutions include: reducing the range autonomy for those vehicles, reducing the load factor, increasing the battery cell energy density.\n",
      "2. an energy efficiency too low to comply with the energy target specified. Possible solutions include: changing the energy reduction targets specified, increasing the engine efficiency.\n",
      "+--------------+-----+------+------+------+------+------+\n",
      "|              | 18t | 26t  | 3.5t | 40t  | 60t  | 7.5t |\n",
      "+--------------+-----+------+------+------+------+------+\n",
      "| ICEV-d, 2000 | 6.2 | 12.0 | 1.0  | 18.7 | 28.3 | 2.6  |\n",
      "| ICEV-d, 2010 | 6.4 | 12.2 | 1.0  | 18.4 | 28.0 | 2.5  |\n",
      "| ICEV-d, 2020 | 6.6 | 12.6 | 1.1  | 18.8 | 28.5 | 2.6  |\n",
      "| ICEV-d, 2030 | 3.4 | 5.1  | 1.2  | 12.6 | 11.7 | 2.4  |\n",
      "| ICEV-d, 2040 | 7.6 | 13.8 | 1.3  | 21.2 | 32.4 | 3.2  |\n",
      "| ICEV-d, 2050 | 7.9 | 14.3 | 1.5  | 21.8 | 32.9 | 3.5  |\n",
      "| ICEV-g, 2000 | 6.0 | 11.8 | 0.8  | 18.5 | 28.0 | 2.4  |\n",
      "| ICEV-g, 2010 | 6.2 | 12.0 | 0.8  | 18.2 | 27.7 | 2.4  |\n",
      "| ICEV-g, 2020 | 6.5 | 12.4 | 0.9  | 18.6 | 28.3 | 2.5  |\n",
      "| ICEV-g, 2030 | 3.8 | 6.4  | 1.1  | 12.9 | 14.7 | 2.4  |\n",
      "| ICEV-g, 2040 | 7.5 | 13.6 | 1.2  | 21.0 | 32.2 | 3.1  |\n",
      "| ICEV-g, 2050 | 7.8 | 14.1 | 1.4  | 21.7 | 32.7 | 3.3  |\n",
      "| PHEV-d, 2000 | 3.0 | 7.0  | 0.3  | 11.5 | 18.2 | 1.0  |\n",
      "| PHEV-d, 2010 | 5.2 | 10.5 | 0.7  | 16.0 | 24.6 | 1.9  |\n",
      "| PHEV-d, 2020 | 6.4 | 12.1 | 1.1  | 18.2 | 27.6 | 2.5  |\n",
      "| PHEV-d, 2030 | 7.3 | 13.4 | 1.2  | 20.0 | 30.3 | 3.1  |\n",
      "| PHEV-d, 2040 | 7.7 | 13.8 | 1.4  | 21.2 | 32.2 | 3.3  |\n",
      "| PHEV-d, 2050 | 8.0 | 14.4 | 1.6  | 21.9 | 33.0 | 3.5  |\n",
      "|  FCEV, 2000  | 6.5 | 12.3 | 1.1  | 19.1 | 28.6 | 2.7  |\n",
      "|  FCEV, 2010  | 6.7 | 12.6 | 1.1  | 18.9 | 28.5 | 2.7  |\n",
      "|  FCEV, 2020  | 7.0 | 12.9 | 1.3  | 19.3 | 29.0 | 2.8  |\n",
      "|  FCEV, 2030  | 7.6 | 13.8 | 1.3  | 20.6 | 31.1 | 3.2  |\n",
      "|  FCEV, 2040  | 7.9 | 14.1 | 1.4  | 21.6 | 32.8 | 3.4  |\n",
      "|  FCEV, 2050  | 8.2 | 14.6 | 1.7  | 22.2 | 33.3 | 3.6  |\n",
      "|  BEV, 2000   | 2.2 | 5.7  | 0.1  | 9.6  | 15.5 | 0.6  |\n",
      "|  BEV, 2010   | 4.9 | 10.0 | 0.6  | 15.4 | 23.7 | 1.8  |\n",
      "|  BEV, 2020   | 6.4 | 12.0 | 1.1  | 18.1 | 27.4 | 2.5  |\n",
      "|  BEV, 2030   | 7.3 | 13.3 | 1.2  | 20.0 | 30.2 | 3.1  |\n",
      "|  BEV, 2040   | 7.7 | 13.8 | 1.4  | 21.2 | 32.2 | 3.3  |\n",
      "|  BEV, 2050   | 8.1 | 14.4 | 1.6  | 22.0 | 33.0 | 3.5  |\n",
      "| HEV-d, 2000  | 6.3 | 12.2 | 1.0  | 18.9 | 28.5 | 2.7  |\n",
      "| HEV-d, 2010  | 6.4 | 12.3 | 1.0  | 18.6 | 28.1 | 2.6  |\n",
      "| HEV-d, 2020  | 6.7 | 12.6 | 1.1  | 18.9 | 28.7 | 2.7  |\n",
      "| HEV-d, 2030  | 7.3 | 13.5 | 1.2  | 20.3 | 30.8 | 3.1  |\n",
      "| HEV-d, 2040  | 7.6 | 13.8 | 1.3  | 21.2 | 32.4 | 3.3  |\n",
      "| HEV-d, 2050  | 7.9 | 14.3 | 1.6  | 21.9 | 33.0 | 3.5  |\n",
      "+--------------+-----+------+------+------+------+------+\n"
     ]
    }
   ],
   "source": [
    "from carculator_truck import *\n",
    "tip = TruckInputParameters()\n",
    "# 50 iterations\n",
    "tip.stochastic(50)\n",
    "dcts, array = fill_xarray_from_input_parameters(tip)\n",
    "tm = TruckModel(array)\n",
    "tm.set_all()"
   ]
  },
  {
   "cell_type": "code",
   "execution_count": 8,
   "metadata": {},
   "outputs": [
    {
     "data": {
      "text/plain": [
       "<matplotlib.legend.Legend at 0x17e2f941d88>"
      ]
     },
     "execution_count": 8,
     "metadata": {},
     "output_type": "execute_result"
    },
    {
     "data": {
      "image/png": "[encoded data removed]",
      "text/plain": [
       "<Figure size 432x288 with 1 Axes>"
      ]
     },
     "metadata": {
      "needs_background": "light"
     },
     "output_type": "display_data"
    }
   ],
   "source": [
    "import matplotlib.pyplot as plt\n",
    "TtW_energy = tm.array.sel(size='40t', year=2030, parameter='TtW energy') * 1/3600 * 100\n",
    "\n",
    "l_powertrains = TtW_energy.powertrain\n",
    "[plt.hist(e, bins=50, alpha=.8, label=e.powertrain.values) for e in TtW_energy]\n",
    "plt.ylabel('kWh/100 km')\n",
    "plt.legend()"
   ]
  },
  {
   "cell_type": "markdown",
   "metadata": {},
   "source": [
    "Or in terms of km/L of petrol-equivalent"
   ]
  },
  {
   "cell_type": "code",
   "execution_count": 7,
   "metadata": {},
   "outputs": [
    {
     "name": "stdout",
     "output_type": "stream",
     "text": [
      "Urban delivery driving cycle is selected. Vehicles will be designed to achieve a minimal range of 150 km.\n",
      "\n",
      "Capacity utilization assumed (share of available payload used)\n",
      "+----------------+------+------+------+------+------+------+\n",
      "|                | 18t  | 26t  | 3.5t | 40t  | 60t  | 7.5t |\n",
      "+----------------+------+------+------+------+------+------+\n",
      "|   BEV, 2000    | 0.64 | 0.74 | 0.74 | 0.74 | 0.74 | 0.71 |\n",
      "|   BEV, 2010    | 0.65 | 0.74 | 0.75 | 0.74 | 0.73 | 0.73 |\n",
      "|   BEV, 2020    | 0.64 | 0.73 | 0.74 | 0.74 | 0.73 | 0.72 |\n",
      "|   BEV, 2030    | 0.64 | 0.73 | 0.72 | 0.74 | 0.74 | 0.73 |\n",
      "|   BEV, 2040    | 0.64 | 0.73 | 0.72 | 0.73 | 0.73 | 0.75 |\n",
      "|   BEV, 2050    | 0.65 | 0.73 | 0.72 | 0.73 | 0.73 | 0.74 |\n",
      "|   FCEV, 2000   | 0.64 | 0.74 | 0.74 | 0.74 | 0.74 | 0.71 |\n",
      "|   FCEV, 2010   | 0.65 | 0.74 | 0.75 | 0.74 | 0.73 | 0.73 |\n",
      "|   FCEV, 2020   | 0.64 | 0.73 | 0.74 | 0.74 | 0.73 | 0.72 |\n",
      "|   FCEV, 2030   | 0.64 | 0.73 | 0.72 | 0.74 | 0.74 | 0.73 |\n",
      "|   FCEV, 2040   | 0.64 | 0.73 | 0.72 | 0.73 | 0.73 | 0.75 |\n",
      "|   FCEV, 2050   | 0.65 | 0.73 | 0.72 | 0.73 | 0.73 | 0.74 |\n",
      "|  HEV-d, 2000   | 0.64 | 0.74 | 0.74 | 0.74 | 0.74 | 0.71 |\n",
      "|  HEV-d, 2010   | 0.65 | 0.74 | 0.75 | 0.74 | 0.73 | 0.73 |\n",
      "|  HEV-d, 2020   | 0.64 | 0.73 | 0.74 | 0.74 | 0.73 | 0.72 |\n",
      "|  HEV-d, 2030   | 0.64 | 0.73 | 0.72 | 0.74 | 0.74 | 0.73 |\n",
      "|  HEV-d, 2040   | 0.64 | 0.73 | 0.72 | 0.73 | 0.73 | 0.75 |\n",
      "|  HEV-d, 2050   | 0.65 | 0.73 | 0.72 | 0.73 | 0.73 | 0.74 |\n",
      "|  ICEV-d, 2000  | 0.64 | 0.74 | 0.74 | 0.74 | 0.74 | 0.71 |\n",
      "|  ICEV-d, 2010  | 0.65 | 0.74 | 0.75 | 0.74 | 0.73 | 0.73 |\n",
      "|  ICEV-d, 2020  | 0.64 | 0.73 | 0.74 | 0.74 | 0.73 | 0.72 |\n",
      "|  ICEV-d, 2030  | 0.64 | 0.73 | 0.72 | 0.74 | 0.74 | 0.73 |\n",
      "|  ICEV-d, 2040  | 0.64 | 0.73 | 0.72 | 0.73 | 0.73 | 0.75 |\n",
      "|  ICEV-d, 2050  | 0.65 | 0.73 | 0.72 | 0.73 | 0.73 | 0.74 |\n",
      "|  ICEV-g, 2000  | 0.64 | 0.74 | 0.74 | 0.74 | 0.74 | 0.71 |\n",
      "|  ICEV-g, 2010  | 0.65 | 0.74 | 0.75 | 0.74 | 0.73 | 0.73 |\n",
      "|  ICEV-g, 2020  | 0.64 | 0.73 | 0.74 | 0.74 | 0.73 | 0.72 |\n",
      "|  ICEV-g, 2030  | 0.64 | 0.73 | 0.72 | 0.74 | 0.74 | 0.73 |\n",
      "|  ICEV-g, 2040  | 0.64 | 0.73 | 0.72 | 0.73 | 0.73 | 0.75 |\n",
      "|  ICEV-g, 2050  | 0.65 | 0.73 | 0.72 | 0.73 | 0.73 | 0.74 |\n",
      "| PHEV-c-d, 2000 | 0.64 | 0.74 | 0.74 | 0.74 | 0.74 | 0.71 |\n",
      "| PHEV-c-d, 2010 | 0.65 | 0.74 | 0.75 | 0.74 | 0.73 | 0.73 |\n",
      "| PHEV-c-d, 2020 | 0.64 | 0.73 | 0.74 | 0.74 | 0.73 | 0.72 |\n",
      "| PHEV-c-d, 2030 | 0.64 | 0.73 | 0.72 | 0.74 | 0.74 | 0.73 |\n",
      "| PHEV-c-d, 2040 | 0.64 | 0.73 | 0.72 | 0.73 | 0.73 | 0.75 |\n",
      "| PHEV-c-d, 2050 | 0.65 | 0.73 | 0.72 | 0.73 | 0.73 | 0.74 |\n",
      "|  PHEV-d, 2000  | 0.64 | 0.74 | 0.74 | 0.74 | 0.74 | 0.71 |\n",
      "|  PHEV-d, 2010  | 0.65 | 0.74 | 0.75 | 0.74 | 0.73 | 0.73 |\n",
      "|  PHEV-d, 2020  | 0.64 | 0.73 | 0.74 | 0.74 | 0.73 | 0.72 |\n",
      "|  PHEV-d, 2030  | 0.64 | 0.73 | 0.72 | 0.74 | 0.74 | 0.73 |\n",
      "|  PHEV-d, 2040  | 0.64 | 0.73 | 0.72 | 0.73 | 0.73 | 0.75 |\n",
      "|  PHEV-d, 2050  | 0.65 | 0.73 | 0.72 | 0.73 | 0.73 | 0.74 |\n",
      "|  PHEV-e, 2000  | 0.64 | 0.74 | 0.74 | 0.74 | 0.74 | 0.71 |\n",
      "|  PHEV-e, 2010  | 0.65 | 0.74 | 0.75 | 0.74 | 0.73 | 0.73 |\n",
      "|  PHEV-e, 2020  | 0.64 | 0.73 | 0.74 | 0.74 | 0.73 | 0.72 |\n",
      "|  PHEV-e, 2030  | 0.64 | 0.73 | 0.72 | 0.74 | 0.74 | 0.73 |\n",
      "|  PHEV-e, 2040  | 0.64 | 0.73 | 0.72 | 0.73 | 0.73 | 0.75 |\n",
      "|  PHEV-e, 2050  | 0.65 | 0.73 | 0.72 | 0.73 | 0.73 | 0.74 |\n",
      "+----------------+------+------+------+------+------+------+\n"
     ]
    },
    {
     "name": "stderr",
     "output_type": "stream",
     "text": [
      "c:\\users\\romai\\documents\\github\\carculator_truck\\carculator_truck\\model.py:268: FutureWarning: elementwise comparison failed; returning scalar instead, but in the future will perform elementwise comparison\n",
      "  if \"reference\" in self.array.value.values:\n"
     ]
    },
    {
     "name": "stdout",
     "output_type": "stream",
     "text": [
      "\n",
      "Payload (in tons)\n",
      "Vehicles for which the payload is not specified have either: \n",
      "1. a driving mass superior to the permissible gross weight. Possible solutions include: reducing the range autonomy for those vehicles, reducing the load factor, increasing the battery cell energy density.\n",
      "2. an energy efficiency too low to comply with the energy target specified. Possible solutions include: changing the energy reduction targets specified, increasing the engine efficiency.\n",
      "+--------------+-----+------+------+------+------+------+\n",
      "|              | 18t | 26t  | 3.5t | 40t  | 60t  | 7.5t |\n",
      "+--------------+-----+------+------+------+------+------+\n",
      "| ICEV-d, 2000 | 6.2 | 11.8 | 1.0  | 17.1 | 30.8 | 2.0  |\n",
      "| ICEV-d, 2010 | 7.1 | 11.7 | 1.2  | 18.0 | 28.0 | 3.1  |\n",
      "| ICEV-d, 2020 | 5.9 | 11.6 | 1.0  | 20.2 | 28.1 | 1.8  |\n",
      "| ICEV-d, 2030 | 8.2 |  -   | 1.4  | 20.1 | 32.1 | 3.5  |\n",
      "| ICEV-d, 2040 | 7.6 | 13.7 | 1.1  | 19.4 | 30.5 | 2.6  |\n",
      "| ICEV-d, 2050 | 7.3 | 13.5 | 1.6  | 22.1 | 34.6 | 2.9  |\n",
      "| ICEV-g, 2000 | 6.0 | 11.6 | 0.8  | 16.9 | 30.5 | 1.9  |\n",
      "| ICEV-g, 2010 | 6.9 | 11.6 | 1.0  | 17.8 | 27.8 | 2.9  |\n",
      "| ICEV-g, 2020 | 5.8 | 11.5 | 0.9  | 20.0 | 27.9 | 1.7  |\n",
      "| ICEV-g, 2030 | 8.0 | 13.3 | 1.2  | 19.9 | 31.8 | 3.3  |\n",
      "| ICEV-g, 2040 | 7.4 | 13.6 | 1.0  | 19.2 | 30.3 | 2.5  |\n",
      "| ICEV-g, 2050 | 7.2 | 13.3 | 1.4  | 21.8 | 34.3 | 2.8  |\n",
      "| PHEV-d, 2000 | 1.4 | 2.5  | 0.3  | 3.6  | 6.5  | 0.5  |\n",
      "| PHEV-d, 2010 | 6.1 | 10.4 | 0.9  | 16.2 | 25.5 | 2.5  |\n",
      "| PHEV-d, 2020 | 5.7 | 11.4 | 1.0  | 19.6 | 27.3 | 1.7  |\n",
      "| PHEV-d, 2030 | 8.1 | 13.2 | 1.4  | 19.8 | 31.8 | 3.4  |\n",
      "| PHEV-d, 2040 | 7.7 | 13.7 | 1.1  | 19.5 | 30.4 | 2.7  |\n",
      "| PHEV-d, 2050 | 7.4 | 13.6 | 1.6  | 22.1 | 34.5 | 3.0  |\n",
      "|  FCEV, 2000  | 6.4 | 12.0 | 1.1  | 17.3 | 31.1 | 2.1  |\n",
      "|  FCEV, 2010  | 7.4 | 12.0 | 1.3  | 18.6 | 28.5 | 3.2  |\n",
      "|  FCEV, 2020  | 6.2 | 12.0 | 1.1  | 20.7 | 28.6 | 1.9  |\n",
      "|  FCEV, 2030  | 8.4 | 13.6 | 1.5  | 20.3 | 32.5 | 3.6  |\n",
      "|  FCEV, 2040  | 7.9 | 14.0 | 1.2  | 19.9 | 30.9 | 2.8  |\n",
      "|  FCEV, 2050  | 7.6 | 13.8 | 1.7  | 22.4 | 35.0 | 3.0  |\n",
      "|  BEV, 2000   |  -  |  -   |  -   |  -   |  -   |  -   |\n",
      "|  BEV, 2010   | 5.8 | 10.1 | 0.9  | 15.7 | 24.8 | 2.3  |\n",
      "|  BEV, 2020   | 5.7 | 11.3 | 1.0  | 19.5 | 27.1 | 1.7  |\n",
      "|  BEV, 2030   | 8.1 | 13.2 | 1.4  | 19.8 | 31.8 | 3.4  |\n",
      "|  BEV, 2040   | 7.7 | 13.8 | 1.2  | 19.5 | 30.4 | 2.7  |\n",
      "|  BEV, 2050   | 7.4 | 13.6 | 1.6  | 22.2 | 34.5 | 3.0  |\n",
      "| HEV-d, 2000  | 6.3 | 11.8 | 1.0  | 17.2 | 30.9 | 2.0  |\n",
      "| HEV-d, 2010  | 7.1 | 11.8 | 1.2  | 18.1 | 28.2 | 3.1  |\n",
      "| HEV-d, 2020  | 5.9 | 11.7 | 1.1  | 20.3 | 28.2 | 1.8  |\n",
      "| HEV-d, 2030  | 8.2 | 13.4 | 1.4  | 20.0 | 32.1 | 3.4  |\n",
      "| HEV-d, 2040  | 7.6 | 13.7 | 1.1  | 19.5 | 30.5 | 2.7  |\n",
      "| HEV-d, 2050  | 7.4 | 13.5 | 1.6  | 22.1 | 34.6 | 2.9  |\n",
      "+--------------+-----+------+------+------+------+------+\n"
     ]
    },
    {
     "data": {
      "text/plain": [
       "<matplotlib.legend.Legend at 0x1903b33ec48>"
      ]
     },
     "execution_count": 7,
     "metadata": {},
     "output_type": "execute_result"
    },
    {
     "data": {
      "image/png": "[encoded data removed]",
      "text/plain": [
       "<Figure size 432x288 with 1 Axes>"
      ]
     },
     "metadata": {
      "needs_background": "light"
     },
     "output_type": "display_data"
    }
   ],
   "source": [
    "tip = TruckInputParameters()\n",
    "tip.stochastic(100)\n",
    "dcts, array = fill_xarray_from_input_parameters(tip)\n",
    "tm = TruckModel(array)\n",
    "tm.set_all()\n",
    "TtW_energy = 1 / (tm.array.sel(size='40t', year=2030, parameter='TtW energy') / 34200) # assuming 34.2 MJ/L petrol\n",
    "\n",
    "l_powertrains = TtW_energy.powertrain\n",
    "[plt.hist(e, bins=50, alpha=.8, label=e.powertrain.values) for e in TtW_energy]\n",
    "plt.xlabel('km/L petrol-equivalent')\n",
    "plt.ylabel('number of iterations')\n",
    "plt.legend()"
   ]
  },
  {
   "cell_type": "markdown",
   "metadata": {},
   "source": [
    "We can check the randomly generated values for any parameter like so. Here, for the tank to wheel energy in kWh/100 km."
   ]
  },
  {
   "cell_type": "code",
   "execution_count": 9,
   "metadata": {},
   "outputs": [
    {
     "data": {
      "text/html": [
       "<pre>&lt;xarray.DataArray (powertrain: 6, value: 100)&gt;\n",
       "array([[412.1266 , 410.75378, 356.12836, 372.16507, 385.9484 , 379.7179 ,\n",
       "        400.00058, 427.59253, 393.68475, 385.64746, 410.0186 , 374.1264 ,\n",
       "        397.25336, 386.24762, 391.70776, 398.25165, 344.69556, 371.75742,\n",
       "        399.22134, 399.14056, 369.50125, 382.9218 , 382.2599 , 373.35773,\n",
       "        430.13602, 358.9359 , 418.2484 , 371.4097 , 383.7883 , 388.78015,\n",
       "        394.43958, 404.9944 , 424.82642, 395.45877, 366.98367, 399.36386,\n",
       "        402.82983, 390.25864, 383.376  , 369.13474, 383.78903, 393.708  ,\n",
       "        389.10934, 396.48285, 394.77466, 380.38684, 402.40875, 404.48474,\n",
       "        409.29385, 367.4366 , 392.7153 , 366.7168 , 345.55508, 379.1012 ,\n",
       "        392.91208, 403.33182, 391.87225, 384.78333, 375.9094 , 361.7126 ,\n",
       "        390.36243, 380.24823, 394.3641 , 388.09244, 406.06924, 395.47153,\n",
       "        360.51813, 378.33725, 420.31625, 371.91254, 361.8729 , 389.124  ,\n",
       "        363.8947 , 392.22443, 380.91293, 390.04245, 388.88904, 369.99942,\n",
       "        396.71033, 398.85825, 368.67752, 419.14777, 364.03006, 372.262  ,\n",
       "        375.36777, 381.58002, 392.5217 , 370.29697, 366.71454, 372.19427,\n",
       "        393.993  , 413.90237, 411.62677, 355.57297, 375.75525, 382.1511 ,\n",
       "        399.67868, 378.47305, 374.1089 , 365.82382],\n",
       "       [420.61902, 411.07196, 356.7606 , 372.8258 , 386.81937, 380.1226 ,\n",
       "        400.70108, 428.39523, 400.7141 , 386.24457, 410.62918, 374.70364,\n",
       "        397.93695, 393.67923, 398.98578, 398.82523, 345.1895 , 378.3189 ,\n",
       "        402.44327, 405.547  , 376.24756, 383.8925 , 383.1038 , 374.17444,\n",
       "        430.47147, 359.81564, 426.32642, 372.03864, 384.22482, 389.67365,\n",
       "        401.1495 , 413.1407 , 431.1319 , 402.16843, 367.72083, 404.71106,\n",
       "        409.2882 , 396.6813 , 384.16608, 369.6746 , 384.4544 , 400.9315 ,\n",
       "        396.83154, 396.95822, 400.4746 , 387.12045, 408.16962, 412.36047,\n",
       "        416.0881 , 367.9041 , 393.5542 , 372.541  , 346.0043 , 381.68567,\n",
       "        393.47284, 403.9885 , 398.1191 , 390.43396, 376.09222, 362.66724,\n",
       "        397.50677, 386.961  , 394.9317 , 393.27985, 406.93243, 396.37595,\n",
       "        366.9014 , 384.1965 , 427.09814, 372.07346, 364.38986, 389.60132,\n",
       "        364.3309 , 399.19855, 381.57184, 390.62463, 389.5892 , 370.67902,\n",
       "        397.15408, 405.3732 , 369.4309 , 425.43387, 370.90143, 373.0185 ,\n",
       "        375.81213, 382.05762, 393.21075, 376.92578, 371.42883, 377.83948,\n",
       "        394.5796 , 414.87183, 419.51025, 356.30984, 376.19427, 388.8422 ,\n",
       "        406.43054, 384.9866 , 374.45575, 369.27917],\n",
       "       [261.64713, 271.39316, 242.35135, 242.2456 , 255.63037, 246.48479,\n",
       "        264.25986, 212.32188, 238.94107, 260.09488, 268.8116 , 246.68826,\n",
       "        263.0551 , 237.51459, 227.76053, 249.06494, 214.03146, 222.0479 ,\n",
       "        254.52513, 241.7968 , 240.89038, 249.87022, 255.58392, 254.29695,\n",
       "        257.2894 , 225.58678, 245.19144, 249.65096, 253.72917, 227.34053,\n",
       "        217.71478, 229.28671, 262.0678 , 237.3564 , 243.56294, 256.5981 ,\n",
       "        233.7455 , 262.98737, 236.56578, 246.58603, 252.11813, 209.48741,\n",
       "        216.60278, 267.25922, 252.00124, 243.00058, 260.1196 , 232.9806 ,\n",
       "        239.89577, 230.53229, 247.75331, 235.1312 , 228.86589, 251.7112 ,\n",
       "        258.22128, 224.08923, 253.03323, 241.45372, 223.41583, 241.05408,\n",
       "        247.06349, 229.22673, 262.22485, 252.32536, 267.14035, 257.03577,\n",
       "        221.34659, 243.94467, 238.23398, 240.24358, 230.55038, 239.03377,\n",
       "        237.53125, 247.21791, 244.54158, 245.29231, 254.47006, 243.07954,\n",
       "        263.74463, 252.46739, 243.08562, 248.13965, 235.34   , 245.77756,\n",
       "        246.76233, 225.4853 , 252.74115, 225.95027, 229.36023, 232.16098,\n",
       "        268.68094, 276.8661 , 236.77652, 212.27922, 245.58601, 217.69257,\n",
       "        252.6053 , 226.20418, 250.16751, 237.01346],\n",
       "       [306.84763, 342.61642, 310.09094, 287.94702, 325.5023 , 313.86032,\n",
       "        323.12112, 265.29114, 307.28058, 343.99237, 337.04752, 322.50827,\n",
       "        312.61453, 280.41278, 303.57214, 333.26852, 272.2164 , 276.58002,\n",
       "        325.06775, 319.9949 , 298.48715, 314.46848, 304.90744, 343.5177 ,\n",
       "        323.66956, 282.44183, 299.39496, 329.0225 , 311.9007 , 285.6025 ,\n",
       "        283.82333, 296.00998, 327.2742 , 306.9378 , 312.46725, 355.7322 ,\n",
       "        287.21863, 329.55093, 296.56784, 329.51526, 319.45786, 280.88617,\n",
       "        286.976  , 336.34518, 330.77554, 296.81366, 338.58224, 308.14407,\n",
       "        312.9406 , 294.6631 , 326.21512, 310.6995 , 288.27792, 347.60474,\n",
       "        360.03207, 287.85727, 330.90344, 312.00342, 276.23856, 320.0641 ,\n",
       "        296.82376, 287.47366, 328.86685, 347.35123, 327.17444, 339.52286,\n",
       "        261.94427, 324.623  , 330.93674, 322.74054, 317.76788, 316.06168,\n",
       "        282.57138, 307.1162 , 311.95456, 309.15033, 319.1373 , 304.95352,\n",
       "        354.52002, 338.16748, 322.3013 , 326.3759 , 278.18817, 289.03717,\n",
       "        321.73358, 312.29492, 294.17804, 287.6659 , 314.25943, 306.0651 ,\n",
       "        370.51828, 355.00687, 301.97556, 275.26282, 305.0322 , 271.42346,\n",
       "        338.92407, 289.93436, 330.98807, 298.2905 ],\n",
       "       [166.70178, 182.02951, 176.12881, 158.10162, 186.36812, 169.07515,\n",
       "        178.51825, 143.83246, 166.63576, 182.17354, 184.82315, 179.00409,\n",
       "        175.05995, 158.66098, 155.13683, 184.2935 , 145.79555, 151.21642,\n",
       "        177.9544 , 174.09845, 162.4239 , 182.06122, 177.2562 , 191.51059,\n",
       "        181.81107, 164.52975, 174.23236, 171.92581, 175.28145, 162.22859,\n",
       "        152.06204, 158.0637 , 190.83675, 165.3001 , 175.86575, 186.87718,\n",
       "        171.74007, 190.50252, 156.05898, 178.4403 , 175.2208 , 149.2196 ,\n",
       "        146.87007, 184.74692, 182.13188, 164.95435, 188.75958, 158.11247,\n",
       "        165.96266, 164.38248, 186.63795, 165.25006, 157.24086, 192.75801,\n",
       "        183.86772, 153.40607, 179.45792, 172.57736, 147.6502 , 177.48972,\n",
       "        168.104  , 159.731  , 188.02835, 191.964  , 181.8521 , 187.41959,\n",
       "        148.27902, 175.63528, 177.81293, 170.24953, 169.00087, 168.86208,\n",
       "        153.52762, 174.30577, 168.47374, 168.2396 , 169.75105, 173.00331,\n",
       "        187.2221 , 183.42169, 176.96017, 184.49731, 157.45102, 158.75612,\n",
       "        182.64816, 164.45241, 161.10088, 153.10378, 171.63129, 165.22011,\n",
       "        206.86555, 193.21024, 166.00429, 144.78856, 173.0602 , 148.1211 ,\n",
       "        177.51636, 155.90686, 184.76033, 152.71756],\n",
       "       [355.94333, 389.26074, 283.4146 , 306.83185, 335.5572 , 369.34372,\n",
       "        357.67465, 240.68175, 300.94437, 319.64478, 351.75912, 362.2317 ,\n",
       "        322.2145 , 293.62143, 295.26938, 374.2945 , 315.56827, 276.01202,\n",
       "        340.719  , 291.0757 , 335.24365, 301.80365, 286.8281 , 326.3319 ,\n",
       "        355.71143, 249.78201, 305.68082, 316.07977, 404.78857, 272.11554,\n",
       "        366.35104, 333.44458, 307.02615, 303.20663, 282.18146, 391.439  ,\n",
       "        293.81393, 302.26212, 356.98798, 289.25113, 319.7724 , 279.03784,\n",
       "        279.917  , 391.15582, 339.21976, 323.77444, 389.97604, 305.02194,\n",
       "        334.18677, 299.96133, 301.2083 , 369.1639 , 380.0661 , 336.91782,\n",
       "        351.83948, 337.84372, 324.54654, 326.42303, 288.63068, 361.691  ,\n",
       "        318.2168 , 286.76895, 335.25037, 368.13174, 350.14215, 354.90173,\n",
       "        265.97958, 325.463  , 309.19684, 344.5117 , 314.0517 , 313.4794 ,\n",
       "        322.32086, 300.5773 , 356.4264 , 324.38193, 325.25137, 298.55676,\n",
       "        357.75272, 316.1636 , 313.527  , 294.97797, 308.9344 , 291.4657 ,\n",
       "        312.45636, 326.80093, 350.3428 , 272.3468 , 331.24683, 359.26236,\n",
       "        300.21716, 331.51276, 381.22867, 268.89655, 321.77463, 326.49194,\n",
       "        342.22534, 303.18878, 302.46094, 324.08115]], dtype=float32)\n",
       "Coordinates:\n",
       "    size        &lt;U4 &#x27;40t&#x27;\n",
       "  * powertrain  (powertrain) &lt;U8 &#x27;ICEV-d&#x27; &#x27;ICEV-g&#x27; &#x27;PHEV-d&#x27; &#x27;FCEV&#x27; &#x27;BEV&#x27; &#x27;HEV-d&#x27;\n",
       "    parameter   &lt;U48 &#x27;TtW energy&#x27;\n",
       "    year        int32 2030\n",
       "  * value       (value) int32 0 1 2 3 4 5 6 7 8 9 ... 91 92 93 94 95 96 97 98 99</pre>"
      ],
      "text/plain": [
       "<xarray.DataArray (powertrain: 6, value: 100)>\n",
       "array([[412.1266 , 410.75378, 356.12836, 372.16507, 385.9484 , 379.7179 ,\n",
       "        400.00058, 427.59253, 393.68475, 385.64746, 410.0186 , 374.1264 ,\n",
       "        397.25336, 386.24762, 391.70776, 398.25165, 344.69556, 371.75742,\n",
       "        399.22134, 399.14056, 369.50125, 382.9218 , 382.2599 , 373.35773,\n",
       "        430.13602, 358.9359 , 418.2484 , 371.4097 , 383.7883 , 388.78015,\n",
       "        394.43958, 404.9944 , 424.82642, 395.45877, 366.98367, 399.36386,\n",
       "        402.82983, 390.25864, 383.376  , 369.13474, 383.78903, 393.708  ,\n",
       "        389.10934, 396.48285, 394.77466, 380.38684, 402.40875, 404.48474,\n",
       "        409.29385, 367.4366 , 392.7153 , 366.7168 , 345.55508, 379.1012 ,\n",
       "        392.91208, 403.33182, 391.87225, 384.78333, 375.9094 , 361.7126 ,\n",
       "        390.36243, 380.24823, 394.3641 , 388.09244, 406.06924, 395.47153,\n",
       "        360.51813, 378.33725, 420.31625, 371.91254, 361.8729 , 389.124  ,\n",
       "        363.8947 , 392.22443, 380.91293, 390.04245, 388.88904, 369.99942,\n",
       "        396.71033, 398.85825, 368.67752, 419.14777, 364.03006, 372.262  ,\n",
       "        375.36777, 381.58002, 392.5217 , 370.29697, 366.71454, 372.19427,\n",
       "        393.993  , 413.90237, 411.62677, 355.57297, 375.75525, 382.1511 ,\n",
       "        399.67868, 378.47305, 374.1089 , 365.82382],\n",
       "       [420.61902, 411.07196, 356.7606 , 372.8258 , 386.81937, 380.1226 ,\n",
       "        400.70108, 428.39523, 400.7141 , 386.24457, 410.62918, 374.70364,\n",
       "        397.93695, 393.67923, 398.98578, 398.82523, 345.1895 , 378.3189 ,\n",
       "        402.44327, 405.547  , 376.24756, 383.8925 , 383.1038 , 374.17444,\n",
       "        430.47147, 359.81564, 426.32642, 372.03864, 384.22482, 389.67365,\n",
       "        401.1495 , 413.1407 , 431.1319 , 402.16843, 367.72083, 404.71106,\n",
       "        409.2882 , 396.6813 , 384.16608, 369.6746 , 384.4544 , 400.9315 ,\n",
       "        396.83154, 396.95822, 400.4746 , 387.12045, 408.16962, 412.36047,\n",
       "        416.0881 , 367.9041 , 393.5542 , 372.541  , 346.0043 , 381.68567,\n",
       "        393.47284, 403.9885 , 398.1191 , 390.43396, 376.09222, 362.66724,\n",
       "        397.50677, 386.961  , 394.9317 , 393.27985, 406.93243, 396.37595,\n",
       "        366.9014 , 384.1965 , 427.09814, 372.07346, 364.38986, 389.60132,\n",
       "        364.3309 , 399.19855, 381.57184, 390.62463, 389.5892 , 370.67902,\n",
       "        397.15408, 405.3732 , 369.4309 , 425.43387, 370.90143, 373.0185 ,\n",
       "        375.81213, 382.05762, 393.21075, 376.92578, 371.42883, 377.83948,\n",
       "        394.5796 , 414.87183, 419.51025, 356.30984, 376.19427, 388.8422 ,\n",
       "        406.43054, 384.9866 , 374.45575, 369.27917],\n",
       "       [261.64713, 271.39316, 242.35135, 242.2456 , 255.63037, 246.48479,\n",
       "        264.25986, 212.32188, 238.94107, 260.09488, 268.8116 , 246.68826,\n",
       "        263.0551 , 237.51459, 227.76053, 249.06494, 214.03146, 222.0479 ,\n",
       "        254.52513, 241.7968 , 240.89038, 249.87022, 255.58392, 254.29695,\n",
       "        257.2894 , 225.58678, 245.19144, 249.65096, 253.72917, 227.34053,\n",
       "        217.71478, 229.28671, 262.0678 , 237.3564 , 243.56294, 256.5981 ,\n",
       "        233.7455 , 262.98737, 236.56578, 246.58603, 252.11813, 209.48741,\n",
       "        216.60278, 267.25922, 252.00124, 243.00058, 260.1196 , 232.9806 ,\n",
       "        239.89577, 230.53229, 247.75331, 235.1312 , 228.86589, 251.7112 ,\n",
       "        258.22128, 224.08923, 253.03323, 241.45372, 223.41583, 241.05408,\n",
       "        247.06349, 229.22673, 262.22485, 252.32536, 267.14035, 257.03577,\n",
       "        221.34659, 243.94467, 238.23398, 240.24358, 230.55038, 239.03377,\n",
       "        237.53125, 247.21791, 244.54158, 245.29231, 254.47006, 243.07954,\n",
       "        263.74463, 252.46739, 243.08562, 248.13965, 235.34   , 245.77756,\n",
       "        246.76233, 225.4853 , 252.74115, 225.95027, 229.36023, 232.16098,\n",
       "        268.68094, 276.8661 , 236.77652, 212.27922, 245.58601, 217.69257,\n",
       "        252.6053 , 226.20418, 250.16751, 237.01346],\n",
       "       [306.84763, 342.61642, 310.09094, 287.94702, 325.5023 , 313.86032,\n",
       "        323.12112, 265.29114, 307.28058, 343.99237, 337.04752, 322.50827,\n",
       "        312.61453, 280.41278, 303.57214, 333.26852, 272.2164 , 276.58002,\n",
       "        325.06775, 319.9949 , 298.48715, 314.46848, 304.90744, 343.5177 ,\n",
       "        323.66956, 282.44183, 299.39496, 329.0225 , 311.9007 , 285.6025 ,\n",
       "        283.82333, 296.00998, 327.2742 , 306.9378 , 312.46725, 355.7322 ,\n",
       "        287.21863, 329.55093, 296.56784, 329.51526, 319.45786, 280.88617,\n",
       "        286.976  , 336.34518, 330.77554, 296.81366, 338.58224, 308.14407,\n",
       "        312.9406 , 294.6631 , 326.21512, 310.6995 , 288.27792, 347.60474,\n",
       "        360.03207, 287.85727, 330.90344, 312.00342, 276.23856, 320.0641 ,\n",
       "        296.82376, 287.47366, 328.86685, 347.35123, 327.17444, 339.52286,\n",
       "        261.94427, 324.623  , 330.93674, 322.74054, 317.76788, 316.06168,\n",
       "        282.57138, 307.1162 , 311.95456, 309.15033, 319.1373 , 304.95352,\n",
       "        354.52002, 338.16748, 322.3013 , 326.3759 , 278.18817, 289.03717,\n",
       "        321.73358, 312.29492, 294.17804, 287.6659 , 314.25943, 306.0651 ,\n",
       "        370.51828, 355.00687, 301.97556, 275.26282, 305.0322 , 271.42346,\n",
       "        338.92407, 289.93436, 330.98807, 298.2905 ],\n",
       "       [166.70178, 182.02951, 176.12881, 158.10162, 186.36812, 169.07515,\n",
       "        178.51825, 143.83246, 166.63576, 182.17354, 184.82315, 179.00409,\n",
       "        175.05995, 158.66098, 155.13683, 184.2935 , 145.79555, 151.21642,\n",
       "        177.9544 , 174.09845, 162.4239 , 182.06122, 177.2562 , 191.51059,\n",
       "        181.81107, 164.52975, 174.23236, 171.92581, 175.28145, 162.22859,\n",
       "        152.06204, 158.0637 , 190.83675, 165.3001 , 175.86575, 186.87718,\n",
       "        171.74007, 190.50252, 156.05898, 178.4403 , 175.2208 , 149.2196 ,\n",
       "        146.87007, 184.74692, 182.13188, 164.95435, 188.75958, 158.11247,\n",
       "        165.96266, 164.38248, 186.63795, 165.25006, 157.24086, 192.75801,\n",
       "        183.86772, 153.40607, 179.45792, 172.57736, 147.6502 , 177.48972,\n",
       "        168.104  , 159.731  , 188.02835, 191.964  , 181.8521 , 187.41959,\n",
       "        148.27902, 175.63528, 177.81293, 170.24953, 169.00087, 168.86208,\n",
       "        153.52762, 174.30577, 168.47374, 168.2396 , 169.75105, 173.00331,\n",
       "        187.2221 , 183.42169, 176.96017, 184.49731, 157.45102, 158.75612,\n",
       "        182.64816, 164.45241, 161.10088, 153.10378, 171.63129, 165.22011,\n",
       "        206.86555, 193.21024, 166.00429, 144.78856, 173.0602 , 148.1211 ,\n",
       "        177.51636, 155.90686, 184.76033, 152.71756],\n",
       "       [355.94333, 389.26074, 283.4146 , 306.83185, 335.5572 , 369.34372,\n",
       "        357.67465, 240.68175, 300.94437, 319.64478, 351.75912, 362.2317 ,\n",
       "        322.2145 , 293.62143, 295.26938, 374.2945 , 315.56827, 276.01202,\n",
       "        340.719  , 291.0757 , 335.24365, 301.80365, 286.8281 , 326.3319 ,\n",
       "        355.71143, 249.78201, 305.68082, 316.07977, 404.78857, 272.11554,\n",
       "        366.35104, 333.44458, 307.02615, 303.20663, 282.18146, 391.439  ,\n",
       "        293.81393, 302.26212, 356.98798, 289.25113, 319.7724 , 279.03784,\n",
       "        279.917  , 391.15582, 339.21976, 323.77444, 389.97604, 305.02194,\n",
       "        334.18677, 299.96133, 301.2083 , 369.1639 , 380.0661 , 336.91782,\n",
       "        351.83948, 337.84372, 324.54654, 326.42303, 288.63068, 361.691  ,\n",
       "        318.2168 , 286.76895, 335.25037, 368.13174, 350.14215, 354.90173,\n",
       "        265.97958, 325.463  , 309.19684, 344.5117 , 314.0517 , 313.4794 ,\n",
       "        322.32086, 300.5773 , 356.4264 , 324.38193, 325.25137, 298.55676,\n",
       "        357.75272, 316.1636 , 313.527  , 294.97797, 308.9344 , 291.4657 ,\n",
       "        312.45636, 326.80093, 350.3428 , 272.3468 , 331.24683, 359.26236,\n",
       "        300.21716, 331.51276, 381.22867, 268.89655, 321.77463, 326.49194,\n",
       "        342.22534, 303.18878, 302.46094, 324.08115]], dtype=float32)\n",
       "Coordinates:\n",
       "    size        <U4 '40t'\n",
       "  * powertrain  (powertrain) <U8 'ICEV-d' 'ICEV-g' 'PHEV-d' 'FCEV' 'BEV' 'HEV-d'\n",
       "    parameter   <U48 'TtW energy'\n",
       "    year        int32 2030\n",
       "  * value       (value) int32 0 1 2 3 4 5 6 7 8 9 ... 91 92 93 94 95 96 97 98 99"
      ]
     },
     "execution_count": 9,
     "metadata": {},
     "output_type": "execute_result"
    }
   ],
   "source": [
    "tm.array.sel(size='40t', year=2030, parameter='TtW energy') * 1/3600 * 100"
   ]
  },
  {
   "cell_type": "markdown",
   "metadata": {},
   "source": [
    "We can look at noise emissions. We see that most noise is emitted in urban environment. Noise emissions are dependent of the driving cycle chosen."
   ]
  },
  {
   "cell_type": "code",
   "execution_count": 11,
   "metadata": {},
   "outputs": [
    {
     "data": {
      "text/plain": [
       "Text(0, 0.5, 'joules per km')"
      ]
     },
     "execution_count": 11,
     "metadata": {},
     "output_type": "execute_result"
    },
    {
     "data": {
      "image/png": "[encoded data removed]",
      "text/plain": [
       "<Figure size 432x288 with 1 Axes>"
      ]
     },
     "metadata": {
      "needs_background": "light"
     },
     "output_type": "display_data"
    }
   ],
   "source": [
    "list_param = list(tm.array.parameter.values)\n",
    "noise_emissions = [x for x in list_param if 'noise' in x]\n",
    "data = tm.array.sel(parameter=noise_emissions, year=2020, size='7.5t', powertrain='ICEV-g', value=0)\\\n",
    "    .to_dataframe(name='noise emissions')['noise emissions']\n",
    "data[data>0].plot(kind='bar')\n",
    "plt.ylabel('joules per km')"
   ]
  },
  {
   "cell_type": "markdown",
   "metadata": {},
   "source": [
    "### Calculation of the inventories\n",
    "\n",
    "`InventoryCalculation` takes several arguments:\n",
    "\n",
    "* `TruckModel`, mandatory: instance of TruckModel\n",
    "* `scope`, optional: if you want to define a narrower scope in terms of years, powertrains and sizes\n",
    "* `background_configuration`, optional: dictionary where specific parameters for electricity mix, battery technology, etc. can be defined\n",
    "* `scenario`, optional: energy scenario that should be used. Can be \"static\", \"SSP2-Base\" or \"SSP2-PkBudg1100\". \"SSP2-Base\" is used if unspecified. More info on REMIND scenarios [here](https://github.com/romainsacchi/rmnd-lca/blob/master/rmnd_lca/data/remind_output_files/description.md)\n",
    "* `method`, optional: impact characterization method that should be used. Can be: \"recipe\" or \"ilcd\". \"recipe\" is used if unspecified.\n",
    "* `method_type`, optional: can be \"midpoint\" or \"endpoint\". Endpoint indicators only available for Recipe 2008. \"midpoint\" used if unspecified.\n",
    "\n",
    "\n",
    "Hence, it can be as simple as this:"
   ]
  },
  {
   "cell_type": "code",
   "execution_count": 7,
   "metadata": {},
   "outputs": [],
   "source": [
    "ic = InventoryCalculation(tm)"
   ]
  },
  {
   "cell_type": "markdown",
   "metadata": {},
   "source": [
    "Or more complex, like this below, where:\n",
    "* the scope is narrowed down to fewer vehicles,\n",
    "* an electricity mix is defined (100% hydro teh first year, 50% hydro-50% nuclear the second year)\n",
    "* a battery type and place of manufacture are defined. Battery type can be \"NMC\", \"NCA\" or \"LFP\". Place of production can be any alpha-2 country code, in addition to \"RER\".\n",
    "* a hydrogen tank type is defined. It can be \"carbon fiber\", \"hdpe\" or \"aluminium\". It refers to the lining system.\n",
    "* a REMIND energy scenario is chosen\n",
    "* the midpoint indicators of the Recipe 2008 method are selected."
   ]
  },
  {
   "cell_type": "code",
   "execution_count": 17,
   "metadata": {},
   "outputs": [],
   "source": [
    "scope={\n",
    "    \"powertrain\":[\"ICEV-d\", \"BEV\"],\n",
    "    \"size\":[\"7.5t\", \"40t\"],\n",
    "    \"year\":[2020, 2030]\n",
    "}\n",
    "\n",
    "bc={\n",
    "    \"custom electricity mix\": [\n",
    "        [1,0,0,0,0,0,0,0,0,0],\n",
    "        [0.5,0.5,0,0,0,0,0,0,0,0]\n",
    "    ],\n",
    "    \"energy storage\": {\n",
    "        \"electric\": {\n",
    "            \"type\": \"NMC\",\n",
    "            \"orogin\": \"NO\"\n",
    "        },\n",
    "        \"hydrogen\": {\n",
    "            \"type\": \"carbon fiber\"\n",
    "        }\n",
    "    }\n",
    "}\n",
    "\n",
    "ic = InventoryCalculation(tm,\n",
    "                          scope=scope,\n",
    "                          background_configuration=bc,\n",
    "                          scenario=\"SSP2-PkBudg1100\",\n",
    "                          method=\"recipe\",\n",
    "                          method_type=\"endpoint\")"
   ]
  },
  {
   "cell_type": "markdown",
   "metadata": {},
   "source": [
    "We can have a look at the underlying technology matrix"
   ]
  },
  {
   "cell_type": "code",
   "execution_count": 18,
   "metadata": {},
   "outputs": [
    {
     "data": {
      "text/plain": [
       "array([[[1., 0., 0., ..., 0., 0., 0.],\n",
       "        [0., 1., 0., ..., 0., 0., 0.],\n",
       "        [0., 0., 1., ..., 0., 0., 0.],\n",
       "        ...,\n",
       "        [0., 0., 0., ..., 1., 0., 0.],\n",
       "        [0., 0., 0., ..., 0., 1., 0.],\n",
       "        [0., 0., 0., ..., 0., 0., 1.]]])"
      ]
     },
     "execution_count": 18,
     "metadata": {},
     "output_type": "execute_result"
    }
   ],
   "source": [
    "ic.A"
   ]
  },
  {
   "cell_type": "markdown",
   "metadata": {},
   "source": [
    "The labels of its rows and columns"
   ]
  },
  {
   "cell_type": "code",
   "execution_count": 19,
   "metadata": {},
   "outputs": [
    {
     "data": {
      "text/plain": [
       "[('Ammonia', ('air', 'low population density, long-term'), 'kilogram'),\n",
       " ('market for polyurethane, rigid foam',\n",
       "  'RER',\n",
       "  'kilogram',\n",
       "  'polyurethane, rigid foam'),\n",
       " ('market for sugar beet seed, for sowing',\n",
       "  'GLO',\n",
       "  'kilogram',\n",
       "  'sugar beet seed, for sowing'),\n",
       " ('market for rape seed', 'GLO', 'kilogram', 'rape seed'),\n",
       " ('NMVOC, non-methane volatile organic compounds, unspecified origin',\n",
       "  ('air', 'urban air close to ground'),\n",
       "  'kilogram'),\n",
       " ('epoxy resin production, liquid', 'RER', 'kilogram', 'epoxy resin, liquid'),\n",
       " ('noise, octave 4, day time, suburban',\n",
       "  ('octave 4', 'day time', 'suburban'),\n",
       "  'joule'),\n",
       " ('Phosphorus', ('water', 'surface water'), 'kilogram'),\n",
       " ('wiring and tubing, carbon dioxide capture process',\n",
       "  'RER',\n",
       "  'unit',\n",
       "  'wiring and tubing, carbon dioxide capture process'),\n",
       " ('Membrane', 'GLO', 'kilowatt', 'Membrane')]"
      ]
     },
     "execution_count": 19,
     "metadata": {},
     "output_type": "execute_result"
    }
   ],
   "source": [
    "list(ic.inputs.keys())[:10]"
   ]
  },
  {
   "cell_type": "markdown",
   "metadata": {},
   "source": [
    "You can check the available indicators from the method you selected."
   ]
  },
  {
   "cell_type": "code",
   "execution_count": 20,
   "metadata": {},
   "outputs": [
    {
     "data": {
      "text/plain": [
       "{'Ecosystems': {'method': 'ReCiPe 2008 Endpoint (H, A) V1.13',\n",
       "  'category': 'Ecosystems',\n",
       "  'type': 'endpoint',\n",
       "  'abbreviation': '',\n",
       "  'unit': 'species.lost',\n",
       "  'source': 'https://www.rivm.nl/documenten/6recipe111'},\n",
       " 'Human health': {'method': 'ReCiPe 2008 Endpoint (H, A) V1.13',\n",
       "  'category': 'Human health',\n",
       "  'type': 'endpoint',\n",
       "  'abbreviation': '',\n",
       "  'unit': 'DALY',\n",
       "  'source': 'https://www.rivm.nl/documenten/6recipe111'},\n",
       " 'Resources': {'method': 'ReCiPe 2008 Endpoint (H, A) V1.13',\n",
       "  'category': 'Resources',\n",
       "  'type': 'endpoint',\n",
       "  'abbreviation': '',\n",
       "  'unit': 'USD',\n",
       "  'source': 'https://www.rivm.nl/documenten/6recipe111'}}"
      ]
     },
     "execution_count": 20,
     "metadata": {},
     "output_type": "execute_result"
    }
   ],
   "source": [
    "ic.impact_categories"
   ]
  },
  {
   "cell_type": "markdown",
   "metadata": {},
   "source": [
    "# Impact assessment\n",
    "\n",
    "And then you can solve the inventories and characterize impacts."
   ]
  },
  {
   "cell_type": "code",
   "execution_count": 21,
   "metadata": {},
   "outputs": [
    {
     "name": "stdout",
     "output_type": "stream",
     "text": [
      "****************** IMPORTANT BACKGROUND PARAMETERS ******************\n",
      " * The country of use is RER\n",
      " * Energy batteries produced in CN using NMC chemistry.\n",
      " * in 2020, % of renewable: 100%, GHG intensity per kWh: 0 g. CO2-eq.\n",
      " \t * in 2030, % of renewable: 50.0%, GHG intensity per kWh: 0 g. CO2-eq.\n",
      " * diesel is completed by biodiesel - cooking oil.\n",
      " \t * in 2020 _________________________________________ 0.0%\n",
      " \t * in 2030 _________________________________________ 1.0%\n",
      " * *********************************************************************\n"
     ]
    },
    {
     "name": "stderr",
     "output_type": "stream",
     "text": [
      "C:\\Users\\romai\\AppData\\Roaming\\Python\\Python37\\site-packages\\scipy\\sparse\\linalg\\dsolve\\linsolve.py:133: SparseEfficiencyWarning: spsolve requires A be CSC or CSR matrix format\n",
      "  SparseEfficiencyWarning)\n"
     ]
    }
   ],
   "source": [
    "results = ic.calculate_impacts()"
   ]
  },
  {
   "cell_type": "code",
   "execution_count": 22,
   "metadata": {},
   "outputs": [
    {
     "data": {
      "image/png": "[encoded data removed]",
      "text/plain": [
       "<Figure size 720x360 with 1 Axes>"
      ]
     },
     "metadata": {
      "needs_background": "light"
     },
     "output_type": "display_data"
    }
   ],
   "source": [
    "results.sel(impact_category='Human health', size='40t', value=0)\\\n",
    "    .to_dataframe('impact')\\\n",
    "    .unstack(level=2)['impact']\\\n",
    "    .plot(kind='bar',\n",
    "                stacked=True,\n",
    "         figsize=(10,5))\n",
    "plt.ylabel('DALY/ton-km')\n",
    "plt.show()"
   ]
  },
  {
   "cell_type": "markdown",
   "metadata": {},
   "source": [
    "Or with uncertainty (50 iterations). We just need to specify the number of iterations to `.stochastic()`.\n",
    "\n",
    "Note: only the uncertainty at the vehicle level (incl. its components) is considered. Hence, no uncertainty is considered in the \"background\" inventories (e.g., steel production), or at the impact assessment level.\n",
    "The only uncertainty/sensitivity in the background inventories one can \"appreciate\", is the one relating to the different future energy scenarios, going from a moderate climate policy (\"SSP2-Base\") to am amitious one (\"SSP2-PkBudg1100\"). Those scenarios will affect the background inventories in regard to efficiencies of power production, penetration of renewables, etc.\n",
    "\n",
    "To include uncertainty from the background inventories, you need to export the vehicle inventories to a LCA software (e.g., Brightway2) and link them to the ecoinvent database."
   ]
  },
  {
   "cell_type": "code",
   "execution_count": 12,
   "metadata": {},
   "outputs": [
    {
     "name": "stdout",
     "output_type": "stream",
     "text": [
      "Urban delivery driving cycle is selected. Vehicles will be designed to achieve a minimal range of 150 km.\n",
      "\n",
      "Capacity utilization assumed (share of available payload used)\n",
      "+----------------+------+------+------+------+------+------+\n",
      "|                | 18t  | 26t  | 3.5t | 40t  | 60t  | 7.5t |\n",
      "+----------------+------+------+------+------+------+------+\n",
      "|   BEV, 2000    | 0.64 | 0.73 | 0.73 | 0.73 | 0.74 | 0.72 |\n",
      "|   BEV, 2010    | 0.64 | 0.74 | 0.68 | 0.74 | 0.74 | 0.74 |\n",
      "|   BEV, 2020    | 0.66 | 0.74 | 0.76 | 0.73 | 0.72 | 0.74 |\n",
      "|   BEV, 2030    | 0.65 | 0.73 | 0.73 | 0.73 | 0.74 | 0.74 |\n",
      "|   BEV, 2040    | 0.64 | 0.74 | 0.74 | 0.74 | 0.73 | 0.72 |\n",
      "|   BEV, 2050    | 0.64 | 0.73 | 0.77 | 0.73 | 0.73 | 0.73 |\n",
      "|   FCEV, 2000   | 0.64 | 0.73 | 0.73 | 0.73 | 0.74 | 0.72 |\n",
      "|   FCEV, 2010   | 0.64 | 0.74 | 0.68 | 0.74 | 0.74 | 0.74 |\n",
      "|   FCEV, 2020   | 0.66 | 0.74 | 0.76 | 0.73 | 0.72 | 0.74 |\n",
      "|   FCEV, 2030   | 0.65 | 0.73 | 0.73 | 0.73 | 0.74 | 0.74 |\n",
      "|   FCEV, 2040   | 0.64 | 0.74 | 0.74 | 0.74 | 0.73 | 0.72 |\n",
      "|   FCEV, 2050   | 0.64 | 0.73 | 0.77 | 0.73 | 0.73 | 0.73 |\n",
      "|  HEV-d, 2000   | 0.64 | 0.73 | 0.73 | 0.73 | 0.74 | 0.72 |\n",
      "|  HEV-d, 2010   | 0.64 | 0.74 | 0.68 | 0.74 | 0.74 | 0.74 |\n",
      "|  HEV-d, 2020   | 0.66 | 0.74 | 0.76 | 0.73 | 0.72 | 0.74 |\n",
      "|  HEV-d, 2030   | 0.65 | 0.73 | 0.73 | 0.73 | 0.74 | 0.74 |\n",
      "|  HEV-d, 2040   | 0.64 | 0.74 | 0.74 | 0.74 | 0.73 | 0.72 |\n",
      "|  HEV-d, 2050   | 0.64 | 0.73 | 0.77 | 0.73 | 0.73 | 0.73 |\n",
      "|  ICEV-d, 2000  | 0.64 | 0.73 | 0.73 | 0.73 | 0.74 | 0.72 |\n",
      "|  ICEV-d, 2010  | 0.64 | 0.74 | 0.68 | 0.74 | 0.74 | 0.74 |\n",
      "|  ICEV-d, 2020  | 0.66 | 0.74 | 0.76 | 0.73 | 0.72 | 0.74 |\n",
      "|  ICEV-d, 2030  | 0.65 | 0.73 | 0.73 | 0.73 | 0.74 | 0.74 |\n",
      "|  ICEV-d, 2040  | 0.64 | 0.74 | 0.74 | 0.74 | 0.73 | 0.72 |\n",
      "|  ICEV-d, 2050  | 0.64 | 0.73 | 0.77 | 0.73 | 0.73 | 0.73 |\n",
      "|  ICEV-g, 2000  | 0.64 | 0.73 | 0.73 | 0.73 | 0.74 | 0.72 |\n",
      "|  ICEV-g, 2010  | 0.64 | 0.74 | 0.68 | 0.74 | 0.74 | 0.74 |\n",
      "|  ICEV-g, 2020  | 0.66 | 0.74 | 0.76 | 0.73 | 0.72 | 0.74 |\n",
      "|  ICEV-g, 2030  | 0.65 | 0.73 | 0.73 | 0.73 | 0.74 | 0.74 |\n",
      "|  ICEV-g, 2040  | 0.64 | 0.74 | 0.74 | 0.74 | 0.73 | 0.72 |\n",
      "|  ICEV-g, 2050  | 0.64 | 0.73 | 0.77 | 0.73 | 0.73 | 0.73 |\n",
      "| PHEV-c-d, 2000 | 0.64 | 0.73 | 0.73 | 0.73 | 0.74 | 0.72 |\n",
      "| PHEV-c-d, 2010 | 0.64 | 0.74 | 0.68 | 0.74 | 0.74 | 0.74 |\n",
      "| PHEV-c-d, 2020 | 0.66 | 0.74 | 0.76 | 0.73 | 0.72 | 0.74 |\n",
      "| PHEV-c-d, 2030 | 0.65 | 0.73 | 0.73 | 0.73 | 0.74 | 0.74 |\n",
      "| PHEV-c-d, 2040 | 0.64 | 0.74 | 0.74 | 0.74 | 0.73 | 0.72 |\n",
      "| PHEV-c-d, 2050 | 0.64 | 0.73 | 0.77 | 0.73 | 0.73 | 0.73 |\n",
      "|  PHEV-d, 2000  | 0.64 | 0.73 | 0.73 | 0.73 | 0.74 | 0.72 |\n",
      "|  PHEV-d, 2010  | 0.64 | 0.74 | 0.68 | 0.74 | 0.74 | 0.74 |\n",
      "|  PHEV-d, 2020  | 0.66 | 0.74 | 0.76 | 0.73 | 0.72 | 0.74 |\n",
      "|  PHEV-d, 2030  | 0.65 | 0.73 | 0.73 | 0.73 | 0.74 | 0.74 |\n",
      "|  PHEV-d, 2040  | 0.64 | 0.74 | 0.74 | 0.74 | 0.73 | 0.72 |\n",
      "|  PHEV-d, 2050  | 0.64 | 0.73 | 0.77 | 0.73 | 0.73 | 0.73 |\n",
      "|  PHEV-e, 2000  | 0.64 | 0.73 | 0.73 | 0.73 | 0.74 | 0.72 |\n",
      "|  PHEV-e, 2010  | 0.64 | 0.74 | 0.68 | 0.74 | 0.74 | 0.74 |\n",
      "|  PHEV-e, 2020  | 0.66 | 0.74 | 0.76 | 0.73 | 0.72 | 0.74 |\n",
      "|  PHEV-e, 2030  | 0.65 | 0.73 | 0.73 | 0.73 | 0.74 | 0.74 |\n",
      "|  PHEV-e, 2040  | 0.64 | 0.74 | 0.74 | 0.74 | 0.73 | 0.72 |\n",
      "|  PHEV-e, 2050  | 0.64 | 0.73 | 0.77 | 0.73 | 0.73 | 0.73 |\n",
      "+----------------+------+------+------+------+------+------+\n"
     ]
    },
    {
     "name": "stderr",
     "output_type": "stream",
     "text": [
      "c:\\users\\romai\\documents\\github\\carculator_truck\\carculator_truck\\model.py:268: FutureWarning: elementwise comparison failed; returning scalar instead, but in the future will perform elementwise comparison\n",
      "  if \"reference\" in self.array.value.values:\n"
     ]
    },
    {
     "name": "stdout",
     "output_type": "stream",
     "text": [
      "\n",
      "Payload (in tons)\n",
      "Vehicles for which the payload is not specified have either: \n",
      "1. a driving mass superior to the permissible gross weight. Possible solutions include: reducing the range autonomy for those vehicles, reducing the load factor, increasing the battery cell energy density.\n",
      "2. an energy efficiency too low to comply with the energy target specified. Possible solutions include: changing the energy reduction targets specified, increasing the engine efficiency.\n",
      "+--------------+-----+------+------+------+------+------+\n",
      "|              | 18t | 26t  | 3.5t | 40t  | 60t  | 7.5t |\n",
      "+--------------+-----+------+------+------+------+------+\n",
      "| ICEV-d, 2000 | 6.3 | 12.2 | 1.0  | 19.3 | 27.8 | 2.3  |\n",
      "| ICEV-d, 2010 | 6.3 | 11.9 | 0.7  | 19.2 | 29.1 | 2.1  |\n",
      "| ICEV-d, 2020 | 6.5 | 11.7 | 0.9  | 17.6 | 27.2 | 3.2  |\n",
      "| ICEV-d, 2030 |  -  | 12.1 | 1.5  |  -   |  -   |  -   |\n",
      "| ICEV-d, 2040 | 7.9 | 13.0 | 1.5  | 21.2 | 32.2 | 3.2  |\n",
      "| ICEV-d, 2050 | 7.5 | 14.1 | 1.6  | 21.6 | 32.8 | 3.5  |\n",
      "| ICEV-g, 2000 | 6.2 | 12.0 | 0.8  | 19.1 | 27.5 | 2.2  |\n",
      "| ICEV-g, 2010 | 6.2 | 11.8 | 0.6  | 19.1 | 29.0 | 2.1  |\n",
      "| ICEV-g, 2020 | 6.4 | 11.6 | 0.8  | 17.5 | 27.2 | 3.1  |\n",
      "| ICEV-g, 2030 |  -  | 11.9 | 1.3  |  -   |  -   |  -   |\n",
      "| ICEV-g, 2040 | 7.7 | 12.9 | 1.4  | 21.0 | 32.0 | 3.1  |\n",
      "| ICEV-g, 2050 | 7.4 | 14.0 | 1.5  | 21.4 | 32.7 | 3.3  |\n",
      "| PHEV-d, 2000 | 2.3 | 7.1  | 0.3  | 11.4 | 17.7 | 0.7  |\n",
      "| PHEV-d, 2010 | 5.0 | 10.2 | 0.5  | 16.5 | 25.0 | 1.6  |\n",
      "| PHEV-d, 2020 | 6.5 | 11.4 | 0.9  | 17.3 | 26.8 | 3.2  |\n",
      "| PHEV-d, 2030 | 6.9 | 11.9 | 1.5  | 20.5 | 31.4 | 3.4  |\n",
      "| PHEV-d, 2040 | 7.8 | 13.0 | 1.5  | 20.9 | 31.6 | 3.2  |\n",
      "| PHEV-d, 2050 | 7.6 | 14.2 | 1.7  | 21.6 | 32.8 | 3.5  |\n",
      "|  FCEV, 2000  | 6.6 | 12.6 | 1.3  | 20.0 | 28.4 | 2.5  |\n",
      "|  FCEV, 2010  | 6.8 | 12.5 | 0.9  | 19.8 | 29.7 | 2.3  |\n",
      "|  FCEV, 2020  | 7.0 | 12.0 | 1.1  | 18.2 | 28.0 | 3.4  |\n",
      "|  FCEV, 2030  | 7.3 | 12.3 | 1.6  | 21.2 | 32.4 | 3.6  |\n",
      "|  FCEV, 2040  | 8.2 | 13.4 | 1.6  | 21.5 | 32.6 | 3.4  |\n",
      "|  FCEV, 2050  | 7.7 | 14.4 | 1.8  | 21.9 | 33.2 | 3.6  |\n",
      "|  BEV, 2000   | 1.3 | 5.7  |  -   | 9.4  | 15.0 | 0.2  |\n",
      "|  BEV, 2010   | 4.6 | 9.7  | 0.4  | 15.8 | 23.9 | 1.5  |\n",
      "|  BEV, 2020   | 6.5 | 11.3 | 1.0  | 17.2 | 26.6 | 3.1  |\n",
      "|  BEV, 2030   | 6.9 | 11.8 | 1.5  | 20.4 | 31.3 | 3.4  |\n",
      "|  BEV, 2040   | 7.8 | 12.9 | 1.5  | 20.8 | 31.5 | 3.2  |\n",
      "|  BEV, 2050   | 7.6 | 14.2 | 1.7  | 21.6 | 32.8 | 3.6  |\n",
      "| HEV-d, 2000  | 6.4 | 12.3 | 1.1  | 19.6 | 28.0 | 2.4  |\n",
      "| HEV-d, 2010  | 6.4 | 12.0 | 0.8  | 19.4 | 29.2 | 2.2  |\n",
      "| HEV-d, 2020  | 6.6 | 11.8 | 1.0  | 17.8 | 27.5 | 3.3  |\n",
      "| HEV-d, 2030  | 6.9 | 12.1 | 1.5  | 20.9 | 32.0 | 3.4  |\n",
      "| HEV-d, 2040  | 7.9 | 13.0 | 1.5  | 21.1 | 32.1 | 3.2  |\n",
      "| HEV-d, 2050  | 7.5 | 14.1 | 1.6  | 21.5 | 32.8 | 3.5  |\n",
      "+--------------+-----+------+------+------+------+------+\n",
      "****************** IMPORTANT BACKGROUND PARAMETERS ******************\n",
      " * The country of use is RER\n",
      " * Energy batteries produced in CN using NMC chemistry.\n",
      " * in 2020, % of renewable: 100%, GHG intensity per kWh: 0 g. CO2-eq.\n",
      " \t * in 2030, % of renewable: 50.0%, GHG intensity per kWh: 0 g. CO2-eq.\n",
      " \t * in 2040, % of renewable: 50.0%, GHG intensity per kWh: 0 g. CO2-eq.\n",
      " \t * in 2050, % of renewable: 50.0%, GHG intensity per kWh: 0 g. CO2-eq.\n",
      " * cng is completed by biogas - sewage sludge.\n",
      " \t * in 2020 _________________________________________ 0.0%\n",
      " \t * in 2030 _________________________________________ 1.0%\n",
      " \t * in 2040 _________________________________________ 2.0%\n",
      " \t * in 2050 _________________________________________ 6.0%\n",
      " * diesel is completed by biodiesel - cooking oil.\n",
      " \t * in 2020 _________________________________________ 0.0%\n",
      " \t * in 2030 _________________________________________ 1.0%\n",
      " \t * in 2040 _________________________________________ 2.0%\n",
      " \t * in 2050 _________________________________________ 6.0%\n",
      " * *********************************************************************\n"
     ]
    },
    {
     "name": "stderr",
     "output_type": "stream",
     "text": [
      "C:\\Users\\romai\\AppData\\Roaming\\Python\\Python37\\site-packages\\scipy\\sparse\\linalg\\dsolve\\linsolve.py:133: SparseEfficiencyWarning: spsolve requires A be CSC or CSR matrix format\n",
      "  SparseEfficiencyWarning)\n"
     ]
    },
    {
     "name": "stdout",
     "output_type": "stream",
     "text": [
      "(3, 2, 3, 4, 9, 50)\n",
      "(2, 3, 4, 50)\n"
     ]
    }
   ],
   "source": [
    "from carculator_truck import *\n",
    "tip = TruckInputParameters()\n",
    "tip.stochastic(50)\n",
    "dcts, array = fill_xarray_from_input_parameters(tip)\n",
    "tm = TruckModel(array)\n",
    "tm.set_all()\n",
    "\n",
    "\n",
    "scope={\n",
    "    \"powertrain\":[\"ICEV-d\", \"BEV\", \"ICEV-g\"],\n",
    "    \"size\":[\"7.5t\", \"40t\"],\n",
    "    \"year\":[2020, 2030, 2040, 2050]\n",
    "}\n",
    "\n",
    "bc={\n",
    "    \"custom electricity mix\": [\n",
    "        [1,0,0,0,0,0,0,0,0,0],\n",
    "        [0.5,0.5,0,0,0,0,0,0,0,0],\n",
    "        [0.5,0.5,0,0,0,0,0,0,0,0],\n",
    "        [0.5,0.5,0,0,0,0,0,0,0,0]\n",
    "    ],\n",
    "    \"energy storage\": {\n",
    "        \"electric\": {\n",
    "            \"type\": \"NMC\",\n",
    "            \"orogin\": \"NO\"\n",
    "        },\n",
    "        \"hydrogen\": {\n",
    "            \"type\": \"carbon fiber\"\n",
    "        }\n",
    "    }\n",
    "}\n",
    "\n",
    "ic = InventoryCalculation(tm,\n",
    "                          scope=scope,\n",
    "                          background_configuration=bc,\n",
    "                          scenario=\"SSP2-PkBudg1100\",\n",
    "                          method=\"recipe\",\n",
    "                          method_type=\"endpoint\")\n",
    "\n",
    "results = ic.calculate_impacts()"
   ]
  },
  {
   "cell_type": "code",
   "execution_count": 13,
   "metadata": {},
   "outputs": [
    {
     "data": {
      "image/png": "[encoded data removed]",
      "text/plain": [
       "<Figure size 720x360 with 1 Axes>"
      ]
     },
     "metadata": {
      "needs_background": "light"
     },
     "output_type": "display_data"
    }
   ],
   "source": [
    "import matplotlib.pyplot as plt\n",
    "results.sel(impact_category='Human health', size='40t', value=0)\\\n",
    "    .to_dataframe('impact')\\\n",
    "    .unstack()['impact'].T\\\n",
    "    .boxplot(showfliers=False,\n",
    "         figsize=(10,5))\n",
    "plt.ylabel('DALY/ton-km')\n",
    "plt.xticks(rotation=90)\n",
    "plt.show()"
   ]
  },
  {
   "cell_type": "markdown",
   "metadata": {},
   "source": [
    "# Sensitivity analysis"
   ]
  },
  {
   "cell_type": "markdown",
   "metadata": {},
   "source": [
    "`carculator_truck` has a function to calculate the sensitivity of characterized results in regard to the inputs parameters of `TruckModel`. This function generates a number of \"scenarios\" within which one input parameter has its value increased by 10%. The newly calculated results are stored and compared to the reference scneario (where none of the input parameter values are modified)."
   ]
  },
  {
   "cell_type": "markdown",
   "metadata": {},
   "source": [
    "To do so, we run the model in **static** mode, but we give the argument `sensitivity=True` to `fill_xarray_from_input_parameters()` and `calculate_impacts()`."
   ]
  },
  {
   "cell_type": "code",
   "execution_count": 9,
   "metadata": {},
   "outputs": [
    {
     "name": "stdout",
     "output_type": "stream",
     "text": [
      "Urban delivery driving cycle is selected. Vehicles will be designed to achieve a minimal range of 150 km.\n",
      "\n",
      "Capacity utilization assumed (share of available payload used)\n",
      "+----------------+------+------+------+------+------+------+\n",
      "|                | 18t  | 26t  | 3.5t | 40t  | 60t  | 7.5t |\n",
      "+----------------+------+------+------+------+------+------+\n",
      "|   BEV, 2000    | 0.64 | 0.73 | 0.83 | 0.73 | 0.73 | 0.83 |\n",
      "|   BEV, 2010    | 0.64 | 0.73 | 0.83 | 0.73 | 0.73 | 0.83 |\n",
      "|   BEV, 2020    | 0.64 | 0.73 | 0.83 | 0.73 | 0.73 | 0.83 |\n",
      "|   BEV, 2030    | 0.64 | 0.73 | 0.83 | 0.73 | 0.73 | 0.83 |\n",
      "|   BEV, 2040    | 0.64 | 0.73 | 0.83 | 0.73 | 0.73 | 0.83 |\n",
      "|   BEV, 2050    | 0.64 | 0.73 | 0.83 | 0.73 | 0.73 | 0.83 |\n",
      "|   FCEV, 2000   | 0.64 | 0.73 | 0.83 | 0.73 | 0.73 | 0.83 |\n",
      "|   FCEV, 2010   | 0.64 | 0.73 | 0.83 | 0.73 | 0.73 | 0.83 |\n",
      "|   FCEV, 2020   | 0.64 | 0.73 | 0.83 | 0.73 | 0.73 | 0.83 |\n",
      "|   FCEV, 2030   | 0.64 | 0.73 | 0.83 | 0.73 | 0.73 | 0.83 |\n",
      "|   FCEV, 2040   | 0.64 | 0.73 | 0.83 | 0.73 | 0.73 | 0.83 |\n",
      "|   FCEV, 2050   | 0.64 | 0.73 | 0.83 | 0.73 | 0.73 | 0.83 |\n",
      "|  HEV-d, 2000   | 0.64 | 0.73 | 0.83 | 0.73 | 0.73 | 0.83 |\n",
      "|  HEV-d, 2010   | 0.64 | 0.73 | 0.83 | 0.73 | 0.73 | 0.83 |\n",
      "|  HEV-d, 2020   | 0.64 | 0.73 | 0.83 | 0.73 | 0.73 | 0.83 |\n",
      "|  HEV-d, 2030   | 0.64 | 0.73 | 0.83 | 0.73 | 0.73 | 0.83 |\n",
      "|  HEV-d, 2040   | 0.64 | 0.73 | 0.83 | 0.73 | 0.73 | 0.83 |\n",
      "|  HEV-d, 2050   | 0.64 | 0.73 | 0.83 | 0.73 | 0.73 | 0.83 |\n",
      "|  ICEV-d, 2000  | 0.64 | 0.73 | 0.83 | 0.73 | 0.73 | 0.83 |\n",
      "|  ICEV-d, 2010  | 0.64 | 0.73 | 0.83 | 0.73 | 0.73 | 0.83 |\n",
      "|  ICEV-d, 2020  | 0.64 | 0.73 | 0.83 | 0.73 | 0.73 | 0.83 |\n",
      "|  ICEV-d, 2030  | 0.64 | 0.73 | 0.83 | 0.73 | 0.73 | 0.83 |\n",
      "|  ICEV-d, 2040  | 0.64 | 0.73 | 0.83 | 0.73 | 0.73 | 0.83 |\n",
      "|  ICEV-d, 2050  | 0.64 | 0.73 | 0.83 | 0.73 | 0.73 | 0.83 |\n",
      "|  ICEV-g, 2000  | 0.64 | 0.73 | 0.83 | 0.73 | 0.73 | 0.83 |\n",
      "|  ICEV-g, 2010  | 0.64 | 0.73 | 0.83 | 0.73 | 0.73 | 0.83 |\n",
      "|  ICEV-g, 2020  | 0.64 | 0.73 | 0.83 | 0.73 | 0.73 | 0.83 |\n",
      "|  ICEV-g, 2030  | 0.64 | 0.73 | 0.83 | 0.73 | 0.73 | 0.83 |\n",
      "|  ICEV-g, 2040  | 0.64 | 0.73 | 0.83 | 0.73 | 0.73 | 0.83 |\n",
      "|  ICEV-g, 2050  | 0.64 | 0.73 | 0.83 | 0.73 | 0.73 | 0.83 |\n",
      "| PHEV-c-d, 2000 | 0.64 | 0.73 | 0.83 | 0.73 | 0.73 | 0.83 |\n",
      "| PHEV-c-d, 2010 | 0.64 | 0.73 | 0.83 | 0.73 | 0.73 | 0.83 |\n",
      "| PHEV-c-d, 2020 | 0.64 | 0.73 | 0.83 | 0.73 | 0.73 | 0.83 |\n",
      "| PHEV-c-d, 2030 | 0.64 | 0.73 | 0.83 | 0.73 | 0.73 | 0.83 |\n",
      "| PHEV-c-d, 2040 | 0.64 | 0.73 | 0.83 | 0.73 | 0.73 | 0.83 |\n",
      "| PHEV-c-d, 2050 | 0.64 | 0.73 | 0.83 | 0.73 | 0.73 | 0.83 |\n",
      "|  PHEV-d, 2000  | 0.64 | 0.73 | 0.83 | 0.73 | 0.73 | 0.83 |\n",
      "|  PHEV-d, 2010  | 0.64 | 0.73 | 0.83 | 0.73 | 0.73 | 0.83 |\n",
      "|  PHEV-d, 2020  | 0.64 | 0.73 | 0.83 | 0.73 | 0.73 | 0.83 |\n",
      "|  PHEV-d, 2030  | 0.64 | 0.73 | 0.83 | 0.73 | 0.73 | 0.83 |\n",
      "|  PHEV-d, 2040  | 0.64 | 0.73 | 0.83 | 0.73 | 0.73 | 0.83 |\n",
      "|  PHEV-d, 2050  | 0.64 | 0.73 | 0.83 | 0.73 | 0.73 | 0.83 |\n",
      "|  PHEV-e, 2000  | 0.64 | 0.73 | 0.83 | 0.73 | 0.73 | 0.83 |\n",
      "|  PHEV-e, 2010  | 0.64 | 0.73 | 0.83 | 0.73 | 0.73 | 0.83 |\n",
      "|  PHEV-e, 2020  | 0.64 | 0.73 | 0.83 | 0.73 | 0.73 | 0.83 |\n",
      "|  PHEV-e, 2030  | 0.64 | 0.73 | 0.83 | 0.73 | 0.73 | 0.83 |\n",
      "|  PHEV-e, 2040  | 0.64 | 0.73 | 0.83 | 0.73 | 0.73 | 0.83 |\n",
      "|  PHEV-e, 2050  | 0.64 | 0.73 | 0.83 | 0.73 | 0.73 | 0.83 |\n",
      "+----------------+------+------+------+------+------+------+\n",
      "\n",
      "Payload (in tons)\n",
      "Vehicles for which the payload is not specified have either: \n",
      "1. a driving mass superior to the permissible gross weight. Possible solutions include: reducing the range autonomy for those vehicles, reducing the load factor, increasing the battery cell energy density.\n",
      "2. an energy efficiency too low to comply with the energy target specified. Possible solutions include: changing the energy reduction targets specified, increasing the engine efficiency.\n",
      "+--------------+-----+------+------+------+------+------+\n",
      "|              | 18t | 26t  | 3.5t | 40t  | 60t  | 7.5t |\n",
      "+--------------+-----+------+------+------+------+------+\n",
      "| ICEV-d, 2000 | 6.3 | 12.2 | 1.1  | 18.5 | 28.2 | 2.8  |\n",
      "| ICEV-d, 2010 | 6.3 | 12.2 | 1.1  | 18.6 | 28.3 | 2.9  |\n",
      "| ICEV-d, 2020 | 6.6 | 12.6 | 1.2  | 18.9 | 28.6 | 3.0  |\n",
      "| ICEV-d, 2030 |  -  |  -   | 1.5  | 20.0 | 0.4  | 3.5  |\n",
      "| ICEV-d, 2040 | 7.5 | 13.8 | 1.5  | 21.2 | 32.0 | 3.6  |\n",
      "| ICEV-d, 2050 | 7.9 | 14.2 | 1.7  | 21.9 | 33.1 | 3.9  |\n",
      "| ICEV-g, 2000 | 6.1 | 12.0 | 0.9  | 18.3 | 27.9 | 2.7  |\n",
      "| ICEV-g, 2010 | 6.2 | 12.0 | 0.9  | 18.3 | 28.0 | 2.7  |\n",
      "| ICEV-g, 2020 | 6.4 | 12.4 | 1.0  | 18.6 | 28.4 | 2.9  |\n",
      "| ICEV-g, 2030 | 7.0 | 0.2  | 1.3  | 20.1 | 28.7 | 3.3  |\n",
      "| ICEV-g, 2040 | 7.4 | 13.6 | 1.4  | 21.0 | 31.8 | 3.5  |\n",
      "| ICEV-g, 2050 | 7.7 | 14.0 | 1.5  | 21.7 | 32.9 | 3.7  |\n",
      "| PHEV-d, 2000 | 3.0 | 7.4  | 0.3  | 11.8 | 19.0 | 0.9  |\n",
      "| PHEV-d, 2010 | 5.2 | 10.5 | 0.8  | 16.2 | 24.9 | 2.2  |\n",
      "| PHEV-d, 2020 | 6.4 | 12.1 | 1.2  | 18.2 | 27.7 | 2.9  |\n",
      "| PHEV-d, 2030 | 7.2 | 13.2 | 1.4  | 20.1 | 30.4 | 3.4  |\n",
      "| PHEV-d, 2040 | 7.6 | 13.8 | 1.6  | 21.1 | 31.9 | 3.7  |\n",
      "| PHEV-d, 2050 | 8.0 | 14.3 | 1.7  | 22.0 | 33.1 | 3.9  |\n",
      "|  FCEV, 2000  | 6.6 | 12.4 | 1.2  | 18.9 | 28.5 | 3.0  |\n",
      "|  FCEV, 2010  | 6.7 | 12.5 | 1.3  | 19.0 | 28.8 | 3.0  |\n",
      "|  FCEV, 2020  | 7.0 | 12.9 | 1.4  | 19.3 | 29.2 | 3.2  |\n",
      "|  FCEV, 2030  | 7.5 | 13.7 | 1.6  | 20.7 | 31.2 | 3.6  |\n",
      "|  FCEV, 2040  | 7.8 | 14.1 | 1.7  | 21.5 | 32.4 | 3.8  |\n",
      "|  FCEV, 2050  | 8.1 | 14.5 | 1.8  | 22.3 | 33.5 | 4.0  |\n",
      "|  BEV, 2000   | 2.1 | 6.1  |  -   | 10.1 | 16.6 | 0.4  |\n",
      "|  BEV, 2010   | 4.9 | 10.0 | 0.7  | 15.6 | 24.1 | 2.0  |\n",
      "|  BEV, 2020   | 6.3 | 12.0 | 1.2  | 18.0 | 27.4 | 2.9  |\n",
      "|  BEV, 2030   | 7.2 | 13.2 | 1.4  | 20.0 | 30.3 | 3.4  |\n",
      "|  BEV, 2040   | 7.7 | 13.8 | 1.6  | 21.1 | 31.9 | 3.7  |\n",
      "|  BEV, 2050   | 8.0 | 14.3 | 1.8  | 22.0 | 33.1 | 4.0  |\n",
      "| HEV-d, 2000  | 6.4 | 12.3 | 1.1  | 18.7 | 28.4 | 2.9  |\n",
      "| HEV-d, 2010  | 6.4 | 12.3 | 1.1  | 18.7 | 28.4 | 2.9  |\n",
      "| HEV-d, 2020  | 6.7 | 12.7 | 1.2  | 19.0 | 28.8 | 3.1  |\n",
      "| HEV-d, 2030  | 7.3 | 13.4 | 1.4  | 20.4 | 30.9 | 3.5  |\n",
      "| HEV-d, 2040  | 7.6 | 13.8 | 1.6  | 21.2 | 32.0 | 3.7  |\n",
      "| HEV-d, 2050  | 7.9 | 14.2 | 1.7  | 21.9 | 33.1 | 3.9  |\n",
      "+--------------+-----+------+------+------+------+------+\n",
      "****************** IMPORTANT BACKGROUND PARAMETERS ******************\n",
      " * The country of use is RER\n",
      " * Energy batteries produced in CN using NMC chemistry.\n",
      " * in 2020, % of renewable: 39.0%, GHG intensity per kWh: 0 g. CO2-eq.\n",
      " * diesel is completed by biodiesel - cooking oil.\n",
      " \t * in 2020 _________________________________________ 0.0%\n",
      " * *********************************************************************\n"
     ]
    },
    {
     "name": "stderr",
     "output_type": "stream",
     "text": [
      "C:\\Users\\romai\\AppData\\Roaming\\Python\\Python37\\site-packages\\scipy\\sparse\\linalg\\dsolve\\linsolve.py:133: SparseEfficiencyWarning: spsolve requires A be CSC or CSR matrix format\n",
      "  SparseEfficiencyWarning)\n"
     ]
    }
   ],
   "source": [
    "from carculator_truck import *\n",
    "import matplotlib.pyplot as plt\n",
    "import numpy as np\n",
    "tip = TruckInputParameters()\n",
    "tip.static()\n",
    "\n",
    "_, array = fill_xarray_from_input_parameters(tip, sensitivity=True)\n",
    "tm = TruckModel(array)\n",
    "tm.set_all()\n",
    "\n",
    "ic = InventoryCalculation(tm, scope={\"size\":\"40t\", \"powertrain\":[\"ICEV-d\", \"BEV\"], \"year\":[2020]})\n",
    "res = ic.calculate_impacts(sensitivity=True)"
   ]
  },
  {
   "cell_type": "code",
   "execution_count": 23,
   "metadata": {},
   "outputs": [
    {
     "name": "stdout",
     "output_type": "stream",
     "text": [
      "Urban delivery driving cycle is selected. Vehicles will be designed to achieve a minimal range of 150 km.\n",
      "\n",
      "Capacity utilization assumed (share of available payload used)\n",
      "+----------------+------+------+------+------+------+------+\n",
      "|                | 18t  | 26t  | 3.5t | 40t  | 60t  | 7.5t |\n",
      "+----------------+------+------+------+------+------+------+\n",
      "|   BEV, 2000    | 0.64 | 0.73 | 0.83 | 0.73 | 0.73 | 0.83 |\n",
      "|   BEV, 2010    | 0.64 | 0.73 | 0.83 | 0.73 | 0.73 | 0.83 |\n",
      "|   BEV, 2020    | 0.64 | 0.73 | 0.83 | 0.73 | 0.73 | 0.83 |\n",
      "|   BEV, 2030    | 0.64 | 0.73 | 0.83 | 0.73 | 0.73 | 0.83 |\n",
      "|   BEV, 2040    | 0.64 | 0.73 | 0.83 | 0.73 | 0.73 | 0.83 |\n",
      "|   BEV, 2050    | 0.64 | 0.73 | 0.83 | 0.73 | 0.73 | 0.83 |\n",
      "|   FCEV, 2000   | 0.64 | 0.73 | 0.83 | 0.73 | 0.73 | 0.83 |\n",
      "|   FCEV, 2010   | 0.64 | 0.73 | 0.83 | 0.73 | 0.73 | 0.83 |\n",
      "|   FCEV, 2020   | 0.64 | 0.73 | 0.83 | 0.73 | 0.73 | 0.83 |\n",
      "|   FCEV, 2030   | 0.64 | 0.73 | 0.83 | 0.73 | 0.73 | 0.83 |\n",
      "|   FCEV, 2040   | 0.64 | 0.73 | 0.83 | 0.73 | 0.73 | 0.83 |\n",
      "|   FCEV, 2050   | 0.64 | 0.73 | 0.83 | 0.73 | 0.73 | 0.83 |\n",
      "|  HEV-d, 2000   | 0.64 | 0.73 | 0.83 | 0.73 | 0.73 | 0.83 |\n",
      "|  HEV-d, 2010   | 0.64 | 0.73 | 0.83 | 0.73 | 0.73 | 0.83 |\n",
      "|  HEV-d, 2020   | 0.64 | 0.73 | 0.83 | 0.73 | 0.73 | 0.83 |\n",
      "|  HEV-d, 2030   | 0.64 | 0.73 | 0.83 | 0.73 | 0.73 | 0.83 |\n",
      "|  HEV-d, 2040   | 0.64 | 0.73 | 0.83 | 0.73 | 0.73 | 0.83 |\n",
      "|  HEV-d, 2050   | 0.64 | 0.73 | 0.83 | 0.73 | 0.73 | 0.83 |\n",
      "|  ICEV-d, 2000  | 0.64 | 0.73 | 0.83 | 0.73 | 0.73 | 0.83 |\n",
      "|  ICEV-d, 2010  | 0.64 | 0.73 | 0.83 | 0.73 | 0.73 | 0.83 |\n",
      "|  ICEV-d, 2020  | 0.64 | 0.73 | 0.83 | 0.73 | 0.73 | 0.83 |\n",
      "|  ICEV-d, 2030  | 0.64 | 0.73 | 0.83 | 0.73 | 0.73 | 0.83 |\n",
      "|  ICEV-d, 2040  | 0.64 | 0.73 | 0.83 | 0.73 | 0.73 | 0.83 |\n",
      "|  ICEV-d, 2050  | 0.64 | 0.73 | 0.83 | 0.73 | 0.73 | 0.83 |\n",
      "|  ICEV-g, 2000  | 0.64 | 0.73 | 0.83 | 0.73 | 0.73 | 0.83 |\n",
      "|  ICEV-g, 2010  | 0.64 | 0.73 | 0.83 | 0.73 | 0.73 | 0.83 |\n",
      "|  ICEV-g, 2020  | 0.64 | 0.73 | 0.83 | 0.73 | 0.73 | 0.83 |\n",
      "|  ICEV-g, 2030  | 0.64 | 0.73 | 0.83 | 0.73 | 0.73 | 0.83 |\n",
      "|  ICEV-g, 2040  | 0.64 | 0.73 | 0.83 | 0.73 | 0.73 | 0.83 |\n",
      "|  ICEV-g, 2050  | 0.64 | 0.73 | 0.83 | 0.73 | 0.73 | 0.83 |\n",
      "| PHEV-c-d, 2000 | 0.64 | 0.73 | 0.83 | 0.73 | 0.73 | 0.83 |\n",
      "| PHEV-c-d, 2010 | 0.64 | 0.73 | 0.83 | 0.73 | 0.73 | 0.83 |\n",
      "| PHEV-c-d, 2020 | 0.64 | 0.73 | 0.83 | 0.73 | 0.73 | 0.83 |\n",
      "| PHEV-c-d, 2030 | 0.64 | 0.73 | 0.83 | 0.73 | 0.73 | 0.83 |\n",
      "| PHEV-c-d, 2040 | 0.64 | 0.73 | 0.83 | 0.73 | 0.73 | 0.83 |\n",
      "| PHEV-c-d, 2050 | 0.64 | 0.73 | 0.83 | 0.73 | 0.73 | 0.83 |\n",
      "|  PHEV-d, 2000  | 0.64 | 0.73 | 0.83 | 0.73 | 0.73 | 0.83 |\n",
      "|  PHEV-d, 2010  | 0.64 | 0.73 | 0.83 | 0.73 | 0.73 | 0.83 |\n",
      "|  PHEV-d, 2020  | 0.64 | 0.73 | 0.83 | 0.73 | 0.73 | 0.83 |\n",
      "|  PHEV-d, 2030  | 0.64 | 0.73 | 0.83 | 0.73 | 0.73 | 0.83 |\n",
      "|  PHEV-d, 2040  | 0.64 | 0.73 | 0.83 | 0.73 | 0.73 | 0.83 |\n",
      "|  PHEV-d, 2050  | 0.64 | 0.73 | 0.83 | 0.73 | 0.73 | 0.83 |\n",
      "|  PHEV-e, 2000  | 0.64 | 0.73 | 0.83 | 0.73 | 0.73 | 0.83 |\n",
      "|  PHEV-e, 2010  | 0.64 | 0.73 | 0.83 | 0.73 | 0.73 | 0.83 |\n",
      "|  PHEV-e, 2020  | 0.64 | 0.73 | 0.83 | 0.73 | 0.73 | 0.83 |\n",
      "|  PHEV-e, 2030  | 0.64 | 0.73 | 0.83 | 0.73 | 0.73 | 0.83 |\n",
      "|  PHEV-e, 2040  | 0.64 | 0.73 | 0.83 | 0.73 | 0.73 | 0.83 |\n",
      "|  PHEV-e, 2050  | 0.64 | 0.73 | 0.83 | 0.73 | 0.73 | 0.83 |\n",
      "+----------------+------+------+------+------+------+------+\n",
      "\n",
      "Payload (in tons)\n",
      "Vehicles for which the payload is not specified have either: \n",
      "1. a driving mass superior to the permissible gross weight. Possible solutions include: reducing the range autonomy for those vehicles, reducing the load factor, increasing the battery cell energy density.\n",
      "2. an energy efficiency too low to comply with the energy target specified. Possible solutions include: changing the energy reduction targets specified, increasing the engine efficiency.\n",
      "+--------------+-----+------+------+------+------+------+\n",
      "|              | 18t | 26t  | 3.5t | 40t  | 60t  | 7.5t |\n",
      "+--------------+-----+------+------+------+------+------+\n",
      "| ICEV-d, 2000 | 6.3 | 12.2 | 1.1  | 18.5 | 28.2 | 2.8  |\n",
      "| ICEV-d, 2010 | 6.3 | 12.2 | 1.1  | 18.6 | 28.3 | 2.9  |\n",
      "| ICEV-d, 2020 | 6.6 | 12.6 | 1.2  | 18.9 | 28.6 | 3.0  |\n",
      "| ICEV-d, 2030 |  -  |  -   | 1.5  | 20.0 | 0.4  | 3.5  |\n",
      "| ICEV-d, 2040 | 7.5 | 13.8 | 1.5  | 21.2 | 32.0 | 3.6  |\n",
      "| ICEV-d, 2050 | 7.9 | 14.2 | 1.7  | 21.9 | 33.1 | 3.9  |\n",
      "| ICEV-g, 2000 | 6.1 | 12.0 | 0.9  | 18.3 | 27.9 | 2.7  |\n",
      "| ICEV-g, 2010 | 6.2 | 12.0 | 0.9  | 18.3 | 28.0 | 2.7  |\n",
      "| ICEV-g, 2020 | 6.4 | 12.4 | 1.0  | 18.6 | 28.4 | 2.9  |\n",
      "| ICEV-g, 2030 | 7.0 | 0.2  | 1.3  | 20.1 | 28.7 | 3.3  |\n",
      "| ICEV-g, 2040 | 7.4 | 13.6 | 1.4  | 21.0 | 31.8 | 3.5  |\n",
      "| ICEV-g, 2050 | 7.7 | 14.0 | 1.5  | 21.7 | 32.9 | 3.7  |\n",
      "| PHEV-d, 2000 | 3.0 | 7.4  | 0.3  | 11.8 | 19.0 | 0.9  |\n",
      "| PHEV-d, 2010 | 5.2 | 10.5 | 0.8  | 16.2 | 24.9 | 2.2  |\n",
      "| PHEV-d, 2020 | 6.4 | 12.1 | 1.2  | 18.2 | 27.7 | 2.9  |\n",
      "| PHEV-d, 2030 | 7.2 | 13.2 | 1.4  | 20.1 | 30.4 | 3.4  |\n",
      "| PHEV-d, 2040 | 7.6 | 13.8 | 1.6  | 21.1 | 31.9 | 3.7  |\n",
      "| PHEV-d, 2050 | 8.0 | 14.3 | 1.7  | 22.0 | 33.1 | 3.9  |\n",
      "|  FCEV, 2000  | 6.6 | 12.4 | 1.2  | 18.9 | 28.5 | 3.0  |\n",
      "|  FCEV, 2010  | 6.7 | 12.5 | 1.3  | 19.0 | 28.8 | 3.0  |\n",
      "|  FCEV, 2020  | 7.0 | 12.9 | 1.4  | 19.3 | 29.2 | 3.2  |\n",
      "|  FCEV, 2030  | 7.5 | 13.7 | 1.6  | 20.7 | 31.2 | 3.6  |\n",
      "|  FCEV, 2040  | 7.8 | 14.1 | 1.7  | 21.5 | 32.4 | 3.8  |\n",
      "|  FCEV, 2050  | 8.1 | 14.5 | 1.8  | 22.3 | 33.5 | 4.0  |\n",
      "|  BEV, 2000   | 2.1 | 6.1  |  -   | 10.1 | 16.6 | 0.4  |\n",
      "|  BEV, 2010   | 4.9 | 10.0 | 0.7  | 15.6 | 24.1 | 2.0  |\n",
      "|  BEV, 2020   | 6.3 | 12.0 | 1.2  | 18.0 | 27.4 | 2.9  |\n",
      "|  BEV, 2030   | 7.2 | 13.2 | 1.4  | 20.0 | 30.3 | 3.4  |\n",
      "|  BEV, 2040   | 7.7 | 13.8 | 1.6  | 21.1 | 31.9 | 3.7  |\n",
      "|  BEV, 2050   | 8.0 | 14.3 | 1.8  | 22.0 | 33.1 | 4.0  |\n",
      "| HEV-d, 2000  | 6.4 | 12.3 | 1.1  | 18.7 | 28.4 | 2.9  |\n",
      "| HEV-d, 2010  | 6.4 | 12.3 | 1.1  | 18.7 | 28.4 | 2.9  |\n",
      "| HEV-d, 2020  | 6.7 | 12.7 | 1.2  | 19.0 | 28.8 | 3.1  |\n",
      "| HEV-d, 2030  | 7.3 | 13.4 | 1.4  | 20.4 | 30.9 | 3.5  |\n",
      "| HEV-d, 2040  | 7.6 | 13.8 | 1.6  | 21.2 | 32.0 | 3.7  |\n",
      "| HEV-d, 2050  | 7.9 | 14.2 | 1.7  | 21.9 | 33.1 | 3.9  |\n",
      "+--------------+-----+------+------+------+------+------+\n",
      "****************** IMPORTANT BACKGROUND PARAMETERS ******************\n",
      " * The country of use is RER\n",
      " * Energy batteries produced in CN using NMC chemistry.\n",
      " * in 2020, % of renewable: 39.0%, GHG intensity per kWh: 0 g. CO2-eq.\n",
      " \t * in 2030, % of renewable: 45.0%, GHG intensity per kWh: 0 g. CO2-eq.\n",
      " * diesel is completed by biodiesel - cooking oil.\n",
      " \t * in 2020 _________________________________________ 0.0%\n",
      " \t * in 2030 _________________________________________ 1.0%\n",
      " * *********************************************************************\n"
     ]
    },
    {
     "name": "stderr",
     "output_type": "stream",
     "text": [
      "C:\\Users\\romai\\AppData\\Roaming\\Python\\Python37\\site-packages\\scipy\\sparse\\linalg\\dsolve\\linsolve.py:133: SparseEfficiencyWarning: spsolve requires A be CSC or CSR matrix format\n",
      "  SparseEfficiencyWarning)\n"
     ]
    },
    {
     "name": "stdout",
     "output_type": "stream",
     "text": [
      "(21, 3, 2, 2, 88)\n",
      "(12, 2, 9, 88)\n",
      "(21, 2, 9, 88)\n",
      "(21, 12, 9, 88)\n",
      "(21, 12, 2, 88)\n",
      "(21, 12, 2, 9, 88)\n"
     ]
    }
   ],
   "source": [
    "from carculator_truck import *\n",
    "import matplotlib.pyplot as plt\n",
    "import numpy as np\n",
    "tip = TruckInputParameters()\n",
    "tip.static()\n",
    "\n",
    "_, array = fill_xarray_from_input_parameters(tip, sensitivity=True)\n",
    "tm = TruckModel(array)\n",
    "tm.set_all()\n",
    "\n",
    "ic = InventoryCalculation(tm, scope={\"powertrain\":[\"BEV\", \"ICEV-d\"], \"size\":[\"40t\", \"7.5t\", \"60t\"], \"year\":[2020, 2030]})\n",
    "res = ic.calculate_impacts(sensitivity=True)"
   ]
  },
  {
   "cell_type": "markdown",
   "metadata": {},
   "source": [
    "We retrieve an array that contains characterized results for a number of scenarios (where only one parameter value is increased in each scenario), normalized in regard to the reference scenario. Hence, values above 1 indicate that increasing the parameter value given in the `parameter` dimension of the array by 10% led to an increase in the characterized results (for the impact category selected).\n",
    "\n",
    "We can turn the array into a `pandas` dataframe for better visualization. We can also remove the results that equal to 1 (which indicate that increasing the value of the selected parameter by 10% had no influence on the characterized result).\n",
    "\n",
    "Let's see the result for a 40-ton battery electric vehicle in 2020, in regard to the impact category **Climate change**."
   ]
  },
  {
   "cell_type": "code",
   "execution_count": 25,
   "metadata": {},
   "outputs": [
    {
     "data": {
      "text/plain": [
       "Text(0.5, 1.0, 'Parameters value increased by 10%')"
      ]
     },
     "execution_count": 25,
     "metadata": {},
     "output_type": "execute_result"
    },
    {
     "data": {
      "image/png": "[encoded data removed]",
      "text/plain": [
       "<Figure size 720x360 with 1 Axes>"
      ]
     },
     "metadata": {
      "needs_background": "light"
     },
     "output_type": "display_data"
    }
   ],
   "source": [
    "df = res.sel(impact_category=\"climate change\", powertrain=\"BEV\", size=\"40t\", year=2020)\\\n",
    "    .to_dataframe(\"climate change influence\")\n",
    "df = df.loc[(df[\"climate change influence\"] > 1.001)|(df[\"climate change influence\"] < 1),:]\n",
    "df[\"climate change influence\"] -= 1 \n",
    "df[\"climate change influence\"] *= 100 \n",
    "df = df.sort_values(\"climate change influence\", ascending=True)\n",
    "df.plot(y = \"climate change influence\", kind=\"bar\", figsize=(10,5))\n",
    "plt.ylabel(\"Change in GWP100a results [%]\")\n",
    "plt.title(\"Parameters value increased by 10%\")"
   ]
  },
  {
   "cell_type": "markdown",
   "metadata": {},
   "source": [
    "Therefore, we can see that the characterized results for **Climate change** are negatively influenced by changes of +10% in the parameter value for the charge and discharge efficiency of the battery as well as the drivetrain and engine efficiency.\n",
    "The load factor and the energy density of cells are also important factors.\n",
    "\n",
    "On the other end, the results are positively influenced by changes in the parameter value for the glider base mass, the mas s of the battery and the aerodynamic of the vehicle."
   ]
  },
  {
   "cell_type": "markdown",
   "metadata": {},
   "source": [
    "# Export inventories"
   ]
  },
  {
   "cell_type": "markdown",
   "metadata": {},
   "source": [
    "Inventories in `static` calculation mode can be exported to different formats:\n",
    "* as an Excel file compatible for import with `brightway2`\n",
    "* a Brightway2 LCIImporter object\n",
    "* a Python dictionary"
   ]
  },
  {
   "cell_type": "markdown",
   "metadata": {},
   "source": [
    "## Export inventories without uncertainty \n",
    "\n",
    "Inventories are exported to an Excel file which can later be imported into `brightway2`. The `export_to_excel()` function returns the filepath where the Excel file can be found (the same directory as the script calling it)."
   ]
  },
  {
   "cell_type": "code",
   "execution_count": 1,
   "metadata": {},
   "outputs": [
    {
     "name": "stdout",
     "output_type": "stream",
     "text": [
      "Urban delivery driving cycle is selected. Vehicles will be designed to achieve a minimal range of 150 km.\n",
      "\n",
      "Capacity utilization assumed (share of available payload used)\n",
      "+----------------+------+------+------+------+------+------+\n",
      "|                | 18t  | 26t  | 3.5t | 40t  | 60t  | 7.5t |\n",
      "+----------------+------+------+------+------+------+------+\n",
      "|   BEV, 2000    | 0.64 | 0.73 | 0.83 | 0.73 | 0.73 | 0.83 |\n",
      "|   BEV, 2010    | 0.64 | 0.73 | 0.83 | 0.73 | 0.73 | 0.83 |\n",
      "|   BEV, 2020    | 0.64 | 0.73 | 0.83 | 0.73 | 0.73 | 0.83 |\n",
      "|   BEV, 2030    | 0.64 | 0.73 | 0.83 | 0.73 | 0.73 | 0.83 |\n",
      "|   BEV, 2040    | 0.64 | 0.73 | 0.83 | 0.73 | 0.73 | 0.83 |\n",
      "|   BEV, 2050    | 0.64 | 0.73 | 0.83 | 0.73 | 0.73 | 0.83 |\n",
      "|   FCEV, 2000   | 0.64 | 0.73 | 0.83 | 0.73 | 0.73 | 0.83 |\n",
      "|   FCEV, 2010   | 0.64 | 0.73 | 0.83 | 0.73 | 0.73 | 0.83 |\n",
      "|   FCEV, 2020   | 0.64 | 0.73 | 0.83 | 0.73 | 0.73 | 0.83 |\n",
      "|   FCEV, 2030   | 0.64 | 0.73 | 0.83 | 0.73 | 0.73 | 0.83 |\n",
      "|   FCEV, 2040   | 0.64 | 0.73 | 0.83 | 0.73 | 0.73 | 0.83 |\n",
      "|   FCEV, 2050   | 0.64 | 0.73 | 0.83 | 0.73 | 0.73 | 0.83 |\n",
      "|  HEV-d, 2000   | 0.64 | 0.73 | 0.83 | 0.73 | 0.73 | 0.83 |\n",
      "|  HEV-d, 2010   | 0.64 | 0.73 | 0.83 | 0.73 | 0.73 | 0.83 |\n",
      "|  HEV-d, 2020   | 0.64 | 0.73 | 0.83 | 0.73 | 0.73 | 0.83 |\n",
      "|  HEV-d, 2030   | 0.64 | 0.73 | 0.83 | 0.73 | 0.73 | 0.83 |\n",
      "|  HEV-d, 2040   | 0.64 | 0.73 | 0.83 | 0.73 | 0.73 | 0.83 |\n",
      "|  HEV-d, 2050   | 0.64 | 0.73 | 0.83 | 0.73 | 0.73 | 0.83 |\n",
      "|  ICEV-d, 2000  | 0.64 | 0.73 | 0.83 | 0.73 | 0.73 | 0.83 |\n",
      "|  ICEV-d, 2010  | 0.64 | 0.73 | 0.83 | 0.73 | 0.73 | 0.83 |\n",
      "|  ICEV-d, 2020  | 0.64 | 0.73 | 0.83 | 0.73 | 0.73 | 0.83 |\n",
      "|  ICEV-d, 2030  | 0.64 | 0.73 | 0.83 | 0.73 | 0.73 | 0.83 |\n",
      "|  ICEV-d, 2040  | 0.64 | 0.73 | 0.83 | 0.73 | 0.73 | 0.83 |\n",
      "|  ICEV-d, 2050  | 0.64 | 0.73 | 0.83 | 0.73 | 0.73 | 0.83 |\n",
      "|  ICEV-g, 2000  | 0.64 | 0.73 | 0.83 | 0.73 | 0.73 | 0.83 |\n",
      "|  ICEV-g, 2010  | 0.64 | 0.73 | 0.83 | 0.73 | 0.73 | 0.83 |\n",
      "|  ICEV-g, 2020  | 0.64 | 0.73 | 0.83 | 0.73 | 0.73 | 0.83 |\n",
      "|  ICEV-g, 2030  | 0.64 | 0.73 | 0.83 | 0.73 | 0.73 | 0.83 |\n",
      "|  ICEV-g, 2040  | 0.64 | 0.73 | 0.83 | 0.73 | 0.73 | 0.83 |\n",
      "|  ICEV-g, 2050  | 0.64 | 0.73 | 0.83 | 0.73 | 0.73 | 0.83 |\n",
      "| PHEV-c-d, 2000 | 0.64 | 0.73 | 0.83 | 0.73 | 0.73 | 0.83 |\n",
      "| PHEV-c-d, 2010 | 0.64 | 0.73 | 0.83 | 0.73 | 0.73 | 0.83 |\n",
      "| PHEV-c-d, 2020 | 0.64 | 0.73 | 0.83 | 0.73 | 0.73 | 0.83 |\n",
      "| PHEV-c-d, 2030 | 0.64 | 0.73 | 0.83 | 0.73 | 0.73 | 0.83 |\n",
      "| PHEV-c-d, 2040 | 0.64 | 0.73 | 0.83 | 0.73 | 0.73 | 0.83 |\n",
      "| PHEV-c-d, 2050 | 0.64 | 0.73 | 0.83 | 0.73 | 0.73 | 0.83 |\n",
      "|  PHEV-d, 2000  | 0.64 | 0.73 | 0.83 | 0.73 | 0.73 | 0.83 |\n",
      "|  PHEV-d, 2010  | 0.64 | 0.73 | 0.83 | 0.73 | 0.73 | 0.83 |\n",
      "|  PHEV-d, 2020  | 0.64 | 0.73 | 0.83 | 0.73 | 0.73 | 0.83 |\n",
      "|  PHEV-d, 2030  | 0.64 | 0.73 | 0.83 | 0.73 | 0.73 | 0.83 |\n",
      "|  PHEV-d, 2040  | 0.64 | 0.73 | 0.83 | 0.73 | 0.73 | 0.83 |\n",
      "|  PHEV-d, 2050  | 0.64 | 0.73 | 0.83 | 0.73 | 0.73 | 0.83 |\n",
      "|  PHEV-e, 2000  | 0.64 | 0.73 | 0.83 | 0.73 | 0.73 | 0.83 |\n",
      "|  PHEV-e, 2010  | 0.64 | 0.73 | 0.83 | 0.73 | 0.73 | 0.83 |\n",
      "|  PHEV-e, 2020  | 0.64 | 0.73 | 0.83 | 0.73 | 0.73 | 0.83 |\n",
      "|  PHEV-e, 2030  | 0.64 | 0.73 | 0.83 | 0.73 | 0.73 | 0.83 |\n",
      "|  PHEV-e, 2040  | 0.64 | 0.73 | 0.83 | 0.73 | 0.73 | 0.83 |\n",
      "|  PHEV-e, 2050  | 0.64 | 0.73 | 0.83 | 0.73 | 0.73 | 0.83 |\n",
      "+----------------+------+------+------+------+------+------+\n",
      "\n",
      "Payload (in tons)\n",
      "Vehicles for which the payload is not specified have either: \n",
      "1. a driving mass superior to the permissible gross weight. Possible solutions include: reducing the range autonomy for those vehicles, reducing the load factor, increasing the battery cell energy density.\n",
      "2. an energy efficiency too low to comply with the energy target specified. Possible solutions include: changing the energy reduction targets specified, increasing the engine efficiency.\n",
      "+--------------+-----+------+------+------+------+------+\n",
      "|              | 18t | 26t  | 3.5t | 40t  | 60t  | 7.5t |\n",
      "+--------------+-----+------+------+------+------+------+\n",
      "| ICEV-d, 2000 | 6.3 | 12.2 | 1.1  | 18.5 | 28.1 | 2.8  |\n",
      "| ICEV-d, 2010 | 6.3 | 12.2 | 1.1  | 18.6 | 28.2 | 2.9  |\n",
      "| ICEV-d, 2020 | 6.6 | 12.5 | 1.2  | 18.8 | 28.6 | 3.0  |\n",
      "| ICEV-d, 2030 |  -  |  -   | 1.4  | 20.5 |  -   | 3.5  |\n",
      "| ICEV-d, 2040 | 7.5 | 13.8 | 1.5  | 21.1 | 31.9 | 3.6  |\n",
      "| ICEV-d, 2050 | 7.8 | 14.2 | 1.7  | 21.9 | 33.0 | 3.8  |\n",
      "| ICEV-g, 2000 | 6.1 | 11.9 | 0.9  | 18.2 | 27.9 | 2.7  |\n",
      "| ICEV-g, 2010 | 6.1 | 12.0 | 0.9  | 18.3 | 27.9 | 2.7  |\n",
      "| ICEV-g, 2020 | 6.4 | 12.4 | 1.0  | 18.6 | 28.3 | 2.9  |\n",
      "| ICEV-g, 2030 | 7.2 |  -   | 1.3  | 20.3 | 30.7 | 3.3  |\n",
      "| ICEV-g, 2040 | 7.4 | 13.6 | 1.4  | 20.9 | 31.7 | 3.5  |\n",
      "| ICEV-g, 2050 | 7.7 | 14.0 | 1.5  | 21.7 | 32.8 | 3.7  |\n",
      "| PHEV-d, 2000 | 2.9 | 7.3  | 0.3  | 11.8 | 18.9 | 0.9  |\n",
      "| PHEV-d, 2010 | 5.2 | 10.5 | 0.8  | 16.1 | 24.9 | 2.2  |\n",
      "| PHEV-d, 2020 | 6.4 | 12.1 | 1.2  | 18.2 | 27.6 | 2.9  |\n",
      "| PHEV-d, 2030 | 7.2 | 13.2 | 1.4  | 20.1 | 30.3 | 3.4  |\n",
      "| PHEV-d, 2040 | 7.6 | 13.7 | 1.6  | 21.1 | 31.8 | 3.7  |\n",
      "| PHEV-d, 2050 | 8.0 | 14.2 | 1.7  | 21.9 | 33.0 | 3.9  |\n",
      "|  FCEV, 2000  | 6.6 | 12.4 | 1.2  | 18.8 | 28.5 | 3.0  |\n",
      "|  FCEV, 2010  | 6.7 | 12.5 | 1.3  | 19.0 | 28.7 | 3.0  |\n",
      "|  FCEV, 2020  | 6.9 | 12.9 | 1.4  | 19.3 | 29.1 | 3.2  |\n",
      "|  FCEV, 2030  | 7.5 | 13.6 | 1.5  | 20.7 | 31.2 | 3.6  |\n",
      "|  FCEV, 2040  | 7.8 | 14.0 | 1.7  | 21.5 | 32.4 | 3.8  |\n",
      "|  FCEV, 2050  | 8.1 | 14.4 | 1.8  | 22.2 | 33.4 | 4.0  |\n",
      "|  BEV, 2000   | 2.1 | 6.0  |  -   | 10.0 | 16.5 | 0.4  |\n",
      "|  BEV, 2010   | 4.9 | 10.0 | 0.7  | 15.5 | 24.0 | 2.0  |\n",
      "|  BEV, 2020   | 6.3 | 11.9 | 1.2  | 18.0 | 27.4 | 2.9  |\n",
      "|  BEV, 2030   | 7.2 | 13.1 | 1.4  | 20.0 | 30.2 | 3.4  |\n",
      "|  BEV, 2040   | 7.6 | 13.7 | 1.6  | 21.1 | 31.8 | 3.7  |\n",
      "|  BEV, 2050   | 8.0 | 14.3 | 1.7  | 22.0 | 33.1 | 3.9  |\n",
      "| HEV-d, 2000  | 6.4 | 12.3 | 1.1  | 18.7 | 28.3 | 2.9  |\n",
      "| HEV-d, 2010  | 6.4 | 12.3 | 1.1  | 18.7 | 28.4 | 2.9  |\n",
      "| HEV-d, 2020  | 6.7 | 12.6 | 1.2  | 18.9 | 28.7 | 3.1  |\n",
      "| HEV-d, 2030  | 7.3 | 13.4 | 1.4  | 20.4 | 30.8 | 3.5  |\n",
      "| HEV-d, 2040  | 7.5 | 13.8 | 1.6  | 21.2 | 32.0 | 3.7  |\n",
      "| HEV-d, 2050  | 7.9 | 14.2 | 1.7  | 21.9 | 33.0 | 3.9  |\n",
      "+--------------+-----+------+------+------+------+------+\n"
     ]
    }
   ],
   "source": [
    "from carculator_truck import *\n",
    "import matplotlib.pyplot as plt\n",
    "tip = TruckInputParameters()\n",
    "tip.static()\n",
    "dcts, array = fill_xarray_from_input_parameters(tip)\n",
    "tm = TruckModel(array)\n",
    "tm.set_all()\n",
    "\n",
    "scope = {\n",
    "    'powertrain':['ICEV-d', 'PHEV-d'],\n",
    "}\n",
    "\n",
    "ic = InventoryCalculation(tm, scope=scope)"
   ]
  },
  {
   "cell_type": "markdown",
   "metadata": {},
   "source": [
    "Here, the inventory is instead returned as a `brightway2` LCIImporter object, which can be directly registered into `brightway2`."
   ]
  },
  {
   "cell_type": "markdown",
   "metadata": {},
   "source": [
    "Currently, the inventories can be exported so as to link with **ecoinvent cut-off** 3.5 and 3.6. The ecoinvent version can be specified in the `ecoinvent_version` argument."
   ]
  },
  {
   "cell_type": "code",
   "execution_count": 27,
   "metadata": {},
   "outputs": [
    {
     "name": "stdout",
     "output_type": "stream",
     "text": [
      "****************** IMPORTANT BACKGROUND PARAMETERS ******************\n",
      " * The country of use is RER\n",
      " * Energy batteries produced in CN using NMC chemistry.\n",
      " * in 2000, % of renewable: 17.0%, GHG intensity per kWh: 0 g. CO2-eq.\n",
      " \t * in 2010, % of renewable: 28.0%, GHG intensity per kWh: 0 g. CO2-eq.\n",
      " \t * in 2020, % of renewable: 39.0%, GHG intensity per kWh: 0 g. CO2-eq.\n",
      " \t * in 2030, % of renewable: 45.0%, GHG intensity per kWh: 0 g. CO2-eq.\n",
      " \t * in 2040, % of renewable: 51.0%, GHG intensity per kWh: 0 g. CO2-eq.\n",
      " \t * in 2050, % of renewable: 55.0%, GHG intensity per kWh: 0 g. CO2-eq.\n",
      " * diesel is completed by biodiesel - cooking oil.\n",
      " \t * in 2000 _________________________________________ 0.0%\n",
      " \t * in 2010 _________________________________________ 1.0%\n",
      " \t * in 2020 _________________________________________ 2.0%\n",
      " \t * in 2030 _________________________________________ 6.0%\n",
      " \t * in 2040 _________________________________________ 8.0%\n",
      " \t * in 2050 _________________________________________ 12.0%\n",
      " * *********************************************************************\n"
     ]
    },
    {
     "name": "stderr",
     "output_type": "stream",
     "text": [
      "0% [##############################] 100% | ETA: 00:00:00 | Item ID: 821\n",
      "Total time elapsed: 00:00:00\n"
     ]
    }
   ],
   "source": [
    "i, _ = ic.export_lci_to_bw(ecoinvent_version='3.6')"
   ]
  },
  {
   "cell_type": "code",
   "execution_count": 30,
   "metadata": {},
   "outputs": [
    {
     "name": "stdout",
     "output_type": "stream",
     "text": [
      "Applying strategy: normalize_units\n",
      "Applying strategy: drop_unspecified_subcategories\n",
      "Applying strategy: assign_only_product_as_production\n",
      "Applying strategy: strip_biosphere_exc_locations\n",
      "Applied 4 strategies in 0.01 seconds\n",
      "Applying strategy: link_iterable_by_fields\n",
      "Applying strategy: link_iterable_by_fields\n",
      "Applying strategy: link_iterable_by_fields\n",
      "Applying strategy: link_iterable_by_fields\n",
      "295 datasets\n",
      "5854 exchanges\n",
      "0 unlinked exchanges\n",
      "  \n"
     ]
    },
    {
     "name": "stderr",
     "output_type": "stream",
     "text": [
      "Writing activities to SQLite3 database:\n",
      "0% [##############################] 100% | ETA: 00:00:00\n",
      "Total time elapsed: 00:00:02\n"
     ]
    },
    {
     "name": "stdout",
     "output_type": "stream",
     "text": [
      "Title: Writing activities to SQLite3 database:\n",
      "  Started: 09/28/2020 19:47:54\n",
      "  Finished: 09/28/2020 19:47:56\n",
      "  Total time elapsed: 00:00:02\n",
      "  CPU %: 30.80\n",
      "  Memory %: 23.41\n",
      "Created database: carculator db\n"
     ]
    },
    {
     "data": {
      "text/plain": [
       "Brightway2 SQLiteBackend: carculator db"
      ]
     },
     "execution_count": 30,
     "metadata": {},
     "output_type": "execute_result"
    }
   ],
   "source": [
    "import brightway2 as bw\n",
    "bw.projects.set_current('import_36_for_carculator')\n",
    "\n",
    "i.apply_strategies()\n",
    "\n",
    "i.match_database(fields=[\"name\", \"unit\", \"location\"])\n",
    "if 'additional_biosphere' not in bw.databases:\n",
    "    i.create_new_biosphere('additional_biosphere')\n",
    "i.match_database(\"ecoinvent 3.6 cutoff\",  fields=[\"reference product\", \"name\", \"unit\", \"location\"])\n",
    "i.match_database('biosphere3',  fields=[\"name\", \"unit\", \"categories\"])\n",
    "i.match_database('additional_biosphere',  fields=[\"name\", \"unit\", \"categories\"])\n",
    "\n",
    "i.statistics()\n",
    "i.write_database()"
   ]
  },
  {
   "cell_type": "markdown",
   "metadata": {},
   "source": [
    "Once the export database registered, the user can perform LCAs, like so:"
   ]
  },
  {
   "cell_type": "code",
   "execution_count": 31,
   "metadata": {},
   "outputs": [
    {
     "data": {
      "text/plain": [
       "[{'Heavy duty truck, ICEV-d, 40t gross weight, 2020, EURO-VI' (ton-kilometer, RER, None): 1},\n",
       " {'Medium duty truck, ICEV-d, 26t gross weight, 2020, EURO-VI' (ton-kilometer, RER, None): 1},\n",
       " {'Medium duty truck, ICEV-d, 18t gross weight, 2020, EURO-VI' (ton-kilometer, RER, None): 1},\n",
       " {'Heavy duty truck, ICEV-d, 60t gross weight, 2020, EURO-VI' (ton-kilometer, RER, None): 1},\n",
       " {'Medium duty truck, ICEV-d, 3.5t gross weight, 2020, EURO-VI' (ton-kilometer, RER, None): 1},\n",
       " {'Medium duty truck, ICEV-d, 7.5t gross weight, 2020, EURO-VI' (ton-kilometer, RER, None): 1}]"
      ]
     },
     "execution_count": 31,
     "metadata": {},
     "output_type": "execute_result"
    }
   ],
   "source": [
    "FU = [{a:1} for a in bw.Database(\"carculator db\") if \"ICEV-d\" in a[\"name\"] and \"2020\" in a[\"name\"]]\n",
    "FU"
   ]
  },
  {
   "cell_type": "code",
   "execution_count": 32,
   "metadata": {},
   "outputs": [],
   "source": [
    "import pandas as pd\n",
    "bw.calculation_setups['multiLCA'] = {'inv': FU, 'ia': [('IPCC 2013', 'climate change', 'GWP 100a')]}\n",
    "myMultiLCA = bw.MultiLCA('multiLCA')\n",
    "df_impact = pd.DataFrame(columns = [('IPCC 2013', 'climate change', 'GWP 100a')],\n",
    "                         data = myMultiLCA.results,\n",
    "                         index=[(k['name'], k['location'], k[\"database\"]) for i in FU for k in i])\n"
   ]
  },
  {
   "cell_type": "code",
   "execution_count": 33,
   "metadata": {},
   "outputs": [
    {
     "data": {
      "text/plain": [
       "<matplotlib.axes._subplots.AxesSubplot at 0x186b9f133c8>"
      ]
     },
     "execution_count": 33,
     "metadata": {},
     "output_type": "execute_result"
    },
    {
     "data": {
      "image/png": "[encoded data removed]",
      "text/plain": [
       "<Figure size 432x288 with 1 Axes>"
      ]
     },
     "metadata": {
      "needs_background": "light"
     },
     "output_type": "display_data"
    }
   ],
   "source": [
    "df_impact.plot(kind=\"bar\", stacked=True)"
   ]
  },
  {
   "cell_type": "markdown",
   "metadata": {},
   "source": [
    "Because the exchanges of the export inventories are tagged by main impact categories (e.g., direct, glider, powertrain, maintenance, etc.), it is also possible to do a contribution analysis by traversing the supply chain of the product system:"
   ]
  },
  {
   "cell_type": "code",
   "execution_count": 34,
   "metadata": {},
   "outputs": [
    {
     "data": {
      "text/plain": [
       "defaultdict(int,\n",
       "            {'other': 0.0187563286639458,\n",
       "             'direct - exhaust': 0.07605538612410703,\n",
       "             'energy chain': 0.01156049759572285,\n",
       "             'energy storage': 0.0,\n",
       "             'glider': 8.711647996311385e-05})"
      ]
     },
     "execution_count": 34,
     "metadata": {},
     "output_type": "execute_result"
    }
   ],
   "source": [
    "import bw2analyzer as bw2a\n",
    "d = bw2a.traverse_tagged_databases(FU[0], ('IPCC 2013', 'climate change', 'GWP 100a'))\n",
    "d[0]"
   ]
  },
  {
   "cell_type": "markdown",
   "metadata": {},
   "source": [
    "Also, the inventories can be made compatible with modified ecoinvent databases, such as those from `rmnd_lca` (https://github.com/romainsacchi/rmnd-lca), to allow for prospective LCA. In such case, the argument `ecoinvent_compatibility` must be set to `False`."
   ]
  },
  {
   "cell_type": "code",
   "execution_count": 13,
   "metadata": {},
   "outputs": [
    {
     "name": "stdout",
     "output_type": "stream",
     "text": [
      "****************** IMPORTANT BACKGROUND PARAMETERS ******************\n",
      " * The country of use is CH\n",
      " * Power and energy batteries produced in NO using NMC chemistry.\n",
      " * in 2000, % of renewable: 100%, GHG intensity per kWh: 4 g. CO2-eq.\n",
      " \t * in 2010, % of renewable: 100%, GHG intensity per kWh: 11 g. CO2-eq.\n",
      " \t * in 2017, % of renewable: 100%, GHG intensity per kWh: 675 g. CO2-eq.\n",
      " \t * in 2040, % of renewable: 100%, GHG intensity per kWh: 76 g. CO2-eq.\n",
      " * electrolysis is completed by smr - natural gas.\n",
      " \t * in 2000 _________________________________________ 0%\n",
      " \t * in 2010 _________________________________________ 100%\n",
      " \t * in 2017 _________________________________________ 100%\n",
      " \t * in 2040 _________________________________________ 100%\n",
      " * petrol is completed by bioethanol - wheat straw.\n",
      " \t * in 2000 _________________________________________ 10.0%\n",
      " \t * in 2010 _________________________________________ 20.0%\n",
      " \t * in 2017 _________________________________________ 30.0%\n",
      " \t * in 2040 _________________________________________ 40.0%\n",
      " * *********************************************************************\n"
     ]
    },
    {
     "name": "stderr",
     "output_type": "stream",
     "text": [
      "0% [##############################] 100% | ETA: 00:00:00 | Item ID: 744\n",
      "Total time elapsed: 00:00:00\n"
     ]
    }
   ],
   "source": [
    "i, _ = ic.export_lci_to_bw(ecoinvent_compatibility=False)"
   ]
  },
  {
   "cell_type": "markdown",
   "metadata": {},
   "source": [
    "Finally, the inventory can be exported as a Python dictionary"
   ]
  },
  {
   "cell_type": "code",
   "execution_count": 6,
   "metadata": {},
   "outputs": [
    {
     "name": "stderr",
     "output_type": "stream",
     "text": [
      "0% [##############################] 100% | ETA: 00:00:00 | Item ID: 691\n",
      "Total time elapsed: 00:00:00\n"
     ]
    }
   ],
   "source": [
    "lci, _ = ic.export_lci()"
   ]
  },
  {
   "cell_type": "code",
   "execution_count": 7,
   "metadata": {},
   "outputs": [
    {
     "data": {
      "text/plain": [
       "{'production amount': 1,\n",
       " 'database': 'carculator export',\n",
       " 'name': 'Electricity, high voltage, natural gas CCPP, at grid',\n",
       " 'unit': 'kilowatt hour',\n",
       " 'location': 'RER',\n",
       " 'exchanges': [{'name': 'Electricity, high voltage, natural gas CCPP, at grid',\n",
       "   'database': 'carculator export',\n",
       "   'amount': 1.0,\n",
       "   'unit': 'kilowatt hour',\n",
       "   'type': 'production',\n",
       "   'location': 'RER',\n",
       "   'reference product': 'Electricity, high voltage, natural gas CCPP, at grid',\n",
       "   'uncertainty type': 0},\n",
       "  {'name': 'transmission network construction, long-distance',\n",
       "   'database': 'carculator export',\n",
       "   'amount': 3.17e-10,\n",
       "   'unit': 'kilometer',\n",
       "   'type': 'technosphere',\n",
       "   'location': 'UCTE',\n",
       "   'reference product': 'transmission network, long-distance',\n",
       "   'uncertainty type': 0},\n",
       "  {'name': 'Ozone',\n",
       "   'database': 'biosphere3',\n",
       "   'amount': 4.158e-06,\n",
       "   'unit': 'kilogram',\n",
       "   'type': 'biosphere',\n",
       "   'categories': ('air',),\n",
       "   'uncertainty type': 0},\n",
       "  {'name': 'electricity production, natural gas, combined cycle power plant',\n",
       "   'database': 'carculator export',\n",
       "   'amount': 1.0099,\n",
       "   'unit': 'kilowatt hour',\n",
       "   'type': 'technosphere',\n",
       "   'location': 'DE',\n",
       "   'reference product': 'electricity, high voltage',\n",
       "   'uncertainty type': 0},\n",
       "  {'name': 'transmission network construction, electricity, high voltage',\n",
       "   'database': 'carculator export',\n",
       "   'amount': 6.582e-09,\n",
       "   'unit': 'kilometer',\n",
       "   'type': 'technosphere',\n",
       "   'location': 'CH',\n",
       "   'reference product': 'transmission network, electricity, high voltage',\n",
       "   'uncertainty type': 0},\n",
       "  {'name': 'Dinitrogen monoxide',\n",
       "   'database': 'biosphere3',\n",
       "   'amount': 5e-06,\n",
       "   'unit': 'kilogram',\n",
       "   'type': 'biosphere',\n",
       "   'categories': ('air',),\n",
       "   'uncertainty type': 0}],\n",
       " 'reference product': 'Electricity, high voltage, natural gas CCPP, at grid',\n",
       " 'type': 'process',\n",
       " 'code': '29c9c3a4-1f6a-11ea-85bf-e4b3187afc14'}"
      ]
     },
     "execution_count": 7,
     "metadata": {},
     "output_type": "execute_result"
    }
   ],
   "source": [
    "lci[0]"
   ]
  },
  {
   "cell_type": "markdown",
   "metadata": {},
   "source": [
    "# Export inventories with uncertainty\n",
    "\n",
    "Additionally, if the model has been run in `stochastic` mode, the exported inventories will include uncertainty information. The uncertainty of a given exchange is expressed as an array of values to be reused for pre-sampling by `brightway2`.\n",
    "\n",
    "Therefore, alongside the inventory, an array that stores the pre-sampled random values generated by CarModel for each uncertain exchange is returned. This array of pre-sampled values can then be passed to the Monte Carlo function of `brightway2` which will use these values instead of randomly generated ones. This has the advantage of preserving the relation between inputs and outputs of a same activity.\n"
   ]
  },
  {
   "cell_type": "code",
   "execution_count": 1,
   "metadata": {},
   "outputs": [
    {
     "name": "stdout",
     "output_type": "stream",
     "text": [
      "Urban delivery driving cycle is selected. Vehicles will be designed to achieve a minimal range of 150 km.\n",
      "\n",
      "Capacity utilization assumed (share of available payload used)\n",
      "+----------------+------+------+------+------+------+------+\n",
      "|                | 18t  | 26t  | 3.5t | 40t  | 60t  | 7.5t |\n",
      "+----------------+------+------+------+------+------+------+\n",
      "|   BEV, 2020    | 0.63 | 0.72 | 0.74 | 0.74 | 0.73 | 0.75 |\n",
      "|   BEV, 2025    | 0.64 | 0.73 | 0.74 | 0.75 | 0.74 | 0.74 |\n",
      "|   FCEV, 2020   | 0.63 | 0.72 | 0.74 | 0.74 | 0.73 | 0.75 |\n",
      "|   FCEV, 2025   | 0.64 | 0.73 | 0.74 | 0.75 | 0.74 | 0.74 |\n",
      "|  HEV-d, 2020   | 0.63 | 0.72 | 0.74 | 0.74 | 0.73 | 0.75 |\n",
      "|  HEV-d, 2025   | 0.64 | 0.73 | 0.74 | 0.75 | 0.74 | 0.74 |\n",
      "|  ICEV-d, 2020  | 0.63 | 0.72 | 0.74 | 0.74 | 0.73 | 0.75 |\n",
      "|  ICEV-d, 2025  | 0.64 | 0.73 | 0.74 | 0.75 | 0.74 | 0.74 |\n",
      "|  ICEV-g, 2020  | 0.63 | 0.72 | 0.74 | 0.74 | 0.73 | 0.75 |\n",
      "|  ICEV-g, 2025  | 0.64 | 0.73 | 0.74 | 0.75 | 0.74 | 0.74 |\n",
      "| PHEV-c-d, 2020 | 0.63 | 0.72 | 0.74 | 0.74 | 0.73 | 0.75 |\n",
      "| PHEV-c-d, 2025 | 0.64 | 0.73 | 0.74 | 0.75 | 0.74 | 0.74 |\n",
      "|  PHEV-d, 2020  | 0.63 | 0.72 | 0.74 | 0.74 | 0.73 | 0.75 |\n",
      "|  PHEV-d, 2025  | 0.64 | 0.73 | 0.74 | 0.75 | 0.74 | 0.74 |\n",
      "|  PHEV-e, 2020  | 0.63 | 0.72 | 0.74 | 0.74 | 0.73 | 0.75 |\n",
      "|  PHEV-e, 2025  | 0.64 | 0.73 | 0.74 | 0.75 | 0.74 | 0.74 |\n",
      "+----------------+------+------+------+------+------+------+\n"
     ]
    },
    {
     "name": "stderr",
     "output_type": "stream",
     "text": [
      "c:\\users\\romai\\documents\\github\\carculator_truck\\carculator_truck\\model.py:326: FutureWarning: elementwise comparison failed; returning scalar instead, but in the future will perform elementwise comparison\n",
      "  if \"reference\" in self.array.value.values:\n"
     ]
    },
    {
     "name": "stdout",
     "output_type": "stream",
     "text": [
      "\n",
      "Payload (in tons)\n",
      "Vehicles for which the payload is not specified have either: \n",
      "1. a driving mass superior to the permissible gross weight. Possible solutions include: reducing the range autonomy for those vehicles, reducing the load factor, increasing the battery cell energy density.\n",
      "2. an energy efficiency too low to comply with the energy target specified. Possible solutions include: changing the energy reduction targets specified, increasing the engine efficiency.\n",
      "+--------------+-----+------+------+------+------+------+\n",
      "|              | 18t | 26t  | 3.5t | 40t  | 60t  | 7.5t |\n",
      "+--------------+-----+------+------+------+------+------+\n",
      "| ICEV-d, 2020 | 6.5 | 12.3 | 1.1  | 19.0 | 28.9 | 2.7  |\n",
      "| ICEV-d, 2025 | 6.9 | 12.9 | 1.2  | 20.0 | 30.1 | 2.9  |\n",
      "| ICEV-g, 2020 | 6.3 | 12.1 | 0.9  | 18.8 | 28.7 | 2.6  |\n",
      "| ICEV-g, 2025 | 6.8 | 12.7 | 1.1  | 19.7 | 29.9 | 2.7  |\n",
      "| PHEV-d, 2020 | 6.3 | 11.9 | 1.1  | 18.4 | 28.1 | 2.6  |\n",
      "| PHEV-d, 2025 | 6.8 | 12.6 | 1.2  | 19.6 | 29.5 | 2.8  |\n",
      "|  FCEV, 2020  | 6.9 | 12.6 | 1.3  | 19.5 | 29.5 | 2.9  |\n",
      "|  FCEV, 2025  | 7.2 | 13.2 | 1.3  | 20.4 | 30.5 | 3.0  |\n",
      "|  BEV, 2020   | 6.3 | 11.8 | 1.1  | 18.3 | 27.9 | 2.6  |\n",
      "|  BEV, 2025   | 6.8 | 12.5 | 1.2  | 19.5 | 29.3 | 2.8  |\n",
      "| HEV-d, 2020  | 6.5 | 12.3 | 1.1  | 19.1 | 29.1 | 2.8  |\n",
      "| HEV-d, 2025  | 6.9 | 12.9 | 1.2  | 20.0 | 30.1 | 2.9  |\n",
      "+--------------+-----+------+------+------+------+------+\n"
     ]
    }
   ],
   "source": [
    "from carculator_truck import *\n",
    "import matplotlib.pyplot as plt\n",
    "tip = TruckInputParameters()\n",
    "# 1000 iterations\n",
    "tip.stochastic(10)\n",
    "_, array = fill_xarray_from_input_parameters(tip)\n",
    "array = array.interp(year=[2020, 2025],  kwargs={'fill_value': 'extrapolate'})\n",
    "tm = TruckModel(array)\n",
    "tm.set_all() "
   ]
  },
  {
   "cell_type": "markdown",
   "metadata": {},
   "source": [
    "Build the inventory for a 40t diesel truck in 2025"
   ]
  },
  {
   "cell_type": "code",
   "execution_count": 2,
   "metadata": {},
   "outputs": [],
   "source": [
    "ic = InventoryCalculation(tm, scope={\"size\":['40t'], \"powertrain\":['ICEV-d'], \"year\":[2025]})"
   ]
  },
  {
   "cell_type": "markdown",
   "metadata": {},
   "source": [
    "Receive the inventory as a brightway2 LCIImporter object, as well as the arrays that contain pre-sampled values"
   ]
  },
  {
   "cell_type": "code",
   "execution_count": 3,
   "metadata": {},
   "outputs": [
    {
     "name": "stdout",
     "output_type": "stream",
     "text": [
      "****************** IMPORTANT BACKGROUND PARAMETERS ******************\n",
      " * The country of use is RER\n",
      " * Energy batteries produced in CN using NMC chemistry.\n",
      " * in 2025, % of renewable: 43.0%, GHG intensity per kWh: 0 g. CO2-eq.\n",
      " * diesel is completed by biodiesel - cooking oil.\n",
      " \t * in 2025 _________________________________________ 2.0%\n",
      " * *********************************************************************\n"
     ]
    },
    {
     "name": "stderr",
     "output_type": "stream",
     "text": [
      "0% [##############################] 100% | ETA: 00:00:00 | Item ID: 729\n",
      "Total time elapsed: 00:00:00\n"
     ]
    }
   ],
   "source": [
    "lci, arr = ic.export_lci_to_bw(db_name=\"inventory with presamples\")"
   ]
  },
  {
   "cell_type": "markdown",
   "metadata": {},
   "source": [
    "Open a brightway2 project where ecoinvent 3.6 is installed"
   ]
  },
  {
   "cell_type": "code",
   "execution_count": 39,
   "metadata": {},
   "outputs": [],
   "source": [
    "import brightway2 as bw\n",
    "bw.projects.set_current('import_36_for_carculator')"
   ]
  },
  {
   "cell_type": "markdown",
   "metadata": {},
   "source": [
    "Import the inventory into the Brightway project"
   ]
  },
  {
   "cell_type": "code",
   "execution_count": 42,
   "metadata": {},
   "outputs": [
    {
     "name": "stdout",
     "output_type": "stream",
     "text": [
      "Applying strategy: normalize_units\n",
      "Applying strategy: drop_unspecified_subcategories\n",
      "Applying strategy: assign_only_product_as_production\n",
      "Applying strategy: strip_biosphere_exc_locations\n",
      "Applied 4 strategies in 0.01 seconds\n",
      "Applying strategy: link_iterable_by_fields\n",
      "Applying strategy: link_iterable_by_fields\n",
      "Applying strategy: link_iterable_by_fields\n",
      "Applying strategy: link_iterable_by_fields\n",
      "Creating new biosphere database: additional_biosphere\n",
      "Applying strategy: link_iterable_by_fields\n",
      "203 datasets\n",
      "1780 exchanges\n",
      "0 unlinked exchanges\n",
      "  \n"
     ]
    },
    {
     "name": "stderr",
     "output_type": "stream",
     "text": [
      "Writing activities to SQLite3 database:\n",
      "0% [##############################] 100% | ETA: 00:00:00\n",
      "Total time elapsed: 00:00:00\n"
     ]
    },
    {
     "name": "stdout",
     "output_type": "stream",
     "text": [
      "Title: Writing activities to SQLite3 database:\n",
      "  Started: 09/28/2020 19:52:27\n",
      "  Finished: 09/28/2020 19:52:28\n",
      "  Total time elapsed: 00:00:00\n",
      "  CPU %: 30.80\n",
      "  Memory %: 24.19\n",
      "Created database: inventory with presamples\n"
     ]
    },
    {
     "data": {
      "text/plain": [
       "Brightway2 SQLiteBackend: inventory with presamples"
      ]
     },
     "execution_count": 42,
     "metadata": {},
     "output_type": "execute_result"
    }
   ],
   "source": [
    "import bw2io\n",
    "i = lci\n",
    "if \"additional_biosphere\" in bw.databases:\n",
    "    del bw.databases['additional_biosphere']\n",
    "\n",
    "i.apply_strategies()\n",
    "\n",
    "i.match_database('ecoinvent 3.6 cutoff', fields=('name', 'unit', 'location', 'reference product'))\n",
    "i.match_database(\"biosphere3\", fields=('name', 'unit', 'categories'))\n",
    "\n",
    "i.match_database(fields=('name', 'unit', 'location', 'reference product'))\n",
    "i.match_database(fields=('name', 'unit', 'categories'))\n",
    "i.create_new_biosphere(\"additional_biosphere\", relink=False)\n",
    "i.match_database(\"additional_biosphere\", fields=('name', 'unit', 'categories'))\n",
    "i.statistics()\n",
    "i.write_database()"
   ]
  },
  {
   "cell_type": "markdown",
   "metadata": {},
   "source": [
    "While simple LCA calculations can be directly performed on the newly imported inventory, for Monte Carlo analyses with presamples, the imported inventory needs to be merged with the ecoinvent database.\n",
    "Merge the newly imported inventory with ecoinvent 3.6"
   ]
  },
  {
   "cell_type": "code",
   "execution_count": 43,
   "metadata": {},
   "outputs": [],
   "source": [
    "import bw2data\n",
    "bw2data.utils.merge_databases('ecoinvent 3.6 cutoff', 'inventory with presamples')"
   ]
  },
  {
   "cell_type": "markdown",
   "metadata": {},
   "source": [
    "We need to reformat the pre-samples array with the correct activity codes"
   ]
  },
  {
   "cell_type": "code",
   "execution_count": 44,
   "metadata": {},
   "outputs": [],
   "source": [
    "l_flows = []\n",
    "for a in arr:\n",
    "    l_flows.extend([a[1][0][0], a[1][0][1]])\n",
    "\n",
    "l_flows = set(l_flows)\n",
    "d_flows = {}\n",
    "\n",
    "\n",
    "for ds in bw.Database('biosphere3'):\n",
    "    if (ds['name'], tuple(ds['categories']), ds['unit']) in l_flows:\n",
    "        d_flows[(ds['name'], tuple(ds['categories']), ds['unit'])] = (ds['database'], ds['code'])\n",
    "\n",
    "for ds in bw.Database('carculator export'):\n",
    "    if (ds['name'], ds['location'], ds['unit'], ds['reference product']) in l_flows:\n",
    "        d_flows[(ds['name'], ds['location'], ds['unit'], ds['reference product'])] = (ds['database'], ds['code'])\n",
    "        \n",
    "for ds in bw.Database('ecoinvent 3.6 cutoff'):\n",
    "    if (ds['name'], ds['location'], ds['unit'], ds['reference product']) in l_flows:\n",
    "        d_flows[(ds['name'], ds['location'], ds['unit'], ds['reference product'])] = (ds['database'], ds['code'])\n",
    "\n",
    "\n",
    "        \n",
    "presamples_arr = []     \n",
    "for a in range(0,len(arr)):\n",
    "    if arr[a][1][0][0] in d_flows:\n",
    "        presamples_arr.append(\n",
    "            (arr[a][0].reshape((1,-1)),\n",
    "                  [(d_flows[arr[a][1][0][0]],\n",
    "                   d_flows[arr[a][1][0][1]],\n",
    "                   arr[a][1][0][2])],\n",
    "                  arr[a][2]))"
   ]
  },
  {
   "cell_type": "markdown",
   "metadata": {},
   "source": [
    "Then, we build a matrix that contains the arrays with the presampled values, to be consumed by the Monte Carlo function"
   ]
  },
  {
   "cell_type": "code",
   "execution_count": 45,
   "metadata": {},
   "outputs": [],
   "source": [
    "# Build the pre-samples array\n",
    "import presamples\n",
    "pp_id, stochastic_filepath = presamples.create_presamples_package(presamples_arr, name='presamples_carculator')"
   ]
  },
  {
   "cell_type": "code",
   "execution_count": 46,
   "metadata": {},
   "outputs": [
    {
     "data": {
      "text/plain": [
       "[{'Heavy duty truck, ICEV-d, 40t gross weight, 2025, EURO-VI' (ton-kilometer, RER, None): 1}]"
      ]
     },
     "execution_count": 46,
     "metadata": {},
     "output_type": "execute_result"
    }
   ],
   "source": [
    "# Build the functional unit\n",
    "multi_FU = [{a:1} for a in bw.Database('ecoinvent 3.6 cutoff') if '40t' in a['name']][:5]\n",
    "multi_FU"
   ]
  },
  {
   "cell_type": "markdown",
   "metadata": {},
   "source": [
    "We then run the Monte Carlo function by giving it the matrix of presamples as an argument"
   ]
  },
  {
   "cell_type": "code",
   "execution_count": 48,
   "metadata": {},
   "outputs": [
    {
     "name": "stdout",
     "output_type": "stream",
     "text": [
      "0\n",
      "1\n",
      "2\n",
      "3\n",
      "4\n",
      "5\n",
      "6\n",
      "7\n",
      "8\n",
      "9\n",
      "10\n",
      "11\n",
      "12\n",
      "13\n",
      "14\n",
      "15\n",
      "16\n",
      "17\n",
      "18\n",
      "19\n",
      "20\n",
      "21\n",
      "22\n",
      "23\n",
      "24\n",
      "25\n",
      "26\n",
      "27\n",
      "28\n",
      "29\n",
      "30\n",
      "31\n",
      "32\n",
      "33\n",
      "34\n",
      "35\n",
      "36\n",
      "37\n",
      "38\n",
      "39\n",
      "40\n",
      "41\n",
      "42\n",
      "43\n",
      "44\n",
      "45\n",
      "46\n",
      "47\n",
      "48\n",
      "49\n"
     ]
    }
   ],
   "source": [
    "# Run the Monte Carlo analysis with the pre-samples array\n",
    "import numpy as np\n",
    "iterations=50\n",
    "results = np.zeros((iterations, len(multi_FU)))\n",
    "mc = bw.MonteCarloLCA(multi_FU[0], ('IPCC 2013', 'climate change', 'GWP 100a'), presamples=[stochastic_filepath])\n",
    "\n",
    "for i in range(iterations):\n",
    "    print(i)\n",
    "    next(mc)\n",
    "    for j, fu in enumerate(multi_FU):\n",
    "        mc.redo_lcia(fu)\n",
    "        results[i, j] = mc.score"
   ]
  },
  {
   "cell_type": "markdown",
   "metadata": {},
   "source": [
    "We can now visualize the results: a Monte Carlo analysis where randomly generated values for inputs and ouputs preserve their relations."
   ]
  },
  {
   "cell_type": "code",
   "execution_count": 49,
   "metadata": {},
   "outputs": [
    {
     "data": {
      "image/png": "[encoded data removed]",
      "text/plain": [
       "<Figure size 432x288 with 1 Axes>"
      ]
     },
     "metadata": {
      "needs_background": "light"
     },
     "output_type": "display_data"
    }
   ],
   "source": [
    "import matplotlib.pyplot as plt\n",
    "plt.boxplot(results)\n",
    "plt.title('MC with pre-sampled values (50 iterations), 40t diesel truck, 2025')\n",
    "plt.ylabel(\"kg CO2-eq./km\")\n",
    "plt.show()"
   ]
  },
  {
   "cell_type": "code",
   "execution_count": null,
   "metadata": {},
   "outputs": [],
   "source": []
  }
 ],
 "metadata": {
  "kernelspec": {
   "display_name": "Python 3",
   "language": "python",
   "name": "python3"
  },
  "language_info": {
   "codemirror_mode": {
    "name": "ipython",
    "version": 3
   },
   "file_extension": ".py",
   "mimetype": "text/x-python",
   "name": "python",
   "nbconvert_exporter": "python",
   "pygments_lexer": "ipython3",
   "version": "3.7.5"
  }
 },
 "nbformat": 4,
 "nbformat_minor": 2
}
